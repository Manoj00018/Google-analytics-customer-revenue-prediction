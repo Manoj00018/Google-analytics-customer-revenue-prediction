{
 "cells": [
  {
   "cell_type": "code",
   "execution_count": 1,
   "id": "3118a164",
   "metadata": {},
   "outputs": [
    {
     "data": {
      "text/html": [
       "        <script type=\"text/javascript\">\n",
       "        window.PlotlyConfig = {MathJaxConfig: 'local'};\n",
       "        if (window.MathJax && window.MathJax.Hub && window.MathJax.Hub.Config) {window.MathJax.Hub.Config({SVG: {font: \"STIX-Web\"}});}\n",
       "        if (typeof require !== 'undefined') {\n",
       "        require.undef(\"plotly\");\n",
       "        requirejs.config({\n",
       "            paths: {\n",
       "                'plotly': ['https://cdn.plot.ly/plotly-2.12.1.min']\n",
       "            }\n",
       "        });\n",
       "        require(['plotly'], function(Plotly) {\n",
       "            window._Plotly = Plotly;\n",
       "        });\n",
       "        }\n",
       "        </script>\n",
       "        "
      ]
     },
     "metadata": {},
     "output_type": "display_data"
    }
   ],
   "source": [
    "import os\n",
    "import json\n",
    "import numpy as np\n",
    "import pandas as pd\n",
    "from pandas import json_normalize\n",
    "import matplotlib.pyplot as plt\n",
    "import seaborn as sns\n",
    "color = sns.color_palette()\n",
    "\n",
    "%matplotlib inline\n",
    "\n",
    "from plotly import tools\n",
    "import plotly.offline as py\n",
    "py.init_notebook_mode(connected=True)\n",
    "import plotly.graph_objs as go\n",
    "\n",
    "from sklearn import model_selection, preprocessing, metrics\n",
    "import lightgbm as lgb\n",
    "\n",
    "pd.options.mode.chained_assignment = None\n",
    "pd.options.display.max_columns = 999"
   ]
  },
  {
   "cell_type": "code",
   "execution_count": 2,
   "id": "303cb7c5",
   "metadata": {},
   "outputs": [],
   "source": [
    "\n",
    "def load_df(csv_path='C:\\\\Users\\\\Manoj Kumar\\\\Desktop\\\\kaggle\\\\project1\\\\train.csv\\\\train.csv', nrows=None):\n",
    "    JSON_COLUMNS = ['device', 'geoNetwork', 'totals', 'trafficSource']\n",
    "    \n",
    "    df = pd.read_csv(csv_path, \n",
    "                     converters={column: json.loads for column in JSON_COLUMNS}, \n",
    "                     dtype={'fullVisitorId': 'str'}, # Important!!\n",
    "                     nrows=nrows)\n",
    "    \n",
    "    for column in JSON_COLUMNS:\n",
    "        column_as_df = json_normalize(df[column])\n",
    "        column_as_df.columns = [f\"{column}.{subcolumn}\" for subcolumn in column_as_df.columns]\n",
    "        df = df.drop(column, axis=1).merge(column_as_df, right_index=True, left_index=True)\n",
    "    \n",
    "    print(f\"Loaded {os.path.basename(csv_path)}. Shape: {df.shape}\")\n",
    "    return df"
   ]
  },
  {
   "cell_type": "code",
   "execution_count": 3,
   "id": "e882e5d0",
   "metadata": {},
   "outputs": [
    {
     "name": "stdout",
     "output_type": "stream",
     "text": [
      "Loaded train.csv. Shape: (903653, 55)\n",
      "Loaded test.csv. Shape: (804684, 53)\n",
      "Wall time: 4min 36s\n"
     ]
    }
   ],
   "source": [
    "%%time\n",
    "train_df = load_df()\n",
    "test_df = load_df(\"C:\\\\Users\\\\Manoj Kumar\\\\Desktop\\\\kaggle\\\\project1\\\\test.csv\\\\test.csv\")"
   ]
  },
  {
   "cell_type": "code",
   "execution_count": null,
   "id": "ca064057",
   "metadata": {},
   "outputs": [],
   "source": [
    "train_df"
   ]
  },
  {
   "cell_type": "code",
   "execution_count": 4,
   "id": "7603129e",
   "metadata": {},
   "outputs": [
    {
     "data": {
      "text/plain": [
       "20170801"
      ]
     },
     "execution_count": 4,
     "metadata": {},
     "output_type": "execute_result"
    }
   ],
   "source": [
    "train_df['date'].max()"
   ]
  },
  {
   "cell_type": "code",
   "execution_count": 5,
   "id": "620cfd6c",
   "metadata": {},
   "outputs": [
    {
     "data": {
      "image/png": "[encoded data removed]",
      "text/plain": [
       "<Figure size 800x600 with 1 Axes>"
      ]
     },
     "metadata": {},
     "output_type": "display_data"
    }
   ],
   "source": [
    "train_df[\"totals.transactionRevenue\"] = train_df[\"totals.transactionRevenue\"].astype('float')\n",
    "gdf = train_df.groupby(\"fullVisitorId\")[\"totals.transactionRevenue\"].sum().reset_index()\n",
    "plt.figure(figsize=(8,6))\n",
    "plt.scatter(range(gdf.shape[0]), np.sort(np.log1p(gdf[\"totals.transactionRevenue\"].values)))\n",
    "plt.xlabel('index', fontsize=12)\n",
    "plt.ylabel('TransactionRevenue', fontsize=12)\n",
    "plt.show()"
   ]
  },
  {
   "cell_type": "code",
   "execution_count": 6,
   "id": "885740f1",
   "metadata": {},
   "outputs": [
    {
     "data": {
      "text/plain": [
       "(9996, 2)"
      ]
     },
     "execution_count": 6,
     "metadata": {},
     "output_type": "execute_result"
    }
   ],
   "source": [
    "x=gdf[gdf[\"totals.transactionRevenue\"]>0]\n",
    "x.shape"
   ]
  },
  {
   "cell_type": "code",
   "execution_count": 7,
   "id": "1a3e91b0",
   "metadata": {},
   "outputs": [
    {
     "data": {
      "text/plain": [
       "(714167, 2)"
      ]
     },
     "execution_count": 7,
     "metadata": {},
     "output_type": "execute_result"
    }
   ],
   "source": [
    "gdf.shape"
   ]
  },
  {
   "cell_type": "code",
   "execution_count": 8,
   "id": "8a5f1a5e",
   "metadata": {},
   "outputs": [
    {
     "data": {
      "text/plain": [
       "2"
      ]
     },
     "execution_count": 8,
     "metadata": {},
     "output_type": "execute_result"
    }
   ],
   "source": [
    "gdf.shape[1]"
   ]
  },
  {
   "cell_type": "markdown",
   "id": "149027f9",
   "metadata": {},
   "source": [
    " The 80/20 rule has proven true for many businesses–only a small percentage of customers produce most of the revenue. As such, marketing teams are challenged to make appropriate investments in promotional strategies."
   ]
  },
  {
   "cell_type": "code",
   "execution_count": 9,
   "id": "b49d7c4f",
   "metadata": {},
   "outputs": [
    {
     "name": "stdout",
     "output_type": "stream",
     "text": [
      "Number of instances in train set with non-zero revenue :  11515  and ratio is :  0.0127427231470487\n",
      "Number of unique customers with non-zero revenue :  9996 and the ratio is :  0.013996726255903731\n"
     ]
    }
   ],
   "source": [
    "nzi = pd.notnull(train_df[\"totals.transactionRevenue\"]).sum()\n",
    "nzr = (gdf[\"totals.transactionRevenue\"]>0).sum()\n",
    "print(\"Number of instances in train set with non-zero revenue : \", nzi, \" and ratio is : \", nzi / train_df.shape[0])\n",
    "print(\"Number of unique customers with non-zero revenue : \", nzr, \"and the ratio is : \", nzr / gdf.shape[0])"
   ]
  },
  {
   "cell_type": "markdown",
   "id": "1249c24c",
   "metadata": {},
   "source": [
    "So the ratio of revenue generating customers to customers with no revenue is in the ratio os 1.3%"
   ]
  },
  {
   "cell_type": "markdown",
   "id": "550b01dc",
   "metadata": {},
   "source": [
    " Number of visitors and common visitors:\n",
    "\n",
    "Now let us look at the number of unique visitors in the train and test set and also the number of common visitors."
   ]
  },
  {
   "cell_type": "code",
   "execution_count": 10,
   "id": "39205261",
   "metadata": {},
   "outputs": [
    {
     "name": "stdout",
     "output_type": "stream",
     "text": [
      "Number of unique visitors in train set :  714167  out of rows :  903653\n",
      "Number of unique visitors in test set :  617242  out of rows :  804684\n",
      "Number of common visitors in train and test set :  7679\n"
     ]
    }
   ],
   "source": [
    "print(\"Number of unique visitors in train set : \",train_df.fullVisitorId.nunique(), \" out of rows : \",train_df.shape[0])\n",
    "print(\"Number of unique visitors in test set : \",test_df.fullVisitorId.nunique(), \" out of rows : \",test_df.shape[0])\n",
    "print(\"Number of common visitors in train and test set : \",len(set(train_df.fullVisitorId.unique()).intersection(set(test_df.fullVisitorId.unique())) ))"
   ]
  },
  {
   "cell_type": "markdown",
   "id": "090d8952",
   "metadata": {},
   "source": [
    "Columns with constant values:\n",
    "Looks like there are quite a few features with constant value in the train set. Let us get the list of these features. As pointed by Svitlana in the comments below, let us not include the columns which has constant value and some null values.we can just drop them from our feature list and save some memory and time in our modeling process."
   ]
  },
  {
   "cell_type": "code",
   "execution_count": 11,
   "id": "18d1beab",
   "metadata": {},
   "outputs": [
    {
     "data": {
      "text/html": [
       "<div>\n",
       "<style scoped>\n",
       "    .dataframe tbody tr th:only-of-type {\n",
       "        vertical-align: middle;\n",
       "    }\n",
       "\n",
       "    .dataframe tbody tr th {\n",
       "        vertical-align: top;\n",
       "    }\n",
       "\n",
       "    .dataframe thead th {\n",
       "        text-align: right;\n",
       "    }\n",
       "</style>\n",
       "<table border=\"1\" class=\"dataframe\">\n",
       "  <thead>\n",
       "    <tr style=\"text-align: right;\">\n",
       "      <th></th>\n",
       "      <th>channelGrouping</th>\n",
       "      <th>date</th>\n",
       "      <th>fullVisitorId</th>\n",
       "      <th>sessionId</th>\n",
       "      <th>socialEngagementType</th>\n",
       "      <th>visitId</th>\n",
       "      <th>visitNumber</th>\n",
       "      <th>visitStartTime</th>\n",
       "      <th>device.browser</th>\n",
       "      <th>device.browserVersion</th>\n",
       "      <th>device.browserSize</th>\n",
       "      <th>device.operatingSystem</th>\n",
       "      <th>device.operatingSystemVersion</th>\n",
       "      <th>device.isMobile</th>\n",
       "      <th>device.mobileDeviceBranding</th>\n",
       "      <th>device.mobileDeviceModel</th>\n",
       "      <th>device.mobileInputSelector</th>\n",
       "      <th>device.mobileDeviceInfo</th>\n",
       "      <th>device.mobileDeviceMarketingName</th>\n",
       "      <th>device.flashVersion</th>\n",
       "      <th>device.language</th>\n",
       "      <th>device.screenColors</th>\n",
       "      <th>device.screenResolution</th>\n",
       "      <th>device.deviceCategory</th>\n",
       "      <th>geoNetwork.continent</th>\n",
       "      <th>geoNetwork.subContinent</th>\n",
       "      <th>geoNetwork.country</th>\n",
       "      <th>geoNetwork.region</th>\n",
       "      <th>geoNetwork.metro</th>\n",
       "      <th>geoNetwork.city</th>\n",
       "      <th>geoNetwork.cityId</th>\n",
       "      <th>geoNetwork.networkDomain</th>\n",
       "      <th>geoNetwork.latitude</th>\n",
       "      <th>geoNetwork.longitude</th>\n",
       "      <th>geoNetwork.networkLocation</th>\n",
       "      <th>totals.visits</th>\n",
       "      <th>totals.hits</th>\n",
       "      <th>totals.pageviews</th>\n",
       "      <th>totals.bounces</th>\n",
       "      <th>totals.newVisits</th>\n",
       "      <th>totals.transactionRevenue</th>\n",
       "      <th>trafficSource.campaign</th>\n",
       "      <th>trafficSource.source</th>\n",
       "      <th>trafficSource.medium</th>\n",
       "      <th>trafficSource.keyword</th>\n",
       "      <th>trafficSource.adwordsClickInfo.criteriaParameters</th>\n",
       "      <th>trafficSource.isTrueDirect</th>\n",
       "      <th>trafficSource.referralPath</th>\n",
       "      <th>trafficSource.adwordsClickInfo.page</th>\n",
       "      <th>trafficSource.adwordsClickInfo.slot</th>\n",
       "      <th>trafficSource.adwordsClickInfo.gclId</th>\n",
       "      <th>trafficSource.adwordsClickInfo.adNetworkType</th>\n",
       "      <th>trafficSource.adwordsClickInfo.isVideoAd</th>\n",
       "      <th>trafficSource.adContent</th>\n",
       "      <th>trafficSource.campaignCode</th>\n",
       "    </tr>\n",
       "  </thead>\n",
       "  <tbody>\n",
       "    <tr>\n",
       "      <th>0</th>\n",
       "      <td>Organic Search</td>\n",
       "      <td>20160902</td>\n",
       "      <td>1131660440785968503</td>\n",
       "      <td>1131660440785968503_1472830385</td>\n",
       "      <td>Not Socially Engaged</td>\n",
       "      <td>1472830385</td>\n",
       "      <td>1</td>\n",
       "      <td>1472830385</td>\n",
       "      <td>Chrome</td>\n",
       "      <td>not available in demo dataset</td>\n",
       "      <td>not available in demo dataset</td>\n",
       "      <td>Windows</td>\n",
       "      <td>not available in demo dataset</td>\n",
       "      <td>False</td>\n",
       "      <td>not available in demo dataset</td>\n",
       "      <td>not available in demo dataset</td>\n",
       "      <td>not available in demo dataset</td>\n",
       "      <td>not available in demo dataset</td>\n",
       "      <td>not available in demo dataset</td>\n",
       "      <td>not available in demo dataset</td>\n",
       "      <td>not available in demo dataset</td>\n",
       "      <td>not available in demo dataset</td>\n",
       "      <td>not available in demo dataset</td>\n",
       "      <td>desktop</td>\n",
       "      <td>Asia</td>\n",
       "      <td>Western Asia</td>\n",
       "      <td>Turkey</td>\n",
       "      <td>Izmir</td>\n",
       "      <td>(not set)</td>\n",
       "      <td>Izmir</td>\n",
       "      <td>not available in demo dataset</td>\n",
       "      <td>ttnet.com.tr</td>\n",
       "      <td>not available in demo dataset</td>\n",
       "      <td>not available in demo dataset</td>\n",
       "      <td>not available in demo dataset</td>\n",
       "      <td>1</td>\n",
       "      <td>1</td>\n",
       "      <td>1</td>\n",
       "      <td>1</td>\n",
       "      <td>1</td>\n",
       "      <td>NaN</td>\n",
       "      <td>(not set)</td>\n",
       "      <td>google</td>\n",
       "      <td>organic</td>\n",
       "      <td>(not provided)</td>\n",
       "      <td>not available in demo dataset</td>\n",
       "      <td>NaN</td>\n",
       "      <td>NaN</td>\n",
       "      <td>NaN</td>\n",
       "      <td>NaN</td>\n",
       "      <td>NaN</td>\n",
       "      <td>NaN</td>\n",
       "      <td>NaN</td>\n",
       "      <td>NaN</td>\n",
       "      <td>NaN</td>\n",
       "    </tr>\n",
       "    <tr>\n",
       "      <th>1</th>\n",
       "      <td>Organic Search</td>\n",
       "      <td>20160902</td>\n",
       "      <td>377306020877927890</td>\n",
       "      <td>377306020877927890_1472880147</td>\n",
       "      <td>Not Socially Engaged</td>\n",
       "      <td>1472880147</td>\n",
       "      <td>1</td>\n",
       "      <td>1472880147</td>\n",
       "      <td>Firefox</td>\n",
       "      <td>not available in demo dataset</td>\n",
       "      <td>not available in demo dataset</td>\n",
       "      <td>Macintosh</td>\n",
       "      <td>not available in demo dataset</td>\n",
       "      <td>False</td>\n",
       "      <td>not available in demo dataset</td>\n",
       "      <td>not available in demo dataset</td>\n",
       "      <td>not available in demo dataset</td>\n",
       "      <td>not available in demo dataset</td>\n",
       "      <td>not available in demo dataset</td>\n",
       "      <td>not available in demo dataset</td>\n",
       "      <td>not available in demo dataset</td>\n",
       "      <td>not available in demo dataset</td>\n",
       "      <td>not available in demo dataset</td>\n",
       "      <td>desktop</td>\n",
       "      <td>Oceania</td>\n",
       "      <td>Australasia</td>\n",
       "      <td>Australia</td>\n",
       "      <td>not available in demo dataset</td>\n",
       "      <td>not available in demo dataset</td>\n",
       "      <td>not available in demo dataset</td>\n",
       "      <td>not available in demo dataset</td>\n",
       "      <td>dodo.net.au</td>\n",
       "      <td>not available in demo dataset</td>\n",
       "      <td>not available in demo dataset</td>\n",
       "      <td>not available in demo dataset</td>\n",
       "      <td>1</td>\n",
       "      <td>1</td>\n",
       "      <td>1</td>\n",
       "      <td>1</td>\n",
       "      <td>1</td>\n",
       "      <td>NaN</td>\n",
       "      <td>(not set)</td>\n",
       "      <td>google</td>\n",
       "      <td>organic</td>\n",
       "      <td>(not provided)</td>\n",
       "      <td>not available in demo dataset</td>\n",
       "      <td>NaN</td>\n",
       "      <td>NaN</td>\n",
       "      <td>NaN</td>\n",
       "      <td>NaN</td>\n",
       "      <td>NaN</td>\n",
       "      <td>NaN</td>\n",
       "      <td>NaN</td>\n",
       "      <td>NaN</td>\n",
       "      <td>NaN</td>\n",
       "    </tr>\n",
       "    <tr>\n",
       "      <th>2</th>\n",
       "      <td>Organic Search</td>\n",
       "      <td>20160902</td>\n",
       "      <td>3895546263509774583</td>\n",
       "      <td>3895546263509774583_1472865386</td>\n",
       "      <td>Not Socially Engaged</td>\n",
       "      <td>1472865386</td>\n",
       "      <td>1</td>\n",
       "      <td>1472865386</td>\n",
       "      <td>Chrome</td>\n",
       "      <td>not available in demo dataset</td>\n",
       "      <td>not available in demo dataset</td>\n",
       "      <td>Windows</td>\n",
       "      <td>not available in demo dataset</td>\n",
       "      <td>False</td>\n",
       "      <td>not available in demo dataset</td>\n",
       "      <td>not available in demo dataset</td>\n",
       "      <td>not available in demo dataset</td>\n",
       "      <td>not available in demo dataset</td>\n",
       "      <td>not available in demo dataset</td>\n",
       "      <td>not available in demo dataset</td>\n",
       "      <td>not available in demo dataset</td>\n",
       "      <td>not available in demo dataset</td>\n",
       "      <td>not available in demo dataset</td>\n",
       "      <td>desktop</td>\n",
       "      <td>Europe</td>\n",
       "      <td>Southern Europe</td>\n",
       "      <td>Spain</td>\n",
       "      <td>Community of Madrid</td>\n",
       "      <td>(not set)</td>\n",
       "      <td>Madrid</td>\n",
       "      <td>not available in demo dataset</td>\n",
       "      <td>unknown.unknown</td>\n",
       "      <td>not available in demo dataset</td>\n",
       "      <td>not available in demo dataset</td>\n",
       "      <td>not available in demo dataset</td>\n",
       "      <td>1</td>\n",
       "      <td>1</td>\n",
       "      <td>1</td>\n",
       "      <td>1</td>\n",
       "      <td>1</td>\n",
       "      <td>NaN</td>\n",
       "      <td>(not set)</td>\n",
       "      <td>google</td>\n",
       "      <td>organic</td>\n",
       "      <td>(not provided)</td>\n",
       "      <td>not available in demo dataset</td>\n",
       "      <td>NaN</td>\n",
       "      <td>NaN</td>\n",
       "      <td>NaN</td>\n",
       "      <td>NaN</td>\n",
       "      <td>NaN</td>\n",
       "      <td>NaN</td>\n",
       "      <td>NaN</td>\n",
       "      <td>NaN</td>\n",
       "      <td>NaN</td>\n",
       "    </tr>\n",
       "    <tr>\n",
       "      <th>3</th>\n",
       "      <td>Organic Search</td>\n",
       "      <td>20160902</td>\n",
       "      <td>4763447161404445595</td>\n",
       "      <td>4763447161404445595_1472881213</td>\n",
       "      <td>Not Socially Engaged</td>\n",
       "      <td>1472881213</td>\n",
       "      <td>1</td>\n",
       "      <td>1472881213</td>\n",
       "      <td>UC Browser</td>\n",
       "      <td>not available in demo dataset</td>\n",
       "      <td>not available in demo dataset</td>\n",
       "      <td>Linux</td>\n",
       "      <td>not available in demo dataset</td>\n",
       "      <td>False</td>\n",
       "      <td>not available in demo dataset</td>\n",
       "      <td>not available in demo dataset</td>\n",
       "      <td>not available in demo dataset</td>\n",
       "      <td>not available in demo dataset</td>\n",
       "      <td>not available in demo dataset</td>\n",
       "      <td>not available in demo dataset</td>\n",
       "      <td>not available in demo dataset</td>\n",
       "      <td>not available in demo dataset</td>\n",
       "      <td>not available in demo dataset</td>\n",
       "      <td>desktop</td>\n",
       "      <td>Asia</td>\n",
       "      <td>Southeast Asia</td>\n",
       "      <td>Indonesia</td>\n",
       "      <td>not available in demo dataset</td>\n",
       "      <td>not available in demo dataset</td>\n",
       "      <td>not available in demo dataset</td>\n",
       "      <td>not available in demo dataset</td>\n",
       "      <td>unknown.unknown</td>\n",
       "      <td>not available in demo dataset</td>\n",
       "      <td>not available in demo dataset</td>\n",
       "      <td>not available in demo dataset</td>\n",
       "      <td>1</td>\n",
       "      <td>1</td>\n",
       "      <td>1</td>\n",
       "      <td>1</td>\n",
       "      <td>1</td>\n",
       "      <td>NaN</td>\n",
       "      <td>(not set)</td>\n",
       "      <td>google</td>\n",
       "      <td>organic</td>\n",
       "      <td>google + online</td>\n",
       "      <td>not available in demo dataset</td>\n",
       "      <td>NaN</td>\n",
       "      <td>NaN</td>\n",
       "      <td>NaN</td>\n",
       "      <td>NaN</td>\n",
       "      <td>NaN</td>\n",
       "      <td>NaN</td>\n",
       "      <td>NaN</td>\n",
       "      <td>NaN</td>\n",
       "      <td>NaN</td>\n",
       "    </tr>\n",
       "    <tr>\n",
       "      <th>4</th>\n",
       "      <td>Organic Search</td>\n",
       "      <td>20160902</td>\n",
       "      <td>27294437909732085</td>\n",
       "      <td>27294437909732085_1472822600</td>\n",
       "      <td>Not Socially Engaged</td>\n",
       "      <td>1472822600</td>\n",
       "      <td>2</td>\n",
       "      <td>1472822600</td>\n",
       "      <td>Chrome</td>\n",
       "      <td>not available in demo dataset</td>\n",
       "      <td>not available in demo dataset</td>\n",
       "      <td>Android</td>\n",
       "      <td>not available in demo dataset</td>\n",
       "      <td>True</td>\n",
       "      <td>not available in demo dataset</td>\n",
       "      <td>not available in demo dataset</td>\n",
       "      <td>not available in demo dataset</td>\n",
       "      <td>not available in demo dataset</td>\n",
       "      <td>not available in demo dataset</td>\n",
       "      <td>not available in demo dataset</td>\n",
       "      <td>not available in demo dataset</td>\n",
       "      <td>not available in demo dataset</td>\n",
       "      <td>not available in demo dataset</td>\n",
       "      <td>mobile</td>\n",
       "      <td>Europe</td>\n",
       "      <td>Northern Europe</td>\n",
       "      <td>United Kingdom</td>\n",
       "      <td>not available in demo dataset</td>\n",
       "      <td>not available in demo dataset</td>\n",
       "      <td>not available in demo dataset</td>\n",
       "      <td>not available in demo dataset</td>\n",
       "      <td>unknown.unknown</td>\n",
       "      <td>not available in demo dataset</td>\n",
       "      <td>not available in demo dataset</td>\n",
       "      <td>not available in demo dataset</td>\n",
       "      <td>1</td>\n",
       "      <td>1</td>\n",
       "      <td>1</td>\n",
       "      <td>1</td>\n",
       "      <td>NaN</td>\n",
       "      <td>NaN</td>\n",
       "      <td>(not set)</td>\n",
       "      <td>google</td>\n",
       "      <td>organic</td>\n",
       "      <td>(not provided)</td>\n",
       "      <td>not available in demo dataset</td>\n",
       "      <td>True</td>\n",
       "      <td>NaN</td>\n",
       "      <td>NaN</td>\n",
       "      <td>NaN</td>\n",
       "      <td>NaN</td>\n",
       "      <td>NaN</td>\n",
       "      <td>NaN</td>\n",
       "      <td>NaN</td>\n",
       "      <td>NaN</td>\n",
       "    </tr>\n",
       "    <tr>\n",
       "      <th>...</th>\n",
       "      <td>...</td>\n",
       "      <td>...</td>\n",
       "      <td>...</td>\n",
       "      <td>...</td>\n",
       "      <td>...</td>\n",
       "      <td>...</td>\n",
       "      <td>...</td>\n",
       "      <td>...</td>\n",
       "      <td>...</td>\n",
       "      <td>...</td>\n",
       "      <td>...</td>\n",
       "      <td>...</td>\n",
       "      <td>...</td>\n",
       "      <td>...</td>\n",
       "      <td>...</td>\n",
       "      <td>...</td>\n",
       "      <td>...</td>\n",
       "      <td>...</td>\n",
       "      <td>...</td>\n",
       "      <td>...</td>\n",
       "      <td>...</td>\n",
       "      <td>...</td>\n",
       "      <td>...</td>\n",
       "      <td>...</td>\n",
       "      <td>...</td>\n",
       "      <td>...</td>\n",
       "      <td>...</td>\n",
       "      <td>...</td>\n",
       "      <td>...</td>\n",
       "      <td>...</td>\n",
       "      <td>...</td>\n",
       "      <td>...</td>\n",
       "      <td>...</td>\n",
       "      <td>...</td>\n",
       "      <td>...</td>\n",
       "      <td>...</td>\n",
       "      <td>...</td>\n",
       "      <td>...</td>\n",
       "      <td>...</td>\n",
       "      <td>...</td>\n",
       "      <td>...</td>\n",
       "      <td>...</td>\n",
       "      <td>...</td>\n",
       "      <td>...</td>\n",
       "      <td>...</td>\n",
       "      <td>...</td>\n",
       "      <td>...</td>\n",
       "      <td>...</td>\n",
       "      <td>...</td>\n",
       "      <td>...</td>\n",
       "      <td>...</td>\n",
       "      <td>...</td>\n",
       "      <td>...</td>\n",
       "      <td>...</td>\n",
       "      <td>...</td>\n",
       "    </tr>\n",
       "    <tr>\n",
       "      <th>903648</th>\n",
       "      <td>Social</td>\n",
       "      <td>20170104</td>\n",
       "      <td>5123779100307500332</td>\n",
       "      <td>5123779100307500332_1483554750</td>\n",
       "      <td>Not Socially Engaged</td>\n",
       "      <td>1483554750</td>\n",
       "      <td>1</td>\n",
       "      <td>1483554750</td>\n",
       "      <td>Chrome</td>\n",
       "      <td>not available in demo dataset</td>\n",
       "      <td>not available in demo dataset</td>\n",
       "      <td>Windows</td>\n",
       "      <td>not available in demo dataset</td>\n",
       "      <td>False</td>\n",
       "      <td>not available in demo dataset</td>\n",
       "      <td>not available in demo dataset</td>\n",
       "      <td>not available in demo dataset</td>\n",
       "      <td>not available in demo dataset</td>\n",
       "      <td>not available in demo dataset</td>\n",
       "      <td>not available in demo dataset</td>\n",
       "      <td>not available in demo dataset</td>\n",
       "      <td>not available in demo dataset</td>\n",
       "      <td>not available in demo dataset</td>\n",
       "      <td>desktop</td>\n",
       "      <td>Americas</td>\n",
       "      <td>Caribbean</td>\n",
       "      <td>Puerto Rico</td>\n",
       "      <td>not available in demo dataset</td>\n",
       "      <td>not available in demo dataset</td>\n",
       "      <td>not available in demo dataset</td>\n",
       "      <td>not available in demo dataset</td>\n",
       "      <td>prtc.net</td>\n",
       "      <td>not available in demo dataset</td>\n",
       "      <td>not available in demo dataset</td>\n",
       "      <td>not available in demo dataset</td>\n",
       "      <td>1</td>\n",
       "      <td>17</td>\n",
       "      <td>15</td>\n",
       "      <td>NaN</td>\n",
       "      <td>1</td>\n",
       "      <td>NaN</td>\n",
       "      <td>(not set)</td>\n",
       "      <td>youtube.com</td>\n",
       "      <td>referral</td>\n",
       "      <td>NaN</td>\n",
       "      <td>not available in demo dataset</td>\n",
       "      <td>NaN</td>\n",
       "      <td>/yt/about/</td>\n",
       "      <td>NaN</td>\n",
       "      <td>NaN</td>\n",
       "      <td>NaN</td>\n",
       "      <td>NaN</td>\n",
       "      <td>NaN</td>\n",
       "      <td>NaN</td>\n",
       "      <td>NaN</td>\n",
       "    </tr>\n",
       "    <tr>\n",
       "      <th>903649</th>\n",
       "      <td>Social</td>\n",
       "      <td>20170104</td>\n",
       "      <td>7231728964973959842</td>\n",
       "      <td>7231728964973959842_1483543798</td>\n",
       "      <td>Not Socially Engaged</td>\n",
       "      <td>1483543798</td>\n",
       "      <td>1</td>\n",
       "      <td>1483543798</td>\n",
       "      <td>Chrome</td>\n",
       "      <td>not available in demo dataset</td>\n",
       "      <td>not available in demo dataset</td>\n",
       "      <td>Android</td>\n",
       "      <td>not available in demo dataset</td>\n",
       "      <td>True</td>\n",
       "      <td>not available in demo dataset</td>\n",
       "      <td>not available in demo dataset</td>\n",
       "      <td>not available in demo dataset</td>\n",
       "      <td>not available in demo dataset</td>\n",
       "      <td>not available in demo dataset</td>\n",
       "      <td>not available in demo dataset</td>\n",
       "      <td>not available in demo dataset</td>\n",
       "      <td>not available in demo dataset</td>\n",
       "      <td>not available in demo dataset</td>\n",
       "      <td>mobile</td>\n",
       "      <td>Asia</td>\n",
       "      <td>Southern Asia</td>\n",
       "      <td>Sri Lanka</td>\n",
       "      <td>not available in demo dataset</td>\n",
       "      <td>not available in demo dataset</td>\n",
       "      <td>not available in demo dataset</td>\n",
       "      <td>not available in demo dataset</td>\n",
       "      <td>unknown.unknown</td>\n",
       "      <td>not available in demo dataset</td>\n",
       "      <td>not available in demo dataset</td>\n",
       "      <td>not available in demo dataset</td>\n",
       "      <td>1</td>\n",
       "      <td>18</td>\n",
       "      <td>13</td>\n",
       "      <td>NaN</td>\n",
       "      <td>1</td>\n",
       "      <td>NaN</td>\n",
       "      <td>(not set)</td>\n",
       "      <td>youtube.com</td>\n",
       "      <td>referral</td>\n",
       "      <td>NaN</td>\n",
       "      <td>not available in demo dataset</td>\n",
       "      <td>NaN</td>\n",
       "      <td>/yt/about/</td>\n",
       "      <td>NaN</td>\n",
       "      <td>NaN</td>\n",
       "      <td>NaN</td>\n",
       "      <td>NaN</td>\n",
       "      <td>NaN</td>\n",
       "      <td>NaN</td>\n",
       "      <td>NaN</td>\n",
       "    </tr>\n",
       "    <tr>\n",
       "      <th>903650</th>\n",
       "      <td>Social</td>\n",
       "      <td>20170104</td>\n",
       "      <td>5744576632396406899</td>\n",
       "      <td>5744576632396406899_1483526434</td>\n",
       "      <td>Not Socially Engaged</td>\n",
       "      <td>1483526434</td>\n",
       "      <td>1</td>\n",
       "      <td>1483526434</td>\n",
       "      <td>Android Webview</td>\n",
       "      <td>not available in demo dataset</td>\n",
       "      <td>not available in demo dataset</td>\n",
       "      <td>Android</td>\n",
       "      <td>not available in demo dataset</td>\n",
       "      <td>True</td>\n",
       "      <td>not available in demo dataset</td>\n",
       "      <td>not available in demo dataset</td>\n",
       "      <td>not available in demo dataset</td>\n",
       "      <td>not available in demo dataset</td>\n",
       "      <td>not available in demo dataset</td>\n",
       "      <td>not available in demo dataset</td>\n",
       "      <td>not available in demo dataset</td>\n",
       "      <td>not available in demo dataset</td>\n",
       "      <td>not available in demo dataset</td>\n",
       "      <td>mobile</td>\n",
       "      <td>Asia</td>\n",
       "      <td>Eastern Asia</td>\n",
       "      <td>South Korea</td>\n",
       "      <td>Seoul</td>\n",
       "      <td>(not set)</td>\n",
       "      <td>Seoul</td>\n",
       "      <td>not available in demo dataset</td>\n",
       "      <td>unknown.unknown</td>\n",
       "      <td>not available in demo dataset</td>\n",
       "      <td>not available in demo dataset</td>\n",
       "      <td>not available in demo dataset</td>\n",
       "      <td>1</td>\n",
       "      <td>24</td>\n",
       "      <td>21</td>\n",
       "      <td>NaN</td>\n",
       "      <td>1</td>\n",
       "      <td>NaN</td>\n",
       "      <td>(not set)</td>\n",
       "      <td>youtube.com</td>\n",
       "      <td>referral</td>\n",
       "      <td>NaN</td>\n",
       "      <td>not available in demo dataset</td>\n",
       "      <td>NaN</td>\n",
       "      <td>/yt/about/ko/</td>\n",
       "      <td>NaN</td>\n",
       "      <td>NaN</td>\n",
       "      <td>NaN</td>\n",
       "      <td>NaN</td>\n",
       "      <td>NaN</td>\n",
       "      <td>NaN</td>\n",
       "      <td>NaN</td>\n",
       "    </tr>\n",
       "    <tr>\n",
       "      <th>903651</th>\n",
       "      <td>Social</td>\n",
       "      <td>20170104</td>\n",
       "      <td>2709355455991750775</td>\n",
       "      <td>2709355455991750775_1483592857</td>\n",
       "      <td>Not Socially Engaged</td>\n",
       "      <td>1483592857</td>\n",
       "      <td>1</td>\n",
       "      <td>1483592864</td>\n",
       "      <td>Chrome</td>\n",
       "      <td>not available in demo dataset</td>\n",
       "      <td>not available in demo dataset</td>\n",
       "      <td>Windows</td>\n",
       "      <td>not available in demo dataset</td>\n",
       "      <td>False</td>\n",
       "      <td>not available in demo dataset</td>\n",
       "      <td>not available in demo dataset</td>\n",
       "      <td>not available in demo dataset</td>\n",
       "      <td>not available in demo dataset</td>\n",
       "      <td>not available in demo dataset</td>\n",
       "      <td>not available in demo dataset</td>\n",
       "      <td>not available in demo dataset</td>\n",
       "      <td>not available in demo dataset</td>\n",
       "      <td>not available in demo dataset</td>\n",
       "      <td>desktop</td>\n",
       "      <td>Asia</td>\n",
       "      <td>Southeast Asia</td>\n",
       "      <td>Indonesia</td>\n",
       "      <td>not available in demo dataset</td>\n",
       "      <td>not available in demo dataset</td>\n",
       "      <td>not available in demo dataset</td>\n",
       "      <td>not available in demo dataset</td>\n",
       "      <td>unknown.unknown</td>\n",
       "      <td>not available in demo dataset</td>\n",
       "      <td>not available in demo dataset</td>\n",
       "      <td>not available in demo dataset</td>\n",
       "      <td>1</td>\n",
       "      <td>24</td>\n",
       "      <td>22</td>\n",
       "      <td>NaN</td>\n",
       "      <td>1</td>\n",
       "      <td>NaN</td>\n",
       "      <td>(not set)</td>\n",
       "      <td>facebook.com</td>\n",
       "      <td>referral</td>\n",
       "      <td>NaN</td>\n",
       "      <td>not available in demo dataset</td>\n",
       "      <td>NaN</td>\n",
       "      <td>/l.php</td>\n",
       "      <td>NaN</td>\n",
       "      <td>NaN</td>\n",
       "      <td>NaN</td>\n",
       "      <td>NaN</td>\n",
       "      <td>NaN</td>\n",
       "      <td>NaN</td>\n",
       "      <td>NaN</td>\n",
       "    </tr>\n",
       "    <tr>\n",
       "      <th>903652</th>\n",
       "      <td>Social</td>\n",
       "      <td>20170104</td>\n",
       "      <td>0814900163617805053</td>\n",
       "      <td>0814900163617805053_1483574474</td>\n",
       "      <td>Not Socially Engaged</td>\n",
       "      <td>1483574474</td>\n",
       "      <td>1</td>\n",
       "      <td>1483574474</td>\n",
       "      <td>Chrome</td>\n",
       "      <td>not available in demo dataset</td>\n",
       "      <td>not available in demo dataset</td>\n",
       "      <td>Android</td>\n",
       "      <td>not available in demo dataset</td>\n",
       "      <td>True</td>\n",
       "      <td>not available in demo dataset</td>\n",
       "      <td>not available in demo dataset</td>\n",
       "      <td>not available in demo dataset</td>\n",
       "      <td>not available in demo dataset</td>\n",
       "      <td>not available in demo dataset</td>\n",
       "      <td>not available in demo dataset</td>\n",
       "      <td>not available in demo dataset</td>\n",
       "      <td>not available in demo dataset</td>\n",
       "      <td>not available in demo dataset</td>\n",
       "      <td>mobile</td>\n",
       "      <td>Americas</td>\n",
       "      <td>Central America</td>\n",
       "      <td>Mexico</td>\n",
       "      <td>not available in demo dataset</td>\n",
       "      <td>not available in demo dataset</td>\n",
       "      <td>not available in demo dataset</td>\n",
       "      <td>not available in demo dataset</td>\n",
       "      <td>cybercable.net.mx</td>\n",
       "      <td>not available in demo dataset</td>\n",
       "      <td>not available in demo dataset</td>\n",
       "      <td>not available in demo dataset</td>\n",
       "      <td>1</td>\n",
       "      <td>31</td>\n",
       "      <td>31</td>\n",
       "      <td>NaN</td>\n",
       "      <td>1</td>\n",
       "      <td>NaN</td>\n",
       "      <td>(not set)</td>\n",
       "      <td>youtube.com</td>\n",
       "      <td>referral</td>\n",
       "      <td>NaN</td>\n",
       "      <td>not available in demo dataset</td>\n",
       "      <td>NaN</td>\n",
       "      <td>/yt/about/es-419/</td>\n",
       "      <td>NaN</td>\n",
       "      <td>NaN</td>\n",
       "      <td>NaN</td>\n",
       "      <td>NaN</td>\n",
       "      <td>NaN</td>\n",
       "      <td>NaN</td>\n",
       "      <td>NaN</td>\n",
       "    </tr>\n",
       "  </tbody>\n",
       "</table>\n",
       "<p>903653 rows × 55 columns</p>\n",
       "</div>"
      ],
      "text/plain": [
       "       channelGrouping      date        fullVisitorId  \\\n",
       "0       Organic Search  20160902  1131660440785968503   \n",
       "1       Organic Search  20160902   377306020877927890   \n",
       "2       Organic Search  20160902  3895546263509774583   \n",
       "3       Organic Search  20160902  4763447161404445595   \n",
       "4       Organic Search  20160902    27294437909732085   \n",
       "...                ...       ...                  ...   \n",
       "903648          Social  20170104  5123779100307500332   \n",
       "903649          Social  20170104  7231728964973959842   \n",
       "903650          Social  20170104  5744576632396406899   \n",
       "903651          Social  20170104  2709355455991750775   \n",
       "903652          Social  20170104  0814900163617805053   \n",
       "\n",
       "                             sessionId  socialEngagementType     visitId  \\\n",
       "0       1131660440785968503_1472830385  Not Socially Engaged  1472830385   \n",
       "1        377306020877927890_1472880147  Not Socially Engaged  1472880147   \n",
       "2       3895546263509774583_1472865386  Not Socially Engaged  1472865386   \n",
       "3       4763447161404445595_1472881213  Not Socially Engaged  1472881213   \n",
       "4         27294437909732085_1472822600  Not Socially Engaged  1472822600   \n",
       "...                                ...                   ...         ...   \n",
       "903648  5123779100307500332_1483554750  Not Socially Engaged  1483554750   \n",
       "903649  7231728964973959842_1483543798  Not Socially Engaged  1483543798   \n",
       "903650  5744576632396406899_1483526434  Not Socially Engaged  1483526434   \n",
       "903651  2709355455991750775_1483592857  Not Socially Engaged  1483592857   \n",
       "903652  0814900163617805053_1483574474  Not Socially Engaged  1483574474   \n",
       "\n",
       "        visitNumber  visitStartTime   device.browser  \\\n",
       "0                 1      1472830385           Chrome   \n",
       "1                 1      1472880147          Firefox   \n",
       "2                 1      1472865386           Chrome   \n",
       "3                 1      1472881213       UC Browser   \n",
       "4                 2      1472822600           Chrome   \n",
       "...             ...             ...              ...   \n",
       "903648            1      1483554750           Chrome   \n",
       "903649            1      1483543798           Chrome   \n",
       "903650            1      1483526434  Android Webview   \n",
       "903651            1      1483592864           Chrome   \n",
       "903652            1      1483574474           Chrome   \n",
       "\n",
       "                device.browserVersion             device.browserSize  \\\n",
       "0       not available in demo dataset  not available in demo dataset   \n",
       "1       not available in demo dataset  not available in demo dataset   \n",
       "2       not available in demo dataset  not available in demo dataset   \n",
       "3       not available in demo dataset  not available in demo dataset   \n",
       "4       not available in demo dataset  not available in demo dataset   \n",
       "...                               ...                            ...   \n",
       "903648  not available in demo dataset  not available in demo dataset   \n",
       "903649  not available in demo dataset  not available in demo dataset   \n",
       "903650  not available in demo dataset  not available in demo dataset   \n",
       "903651  not available in demo dataset  not available in demo dataset   \n",
       "903652  not available in demo dataset  not available in demo dataset   \n",
       "\n",
       "       device.operatingSystem  device.operatingSystemVersion  device.isMobile  \\\n",
       "0                     Windows  not available in demo dataset            False   \n",
       "1                   Macintosh  not available in demo dataset            False   \n",
       "2                     Windows  not available in demo dataset            False   \n",
       "3                       Linux  not available in demo dataset            False   \n",
       "4                     Android  not available in demo dataset             True   \n",
       "...                       ...                            ...              ...   \n",
       "903648                Windows  not available in demo dataset            False   \n",
       "903649                Android  not available in demo dataset             True   \n",
       "903650                Android  not available in demo dataset             True   \n",
       "903651                Windows  not available in demo dataset            False   \n",
       "903652                Android  not available in demo dataset             True   \n",
       "\n",
       "          device.mobileDeviceBranding       device.mobileDeviceModel  \\\n",
       "0       not available in demo dataset  not available in demo dataset   \n",
       "1       not available in demo dataset  not available in demo dataset   \n",
       "2       not available in demo dataset  not available in demo dataset   \n",
       "3       not available in demo dataset  not available in demo dataset   \n",
       "4       not available in demo dataset  not available in demo dataset   \n",
       "...                               ...                            ...   \n",
       "903648  not available in demo dataset  not available in demo dataset   \n",
       "903649  not available in demo dataset  not available in demo dataset   \n",
       "903650  not available in demo dataset  not available in demo dataset   \n",
       "903651  not available in demo dataset  not available in demo dataset   \n",
       "903652  not available in demo dataset  not available in demo dataset   \n",
       "\n",
       "           device.mobileInputSelector        device.mobileDeviceInfo  \\\n",
       "0       not available in demo dataset  not available in demo dataset   \n",
       "1       not available in demo dataset  not available in demo dataset   \n",
       "2       not available in demo dataset  not available in demo dataset   \n",
       "3       not available in demo dataset  not available in demo dataset   \n",
       "4       not available in demo dataset  not available in demo dataset   \n",
       "...                               ...                            ...   \n",
       "903648  not available in demo dataset  not available in demo dataset   \n",
       "903649  not available in demo dataset  not available in demo dataset   \n",
       "903650  not available in demo dataset  not available in demo dataset   \n",
       "903651  not available in demo dataset  not available in demo dataset   \n",
       "903652  not available in demo dataset  not available in demo dataset   \n",
       "\n",
       "       device.mobileDeviceMarketingName            device.flashVersion  \\\n",
       "0         not available in demo dataset  not available in demo dataset   \n",
       "1         not available in demo dataset  not available in demo dataset   \n",
       "2         not available in demo dataset  not available in demo dataset   \n",
       "3         not available in demo dataset  not available in demo dataset   \n",
       "4         not available in demo dataset  not available in demo dataset   \n",
       "...                                 ...                            ...   \n",
       "903648    not available in demo dataset  not available in demo dataset   \n",
       "903649    not available in demo dataset  not available in demo dataset   \n",
       "903650    not available in demo dataset  not available in demo dataset   \n",
       "903651    not available in demo dataset  not available in demo dataset   \n",
       "903652    not available in demo dataset  not available in demo dataset   \n",
       "\n",
       "                      device.language            device.screenColors  \\\n",
       "0       not available in demo dataset  not available in demo dataset   \n",
       "1       not available in demo dataset  not available in demo dataset   \n",
       "2       not available in demo dataset  not available in demo dataset   \n",
       "3       not available in demo dataset  not available in demo dataset   \n",
       "4       not available in demo dataset  not available in demo dataset   \n",
       "...                               ...                            ...   \n",
       "903648  not available in demo dataset  not available in demo dataset   \n",
       "903649  not available in demo dataset  not available in demo dataset   \n",
       "903650  not available in demo dataset  not available in demo dataset   \n",
       "903651  not available in demo dataset  not available in demo dataset   \n",
       "903652  not available in demo dataset  not available in demo dataset   \n",
       "\n",
       "              device.screenResolution device.deviceCategory  \\\n",
       "0       not available in demo dataset               desktop   \n",
       "1       not available in demo dataset               desktop   \n",
       "2       not available in demo dataset               desktop   \n",
       "3       not available in demo dataset               desktop   \n",
       "4       not available in demo dataset                mobile   \n",
       "...                               ...                   ...   \n",
       "903648  not available in demo dataset               desktop   \n",
       "903649  not available in demo dataset                mobile   \n",
       "903650  not available in demo dataset                mobile   \n",
       "903651  not available in demo dataset               desktop   \n",
       "903652  not available in demo dataset                mobile   \n",
       "\n",
       "       geoNetwork.continent geoNetwork.subContinent geoNetwork.country  \\\n",
       "0                      Asia            Western Asia             Turkey   \n",
       "1                   Oceania             Australasia          Australia   \n",
       "2                    Europe         Southern Europe              Spain   \n",
       "3                      Asia          Southeast Asia          Indonesia   \n",
       "4                    Europe         Northern Europe     United Kingdom   \n",
       "...                     ...                     ...                ...   \n",
       "903648             Americas               Caribbean        Puerto Rico   \n",
       "903649                 Asia           Southern Asia          Sri Lanka   \n",
       "903650                 Asia            Eastern Asia        South Korea   \n",
       "903651                 Asia          Southeast Asia          Indonesia   \n",
       "903652             Americas         Central America             Mexico   \n",
       "\n",
       "                    geoNetwork.region               geoNetwork.metro  \\\n",
       "0                               Izmir                      (not set)   \n",
       "1       not available in demo dataset  not available in demo dataset   \n",
       "2                 Community of Madrid                      (not set)   \n",
       "3       not available in demo dataset  not available in demo dataset   \n",
       "4       not available in demo dataset  not available in demo dataset   \n",
       "...                               ...                            ...   \n",
       "903648  not available in demo dataset  not available in demo dataset   \n",
       "903649  not available in demo dataset  not available in demo dataset   \n",
       "903650                          Seoul                      (not set)   \n",
       "903651  not available in demo dataset  not available in demo dataset   \n",
       "903652  not available in demo dataset  not available in demo dataset   \n",
       "\n",
       "                      geoNetwork.city              geoNetwork.cityId  \\\n",
       "0                               Izmir  not available in demo dataset   \n",
       "1       not available in demo dataset  not available in demo dataset   \n",
       "2                              Madrid  not available in demo dataset   \n",
       "3       not available in demo dataset  not available in demo dataset   \n",
       "4       not available in demo dataset  not available in demo dataset   \n",
       "...                               ...                            ...   \n",
       "903648  not available in demo dataset  not available in demo dataset   \n",
       "903649  not available in demo dataset  not available in demo dataset   \n",
       "903650                          Seoul  not available in demo dataset   \n",
       "903651  not available in demo dataset  not available in demo dataset   \n",
       "903652  not available in demo dataset  not available in demo dataset   \n",
       "\n",
       "       geoNetwork.networkDomain            geoNetwork.latitude  \\\n",
       "0                  ttnet.com.tr  not available in demo dataset   \n",
       "1                   dodo.net.au  not available in demo dataset   \n",
       "2               unknown.unknown  not available in demo dataset   \n",
       "3               unknown.unknown  not available in demo dataset   \n",
       "4               unknown.unknown  not available in demo dataset   \n",
       "...                         ...                            ...   \n",
       "903648                 prtc.net  not available in demo dataset   \n",
       "903649          unknown.unknown  not available in demo dataset   \n",
       "903650          unknown.unknown  not available in demo dataset   \n",
       "903651          unknown.unknown  not available in demo dataset   \n",
       "903652        cybercable.net.mx  not available in demo dataset   \n",
       "\n",
       "                 geoNetwork.longitude     geoNetwork.networkLocation  \\\n",
       "0       not available in demo dataset  not available in demo dataset   \n",
       "1       not available in demo dataset  not available in demo dataset   \n",
       "2       not available in demo dataset  not available in demo dataset   \n",
       "3       not available in demo dataset  not available in demo dataset   \n",
       "4       not available in demo dataset  not available in demo dataset   \n",
       "...                               ...                            ...   \n",
       "903648  not available in demo dataset  not available in demo dataset   \n",
       "903649  not available in demo dataset  not available in demo dataset   \n",
       "903650  not available in demo dataset  not available in demo dataset   \n",
       "903651  not available in demo dataset  not available in demo dataset   \n",
       "903652  not available in demo dataset  not available in demo dataset   \n",
       "\n",
       "       totals.visits totals.hits totals.pageviews totals.bounces  \\\n",
       "0                  1           1                1              1   \n",
       "1                  1           1                1              1   \n",
       "2                  1           1                1              1   \n",
       "3                  1           1                1              1   \n",
       "4                  1           1                1              1   \n",
       "...              ...         ...              ...            ...   \n",
       "903648             1          17               15            NaN   \n",
       "903649             1          18               13            NaN   \n",
       "903650             1          24               21            NaN   \n",
       "903651             1          24               22            NaN   \n",
       "903652             1          31               31            NaN   \n",
       "\n",
       "       totals.newVisits  totals.transactionRevenue trafficSource.campaign  \\\n",
       "0                     1                        NaN              (not set)   \n",
       "1                     1                        NaN              (not set)   \n",
       "2                     1                        NaN              (not set)   \n",
       "3                     1                        NaN              (not set)   \n",
       "4                   NaN                        NaN              (not set)   \n",
       "...                 ...                        ...                    ...   \n",
       "903648                1                        NaN              (not set)   \n",
       "903649                1                        NaN              (not set)   \n",
       "903650                1                        NaN              (not set)   \n",
       "903651                1                        NaN              (not set)   \n",
       "903652                1                        NaN              (not set)   \n",
       "\n",
       "       trafficSource.source trafficSource.medium trafficSource.keyword  \\\n",
       "0                    google              organic        (not provided)   \n",
       "1                    google              organic        (not provided)   \n",
       "2                    google              organic        (not provided)   \n",
       "3                    google              organic       google + online   \n",
       "4                    google              organic        (not provided)   \n",
       "...                     ...                  ...                   ...   \n",
       "903648          youtube.com             referral                   NaN   \n",
       "903649          youtube.com             referral                   NaN   \n",
       "903650          youtube.com             referral                   NaN   \n",
       "903651         facebook.com             referral                   NaN   \n",
       "903652          youtube.com             referral                   NaN   \n",
       "\n",
       "       trafficSource.adwordsClickInfo.criteriaParameters  \\\n",
       "0                          not available in demo dataset   \n",
       "1                          not available in demo dataset   \n",
       "2                          not available in demo dataset   \n",
       "3                          not available in demo dataset   \n",
       "4                          not available in demo dataset   \n",
       "...                                                  ...   \n",
       "903648                     not available in demo dataset   \n",
       "903649                     not available in demo dataset   \n",
       "903650                     not available in demo dataset   \n",
       "903651                     not available in demo dataset   \n",
       "903652                     not available in demo dataset   \n",
       "\n",
       "       trafficSource.isTrueDirect trafficSource.referralPath  \\\n",
       "0                             NaN                        NaN   \n",
       "1                             NaN                        NaN   \n",
       "2                             NaN                        NaN   \n",
       "3                             NaN                        NaN   \n",
       "4                            True                        NaN   \n",
       "...                           ...                        ...   \n",
       "903648                        NaN                 /yt/about/   \n",
       "903649                        NaN                 /yt/about/   \n",
       "903650                        NaN              /yt/about/ko/   \n",
       "903651                        NaN                     /l.php   \n",
       "903652                        NaN          /yt/about/es-419/   \n",
       "\n",
       "       trafficSource.adwordsClickInfo.page  \\\n",
       "0                                      NaN   \n",
       "1                                      NaN   \n",
       "2                                      NaN   \n",
       "3                                      NaN   \n",
       "4                                      NaN   \n",
       "...                                    ...   \n",
       "903648                                 NaN   \n",
       "903649                                 NaN   \n",
       "903650                                 NaN   \n",
       "903651                                 NaN   \n",
       "903652                                 NaN   \n",
       "\n",
       "       trafficSource.adwordsClickInfo.slot  \\\n",
       "0                                      NaN   \n",
       "1                                      NaN   \n",
       "2                                      NaN   \n",
       "3                                      NaN   \n",
       "4                                      NaN   \n",
       "...                                    ...   \n",
       "903648                                 NaN   \n",
       "903649                                 NaN   \n",
       "903650                                 NaN   \n",
       "903651                                 NaN   \n",
       "903652                                 NaN   \n",
       "\n",
       "       trafficSource.adwordsClickInfo.gclId  \\\n",
       "0                                       NaN   \n",
       "1                                       NaN   \n",
       "2                                       NaN   \n",
       "3                                       NaN   \n",
       "4                                       NaN   \n",
       "...                                     ...   \n",
       "903648                                  NaN   \n",
       "903649                                  NaN   \n",
       "903650                                  NaN   \n",
       "903651                                  NaN   \n",
       "903652                                  NaN   \n",
       "\n",
       "       trafficSource.adwordsClickInfo.adNetworkType  \\\n",
       "0                                               NaN   \n",
       "1                                               NaN   \n",
       "2                                               NaN   \n",
       "3                                               NaN   \n",
       "4                                               NaN   \n",
       "...                                             ...   \n",
       "903648                                          NaN   \n",
       "903649                                          NaN   \n",
       "903650                                          NaN   \n",
       "903651                                          NaN   \n",
       "903652                                          NaN   \n",
       "\n",
       "       trafficSource.adwordsClickInfo.isVideoAd trafficSource.adContent  \\\n",
       "0                                           NaN                     NaN   \n",
       "1                                           NaN                     NaN   \n",
       "2                                           NaN                     NaN   \n",
       "3                                           NaN                     NaN   \n",
       "4                                           NaN                     NaN   \n",
       "...                                         ...                     ...   \n",
       "903648                                      NaN                     NaN   \n",
       "903649                                      NaN                     NaN   \n",
       "903650                                      NaN                     NaN   \n",
       "903651                                      NaN                     NaN   \n",
       "903652                                      NaN                     NaN   \n",
       "\n",
       "       trafficSource.campaignCode  \n",
       "0                             NaN  \n",
       "1                             NaN  \n",
       "2                             NaN  \n",
       "3                             NaN  \n",
       "4                             NaN  \n",
       "...                           ...  \n",
       "903648                        NaN  \n",
       "903649                        NaN  \n",
       "903650                        NaN  \n",
       "903651                        NaN  \n",
       "903652                        NaN  \n",
       "\n",
       "[903653 rows x 55 columns]"
      ]
     },
     "execution_count": 11,
     "metadata": {},
     "output_type": "execute_result"
    }
   ],
   "source": [
    "train_df"
   ]
  },
  {
   "cell_type": "code",
   "execution_count": 12,
   "id": "7a922b92",
   "metadata": {},
   "outputs": [
    {
     "data": {
      "text/html": [
       "<div>\n",
       "<style scoped>\n",
       "    .dataframe tbody tr th:only-of-type {\n",
       "        vertical-align: middle;\n",
       "    }\n",
       "\n",
       "    .dataframe tbody tr th {\n",
       "        vertical-align: top;\n",
       "    }\n",
       "\n",
       "    .dataframe thead th {\n",
       "        text-align: right;\n",
       "    }\n",
       "</style>\n",
       "<table border=\"1\" class=\"dataframe\">\n",
       "  <thead>\n",
       "    <tr style=\"text-align: right;\">\n",
       "      <th></th>\n",
       "      <th>channelGrouping</th>\n",
       "      <th>date</th>\n",
       "      <th>fullVisitorId</th>\n",
       "      <th>sessionId</th>\n",
       "      <th>socialEngagementType</th>\n",
       "      <th>visitId</th>\n",
       "      <th>visitNumber</th>\n",
       "      <th>visitStartTime</th>\n",
       "      <th>device.browser</th>\n",
       "      <th>device.browserVersion</th>\n",
       "      <th>device.browserSize</th>\n",
       "      <th>device.operatingSystem</th>\n",
       "      <th>device.operatingSystemVersion</th>\n",
       "      <th>device.isMobile</th>\n",
       "      <th>device.mobileDeviceBranding</th>\n",
       "      <th>device.mobileDeviceModel</th>\n",
       "      <th>device.mobileInputSelector</th>\n",
       "      <th>device.mobileDeviceInfo</th>\n",
       "      <th>device.mobileDeviceMarketingName</th>\n",
       "      <th>device.flashVersion</th>\n",
       "      <th>device.language</th>\n",
       "      <th>device.screenColors</th>\n",
       "      <th>device.screenResolution</th>\n",
       "      <th>device.deviceCategory</th>\n",
       "      <th>geoNetwork.continent</th>\n",
       "      <th>geoNetwork.subContinent</th>\n",
       "      <th>geoNetwork.country</th>\n",
       "      <th>geoNetwork.region</th>\n",
       "      <th>geoNetwork.metro</th>\n",
       "      <th>geoNetwork.city</th>\n",
       "      <th>geoNetwork.cityId</th>\n",
       "      <th>geoNetwork.networkDomain</th>\n",
       "      <th>geoNetwork.latitude</th>\n",
       "      <th>geoNetwork.longitude</th>\n",
       "      <th>geoNetwork.networkLocation</th>\n",
       "      <th>totals.visits</th>\n",
       "      <th>totals.hits</th>\n",
       "      <th>totals.pageviews</th>\n",
       "      <th>totals.newVisits</th>\n",
       "      <th>totals.bounces</th>\n",
       "      <th>trafficSource.campaign</th>\n",
       "      <th>trafficSource.source</th>\n",
       "      <th>trafficSource.medium</th>\n",
       "      <th>trafficSource.keyword</th>\n",
       "      <th>trafficSource.isTrueDirect</th>\n",
       "      <th>trafficSource.adwordsClickInfo.criteriaParameters</th>\n",
       "      <th>trafficSource.adwordsClickInfo.page</th>\n",
       "      <th>trafficSource.adwordsClickInfo.slot</th>\n",
       "      <th>trafficSource.adwordsClickInfo.gclId</th>\n",
       "      <th>trafficSource.adwordsClickInfo.adNetworkType</th>\n",
       "      <th>trafficSource.adwordsClickInfo.isVideoAd</th>\n",
       "      <th>trafficSource.referralPath</th>\n",
       "      <th>trafficSource.adContent</th>\n",
       "    </tr>\n",
       "  </thead>\n",
       "  <tbody>\n",
       "    <tr>\n",
       "      <th>0</th>\n",
       "      <td>Organic Search</td>\n",
       "      <td>20171016</td>\n",
       "      <td>6167871330617112363</td>\n",
       "      <td>6167871330617112363_1508151024</td>\n",
       "      <td>Not Socially Engaged</td>\n",
       "      <td>1508151024</td>\n",
       "      <td>2</td>\n",
       "      <td>1508151024</td>\n",
       "      <td>Chrome</td>\n",
       "      <td>not available in demo dataset</td>\n",
       "      <td>not available in demo dataset</td>\n",
       "      <td>Macintosh</td>\n",
       "      <td>not available in demo dataset</td>\n",
       "      <td>False</td>\n",
       "      <td>not available in demo dataset</td>\n",
       "      <td>not available in demo dataset</td>\n",
       "      <td>not available in demo dataset</td>\n",
       "      <td>not available in demo dataset</td>\n",
       "      <td>not available in demo dataset</td>\n",
       "      <td>not available in demo dataset</td>\n",
       "      <td>not available in demo dataset</td>\n",
       "      <td>not available in demo dataset</td>\n",
       "      <td>not available in demo dataset</td>\n",
       "      <td>desktop</td>\n",
       "      <td>Asia</td>\n",
       "      <td>Southeast Asia</td>\n",
       "      <td>Singapore</td>\n",
       "      <td>(not set)</td>\n",
       "      <td>(not set)</td>\n",
       "      <td>(not set)</td>\n",
       "      <td>not available in demo dataset</td>\n",
       "      <td>myrepublic.com.sg</td>\n",
       "      <td>not available in demo dataset</td>\n",
       "      <td>not available in demo dataset</td>\n",
       "      <td>not available in demo dataset</td>\n",
       "      <td>1</td>\n",
       "      <td>4</td>\n",
       "      <td>4</td>\n",
       "      <td>NaN</td>\n",
       "      <td>NaN</td>\n",
       "      <td>(not set)</td>\n",
       "      <td>google</td>\n",
       "      <td>organic</td>\n",
       "      <td>(not provided)</td>\n",
       "      <td>True</td>\n",
       "      <td>not available in demo dataset</td>\n",
       "      <td>NaN</td>\n",
       "      <td>NaN</td>\n",
       "      <td>NaN</td>\n",
       "      <td>NaN</td>\n",
       "      <td>NaN</td>\n",
       "      <td>NaN</td>\n",
       "      <td>NaN</td>\n",
       "    </tr>\n",
       "    <tr>\n",
       "      <th>1</th>\n",
       "      <td>Organic Search</td>\n",
       "      <td>20171016</td>\n",
       "      <td>0643697640977915618</td>\n",
       "      <td>0643697640977915618_1508175522</td>\n",
       "      <td>Not Socially Engaged</td>\n",
       "      <td>1508175522</td>\n",
       "      <td>1</td>\n",
       "      <td>1508175522</td>\n",
       "      <td>Chrome</td>\n",
       "      <td>not available in demo dataset</td>\n",
       "      <td>not available in demo dataset</td>\n",
       "      <td>Windows</td>\n",
       "      <td>not available in demo dataset</td>\n",
       "      <td>False</td>\n",
       "      <td>not available in demo dataset</td>\n",
       "      <td>not available in demo dataset</td>\n",
       "      <td>not available in demo dataset</td>\n",
       "      <td>not available in demo dataset</td>\n",
       "      <td>not available in demo dataset</td>\n",
       "      <td>not available in demo dataset</td>\n",
       "      <td>not available in demo dataset</td>\n",
       "      <td>not available in demo dataset</td>\n",
       "      <td>not available in demo dataset</td>\n",
       "      <td>desktop</td>\n",
       "      <td>Europe</td>\n",
       "      <td>Southern Europe</td>\n",
       "      <td>Spain</td>\n",
       "      <td>Aragon</td>\n",
       "      <td>(not set)</td>\n",
       "      <td>Zaragoza</td>\n",
       "      <td>not available in demo dataset</td>\n",
       "      <td>rima-tde.net</td>\n",
       "      <td>not available in demo dataset</td>\n",
       "      <td>not available in demo dataset</td>\n",
       "      <td>not available in demo dataset</td>\n",
       "      <td>1</td>\n",
       "      <td>5</td>\n",
       "      <td>5</td>\n",
       "      <td>1</td>\n",
       "      <td>NaN</td>\n",
       "      <td>(not set)</td>\n",
       "      <td>google</td>\n",
       "      <td>organic</td>\n",
       "      <td>(not provided)</td>\n",
       "      <td>NaN</td>\n",
       "      <td>not available in demo dataset</td>\n",
       "      <td>NaN</td>\n",
       "      <td>NaN</td>\n",
       "      <td>NaN</td>\n",
       "      <td>NaN</td>\n",
       "      <td>NaN</td>\n",
       "      <td>NaN</td>\n",
       "      <td>NaN</td>\n",
       "    </tr>\n",
       "    <tr>\n",
       "      <th>2</th>\n",
       "      <td>Organic Search</td>\n",
       "      <td>20171016</td>\n",
       "      <td>6059383810968229466</td>\n",
       "      <td>6059383810968229466_1508143220</td>\n",
       "      <td>Not Socially Engaged</td>\n",
       "      <td>1508143220</td>\n",
       "      <td>1</td>\n",
       "      <td>1508143220</td>\n",
       "      <td>Chrome</td>\n",
       "      <td>not available in demo dataset</td>\n",
       "      <td>not available in demo dataset</td>\n",
       "      <td>Macintosh</td>\n",
       "      <td>not available in demo dataset</td>\n",
       "      <td>False</td>\n",
       "      <td>not available in demo dataset</td>\n",
       "      <td>not available in demo dataset</td>\n",
       "      <td>not available in demo dataset</td>\n",
       "      <td>not available in demo dataset</td>\n",
       "      <td>not available in demo dataset</td>\n",
       "      <td>not available in demo dataset</td>\n",
       "      <td>not available in demo dataset</td>\n",
       "      <td>not available in demo dataset</td>\n",
       "      <td>not available in demo dataset</td>\n",
       "      <td>desktop</td>\n",
       "      <td>Europe</td>\n",
       "      <td>Western Europe</td>\n",
       "      <td>France</td>\n",
       "      <td>not available in demo dataset</td>\n",
       "      <td>not available in demo dataset</td>\n",
       "      <td>not available in demo dataset</td>\n",
       "      <td>not available in demo dataset</td>\n",
       "      <td>sfr.net</td>\n",
       "      <td>not available in demo dataset</td>\n",
       "      <td>not available in demo dataset</td>\n",
       "      <td>not available in demo dataset</td>\n",
       "      <td>1</td>\n",
       "      <td>7</td>\n",
       "      <td>7</td>\n",
       "      <td>1</td>\n",
       "      <td>NaN</td>\n",
       "      <td>(not set)</td>\n",
       "      <td>google</td>\n",
       "      <td>organic</td>\n",
       "      <td>(not provided)</td>\n",
       "      <td>NaN</td>\n",
       "      <td>not available in demo dataset</td>\n",
       "      <td>NaN</td>\n",
       "      <td>NaN</td>\n",
       "      <td>NaN</td>\n",
       "      <td>NaN</td>\n",
       "      <td>NaN</td>\n",
       "      <td>NaN</td>\n",
       "      <td>NaN</td>\n",
       "    </tr>\n",
       "    <tr>\n",
       "      <th>3</th>\n",
       "      <td>Organic Search</td>\n",
       "      <td>20171016</td>\n",
       "      <td>2376720078563423631</td>\n",
       "      <td>2376720078563423631_1508193530</td>\n",
       "      <td>Not Socially Engaged</td>\n",
       "      <td>1508193530</td>\n",
       "      <td>1</td>\n",
       "      <td>1508193530</td>\n",
       "      <td>Safari</td>\n",
       "      <td>not available in demo dataset</td>\n",
       "      <td>not available in demo dataset</td>\n",
       "      <td>iOS</td>\n",
       "      <td>not available in demo dataset</td>\n",
       "      <td>True</td>\n",
       "      <td>not available in demo dataset</td>\n",
       "      <td>not available in demo dataset</td>\n",
       "      <td>not available in demo dataset</td>\n",
       "      <td>not available in demo dataset</td>\n",
       "      <td>not available in demo dataset</td>\n",
       "      <td>not available in demo dataset</td>\n",
       "      <td>not available in demo dataset</td>\n",
       "      <td>not available in demo dataset</td>\n",
       "      <td>not available in demo dataset</td>\n",
       "      <td>mobile</td>\n",
       "      <td>Americas</td>\n",
       "      <td>Northern America</td>\n",
       "      <td>United States</td>\n",
       "      <td>California</td>\n",
       "      <td>San Francisco-Oakland-San Jose CA</td>\n",
       "      <td>Mountain View</td>\n",
       "      <td>not available in demo dataset</td>\n",
       "      <td>(not set)</td>\n",
       "      <td>not available in demo dataset</td>\n",
       "      <td>not available in demo dataset</td>\n",
       "      <td>not available in demo dataset</td>\n",
       "      <td>1</td>\n",
       "      <td>8</td>\n",
       "      <td>4</td>\n",
       "      <td>1</td>\n",
       "      <td>NaN</td>\n",
       "      <td>(not set)</td>\n",
       "      <td>google</td>\n",
       "      <td>organic</td>\n",
       "      <td>(not provided)</td>\n",
       "      <td>NaN</td>\n",
       "      <td>not available in demo dataset</td>\n",
       "      <td>NaN</td>\n",
       "      <td>NaN</td>\n",
       "      <td>NaN</td>\n",
       "      <td>NaN</td>\n",
       "      <td>NaN</td>\n",
       "      <td>NaN</td>\n",
       "      <td>NaN</td>\n",
       "    </tr>\n",
       "    <tr>\n",
       "      <th>4</th>\n",
       "      <td>Organic Search</td>\n",
       "      <td>20171016</td>\n",
       "      <td>2314544520795440038</td>\n",
       "      <td>2314544520795440038_1508217442</td>\n",
       "      <td>Not Socially Engaged</td>\n",
       "      <td>1508217442</td>\n",
       "      <td>1</td>\n",
       "      <td>1508217442</td>\n",
       "      <td>Safari</td>\n",
       "      <td>not available in demo dataset</td>\n",
       "      <td>not available in demo dataset</td>\n",
       "      <td>Macintosh</td>\n",
       "      <td>not available in demo dataset</td>\n",
       "      <td>False</td>\n",
       "      <td>not available in demo dataset</td>\n",
       "      <td>not available in demo dataset</td>\n",
       "      <td>not available in demo dataset</td>\n",
       "      <td>not available in demo dataset</td>\n",
       "      <td>not available in demo dataset</td>\n",
       "      <td>not available in demo dataset</td>\n",
       "      <td>not available in demo dataset</td>\n",
       "      <td>not available in demo dataset</td>\n",
       "      <td>not available in demo dataset</td>\n",
       "      <td>desktop</td>\n",
       "      <td>Americas</td>\n",
       "      <td>Northern America</td>\n",
       "      <td>United States</td>\n",
       "      <td>California</td>\n",
       "      <td>San Francisco-Oakland-San Jose CA</td>\n",
       "      <td>San Jose</td>\n",
       "      <td>not available in demo dataset</td>\n",
       "      <td>(not set)</td>\n",
       "      <td>not available in demo dataset</td>\n",
       "      <td>not available in demo dataset</td>\n",
       "      <td>not available in demo dataset</td>\n",
       "      <td>1</td>\n",
       "      <td>9</td>\n",
       "      <td>4</td>\n",
       "      <td>1</td>\n",
       "      <td>NaN</td>\n",
       "      <td>(not set)</td>\n",
       "      <td>google</td>\n",
       "      <td>organic</td>\n",
       "      <td>(not provided)</td>\n",
       "      <td>NaN</td>\n",
       "      <td>not available in demo dataset</td>\n",
       "      <td>NaN</td>\n",
       "      <td>NaN</td>\n",
       "      <td>NaN</td>\n",
       "      <td>NaN</td>\n",
       "      <td>NaN</td>\n",
       "      <td>NaN</td>\n",
       "      <td>NaN</td>\n",
       "    </tr>\n",
       "    <tr>\n",
       "      <th>...</th>\n",
       "      <td>...</td>\n",
       "      <td>...</td>\n",
       "      <td>...</td>\n",
       "      <td>...</td>\n",
       "      <td>...</td>\n",
       "      <td>...</td>\n",
       "      <td>...</td>\n",
       "      <td>...</td>\n",
       "      <td>...</td>\n",
       "      <td>...</td>\n",
       "      <td>...</td>\n",
       "      <td>...</td>\n",
       "      <td>...</td>\n",
       "      <td>...</td>\n",
       "      <td>...</td>\n",
       "      <td>...</td>\n",
       "      <td>...</td>\n",
       "      <td>...</td>\n",
       "      <td>...</td>\n",
       "      <td>...</td>\n",
       "      <td>...</td>\n",
       "      <td>...</td>\n",
       "      <td>...</td>\n",
       "      <td>...</td>\n",
       "      <td>...</td>\n",
       "      <td>...</td>\n",
       "      <td>...</td>\n",
       "      <td>...</td>\n",
       "      <td>...</td>\n",
       "      <td>...</td>\n",
       "      <td>...</td>\n",
       "      <td>...</td>\n",
       "      <td>...</td>\n",
       "      <td>...</td>\n",
       "      <td>...</td>\n",
       "      <td>...</td>\n",
       "      <td>...</td>\n",
       "      <td>...</td>\n",
       "      <td>...</td>\n",
       "      <td>...</td>\n",
       "      <td>...</td>\n",
       "      <td>...</td>\n",
       "      <td>...</td>\n",
       "      <td>...</td>\n",
       "      <td>...</td>\n",
       "      <td>...</td>\n",
       "      <td>...</td>\n",
       "      <td>...</td>\n",
       "      <td>...</td>\n",
       "      <td>...</td>\n",
       "      <td>...</td>\n",
       "      <td>...</td>\n",
       "      <td>...</td>\n",
       "    </tr>\n",
       "    <tr>\n",
       "      <th>804679</th>\n",
       "      <td>Social</td>\n",
       "      <td>20180421</td>\n",
       "      <td>9084225574121020383</td>\n",
       "      <td>9084225574121020383_1524358436</td>\n",
       "      <td>Not Socially Engaged</td>\n",
       "      <td>1524358436</td>\n",
       "      <td>2</td>\n",
       "      <td>1524358436</td>\n",
       "      <td>Edge</td>\n",
       "      <td>not available in demo dataset</td>\n",
       "      <td>not available in demo dataset</td>\n",
       "      <td>Windows</td>\n",
       "      <td>not available in demo dataset</td>\n",
       "      <td>False</td>\n",
       "      <td>not available in demo dataset</td>\n",
       "      <td>not available in demo dataset</td>\n",
       "      <td>not available in demo dataset</td>\n",
       "      <td>not available in demo dataset</td>\n",
       "      <td>not available in demo dataset</td>\n",
       "      <td>not available in demo dataset</td>\n",
       "      <td>not available in demo dataset</td>\n",
       "      <td>not available in demo dataset</td>\n",
       "      <td>not available in demo dataset</td>\n",
       "      <td>desktop</td>\n",
       "      <td>Americas</td>\n",
       "      <td>Northern America</td>\n",
       "      <td>United States</td>\n",
       "      <td>Illinois</td>\n",
       "      <td>Chicago IL</td>\n",
       "      <td>Chicago</td>\n",
       "      <td>not available in demo dataset</td>\n",
       "      <td>(not set)</td>\n",
       "      <td>not available in demo dataset</td>\n",
       "      <td>not available in demo dataset</td>\n",
       "      <td>not available in demo dataset</td>\n",
       "      <td>1</td>\n",
       "      <td>33</td>\n",
       "      <td>26</td>\n",
       "      <td>NaN</td>\n",
       "      <td>NaN</td>\n",
       "      <td>(not set)</td>\n",
       "      <td>youtube.com</td>\n",
       "      <td>referral</td>\n",
       "      <td>NaN</td>\n",
       "      <td>NaN</td>\n",
       "      <td>not available in demo dataset</td>\n",
       "      <td>NaN</td>\n",
       "      <td>NaN</td>\n",
       "      <td>NaN</td>\n",
       "      <td>NaN</td>\n",
       "      <td>NaN</td>\n",
       "      <td>/intl/en/yt/about/</td>\n",
       "      <td>NaN</td>\n",
       "    </tr>\n",
       "    <tr>\n",
       "      <th>804680</th>\n",
       "      <td>Social</td>\n",
       "      <td>20180421</td>\n",
       "      <td>6146210385566305056</td>\n",
       "      <td>6146210385566305056_1524317728</td>\n",
       "      <td>Not Socially Engaged</td>\n",
       "      <td>1524317728</td>\n",
       "      <td>1</td>\n",
       "      <td>1524317728</td>\n",
       "      <td>Chrome</td>\n",
       "      <td>not available in demo dataset</td>\n",
       "      <td>not available in demo dataset</td>\n",
       "      <td>Android</td>\n",
       "      <td>not available in demo dataset</td>\n",
       "      <td>True</td>\n",
       "      <td>not available in demo dataset</td>\n",
       "      <td>not available in demo dataset</td>\n",
       "      <td>not available in demo dataset</td>\n",
       "      <td>not available in demo dataset</td>\n",
       "      <td>not available in demo dataset</td>\n",
       "      <td>not available in demo dataset</td>\n",
       "      <td>not available in demo dataset</td>\n",
       "      <td>not available in demo dataset</td>\n",
       "      <td>not available in demo dataset</td>\n",
       "      <td>mobile</td>\n",
       "      <td>Americas</td>\n",
       "      <td>South America</td>\n",
       "      <td>Uruguay</td>\n",
       "      <td>not available in demo dataset</td>\n",
       "      <td>not available in demo dataset</td>\n",
       "      <td>not available in demo dataset</td>\n",
       "      <td>not available in demo dataset</td>\n",
       "      <td>claro.com.uy</td>\n",
       "      <td>not available in demo dataset</td>\n",
       "      <td>not available in demo dataset</td>\n",
       "      <td>not available in demo dataset</td>\n",
       "      <td>1</td>\n",
       "      <td>36</td>\n",
       "      <td>34</td>\n",
       "      <td>1</td>\n",
       "      <td>NaN</td>\n",
       "      <td>(not set)</td>\n",
       "      <td>youtube.com</td>\n",
       "      <td>referral</td>\n",
       "      <td>NaN</td>\n",
       "      <td>NaN</td>\n",
       "      <td>not available in demo dataset</td>\n",
       "      <td>NaN</td>\n",
       "      <td>NaN</td>\n",
       "      <td>NaN</td>\n",
       "      <td>NaN</td>\n",
       "      <td>NaN</td>\n",
       "      <td>/yt/lineups/es/index.html</td>\n",
       "      <td>NaN</td>\n",
       "    </tr>\n",
       "    <tr>\n",
       "      <th>804681</th>\n",
       "      <td>Social</td>\n",
       "      <td>20180421</td>\n",
       "      <td>7484543584006767361</td>\n",
       "      <td>7484543584006767361_1524364725</td>\n",
       "      <td>Not Socially Engaged</td>\n",
       "      <td>1524364725</td>\n",
       "      <td>1</td>\n",
       "      <td>1524364725</td>\n",
       "      <td>Safari (in-app)</td>\n",
       "      <td>not available in demo dataset</td>\n",
       "      <td>not available in demo dataset</td>\n",
       "      <td>iOS</td>\n",
       "      <td>not available in demo dataset</td>\n",
       "      <td>True</td>\n",
       "      <td>not available in demo dataset</td>\n",
       "      <td>not available in demo dataset</td>\n",
       "      <td>not available in demo dataset</td>\n",
       "      <td>not available in demo dataset</td>\n",
       "      <td>not available in demo dataset</td>\n",
       "      <td>not available in demo dataset</td>\n",
       "      <td>not available in demo dataset</td>\n",
       "      <td>not available in demo dataset</td>\n",
       "      <td>not available in demo dataset</td>\n",
       "      <td>mobile</td>\n",
       "      <td>Americas</td>\n",
       "      <td>Northern America</td>\n",
       "      <td>Canada</td>\n",
       "      <td>not available in demo dataset</td>\n",
       "      <td>not available in demo dataset</td>\n",
       "      <td>not available in demo dataset</td>\n",
       "      <td>not available in demo dataset</td>\n",
       "      <td>shawcable.net</td>\n",
       "      <td>not available in demo dataset</td>\n",
       "      <td>not available in demo dataset</td>\n",
       "      <td>not available in demo dataset</td>\n",
       "      <td>1</td>\n",
       "      <td>53</td>\n",
       "      <td>35</td>\n",
       "      <td>1</td>\n",
       "      <td>NaN</td>\n",
       "      <td>(not set)</td>\n",
       "      <td>m.facebook.com</td>\n",
       "      <td>referral</td>\n",
       "      <td>NaN</td>\n",
       "      <td>NaN</td>\n",
       "      <td>not available in demo dataset</td>\n",
       "      <td>NaN</td>\n",
       "      <td>NaN</td>\n",
       "      <td>NaN</td>\n",
       "      <td>NaN</td>\n",
       "      <td>NaN</td>\n",
       "      <td>/</td>\n",
       "      <td>NaN</td>\n",
       "    </tr>\n",
       "    <tr>\n",
       "      <th>804682</th>\n",
       "      <td>Social</td>\n",
       "      <td>20180421</td>\n",
       "      <td>2915966035609674201</td>\n",
       "      <td>2915966035609674201_1524330416</td>\n",
       "      <td>Not Socially Engaged</td>\n",
       "      <td>1524330416</td>\n",
       "      <td>1</td>\n",
       "      <td>1524330416</td>\n",
       "      <td>Samsung Internet</td>\n",
       "      <td>not available in demo dataset</td>\n",
       "      <td>not available in demo dataset</td>\n",
       "      <td>Android</td>\n",
       "      <td>not available in demo dataset</td>\n",
       "      <td>True</td>\n",
       "      <td>not available in demo dataset</td>\n",
       "      <td>not available in demo dataset</td>\n",
       "      <td>not available in demo dataset</td>\n",
       "      <td>not available in demo dataset</td>\n",
       "      <td>not available in demo dataset</td>\n",
       "      <td>not available in demo dataset</td>\n",
       "      <td>not available in demo dataset</td>\n",
       "      <td>not available in demo dataset</td>\n",
       "      <td>not available in demo dataset</td>\n",
       "      <td>mobile</td>\n",
       "      <td>Europe</td>\n",
       "      <td>Northern Europe</td>\n",
       "      <td>Ireland</td>\n",
       "      <td>County Dublin</td>\n",
       "      <td>(not set)</td>\n",
       "      <td>Dublin</td>\n",
       "      <td>not available in demo dataset</td>\n",
       "      <td>meteor.ie</td>\n",
       "      <td>not available in demo dataset</td>\n",
       "      <td>not available in demo dataset</td>\n",
       "      <td>not available in demo dataset</td>\n",
       "      <td>1</td>\n",
       "      <td>58</td>\n",
       "      <td>34</td>\n",
       "      <td>1</td>\n",
       "      <td>NaN</td>\n",
       "      <td>(not set)</td>\n",
       "      <td>youtube.com</td>\n",
       "      <td>referral</td>\n",
       "      <td>NaN</td>\n",
       "      <td>NaN</td>\n",
       "      <td>not available in demo dataset</td>\n",
       "      <td>NaN</td>\n",
       "      <td>NaN</td>\n",
       "      <td>NaN</td>\n",
       "      <td>NaN</td>\n",
       "      <td>NaN</td>\n",
       "      <td>/yt/about/policies/</td>\n",
       "      <td>NaN</td>\n",
       "    </tr>\n",
       "    <tr>\n",
       "      <th>804683</th>\n",
       "      <td>Social</td>\n",
       "      <td>20180421</td>\n",
       "      <td>5334918847827785763</td>\n",
       "      <td>5334918847827785763_1524301572</td>\n",
       "      <td>Not Socially Engaged</td>\n",
       "      <td>1524301572</td>\n",
       "      <td>1</td>\n",
       "      <td>1524301572</td>\n",
       "      <td>MRCHROME</td>\n",
       "      <td>not available in demo dataset</td>\n",
       "      <td>not available in demo dataset</td>\n",
       "      <td>Windows</td>\n",
       "      <td>not available in demo dataset</td>\n",
       "      <td>False</td>\n",
       "      <td>not available in demo dataset</td>\n",
       "      <td>not available in demo dataset</td>\n",
       "      <td>not available in demo dataset</td>\n",
       "      <td>not available in demo dataset</td>\n",
       "      <td>not available in demo dataset</td>\n",
       "      <td>not available in demo dataset</td>\n",
       "      <td>not available in demo dataset</td>\n",
       "      <td>not available in demo dataset</td>\n",
       "      <td>not available in demo dataset</td>\n",
       "      <td>desktop</td>\n",
       "      <td>Europe</td>\n",
       "      <td>Eastern Europe</td>\n",
       "      <td>Russia</td>\n",
       "      <td>not available in demo dataset</td>\n",
       "      <td>not available in demo dataset</td>\n",
       "      <td>not available in demo dataset</td>\n",
       "      <td>not available in demo dataset</td>\n",
       "      <td>yota.ru</td>\n",
       "      <td>not available in demo dataset</td>\n",
       "      <td>not available in demo dataset</td>\n",
       "      <td>not available in demo dataset</td>\n",
       "      <td>1</td>\n",
       "      <td>71</td>\n",
       "      <td>38</td>\n",
       "      <td>1</td>\n",
       "      <td>NaN</td>\n",
       "      <td>(not set)</td>\n",
       "      <td>youtube.com</td>\n",
       "      <td>referral</td>\n",
       "      <td>NaN</td>\n",
       "      <td>NaN</td>\n",
       "      <td>not available in demo dataset</td>\n",
       "      <td>NaN</td>\n",
       "      <td>NaN</td>\n",
       "      <td>NaN</td>\n",
       "      <td>NaN</td>\n",
       "      <td>NaN</td>\n",
       "      <td>/yt/music/ru/index.html</td>\n",
       "      <td>NaN</td>\n",
       "    </tr>\n",
       "  </tbody>\n",
       "</table>\n",
       "<p>804684 rows × 53 columns</p>\n",
       "</div>"
      ],
      "text/plain": [
       "       channelGrouping      date        fullVisitorId  \\\n",
       "0       Organic Search  20171016  6167871330617112363   \n",
       "1       Organic Search  20171016  0643697640977915618   \n",
       "2       Organic Search  20171016  6059383810968229466   \n",
       "3       Organic Search  20171016  2376720078563423631   \n",
       "4       Organic Search  20171016  2314544520795440038   \n",
       "...                ...       ...                  ...   \n",
       "804679          Social  20180421  9084225574121020383   \n",
       "804680          Social  20180421  6146210385566305056   \n",
       "804681          Social  20180421  7484543584006767361   \n",
       "804682          Social  20180421  2915966035609674201   \n",
       "804683          Social  20180421  5334918847827785763   \n",
       "\n",
       "                             sessionId  socialEngagementType     visitId  \\\n",
       "0       6167871330617112363_1508151024  Not Socially Engaged  1508151024   \n",
       "1       0643697640977915618_1508175522  Not Socially Engaged  1508175522   \n",
       "2       6059383810968229466_1508143220  Not Socially Engaged  1508143220   \n",
       "3       2376720078563423631_1508193530  Not Socially Engaged  1508193530   \n",
       "4       2314544520795440038_1508217442  Not Socially Engaged  1508217442   \n",
       "...                                ...                   ...         ...   \n",
       "804679  9084225574121020383_1524358436  Not Socially Engaged  1524358436   \n",
       "804680  6146210385566305056_1524317728  Not Socially Engaged  1524317728   \n",
       "804681  7484543584006767361_1524364725  Not Socially Engaged  1524364725   \n",
       "804682  2915966035609674201_1524330416  Not Socially Engaged  1524330416   \n",
       "804683  5334918847827785763_1524301572  Not Socially Engaged  1524301572   \n",
       "\n",
       "        visitNumber  visitStartTime    device.browser  \\\n",
       "0                 2      1508151024            Chrome   \n",
       "1                 1      1508175522            Chrome   \n",
       "2                 1      1508143220            Chrome   \n",
       "3                 1      1508193530            Safari   \n",
       "4                 1      1508217442            Safari   \n",
       "...             ...             ...               ...   \n",
       "804679            2      1524358436              Edge   \n",
       "804680            1      1524317728            Chrome   \n",
       "804681            1      1524364725   Safari (in-app)   \n",
       "804682            1      1524330416  Samsung Internet   \n",
       "804683            1      1524301572          MRCHROME   \n",
       "\n",
       "                device.browserVersion             device.browserSize  \\\n",
       "0       not available in demo dataset  not available in demo dataset   \n",
       "1       not available in demo dataset  not available in demo dataset   \n",
       "2       not available in demo dataset  not available in demo dataset   \n",
       "3       not available in demo dataset  not available in demo dataset   \n",
       "4       not available in demo dataset  not available in demo dataset   \n",
       "...                               ...                            ...   \n",
       "804679  not available in demo dataset  not available in demo dataset   \n",
       "804680  not available in demo dataset  not available in demo dataset   \n",
       "804681  not available in demo dataset  not available in demo dataset   \n",
       "804682  not available in demo dataset  not available in demo dataset   \n",
       "804683  not available in demo dataset  not available in demo dataset   \n",
       "\n",
       "       device.operatingSystem  device.operatingSystemVersion  device.isMobile  \\\n",
       "0                   Macintosh  not available in demo dataset            False   \n",
       "1                     Windows  not available in demo dataset            False   \n",
       "2                   Macintosh  not available in demo dataset            False   \n",
       "3                         iOS  not available in demo dataset             True   \n",
       "4                   Macintosh  not available in demo dataset            False   \n",
       "...                       ...                            ...              ...   \n",
       "804679                Windows  not available in demo dataset            False   \n",
       "804680                Android  not available in demo dataset             True   \n",
       "804681                    iOS  not available in demo dataset             True   \n",
       "804682                Android  not available in demo dataset             True   \n",
       "804683                Windows  not available in demo dataset            False   \n",
       "\n",
       "          device.mobileDeviceBranding       device.mobileDeviceModel  \\\n",
       "0       not available in demo dataset  not available in demo dataset   \n",
       "1       not available in demo dataset  not available in demo dataset   \n",
       "2       not available in demo dataset  not available in demo dataset   \n",
       "3       not available in demo dataset  not available in demo dataset   \n",
       "4       not available in demo dataset  not available in demo dataset   \n",
       "...                               ...                            ...   \n",
       "804679  not available in demo dataset  not available in demo dataset   \n",
       "804680  not available in demo dataset  not available in demo dataset   \n",
       "804681  not available in demo dataset  not available in demo dataset   \n",
       "804682  not available in demo dataset  not available in demo dataset   \n",
       "804683  not available in demo dataset  not available in demo dataset   \n",
       "\n",
       "           device.mobileInputSelector        device.mobileDeviceInfo  \\\n",
       "0       not available in demo dataset  not available in demo dataset   \n",
       "1       not available in demo dataset  not available in demo dataset   \n",
       "2       not available in demo dataset  not available in demo dataset   \n",
       "3       not available in demo dataset  not available in demo dataset   \n",
       "4       not available in demo dataset  not available in demo dataset   \n",
       "...                               ...                            ...   \n",
       "804679  not available in demo dataset  not available in demo dataset   \n",
       "804680  not available in demo dataset  not available in demo dataset   \n",
       "804681  not available in demo dataset  not available in demo dataset   \n",
       "804682  not available in demo dataset  not available in demo dataset   \n",
       "804683  not available in demo dataset  not available in demo dataset   \n",
       "\n",
       "       device.mobileDeviceMarketingName            device.flashVersion  \\\n",
       "0         not available in demo dataset  not available in demo dataset   \n",
       "1         not available in demo dataset  not available in demo dataset   \n",
       "2         not available in demo dataset  not available in demo dataset   \n",
       "3         not available in demo dataset  not available in demo dataset   \n",
       "4         not available in demo dataset  not available in demo dataset   \n",
       "...                                 ...                            ...   \n",
       "804679    not available in demo dataset  not available in demo dataset   \n",
       "804680    not available in demo dataset  not available in demo dataset   \n",
       "804681    not available in demo dataset  not available in demo dataset   \n",
       "804682    not available in demo dataset  not available in demo dataset   \n",
       "804683    not available in demo dataset  not available in demo dataset   \n",
       "\n",
       "                      device.language            device.screenColors  \\\n",
       "0       not available in demo dataset  not available in demo dataset   \n",
       "1       not available in demo dataset  not available in demo dataset   \n",
       "2       not available in demo dataset  not available in demo dataset   \n",
       "3       not available in demo dataset  not available in demo dataset   \n",
       "4       not available in demo dataset  not available in demo dataset   \n",
       "...                               ...                            ...   \n",
       "804679  not available in demo dataset  not available in demo dataset   \n",
       "804680  not available in demo dataset  not available in demo dataset   \n",
       "804681  not available in demo dataset  not available in demo dataset   \n",
       "804682  not available in demo dataset  not available in demo dataset   \n",
       "804683  not available in demo dataset  not available in demo dataset   \n",
       "\n",
       "              device.screenResolution device.deviceCategory  \\\n",
       "0       not available in demo dataset               desktop   \n",
       "1       not available in demo dataset               desktop   \n",
       "2       not available in demo dataset               desktop   \n",
       "3       not available in demo dataset                mobile   \n",
       "4       not available in demo dataset               desktop   \n",
       "...                               ...                   ...   \n",
       "804679  not available in demo dataset               desktop   \n",
       "804680  not available in demo dataset                mobile   \n",
       "804681  not available in demo dataset                mobile   \n",
       "804682  not available in demo dataset                mobile   \n",
       "804683  not available in demo dataset               desktop   \n",
       "\n",
       "       geoNetwork.continent geoNetwork.subContinent geoNetwork.country  \\\n",
       "0                      Asia          Southeast Asia          Singapore   \n",
       "1                    Europe         Southern Europe              Spain   \n",
       "2                    Europe          Western Europe             France   \n",
       "3                  Americas        Northern America      United States   \n",
       "4                  Americas        Northern America      United States   \n",
       "...                     ...                     ...                ...   \n",
       "804679             Americas        Northern America      United States   \n",
       "804680             Americas           South America            Uruguay   \n",
       "804681             Americas        Northern America             Canada   \n",
       "804682               Europe         Northern Europe            Ireland   \n",
       "804683               Europe          Eastern Europe             Russia   \n",
       "\n",
       "                    geoNetwork.region                   geoNetwork.metro  \\\n",
       "0                           (not set)                          (not set)   \n",
       "1                              Aragon                          (not set)   \n",
       "2       not available in demo dataset      not available in demo dataset   \n",
       "3                          California  San Francisco-Oakland-San Jose CA   \n",
       "4                          California  San Francisco-Oakland-San Jose CA   \n",
       "...                               ...                                ...   \n",
       "804679                       Illinois                         Chicago IL   \n",
       "804680  not available in demo dataset      not available in demo dataset   \n",
       "804681  not available in demo dataset      not available in demo dataset   \n",
       "804682                  County Dublin                          (not set)   \n",
       "804683  not available in demo dataset      not available in demo dataset   \n",
       "\n",
       "                      geoNetwork.city              geoNetwork.cityId  \\\n",
       "0                           (not set)  not available in demo dataset   \n",
       "1                            Zaragoza  not available in demo dataset   \n",
       "2       not available in demo dataset  not available in demo dataset   \n",
       "3                       Mountain View  not available in demo dataset   \n",
       "4                            San Jose  not available in demo dataset   \n",
       "...                               ...                            ...   \n",
       "804679                        Chicago  not available in demo dataset   \n",
       "804680  not available in demo dataset  not available in demo dataset   \n",
       "804681  not available in demo dataset  not available in demo dataset   \n",
       "804682                         Dublin  not available in demo dataset   \n",
       "804683  not available in demo dataset  not available in demo dataset   \n",
       "\n",
       "       geoNetwork.networkDomain            geoNetwork.latitude  \\\n",
       "0             myrepublic.com.sg  not available in demo dataset   \n",
       "1                  rima-tde.net  not available in demo dataset   \n",
       "2                       sfr.net  not available in demo dataset   \n",
       "3                     (not set)  not available in demo dataset   \n",
       "4                     (not set)  not available in demo dataset   \n",
       "...                         ...                            ...   \n",
       "804679                (not set)  not available in demo dataset   \n",
       "804680             claro.com.uy  not available in demo dataset   \n",
       "804681            shawcable.net  not available in demo dataset   \n",
       "804682                meteor.ie  not available in demo dataset   \n",
       "804683                  yota.ru  not available in demo dataset   \n",
       "\n",
       "                 geoNetwork.longitude     geoNetwork.networkLocation  \\\n",
       "0       not available in demo dataset  not available in demo dataset   \n",
       "1       not available in demo dataset  not available in demo dataset   \n",
       "2       not available in demo dataset  not available in demo dataset   \n",
       "3       not available in demo dataset  not available in demo dataset   \n",
       "4       not available in demo dataset  not available in demo dataset   \n",
       "...                               ...                            ...   \n",
       "804679  not available in demo dataset  not available in demo dataset   \n",
       "804680  not available in demo dataset  not available in demo dataset   \n",
       "804681  not available in demo dataset  not available in demo dataset   \n",
       "804682  not available in demo dataset  not available in demo dataset   \n",
       "804683  not available in demo dataset  not available in demo dataset   \n",
       "\n",
       "       totals.visits totals.hits totals.pageviews totals.newVisits  \\\n",
       "0                  1           4                4              NaN   \n",
       "1                  1           5                5                1   \n",
       "2                  1           7                7                1   \n",
       "3                  1           8                4                1   \n",
       "4                  1           9                4                1   \n",
       "...              ...         ...              ...              ...   \n",
       "804679             1          33               26              NaN   \n",
       "804680             1          36               34                1   \n",
       "804681             1          53               35                1   \n",
       "804682             1          58               34                1   \n",
       "804683             1          71               38                1   \n",
       "\n",
       "       totals.bounces trafficSource.campaign trafficSource.source  \\\n",
       "0                 NaN              (not set)               google   \n",
       "1                 NaN              (not set)               google   \n",
       "2                 NaN              (not set)               google   \n",
       "3                 NaN              (not set)               google   \n",
       "4                 NaN              (not set)               google   \n",
       "...               ...                    ...                  ...   \n",
       "804679            NaN              (not set)          youtube.com   \n",
       "804680            NaN              (not set)          youtube.com   \n",
       "804681            NaN              (not set)       m.facebook.com   \n",
       "804682            NaN              (not set)          youtube.com   \n",
       "804683            NaN              (not set)          youtube.com   \n",
       "\n",
       "       trafficSource.medium trafficSource.keyword trafficSource.isTrueDirect  \\\n",
       "0                   organic        (not provided)                       True   \n",
       "1                   organic        (not provided)                        NaN   \n",
       "2                   organic        (not provided)                        NaN   \n",
       "3                   organic        (not provided)                        NaN   \n",
       "4                   organic        (not provided)                        NaN   \n",
       "...                     ...                   ...                        ...   \n",
       "804679             referral                   NaN                        NaN   \n",
       "804680             referral                   NaN                        NaN   \n",
       "804681             referral                   NaN                        NaN   \n",
       "804682             referral                   NaN                        NaN   \n",
       "804683             referral                   NaN                        NaN   \n",
       "\n",
       "       trafficSource.adwordsClickInfo.criteriaParameters  \\\n",
       "0                          not available in demo dataset   \n",
       "1                          not available in demo dataset   \n",
       "2                          not available in demo dataset   \n",
       "3                          not available in demo dataset   \n",
       "4                          not available in demo dataset   \n",
       "...                                                  ...   \n",
       "804679                     not available in demo dataset   \n",
       "804680                     not available in demo dataset   \n",
       "804681                     not available in demo dataset   \n",
       "804682                     not available in demo dataset   \n",
       "804683                     not available in demo dataset   \n",
       "\n",
       "       trafficSource.adwordsClickInfo.page  \\\n",
       "0                                      NaN   \n",
       "1                                      NaN   \n",
       "2                                      NaN   \n",
       "3                                      NaN   \n",
       "4                                      NaN   \n",
       "...                                    ...   \n",
       "804679                                 NaN   \n",
       "804680                                 NaN   \n",
       "804681                                 NaN   \n",
       "804682                                 NaN   \n",
       "804683                                 NaN   \n",
       "\n",
       "       trafficSource.adwordsClickInfo.slot  \\\n",
       "0                                      NaN   \n",
       "1                                      NaN   \n",
       "2                                      NaN   \n",
       "3                                      NaN   \n",
       "4                                      NaN   \n",
       "...                                    ...   \n",
       "804679                                 NaN   \n",
       "804680                                 NaN   \n",
       "804681                                 NaN   \n",
       "804682                                 NaN   \n",
       "804683                                 NaN   \n",
       "\n",
       "       trafficSource.adwordsClickInfo.gclId  \\\n",
       "0                                       NaN   \n",
       "1                                       NaN   \n",
       "2                                       NaN   \n",
       "3                                       NaN   \n",
       "4                                       NaN   \n",
       "...                                     ...   \n",
       "804679                                  NaN   \n",
       "804680                                  NaN   \n",
       "804681                                  NaN   \n",
       "804682                                  NaN   \n",
       "804683                                  NaN   \n",
       "\n",
       "       trafficSource.adwordsClickInfo.adNetworkType  \\\n",
       "0                                               NaN   \n",
       "1                                               NaN   \n",
       "2                                               NaN   \n",
       "3                                               NaN   \n",
       "4                                               NaN   \n",
       "...                                             ...   \n",
       "804679                                          NaN   \n",
       "804680                                          NaN   \n",
       "804681                                          NaN   \n",
       "804682                                          NaN   \n",
       "804683                                          NaN   \n",
       "\n",
       "       trafficSource.adwordsClickInfo.isVideoAd trafficSource.referralPath  \\\n",
       "0                                           NaN                        NaN   \n",
       "1                                           NaN                        NaN   \n",
       "2                                           NaN                        NaN   \n",
       "3                                           NaN                        NaN   \n",
       "4                                           NaN                        NaN   \n",
       "...                                         ...                        ...   \n",
       "804679                                      NaN         /intl/en/yt/about/   \n",
       "804680                                      NaN  /yt/lineups/es/index.html   \n",
       "804681                                      NaN                          /   \n",
       "804682                                      NaN        /yt/about/policies/   \n",
       "804683                                      NaN    /yt/music/ru/index.html   \n",
       "\n",
       "       trafficSource.adContent  \n",
       "0                          NaN  \n",
       "1                          NaN  \n",
       "2                          NaN  \n",
       "3                          NaN  \n",
       "4                          NaN  \n",
       "...                        ...  \n",
       "804679                     NaN  \n",
       "804680                     NaN  \n",
       "804681                     NaN  \n",
       "804682                     NaN  \n",
       "804683                     NaN  \n",
       "\n",
       "[804684 rows x 53 columns]"
      ]
     },
     "execution_count": 12,
     "metadata": {},
     "output_type": "execute_result"
    }
   ],
   "source": [
    "test_df"
   ]
  },
  {
   "cell_type": "code",
   "execution_count": 13,
   "id": "982ff7a5",
   "metadata": {},
   "outputs": [
    {
     "data": {
      "text/plain": [
       "['socialEngagementType',\n",
       " 'device.browserVersion',\n",
       " 'device.browserSize',\n",
       " 'device.operatingSystemVersion',\n",
       " 'device.mobileDeviceBranding',\n",
       " 'device.mobileDeviceModel',\n",
       " 'device.mobileInputSelector',\n",
       " 'device.mobileDeviceInfo',\n",
       " 'device.mobileDeviceMarketingName',\n",
       " 'device.flashVersion',\n",
       " 'device.language',\n",
       " 'device.screenColors',\n",
       " 'device.screenResolution',\n",
       " 'geoNetwork.cityId',\n",
       " 'geoNetwork.latitude',\n",
       " 'geoNetwork.longitude',\n",
       " 'geoNetwork.networkLocation',\n",
       " 'totals.visits',\n",
       " 'trafficSource.adwordsClickInfo.criteriaParameters']"
      ]
     },
     "execution_count": 13,
     "metadata": {},
     "output_type": "execute_result"
    }
   ],
   "source": [
    "const_cols = [c for c in train_df.columns if train_df[c].nunique(dropna=False)==1 ]\n",
    "const_cols"
   ]
  },
  {
   "cell_type": "code",
   "execution_count": 11,
   "id": "488a44c2",
   "metadata": {},
   "outputs": [
    {
     "data": {
      "text/plain": [
       "1"
      ]
     },
     "execution_count": 11,
     "metadata": {},
     "output_type": "execute_result"
    }
   ],
   "source": [
    "train_df['device.browserSize'].nunique()"
   ]
  },
  {
   "cell_type": "code",
   "execution_count": 17,
   "id": "a2f82443",
   "metadata": {},
   "outputs": [
    {
     "data": {
      "image/png": "[encoded data removed]",
      "text/plain": [
       "<Figure size 640x480 with 1 Axes>"
      ]
     },
     "metadata": {},
     "output_type": "display_data"
    }
   ],
   "source": [
    "import matplotlib.pyplot as plt\n",
    "\n",
    "# Example data\n",
    "categories = ['Category A', 'Category B', 'Category C', 'Category D']\n",
    "values = [4, 7, 2, 5]\n",
    "\n",
    "# Creating the horizontal bar chart\n",
    "plt.barh(categories, values)\n",
    "\n",
    "# Adding labels and title\n",
    "plt.xlabel('Values')\n",
    "plt.ylabel('Categories')\n",
    "plt.title('Horizontal Bar Chart Example')\n",
    "\n",
    "# Display the plot\n",
    "plt.show()"
   ]
  },
  {
   "cell_type": "code",
   "execution_count": 23,
   "id": "56c99dd6",
   "metadata": {},
   "outputs": [
    {
     "data": {
      "text/html": [
       "<div>\n",
       "<style scoped>\n",
       "    .dataframe tbody tr th:only-of-type {\n",
       "        vertical-align: middle;\n",
       "    }\n",
       "\n",
       "    .dataframe tbody tr th {\n",
       "        vertical-align: top;\n",
       "    }\n",
       "\n",
       "    .dataframe thead th {\n",
       "        text-align: right;\n",
       "    }\n",
       "</style>\n",
       "<table border=\"1\" class=\"dataframe\">\n",
       "  <thead>\n",
       "    <tr style=\"text-align: right;\">\n",
       "      <th></th>\n",
       "      <th>count</th>\n",
       "      <th>count of non-zero revenue</th>\n",
       "      <th>mean</th>\n",
       "    </tr>\n",
       "    <tr>\n",
       "      <th>device.browser</th>\n",
       "      <th></th>\n",
       "      <th></th>\n",
       "      <th></th>\n",
       "    </tr>\n",
       "  </thead>\n",
       "  <tbody>\n",
       "    <tr>\n",
       "      <th>Chrome</th>\n",
       "      <td>620364</td>\n",
       "      <td>10353</td>\n",
       "      <td>1.335946e+08</td>\n",
       "    </tr>\n",
       "    <tr>\n",
       "      <th>Safari</th>\n",
       "      <td>182245</td>\n",
       "      <td>780</td>\n",
       "      <td>6.717626e+07</td>\n",
       "    </tr>\n",
       "    <tr>\n",
       "      <th>Firefox</th>\n",
       "      <td>37069</td>\n",
       "      <td>191</td>\n",
       "      <td>4.676247e+08</td>\n",
       "    </tr>\n",
       "    <tr>\n",
       "      <th>Internet Explorer</th>\n",
       "      <td>19375</td>\n",
       "      <td>109</td>\n",
       "      <td>7.573899e+07</td>\n",
       "    </tr>\n",
       "    <tr>\n",
       "      <th>Edge</th>\n",
       "      <td>10205</td>\n",
       "      <td>58</td>\n",
       "      <td>1.117753e+08</td>\n",
       "    </tr>\n",
       "    <tr>\n",
       "      <th>Android Webview</th>\n",
       "      <td>7865</td>\n",
       "      <td>6</td>\n",
       "      <td>1.914167e+07</td>\n",
       "    </tr>\n",
       "    <tr>\n",
       "      <th>Safari (in-app)</th>\n",
       "      <td>6850</td>\n",
       "      <td>12</td>\n",
       "      <td>1.281417e+07</td>\n",
       "    </tr>\n",
       "    <tr>\n",
       "      <th>Opera Mini</th>\n",
       "      <td>6139</td>\n",
       "      <td>0</td>\n",
       "      <td>NaN</td>\n",
       "    </tr>\n",
       "    <tr>\n",
       "      <th>Opera</th>\n",
       "      <td>5643</td>\n",
       "      <td>5</td>\n",
       "      <td>4.307000e+07</td>\n",
       "    </tr>\n",
       "    <tr>\n",
       "      <th>UC Browser</th>\n",
       "      <td>2427</td>\n",
       "      <td>0</td>\n",
       "      <td>NaN</td>\n",
       "    </tr>\n",
       "    <tr>\n",
       "      <th>YaBrowser</th>\n",
       "      <td>2096</td>\n",
       "      <td>0</td>\n",
       "      <td>NaN</td>\n",
       "    </tr>\n",
       "    <tr>\n",
       "      <th>Coc Coc</th>\n",
       "      <td>727</td>\n",
       "      <td>0</td>\n",
       "      <td>NaN</td>\n",
       "    </tr>\n",
       "    <tr>\n",
       "      <th>Amazon Silk</th>\n",
       "      <td>561</td>\n",
       "      <td>1</td>\n",
       "      <td>2.999000e+07</td>\n",
       "    </tr>\n",
       "    <tr>\n",
       "      <th>Android Browser</th>\n",
       "      <td>553</td>\n",
       "      <td>0</td>\n",
       "      <td>NaN</td>\n",
       "    </tr>\n",
       "    <tr>\n",
       "      <th>Mozilla Compatible Agent</th>\n",
       "      <td>374</td>\n",
       "      <td>0</td>\n",
       "      <td>NaN</td>\n",
       "    </tr>\n",
       "    <tr>\n",
       "      <th>MRCHROME</th>\n",
       "      <td>263</td>\n",
       "      <td>0</td>\n",
       "      <td>NaN</td>\n",
       "    </tr>\n",
       "    <tr>\n",
       "      <th>Maxthon</th>\n",
       "      <td>246</td>\n",
       "      <td>0</td>\n",
       "      <td>NaN</td>\n",
       "    </tr>\n",
       "    <tr>\n",
       "      <th>BlackBerry</th>\n",
       "      <td>184</td>\n",
       "      <td>0</td>\n",
       "      <td>NaN</td>\n",
       "    </tr>\n",
       "    <tr>\n",
       "      <th>Nintendo Browser</th>\n",
       "      <td>140</td>\n",
       "      <td>0</td>\n",
       "      <td>NaN</td>\n",
       "    </tr>\n",
       "    <tr>\n",
       "      <th>Puffin</th>\n",
       "      <td>93</td>\n",
       "      <td>0</td>\n",
       "      <td>NaN</td>\n",
       "    </tr>\n",
       "    <tr>\n",
       "      <th>Nokia Browser</th>\n",
       "      <td>67</td>\n",
       "      <td>0</td>\n",
       "      <td>NaN</td>\n",
       "    </tr>\n",
       "    <tr>\n",
       "      <th>Iron</th>\n",
       "      <td>33</td>\n",
       "      <td>0</td>\n",
       "      <td>NaN</td>\n",
       "    </tr>\n",
       "    <tr>\n",
       "      <th>LYF_LS_4002_12</th>\n",
       "      <td>21</td>\n",
       "      <td>0</td>\n",
       "      <td>NaN</td>\n",
       "    </tr>\n",
       "    <tr>\n",
       "      <th>SeaMonkey</th>\n",
       "      <td>15</td>\n",
       "      <td>0</td>\n",
       "      <td>NaN</td>\n",
       "    </tr>\n",
       "    <tr>\n",
       "      <th>Mozilla</th>\n",
       "      <td>11</td>\n",
       "      <td>0</td>\n",
       "      <td>NaN</td>\n",
       "    </tr>\n",
       "    <tr>\n",
       "      <th>Seznam</th>\n",
       "      <td>11</td>\n",
       "      <td>0</td>\n",
       "      <td>NaN</td>\n",
       "    </tr>\n",
       "    <tr>\n",
       "      <th>Apple-iPhone7C2</th>\n",
       "      <td>9</td>\n",
       "      <td>0</td>\n",
       "      <td>NaN</td>\n",
       "    </tr>\n",
       "    <tr>\n",
       "      <th>(not set)</th>\n",
       "      <td>8</td>\n",
       "      <td>0</td>\n",
       "      <td>NaN</td>\n",
       "    </tr>\n",
       "    <tr>\n",
       "      <th>0</th>\n",
       "      <td>7</td>\n",
       "      <td>0</td>\n",
       "      <td>NaN</td>\n",
       "    </tr>\n",
       "    <tr>\n",
       "      <th>Nichrome</th>\n",
       "      <td>7</td>\n",
       "      <td>0</td>\n",
       "      <td>NaN</td>\n",
       "    </tr>\n",
       "    <tr>\n",
       "      <th>Lunascape</th>\n",
       "      <td>5</td>\n",
       "      <td>0</td>\n",
       "      <td>NaN</td>\n",
       "    </tr>\n",
       "    <tr>\n",
       "      <th>osee2unifiedRelease</th>\n",
       "      <td>5</td>\n",
       "      <td>0</td>\n",
       "      <td>NaN</td>\n",
       "    </tr>\n",
       "    <tr>\n",
       "      <th>DASH_JR_3G</th>\n",
       "      <td>4</td>\n",
       "      <td>0</td>\n",
       "      <td>NaN</td>\n",
       "    </tr>\n",
       "    <tr>\n",
       "      <th>LYF_LS_4002_11</th>\n",
       "      <td>3</td>\n",
       "      <td>0</td>\n",
       "      <td>NaN</td>\n",
       "    </tr>\n",
       "    <tr>\n",
       "      <th>ThumbSniper</th>\n",
       "      <td>3</td>\n",
       "      <td>0</td>\n",
       "      <td>NaN</td>\n",
       "    </tr>\n",
       "    <tr>\n",
       "      <th>no-ua</th>\n",
       "      <td>3</td>\n",
       "      <td>0</td>\n",
       "      <td>NaN</td>\n",
       "    </tr>\n",
       "    <tr>\n",
       "      <th>YE</th>\n",
       "      <td>2</td>\n",
       "      <td>0</td>\n",
       "      <td>NaN</td>\n",
       "    </tr>\n",
       "    <tr>\n",
       "      <th>MQQBrowser</th>\n",
       "      <td>2</td>\n",
       "      <td>0</td>\n",
       "      <td>NaN</td>\n",
       "    </tr>\n",
       "    <tr>\n",
       "      <th>NokiaE52-1</th>\n",
       "      <td>2</td>\n",
       "      <td>0</td>\n",
       "      <td>NaN</td>\n",
       "    </tr>\n",
       "    <tr>\n",
       "      <th>Android Runtime</th>\n",
       "      <td>2</td>\n",
       "      <td>0</td>\n",
       "      <td>NaN</td>\n",
       "    </tr>\n",
       "    <tr>\n",
       "      <th>Reddit</th>\n",
       "      <td>1</td>\n",
       "      <td>0</td>\n",
       "      <td>NaN</td>\n",
       "    </tr>\n",
       "    <tr>\n",
       "      <th>M5</th>\n",
       "      <td>1</td>\n",
       "      <td>0</td>\n",
       "      <td>NaN</td>\n",
       "    </tr>\n",
       "    <tr>\n",
       "      <th>Konqueror</th>\n",
       "      <td>1</td>\n",
       "      <td>0</td>\n",
       "      <td>NaN</td>\n",
       "    </tr>\n",
       "    <tr>\n",
       "      <th>IE with Chrome Frame</th>\n",
       "      <td>1</td>\n",
       "      <td>0</td>\n",
       "      <td>NaN</td>\n",
       "    </tr>\n",
       "    <tr>\n",
       "      <th>Hisense M20-M_LTE</th>\n",
       "      <td>1</td>\n",
       "      <td>0</td>\n",
       "      <td>NaN</td>\n",
       "    </tr>\n",
       "    <tr>\n",
       "      <th>TCL P500M</th>\n",
       "      <td>1</td>\n",
       "      <td>0</td>\n",
       "      <td>NaN</td>\n",
       "    </tr>\n",
       "    <tr>\n",
       "      <th>HTC802t_TD</th>\n",
       "      <td>1</td>\n",
       "      <td>0</td>\n",
       "      <td>NaN</td>\n",
       "    </tr>\n",
       "    <tr>\n",
       "      <th>DoCoMo</th>\n",
       "      <td>1</td>\n",
       "      <td>0</td>\n",
       "      <td>NaN</td>\n",
       "    </tr>\n",
       "    <tr>\n",
       "      <th>User Agent</th>\n",
       "      <td>1</td>\n",
       "      <td>0</td>\n",
       "      <td>NaN</td>\n",
       "    </tr>\n",
       "    <tr>\n",
       "      <th>Changa 99695759</th>\n",
       "      <td>1</td>\n",
       "      <td>0</td>\n",
       "      <td>NaN</td>\n",
       "    </tr>\n",
       "    <tr>\n",
       "      <th>CSM Click</th>\n",
       "      <td>1</td>\n",
       "      <td>0</td>\n",
       "      <td>NaN</td>\n",
       "    </tr>\n",
       "    <tr>\n",
       "      <th>[Use default User-agent string] LIVRENPOCHE</th>\n",
       "      <td>1</td>\n",
       "      <td>0</td>\n",
       "      <td>NaN</td>\n",
       "    </tr>\n",
       "    <tr>\n",
       "      <th>ADM</th>\n",
       "      <td>1</td>\n",
       "      <td>0</td>\n",
       "      <td>NaN</td>\n",
       "    </tr>\n",
       "    <tr>\n",
       "      <th>subjectAgent: NoticiasBoom</th>\n",
       "      <td>1</td>\n",
       "      <td>0</td>\n",
       "      <td>NaN</td>\n",
       "    </tr>\n",
       "  </tbody>\n",
       "</table>\n",
       "</div>"
      ],
      "text/plain": [
       "                                              count  \\\n",
       "device.browser                                        \n",
       "Chrome                                       620364   \n",
       "Safari                                       182245   \n",
       "Firefox                                       37069   \n",
       "Internet Explorer                             19375   \n",
       "Edge                                          10205   \n",
       "Android Webview                                7865   \n",
       "Safari (in-app)                                6850   \n",
       "Opera Mini                                     6139   \n",
       "Opera                                          5643   \n",
       "UC Browser                                     2427   \n",
       "YaBrowser                                      2096   \n",
       "Coc Coc                                         727   \n",
       "Amazon Silk                                     561   \n",
       "Android Browser                                 553   \n",
       "Mozilla Compatible Agent                        374   \n",
       "MRCHROME                                        263   \n",
       "Maxthon                                         246   \n",
       "BlackBerry                                      184   \n",
       "Nintendo Browser                                140   \n",
       "Puffin                                           93   \n",
       "Nokia Browser                                    67   \n",
       "Iron                                             33   \n",
       "LYF_LS_4002_12                                   21   \n",
       "SeaMonkey                                        15   \n",
       "Mozilla                                          11   \n",
       "Seznam                                           11   \n",
       "Apple-iPhone7C2                                   9   \n",
       "(not set)                                         8   \n",
       "0                                                 7   \n",
       "Nichrome                                          7   \n",
       "Lunascape                                         5   \n",
       "osee2unifiedRelease                               5   \n",
       "DASH_JR_3G                                        4   \n",
       "LYF_LS_4002_11                                    3   \n",
       "ThumbSniper                                       3   \n",
       "no-ua                                             3   \n",
       "YE                                                2   \n",
       "MQQBrowser                                        2   \n",
       "NokiaE52-1                                        2   \n",
       "Android Runtime                                   2   \n",
       "Reddit                                            1   \n",
       "M5                                                1   \n",
       "Konqueror                                         1   \n",
       "IE with Chrome Frame                              1   \n",
       "Hisense M20-M_LTE                                 1   \n",
       "TCL P500M                                         1   \n",
       "HTC802t_TD                                        1   \n",
       "DoCoMo                                            1   \n",
       "User Agent                                        1   \n",
       "Changa 99695759                                   1   \n",
       "CSM Click                                         1   \n",
       "[Use default User-agent string] LIVRENPOCHE       1   \n",
       "ADM                                               1   \n",
       "subjectAgent: NoticiasBoom                        1   \n",
       "\n",
       "                                             count of non-zero revenue  \\\n",
       "device.browser                                                           \n",
       "Chrome                                                           10353   \n",
       "Safari                                                             780   \n",
       "Firefox                                                            191   \n",
       "Internet Explorer                                                  109   \n",
       "Edge                                                                58   \n",
       "Android Webview                                                      6   \n",
       "Safari (in-app)                                                     12   \n",
       "Opera Mini                                                           0   \n",
       "Opera                                                                5   \n",
       "UC Browser                                                           0   \n",
       "YaBrowser                                                            0   \n",
       "Coc Coc                                                              0   \n",
       "Amazon Silk                                                          1   \n",
       "Android Browser                                                      0   \n",
       "Mozilla Compatible Agent                                             0   \n",
       "MRCHROME                                                             0   \n",
       "Maxthon                                                              0   \n",
       "BlackBerry                                                           0   \n",
       "Nintendo Browser                                                     0   \n",
       "Puffin                                                               0   \n",
       "Nokia Browser                                                        0   \n",
       "Iron                                                                 0   \n",
       "LYF_LS_4002_12                                                       0   \n",
       "SeaMonkey                                                            0   \n",
       "Mozilla                                                              0   \n",
       "Seznam                                                               0   \n",
       "Apple-iPhone7C2                                                      0   \n",
       "(not set)                                                            0   \n",
       "0                                                                    0   \n",
       "Nichrome                                                             0   \n",
       "Lunascape                                                            0   \n",
       "osee2unifiedRelease                                                  0   \n",
       "DASH_JR_3G                                                           0   \n",
       "LYF_LS_4002_11                                                       0   \n",
       "ThumbSniper                                                          0   \n",
       "no-ua                                                                0   \n",
       "YE                                                                   0   \n",
       "MQQBrowser                                                           0   \n",
       "NokiaE52-1                                                           0   \n",
       "Android Runtime                                                      0   \n",
       "Reddit                                                               0   \n",
       "M5                                                                   0   \n",
       "Konqueror                                                            0   \n",
       "IE with Chrome Frame                                                 0   \n",
       "Hisense M20-M_LTE                                                    0   \n",
       "TCL P500M                                                            0   \n",
       "HTC802t_TD                                                           0   \n",
       "DoCoMo                                                               0   \n",
       "User Agent                                                           0   \n",
       "Changa 99695759                                                      0   \n",
       "CSM Click                                                            0   \n",
       "[Use default User-agent string] LIVRENPOCHE                          0   \n",
       "ADM                                                                  0   \n",
       "subjectAgent: NoticiasBoom                                           0   \n",
       "\n",
       "                                                     mean  \n",
       "device.browser                                             \n",
       "Chrome                                       1.335946e+08  \n",
       "Safari                                       6.717626e+07  \n",
       "Firefox                                      4.676247e+08  \n",
       "Internet Explorer                            7.573899e+07  \n",
       "Edge                                         1.117753e+08  \n",
       "Android Webview                              1.914167e+07  \n",
       "Safari (in-app)                              1.281417e+07  \n",
       "Opera Mini                                            NaN  \n",
       "Opera                                        4.307000e+07  \n",
       "UC Browser                                            NaN  \n",
       "YaBrowser                                             NaN  \n",
       "Coc Coc                                               NaN  \n",
       "Amazon Silk                                  2.999000e+07  \n",
       "Android Browser                                       NaN  \n",
       "Mozilla Compatible Agent                              NaN  \n",
       "MRCHROME                                              NaN  \n",
       "Maxthon                                               NaN  \n",
       "BlackBerry                                            NaN  \n",
       "Nintendo Browser                                      NaN  \n",
       "Puffin                                                NaN  \n",
       "Nokia Browser                                         NaN  \n",
       "Iron                                                  NaN  \n",
       "LYF_LS_4002_12                                        NaN  \n",
       "SeaMonkey                                             NaN  \n",
       "Mozilla                                               NaN  \n",
       "Seznam                                                NaN  \n",
       "Apple-iPhone7C2                                       NaN  \n",
       "(not set)                                             NaN  \n",
       "0                                                     NaN  \n",
       "Nichrome                                              NaN  \n",
       "Lunascape                                             NaN  \n",
       "osee2unifiedRelease                                   NaN  \n",
       "DASH_JR_3G                                            NaN  \n",
       "LYF_LS_4002_11                                        NaN  \n",
       "ThumbSniper                                           NaN  \n",
       "no-ua                                                 NaN  \n",
       "YE                                                    NaN  \n",
       "MQQBrowser                                            NaN  \n",
       "NokiaE52-1                                            NaN  \n",
       "Android Runtime                                       NaN  \n",
       "Reddit                                                NaN  \n",
       "M5                                                    NaN  \n",
       "Konqueror                                             NaN  \n",
       "IE with Chrome Frame                                  NaN  \n",
       "Hisense M20-M_LTE                                     NaN  \n",
       "TCL P500M                                             NaN  \n",
       "HTC802t_TD                                            NaN  \n",
       "DoCoMo                                                NaN  \n",
       "User Agent                                            NaN  \n",
       "Changa 99695759                                       NaN  \n",
       "CSM Click                                             NaN  \n",
       "[Use default User-agent string] LIVRENPOCHE           NaN  \n",
       "ADM                                                   NaN  \n",
       "subjectAgent: NoticiasBoom                            NaN  "
      ]
     },
     "execution_count": 23,
     "metadata": {},
     "output_type": "execute_result"
    }
   ],
   "source": [
    "cnt_srs = train_df.groupby('device.browser')['totals.transactionRevenue'].agg(['size', 'count', 'mean'])\n",
    "cnt_srs.columns = [\"count\", \"count of non-zero revenue\", \"mean\"]\n",
    "cnt_srs = cnt_srs.sort_values(by=\"count\", ascending=False)"
   ]
  },
  {
   "cell_type": "code",
   "execution_count": null,
   "id": "e54cf6ad",
   "metadata": {},
   "outputs": [],
   "source": [
    "train_df"
   ]
  },
  {
   "cell_type": "code",
   "execution_count": 24,
   "id": "7a171fa0",
   "metadata": {},
   "outputs": [
    {
     "name": "stderr",
     "output_type": "stream",
     "text": [
      "C:\\Users\\Manoj Kumar\\anaconda3\\lib\\site-packages\\plotly\\tools.py:460: DeprecationWarning:\n",
      "\n",
      "plotly.tools.make_subplots is deprecated, please use plotly.subplots.make_subplots instead\n",
      "\n"
     ]
    },
    {
     "data": {
      "application/vnd.plotly.v1+json": {
       "config": {
        "linkText": "Export to plot.ly",
        "plotlyServerURL": "https://plot.ly",
        "showLink": false
       },
       "data": [
        {
         "marker": {
          "color": "rgba(50, 171, 96, 0.6)"
         },
         "orientation": "h",
         "showlegend": false,
         "type": "bar",
         "x": [
          2427,
          5643,
          6139,
          6850,
          7865,
          10205,
          19375,
          37069,
          182245,
          620364
         ],
         "xaxis": "x",
         "y": [
          "UC Browser",
          "Opera",
          "Opera Mini",
          "Safari (in-app)",
          "Android Webview",
          "Edge",
          "Internet Explorer",
          "Firefox",
          "Safari",
          "Chrome"
         ],
         "yaxis": "y"
        },
        {
         "marker": {
          "color": "rgba(50, 171, 96, 0.6)"
         },
         "orientation": "h",
         "showlegend": false,
         "type": "bar",
         "x": [
          0,
          5,
          0,
          12,
          6,
          58,
          109,
          191,
          780,
          10353
         ],
         "xaxis": "x2",
         "y": [
          "UC Browser",
          "Opera",
          "Opera Mini",
          "Safari (in-app)",
          "Android Webview",
          "Edge",
          "Internet Explorer",
          "Firefox",
          "Safari",
          "Chrome"
         ],
         "yaxis": "y2"
        },
        {
         "marker": {
          "color": "rgba(50, 171, 96, 0.6)"
         },
         "orientation": "h",
         "showlegend": false,
         "type": "bar",
         "x": [
          null,
          43070000,
          null,
          12814166.666666666,
          19141666.666666668,
          111775344.8275862,
          75738990.82568808,
          467624712.04188484,
          67176256.41025642,
          133594606.39428185
         ],
         "xaxis": "x3",
         "y": [
          "UC Browser",
          "Opera",
          "Opera Mini",
          "Safari (in-app)",
          "Android Webview",
          "Edge",
          "Internet Explorer",
          "Firefox",
          "Safari",
          "Chrome"
         ],
         "yaxis": "y3"
        },
        {
         "marker": {
          "color": "rgba(71, 58, 131, 0.8)"
         },
         "orientation": "h",
         "showlegend": false,
         "type": "bar",
         "x": [
          30449,
          208725,
          664479
         ],
         "xaxis": "x4",
         "y": [
          "tablet",
          "mobile",
          "desktop"
         ],
         "yaxis": "y4"
        },
        {
         "marker": {
          "color": "rgba(71, 58, 131, 0.8)"
         },
         "orientation": "h",
         "showlegend": false,
         "type": "bar",
         "x": [
          168,
          852,
          10495
         ],
         "xaxis": "x5",
         "y": [
          "tablet",
          "mobile",
          "desktop"
         ],
         "yaxis": "y5"
        },
        {
         "marker": {
          "color": "rgba(71, 58, 131, 0.8)"
         },
         "orientation": "h",
         "showlegend": false,
         "type": "bar",
         "x": [
          56079404.76190476,
          58434049.295774646,
          141101866.60314435
         ],
         "xaxis": "x6",
         "y": [
          "tablet",
          "mobile",
          "desktop"
         ],
         "yaxis": "y6"
        },
        {
         "marker": {
          "color": "rgba(246, 78, 139, 0.6)"
         },
         "orientation": "h",
         "showlegend": false,
         "type": "bar",
         "x": [
          218,
          280,
          1216,
          4695,
          26337,
          35034,
          107665,
          123892,
          253938,
          350072
         ],
         "xaxis": "x7",
         "y": [
          "BlackBerry",
          "Samsung",
          "Windows Phone",
          "(not set)",
          "Chrome OS",
          "Linux",
          "iOS",
          "Android",
          "Macintosh",
          "Windows"
         ],
         "yaxis": "y7"
        },
        {
         "marker": {
          "color": "rgba(246, 78, 139, 0.6)"
         },
         "orientation": "h",
         "showlegend": false,
         "type": "bar",
         "x": [
          0,
          0,
          1,
          0,
          994,
          782,
          536,
          467,
          6426,
          2309
         ],
         "xaxis": "x8",
         "y": [
          "BlackBerry",
          "Samsung",
          "Windows Phone",
          "(not set)",
          "Chrome OS",
          "Linux",
          "iOS",
          "Android",
          "Macintosh",
          "Windows"
         ],
         "yaxis": "y8"
        },
        {
         "marker": {
          "color": "rgba(246, 78, 139, 0.6)"
         },
         "orientation": "h",
         "showlegend": false,
         "type": "bar",
         "x": [
          null,
          null,
          26400000,
          null,
          185048038.22937626,
          56151406.64961637,
          41356156.71641791,
          77818586.72376874,
          133267318.70525987,
          172071338.24166307
         ],
         "xaxis": "x9",
         "y": [
          "BlackBerry",
          "Samsung",
          "Windows Phone",
          "(not set)",
          "Chrome OS",
          "Linux",
          "iOS",
          "Android",
          "Macintosh",
          "Windows"
         ],
         "yaxis": "y9"
        }
       ],
       "layout": {
        "annotations": [
         {
          "font": {
           "size": 16
          },
          "showarrow": false,
          "text": "Device Browser - Count",
          "x": 0.14444444444444446,
          "xanchor": "center",
          "xref": "paper",
          "y": 1,
          "yanchor": "bottom",
          "yref": "paper"
         },
         {
          "font": {
           "size": 16
          },
          "showarrow": false,
          "text": "Device Browser - Non-zero Revenue Count",
          "x": 0.5,
          "xanchor": "center",
          "xref": "paper",
          "y": 1,
          "yanchor": "bottom",
          "yref": "paper"
         },
         {
          "font": {
           "size": 16
          },
          "showarrow": false,
          "text": "Device Browser - Mean Revenue",
          "x": 0.8555555555555556,
          "xanchor": "center",
          "xref": "paper",
          "y": 1,
          "yanchor": "bottom",
          "yref": "paper"
         },
         {
          "font": {
           "size": 16
          },
          "showarrow": false,
          "text": "Device Category - Count",
          "x": 0.14444444444444446,
          "xanchor": "center",
          "xref": "paper",
          "y": 0.6533333333333333,
          "yanchor": "bottom",
          "yref": "paper"
         },
         {
          "font": {
           "size": 16
          },
          "showarrow": false,
          "text": "Device Category - Non-zero Revenue Count",
          "x": 0.5,
          "xanchor": "center",
          "xref": "paper",
          "y": 0.6533333333333333,
          "yanchor": "bottom",
          "yref": "paper"
         },
         {
          "font": {
           "size": 16
          },
          "showarrow": false,
          "text": "Device Category - Mean Revenue",
          "x": 0.8555555555555556,
          "xanchor": "center",
          "xref": "paper",
          "y": 0.6533333333333333,
          "yanchor": "bottom",
          "yref": "paper"
         },
         {
          "font": {
           "size": 16
          },
          "showarrow": false,
          "text": "Device OS - Count",
          "x": 0.14444444444444446,
          "xanchor": "center",
          "xref": "paper",
          "y": 0.3066666666666667,
          "yanchor": "bottom",
          "yref": "paper"
         },
         {
          "font": {
           "size": 16
          },
          "showarrow": false,
          "text": "Device OS - Non-zero Revenue Count",
          "x": 0.5,
          "xanchor": "center",
          "xref": "paper",
          "y": 0.3066666666666667,
          "yanchor": "bottom",
          "yref": "paper"
         },
         {
          "font": {
           "size": 16
          },
          "showarrow": false,
          "text": "Device OS - Mean Revenue",
          "x": 0.8555555555555556,
          "xanchor": "center",
          "xref": "paper",
          "y": 0.3066666666666667,
          "yanchor": "bottom",
          "yref": "paper"
         }
        ],
        "height": 1200,
        "paper_bgcolor": "rgb(233,233,233)",
        "template": {
         "data": {
          "bar": [
           {
            "error_x": {
             "color": "#2a3f5f"
            },
            "error_y": {
             "color": "#2a3f5f"
            },
            "marker": {
             "line": {
              "color": "#E5ECF6",
              "width": 0.5
             },
             "pattern": {
              "fillmode": "overlay",
              "size": 10,
              "solidity": 0.2
             }
            },
            "type": "bar"
           }
          ],
          "barpolar": [
           {
            "marker": {
             "line": {
              "color": "#E5ECF6",
              "width": 0.5
             },
             "pattern": {
              "fillmode": "overlay",
              "size": 10,
              "solidity": 0.2
             }
            },
            "type": "barpolar"
           }
          ],
          "carpet": [
           {
            "aaxis": {
             "endlinecolor": "#2a3f5f",
             "gridcolor": "white",
             "linecolor": "white",
             "minorgridcolor": "white",
             "startlinecolor": "#2a3f5f"
            },
            "baxis": {
             "endlinecolor": "#2a3f5f",
             "gridcolor": "white",
             "linecolor": "white",
             "minorgridcolor": "white",
             "startlinecolor": "#2a3f5f"
            },
            "type": "carpet"
           }
          ],
          "choropleth": [
           {
            "colorbar": {
             "outlinewidth": 0,
             "ticks": ""
            },
            "type": "choropleth"
           }
          ],
          "contour": [
           {
            "colorbar": {
             "outlinewidth": 0,
             "ticks": ""
            },
            "colorscale": [
             [
              0,
              "#0d0887"
             ],
             [
              0.1111111111111111,
              "#46039f"
             ],
             [
              0.2222222222222222,
              "#7201a8"
             ],
             [
              0.3333333333333333,
              "#9c179e"
             ],
             [
              0.4444444444444444,
              "#bd3786"
             ],
             [
              0.5555555555555556,
              "#d8576b"
             ],
             [
              0.6666666666666666,
              "#ed7953"
             ],
             [
              0.7777777777777778,
              "#fb9f3a"
             ],
             [
              0.8888888888888888,
              "#fdca26"
             ],
             [
              1,
              "#f0f921"
             ]
            ],
            "type": "contour"
           }
          ],
          "contourcarpet": [
           {
            "colorbar": {
             "outlinewidth": 0,
             "ticks": ""
            },
            "type": "contourcarpet"
           }
          ],
          "heatmap": [
           {
            "colorbar": {
             "outlinewidth": 0,
             "ticks": ""
            },
            "colorscale": [
             [
              0,
              "#0d0887"
             ],
             [
              0.1111111111111111,
              "#46039f"
             ],
             [
              0.2222222222222222,
              "#7201a8"
             ],
             [
              0.3333333333333333,
              "#9c179e"
             ],
             [
              0.4444444444444444,
              "#bd3786"
             ],
             [
              0.5555555555555556,
              "#d8576b"
             ],
             [
              0.6666666666666666,
              "#ed7953"
             ],
             [
              0.7777777777777778,
              "#fb9f3a"
             ],
             [
              0.8888888888888888,
              "#fdca26"
             ],
             [
              1,
              "#f0f921"
             ]
            ],
            "type": "heatmap"
           }
          ],
          "heatmapgl": [
           {
            "colorbar": {
             "outlinewidth": 0,
             "ticks": ""
            },
            "colorscale": [
             [
              0,
              "#0d0887"
             ],
             [
              0.1111111111111111,
              "#46039f"
             ],
             [
              0.2222222222222222,
              "#7201a8"
             ],
             [
              0.3333333333333333,
              "#9c179e"
             ],
             [
              0.4444444444444444,
              "#bd3786"
             ],
             [
              0.5555555555555556,
              "#d8576b"
             ],
             [
              0.6666666666666666,
              "#ed7953"
             ],
             [
              0.7777777777777778,
              "#fb9f3a"
             ],
             [
              0.8888888888888888,
              "#fdca26"
             ],
             [
              1,
              "#f0f921"
             ]
            ],
            "type": "heatmapgl"
           }
          ],
          "histogram": [
           {
            "marker": {
             "pattern": {
              "fillmode": "overlay",
              "size": 10,
              "solidity": 0.2
             }
            },
            "type": "histogram"
           }
          ],
          "histogram2d": [
           {
            "colorbar": {
             "outlinewidth": 0,
             "ticks": ""
            },
            "colorscale": [
             [
              0,
              "#0d0887"
             ],
             [
              0.1111111111111111,
              "#46039f"
             ],
             [
              0.2222222222222222,
              "#7201a8"
             ],
             [
              0.3333333333333333,
              "#9c179e"
             ],
             [
              0.4444444444444444,
              "#bd3786"
             ],
             [
              0.5555555555555556,
              "#d8576b"
             ],
             [
              0.6666666666666666,
              "#ed7953"
             ],
             [
              0.7777777777777778,
              "#fb9f3a"
             ],
             [
              0.8888888888888888,
              "#fdca26"
             ],
             [
              1,
              "#f0f921"
             ]
            ],
            "type": "histogram2d"
           }
          ],
          "histogram2dcontour": [
           {
            "colorbar": {
             "outlinewidth": 0,
             "ticks": ""
            },
            "colorscale": [
             [
              0,
              "#0d0887"
             ],
             [
              0.1111111111111111,
              "#46039f"
             ],
             [
              0.2222222222222222,
              "#7201a8"
             ],
             [
              0.3333333333333333,
              "#9c179e"
             ],
             [
              0.4444444444444444,
              "#bd3786"
             ],
             [
              0.5555555555555556,
              "#d8576b"
             ],
             [
              0.6666666666666666,
              "#ed7953"
             ],
             [
              0.7777777777777778,
              "#fb9f3a"
             ],
             [
              0.8888888888888888,
              "#fdca26"
             ],
             [
              1,
              "#f0f921"
             ]
            ],
            "type": "histogram2dcontour"
           }
          ],
          "mesh3d": [
           {
            "colorbar": {
             "outlinewidth": 0,
             "ticks": ""
            },
            "type": "mesh3d"
           }
          ],
          "parcoords": [
           {
            "line": {
             "colorbar": {
              "outlinewidth": 0,
              "ticks": ""
             }
            },
            "type": "parcoords"
           }
          ],
          "pie": [
           {
            "automargin": true,
            "type": "pie"
           }
          ],
          "scatter": [
           {
            "fillpattern": {
             "fillmode": "overlay",
             "size": 10,
             "solidity": 0.2
            },
            "type": "scatter"
           }
          ],
          "scatter3d": [
           {
            "line": {
             "colorbar": {
              "outlinewidth": 0,
              "ticks": ""
             }
            },
            "marker": {
             "colorbar": {
              "outlinewidth": 0,
              "ticks": ""
             }
            },
            "type": "scatter3d"
           }
          ],
          "scattercarpet": [
           {
            "marker": {
             "colorbar": {
              "outlinewidth": 0,
              "ticks": ""
             }
            },
            "type": "scattercarpet"
           }
          ],
          "scattergeo": [
           {
            "marker": {
             "colorbar": {
              "outlinewidth": 0,
              "ticks": ""
             }
            },
            "type": "scattergeo"
           }
          ],
          "scattergl": [
           {
            "marker": {
             "colorbar": {
              "outlinewidth": 0,
              "ticks": ""
             }
            },
            "type": "scattergl"
           }
          ],
          "scattermapbox": [
           {
            "marker": {
             "colorbar": {
              "outlinewidth": 0,
              "ticks": ""
             }
            },
            "type": "scattermapbox"
           }
          ],
          "scatterpolar": [
           {
            "marker": {
             "colorbar": {
              "outlinewidth": 0,
              "ticks": ""
             }
            },
            "type": "scatterpolar"
           }
          ],
          "scatterpolargl": [
           {
            "marker": {
             "colorbar": {
              "outlinewidth": 0,
              "ticks": ""
             }
            },
            "type": "scatterpolargl"
           }
          ],
          "scatterternary": [
           {
            "marker": {
             "colorbar": {
              "outlinewidth": 0,
              "ticks": ""
             }
            },
            "type": "scatterternary"
           }
          ],
          "surface": [
           {
            "colorbar": {
             "outlinewidth": 0,
             "ticks": ""
            },
            "colorscale": [
             [
              0,
              "#0d0887"
             ],
             [
              0.1111111111111111,
              "#46039f"
             ],
             [
              0.2222222222222222,
              "#7201a8"
             ],
             [
              0.3333333333333333,
              "#9c179e"
             ],
             [
              0.4444444444444444,
              "#bd3786"
             ],
             [
              0.5555555555555556,
              "#d8576b"
             ],
             [
              0.6666666666666666,
              "#ed7953"
             ],
             [
              0.7777777777777778,
              "#fb9f3a"
             ],
             [
              0.8888888888888888,
              "#fdca26"
             ],
             [
              1,
              "#f0f921"
             ]
            ],
            "type": "surface"
           }
          ],
          "table": [
           {
            "cells": {
             "fill": {
              "color": "#EBF0F8"
             },
             "line": {
              "color": "white"
             }
            },
            "header": {
             "fill": {
              "color": "#C8D4E3"
             },
             "line": {
              "color": "white"
             }
            },
            "type": "table"
           }
          ]
         },
         "layout": {
          "annotationdefaults": {
           "arrowcolor": "#2a3f5f",
           "arrowhead": 0,
           "arrowwidth": 1
          },
          "autotypenumbers": "strict",
          "coloraxis": {
           "colorbar": {
            "outlinewidth": 0,
            "ticks": ""
           }
          },
          "colorscale": {
           "diverging": [
            [
             0,
             "#8e0152"
            ],
            [
             0.1,
             "#c51b7d"
            ],
            [
             0.2,
             "#de77ae"
            ],
            [
             0.3,
             "#f1b6da"
            ],
            [
             0.4,
             "#fde0ef"
            ],
            [
             0.5,
             "#f7f7f7"
            ],
            [
             0.6,
             "#e6f5d0"
            ],
            [
             0.7,
             "#b8e186"
            ],
            [
             0.8,
             "#7fbc41"
            ],
            [
             0.9,
             "#4d9221"
            ],
            [
             1,
             "#276419"
            ]
           ],
           "sequential": [
            [
             0,
             "#0d0887"
            ],
            [
             0.1111111111111111,
             "#46039f"
            ],
            [
             0.2222222222222222,
             "#7201a8"
            ],
            [
             0.3333333333333333,
             "#9c179e"
            ],
            [
             0.4444444444444444,
             "#bd3786"
            ],
            [
             0.5555555555555556,
             "#d8576b"
            ],
            [
             0.6666666666666666,
             "#ed7953"
            ],
            [
             0.7777777777777778,
             "#fb9f3a"
            ],
            [
             0.8888888888888888,
             "#fdca26"
            ],
            [
             1,
             "#f0f921"
            ]
           ],
           "sequentialminus": [
            [
             0,
             "#0d0887"
            ],
            [
             0.1111111111111111,
             "#46039f"
            ],
            [
             0.2222222222222222,
             "#7201a8"
            ],
            [
             0.3333333333333333,
             "#9c179e"
            ],
            [
             0.4444444444444444,
             "#bd3786"
            ],
            [
             0.5555555555555556,
             "#d8576b"
            ],
            [
             0.6666666666666666,
             "#ed7953"
            ],
            [
             0.7777777777777778,
             "#fb9f3a"
            ],
            [
             0.8888888888888888,
             "#fdca26"
            ],
            [
             1,
             "#f0f921"
            ]
           ]
          },
          "colorway": [
           "#636efa",
           "#EF553B",
           "#00cc96",
           "#ab63fa",
           "#FFA15A",
           "#19d3f3",
           "#FF6692",
           "#B6E880",
           "#FF97FF",
           "#FECB52"
          ],
          "font": {
           "color": "#2a3f5f"
          },
          "geo": {
           "bgcolor": "white",
           "lakecolor": "white",
           "landcolor": "#E5ECF6",
           "showlakes": true,
           "showland": true,
           "subunitcolor": "white"
          },
          "hoverlabel": {
           "align": "left"
          },
          "hovermode": "closest",
          "mapbox": {
           "style": "light"
          },
          "paper_bgcolor": "white",
          "plot_bgcolor": "#E5ECF6",
          "polar": {
           "angularaxis": {
            "gridcolor": "white",
            "linecolor": "white",
            "ticks": ""
           },
           "bgcolor": "#E5ECF6",
           "radialaxis": {
            "gridcolor": "white",
            "linecolor": "white",
            "ticks": ""
           }
          },
          "scene": {
           "xaxis": {
            "backgroundcolor": "#E5ECF6",
            "gridcolor": "white",
            "gridwidth": 2,
            "linecolor": "white",
            "showbackground": true,
            "ticks": "",
            "zerolinecolor": "white"
           },
           "yaxis": {
            "backgroundcolor": "#E5ECF6",
            "gridcolor": "white",
            "gridwidth": 2,
            "linecolor": "white",
            "showbackground": true,
            "ticks": "",
            "zerolinecolor": "white"
           },
           "zaxis": {
            "backgroundcolor": "#E5ECF6",
            "gridcolor": "white",
            "gridwidth": 2,
            "linecolor": "white",
            "showbackground": true,
            "ticks": "",
            "zerolinecolor": "white"
           }
          },
          "shapedefaults": {
           "line": {
            "color": "#2a3f5f"
           }
          },
          "ternary": {
           "aaxis": {
            "gridcolor": "white",
            "linecolor": "white",
            "ticks": ""
           },
           "baxis": {
            "gridcolor": "white",
            "linecolor": "white",
            "ticks": ""
           },
           "bgcolor": "#E5ECF6",
           "caxis": {
            "gridcolor": "white",
            "linecolor": "white",
            "ticks": ""
           }
          },
          "title": {
           "x": 0.05
          },
          "xaxis": {
           "automargin": true,
           "gridcolor": "white",
           "linecolor": "white",
           "ticks": "",
           "title": {
            "standoff": 15
           },
           "zerolinecolor": "white",
           "zerolinewidth": 2
          },
          "yaxis": {
           "automargin": true,
           "gridcolor": "white",
           "linecolor": "white",
           "ticks": "",
           "title": {
            "standoff": 15
           },
           "zerolinecolor": "white",
           "zerolinewidth": 2
          }
         }
        },
        "title": {
         "text": "Device Plots"
        },
        "width": 1200,
        "xaxis": {
         "anchor": "y",
         "domain": [
          0,
          0.2888888888888889
         ]
        },
        "xaxis2": {
         "anchor": "y2",
         "domain": [
          0.35555555555555557,
          0.6444444444444445
         ]
        },
        "xaxis3": {
         "anchor": "y3",
         "domain": [
          0.7111111111111111,
          1
         ]
        },
        "xaxis4": {
         "anchor": "y4",
         "domain": [
          0,
          0.2888888888888889
         ]
        },
        "xaxis5": {
         "anchor": "y5",
         "domain": [
          0.35555555555555557,
          0.6444444444444445
         ]
        },
        "xaxis6": {
         "anchor": "y6",
         "domain": [
          0.7111111111111111,
          1
         ]
        },
        "xaxis7": {
         "anchor": "y7",
         "domain": [
          0,
          0.2888888888888889
         ]
        },
        "xaxis8": {
         "anchor": "y8",
         "domain": [
          0.35555555555555557,
          0.6444444444444445
         ]
        },
        "xaxis9": {
         "anchor": "y9",
         "domain": [
          0.7111111111111111,
          1
         ]
        },
        "yaxis": {
         "anchor": "x",
         "domain": [
          0.6933333333333334,
          1
         ]
        },
        "yaxis2": {
         "anchor": "x2",
         "domain": [
          0.6933333333333334,
          1
         ]
        },
        "yaxis3": {
         "anchor": "x3",
         "domain": [
          0.6933333333333334,
          1
         ]
        },
        "yaxis4": {
         "anchor": "x4",
         "domain": [
          0.3466666666666667,
          0.6533333333333333
         ]
        },
        "yaxis5": {
         "anchor": "x5",
         "domain": [
          0.3466666666666667,
          0.6533333333333333
         ]
        },
        "yaxis6": {
         "anchor": "x6",
         "domain": [
          0.3466666666666667,
          0.6533333333333333
         ]
        },
        "yaxis7": {
         "anchor": "x7",
         "domain": [
          0,
          0.3066666666666667
         ]
        },
        "yaxis8": {
         "anchor": "x8",
         "domain": [
          0,
          0.3066666666666667
         ]
        },
        "yaxis9": {
         "anchor": "x9",
         "domain": [
          0,
          0.3066666666666667
         ]
        }
       }
      },
      "text/html": [
       "<div>                            <div id=\"3b41d9eb-7c8b-4589-a608-e43182bef2c1\" class=\"plotly-graph-div\" style=\"height:1200px; width:1200px;\"></div>            <script type=\"text/javascript\">                require([\"plotly\"], function(Plotly) {                    window.PLOTLYENV=window.PLOTLYENV || {};                                    if (document.getElementById(\"3b41d9eb-7c8b-4589-a608-e43182bef2c1\")) {                    Plotly.newPlot(                        \"3b41d9eb-7c8b-4589-a608-e43182bef2c1\",                        [{\"marker\":{\"color\":\"rgba(50, 171, 96, 0.6)\"},\"orientation\":\"h\",\"showlegend\":false,\"x\":[2427,5643,6139,6850,7865,10205,19375,37069,182245,620364],\"xaxis\":\"x\",\"y\":[\"UC Browser\",\"Opera\",\"Opera Mini\",\"Safari (in-app)\",\"Android Webview\",\"Edge\",\"Internet Explorer\",\"Firefox\",\"Safari\",\"Chrome\"],\"yaxis\":\"y\",\"type\":\"bar\"},{\"marker\":{\"color\":\"rgba(50, 171, 96, 0.6)\"},\"orientation\":\"h\",\"showlegend\":false,\"x\":[0,5,0,12,6,58,109,191,780,10353],\"xaxis\":\"x2\",\"y\":[\"UC Browser\",\"Opera\",\"Opera Mini\",\"Safari (in-app)\",\"Android Webview\",\"Edge\",\"Internet Explorer\",\"Firefox\",\"Safari\",\"Chrome\"],\"yaxis\":\"y2\",\"type\":\"bar\"},{\"marker\":{\"color\":\"rgba(50, 171, 96, 0.6)\"},\"orientation\":\"h\",\"showlegend\":false,\"x\":[null,43070000.0,null,12814166.666666666,19141666.666666668,111775344.8275862,75738990.82568808,467624712.04188484,67176256.41025642,133594606.39428185],\"xaxis\":\"x3\",\"y\":[\"UC Browser\",\"Opera\",\"Opera Mini\",\"Safari (in-app)\",\"Android Webview\",\"Edge\",\"Internet Explorer\",\"Firefox\",\"Safari\",\"Chrome\"],\"yaxis\":\"y3\",\"type\":\"bar\"},{\"marker\":{\"color\":\"rgba(71, 58, 131, 0.8)\"},\"orientation\":\"h\",\"showlegend\":false,\"x\":[30449,208725,664479],\"xaxis\":\"x4\",\"y\":[\"tablet\",\"mobile\",\"desktop\"],\"yaxis\":\"y4\",\"type\":\"bar\"},{\"marker\":{\"color\":\"rgba(71, 58, 131, 0.8)\"},\"orientation\":\"h\",\"showlegend\":false,\"x\":[168,852,10495],\"xaxis\":\"x5\",\"y\":[\"tablet\",\"mobile\",\"desktop\"],\"yaxis\":\"y5\",\"type\":\"bar\"},{\"marker\":{\"color\":\"rgba(71, 58, 131, 0.8)\"},\"orientation\":\"h\",\"showlegend\":false,\"x\":[56079404.76190476,58434049.295774646,141101866.60314435],\"xaxis\":\"x6\",\"y\":[\"tablet\",\"mobile\",\"desktop\"],\"yaxis\":\"y6\",\"type\":\"bar\"},{\"marker\":{\"color\":\"rgba(246, 78, 139, 0.6)\"},\"orientation\":\"h\",\"showlegend\":false,\"x\":[218,280,1216,4695,26337,35034,107665,123892,253938,350072],\"xaxis\":\"x7\",\"y\":[\"BlackBerry\",\"Samsung\",\"Windows Phone\",\"(not set)\",\"Chrome OS\",\"Linux\",\"iOS\",\"Android\",\"Macintosh\",\"Windows\"],\"yaxis\":\"y7\",\"type\":\"bar\"},{\"marker\":{\"color\":\"rgba(246, 78, 139, 0.6)\"},\"orientation\":\"h\",\"showlegend\":false,\"x\":[0,0,1,0,994,782,536,467,6426,2309],\"xaxis\":\"x8\",\"y\":[\"BlackBerry\",\"Samsung\",\"Windows Phone\",\"(not set)\",\"Chrome OS\",\"Linux\",\"iOS\",\"Android\",\"Macintosh\",\"Windows\"],\"yaxis\":\"y8\",\"type\":\"bar\"},{\"marker\":{\"color\":\"rgba(246, 78, 139, 0.6)\"},\"orientation\":\"h\",\"showlegend\":false,\"x\":[null,null,26400000.0,null,185048038.22937626,56151406.64961637,41356156.71641791,77818586.72376874,133267318.70525987,172071338.24166307],\"xaxis\":\"x9\",\"y\":[\"BlackBerry\",\"Samsung\",\"Windows Phone\",\"(not set)\",\"Chrome OS\",\"Linux\",\"iOS\",\"Android\",\"Macintosh\",\"Windows\"],\"yaxis\":\"y9\",\"type\":\"bar\"}],                        {\"annotations\":[{\"font\":{\"size\":16},\"showarrow\":false,\"text\":\"Device Browser - Count\",\"x\":0.14444444444444446,\"xanchor\":\"center\",\"xref\":\"paper\",\"y\":1.0,\"yanchor\":\"bottom\",\"yref\":\"paper\"},{\"font\":{\"size\":16},\"showarrow\":false,\"text\":\"Device Browser - Non-zero Revenue Count\",\"x\":0.5,\"xanchor\":\"center\",\"xref\":\"paper\",\"y\":1.0,\"yanchor\":\"bottom\",\"yref\":\"paper\"},{\"font\":{\"size\":16},\"showarrow\":false,\"text\":\"Device Browser - Mean Revenue\",\"x\":0.8555555555555556,\"xanchor\":\"center\",\"xref\":\"paper\",\"y\":1.0,\"yanchor\":\"bottom\",\"yref\":\"paper\"},{\"font\":{\"size\":16},\"showarrow\":false,\"text\":\"Device Category - Count\",\"x\":0.14444444444444446,\"xanchor\":\"center\",\"xref\":\"paper\",\"y\":0.6533333333333333,\"yanchor\":\"bottom\",\"yref\":\"paper\"},{\"font\":{\"size\":16},\"showarrow\":false,\"text\":\"Device Category - Non-zero Revenue Count\",\"x\":0.5,\"xanchor\":\"center\",\"xref\":\"paper\",\"y\":0.6533333333333333,\"yanchor\":\"bottom\",\"yref\":\"paper\"},{\"font\":{\"size\":16},\"showarrow\":false,\"text\":\"Device Category - Mean Revenue\",\"x\":0.8555555555555556,\"xanchor\":\"center\",\"xref\":\"paper\",\"y\":0.6533333333333333,\"yanchor\":\"bottom\",\"yref\":\"paper\"},{\"font\":{\"size\":16},\"showarrow\":false,\"text\":\"Device OS - Count\",\"x\":0.14444444444444446,\"xanchor\":\"center\",\"xref\":\"paper\",\"y\":0.3066666666666667,\"yanchor\":\"bottom\",\"yref\":\"paper\"},{\"font\":{\"size\":16},\"showarrow\":false,\"text\":\"Device OS - Non-zero Revenue Count\",\"x\":0.5,\"xanchor\":\"center\",\"xref\":\"paper\",\"y\":0.3066666666666667,\"yanchor\":\"bottom\",\"yref\":\"paper\"},{\"font\":{\"size\":16},\"showarrow\":false,\"text\":\"Device OS - Mean Revenue\",\"x\":0.8555555555555556,\"xanchor\":\"center\",\"xref\":\"paper\",\"y\":0.3066666666666667,\"yanchor\":\"bottom\",\"yref\":\"paper\"}],\"height\":1200,\"paper_bgcolor\":\"rgb(233,233,233)\",\"template\":{\"data\":{\"barpolar\":[{\"marker\":{\"line\":{\"color\":\"#E5ECF6\",\"width\":0.5},\"pattern\":{\"fillmode\":\"overlay\",\"size\":10,\"solidity\":0.2}},\"type\":\"barpolar\"}],\"bar\":[{\"error_x\":{\"color\":\"#2a3f5f\"},\"error_y\":{\"color\":\"#2a3f5f\"},\"marker\":{\"line\":{\"color\":\"#E5ECF6\",\"width\":0.5},\"pattern\":{\"fillmode\":\"overlay\",\"size\":10,\"solidity\":0.2}},\"type\":\"bar\"}],\"carpet\":[{\"aaxis\":{\"endlinecolor\":\"#2a3f5f\",\"gridcolor\":\"white\",\"linecolor\":\"white\",\"minorgridcolor\":\"white\",\"startlinecolor\":\"#2a3f5f\"},\"baxis\":{\"endlinecolor\":\"#2a3f5f\",\"gridcolor\":\"white\",\"linecolor\":\"white\",\"minorgridcolor\":\"white\",\"startlinecolor\":\"#2a3f5f\"},\"type\":\"carpet\"}],\"choropleth\":[{\"colorbar\":{\"outlinewidth\":0,\"ticks\":\"\"},\"type\":\"choropleth\"}],\"contourcarpet\":[{\"colorbar\":{\"outlinewidth\":0,\"ticks\":\"\"},\"type\":\"contourcarpet\"}],\"contour\":[{\"colorbar\":{\"outlinewidth\":0,\"ticks\":\"\"},\"colorscale\":[[0.0,\"#0d0887\"],[0.1111111111111111,\"#46039f\"],[0.2222222222222222,\"#7201a8\"],[0.3333333333333333,\"#9c179e\"],[0.4444444444444444,\"#bd3786\"],[0.5555555555555556,\"#d8576b\"],[0.6666666666666666,\"#ed7953\"],[0.7777777777777778,\"#fb9f3a\"],[0.8888888888888888,\"#fdca26\"],[1.0,\"#f0f921\"]],\"type\":\"contour\"}],\"heatmapgl\":[{\"colorbar\":{\"outlinewidth\":0,\"ticks\":\"\"},\"colorscale\":[[0.0,\"#0d0887\"],[0.1111111111111111,\"#46039f\"],[0.2222222222222222,\"#7201a8\"],[0.3333333333333333,\"#9c179e\"],[0.4444444444444444,\"#bd3786\"],[0.5555555555555556,\"#d8576b\"],[0.6666666666666666,\"#ed7953\"],[0.7777777777777778,\"#fb9f3a\"],[0.8888888888888888,\"#fdca26\"],[1.0,\"#f0f921\"]],\"type\":\"heatmapgl\"}],\"heatmap\":[{\"colorbar\":{\"outlinewidth\":0,\"ticks\":\"\"},\"colorscale\":[[0.0,\"#0d0887\"],[0.1111111111111111,\"#46039f\"],[0.2222222222222222,\"#7201a8\"],[0.3333333333333333,\"#9c179e\"],[0.4444444444444444,\"#bd3786\"],[0.5555555555555556,\"#d8576b\"],[0.6666666666666666,\"#ed7953\"],[0.7777777777777778,\"#fb9f3a\"],[0.8888888888888888,\"#fdca26\"],[1.0,\"#f0f921\"]],\"type\":\"heatmap\"}],\"histogram2dcontour\":[{\"colorbar\":{\"outlinewidth\":0,\"ticks\":\"\"},\"colorscale\":[[0.0,\"#0d0887\"],[0.1111111111111111,\"#46039f\"],[0.2222222222222222,\"#7201a8\"],[0.3333333333333333,\"#9c179e\"],[0.4444444444444444,\"#bd3786\"],[0.5555555555555556,\"#d8576b\"],[0.6666666666666666,\"#ed7953\"],[0.7777777777777778,\"#fb9f3a\"],[0.8888888888888888,\"#fdca26\"],[1.0,\"#f0f921\"]],\"type\":\"histogram2dcontour\"}],\"histogram2d\":[{\"colorbar\":{\"outlinewidth\":0,\"ticks\":\"\"},\"colorscale\":[[0.0,\"#0d0887\"],[0.1111111111111111,\"#46039f\"],[0.2222222222222222,\"#7201a8\"],[0.3333333333333333,\"#9c179e\"],[0.4444444444444444,\"#bd3786\"],[0.5555555555555556,\"#d8576b\"],[0.6666666666666666,\"#ed7953\"],[0.7777777777777778,\"#fb9f3a\"],[0.8888888888888888,\"#fdca26\"],[1.0,\"#f0f921\"]],\"type\":\"histogram2d\"}],\"histogram\":[{\"marker\":{\"pattern\":{\"fillmode\":\"overlay\",\"size\":10,\"solidity\":0.2}},\"type\":\"histogram\"}],\"mesh3d\":[{\"colorbar\":{\"outlinewidth\":0,\"ticks\":\"\"},\"type\":\"mesh3d\"}],\"parcoords\":[{\"line\":{\"colorbar\":{\"outlinewidth\":0,\"ticks\":\"\"}},\"type\":\"parcoords\"}],\"pie\":[{\"automargin\":true,\"type\":\"pie\"}],\"scatter3d\":[{\"line\":{\"colorbar\":{\"outlinewidth\":0,\"ticks\":\"\"}},\"marker\":{\"colorbar\":{\"outlinewidth\":0,\"ticks\":\"\"}},\"type\":\"scatter3d\"}],\"scattercarpet\":[{\"marker\":{\"colorbar\":{\"outlinewidth\":0,\"ticks\":\"\"}},\"type\":\"scattercarpet\"}],\"scattergeo\":[{\"marker\":{\"colorbar\":{\"outlinewidth\":0,\"ticks\":\"\"}},\"type\":\"scattergeo\"}],\"scattergl\":[{\"marker\":{\"colorbar\":{\"outlinewidth\":0,\"ticks\":\"\"}},\"type\":\"scattergl\"}],\"scattermapbox\":[{\"marker\":{\"colorbar\":{\"outlinewidth\":0,\"ticks\":\"\"}},\"type\":\"scattermapbox\"}],\"scatterpolargl\":[{\"marker\":{\"colorbar\":{\"outlinewidth\":0,\"ticks\":\"\"}},\"type\":\"scatterpolargl\"}],\"scatterpolar\":[{\"marker\":{\"colorbar\":{\"outlinewidth\":0,\"ticks\":\"\"}},\"type\":\"scatterpolar\"}],\"scatter\":[{\"fillpattern\":{\"fillmode\":\"overlay\",\"size\":10,\"solidity\":0.2},\"type\":\"scatter\"}],\"scatterternary\":[{\"marker\":{\"colorbar\":{\"outlinewidth\":0,\"ticks\":\"\"}},\"type\":\"scatterternary\"}],\"surface\":[{\"colorbar\":{\"outlinewidth\":0,\"ticks\":\"\"},\"colorscale\":[[0.0,\"#0d0887\"],[0.1111111111111111,\"#46039f\"],[0.2222222222222222,\"#7201a8\"],[0.3333333333333333,\"#9c179e\"],[0.4444444444444444,\"#bd3786\"],[0.5555555555555556,\"#d8576b\"],[0.6666666666666666,\"#ed7953\"],[0.7777777777777778,\"#fb9f3a\"],[0.8888888888888888,\"#fdca26\"],[1.0,\"#f0f921\"]],\"type\":\"surface\"}],\"table\":[{\"cells\":{\"fill\":{\"color\":\"#EBF0F8\"},\"line\":{\"color\":\"white\"}},\"header\":{\"fill\":{\"color\":\"#C8D4E3\"},\"line\":{\"color\":\"white\"}},\"type\":\"table\"}]},\"layout\":{\"annotationdefaults\":{\"arrowcolor\":\"#2a3f5f\",\"arrowhead\":0,\"arrowwidth\":1},\"autotypenumbers\":\"strict\",\"coloraxis\":{\"colorbar\":{\"outlinewidth\":0,\"ticks\":\"\"}},\"colorscale\":{\"diverging\":[[0,\"#8e0152\"],[0.1,\"#c51b7d\"],[0.2,\"#de77ae\"],[0.3,\"#f1b6da\"],[0.4,\"#fde0ef\"],[0.5,\"#f7f7f7\"],[0.6,\"#e6f5d0\"],[0.7,\"#b8e186\"],[0.8,\"#7fbc41\"],[0.9,\"#4d9221\"],[1,\"#276419\"]],\"sequential\":[[0.0,\"#0d0887\"],[0.1111111111111111,\"#46039f\"],[0.2222222222222222,\"#7201a8\"],[0.3333333333333333,\"#9c179e\"],[0.4444444444444444,\"#bd3786\"],[0.5555555555555556,\"#d8576b\"],[0.6666666666666666,\"#ed7953\"],[0.7777777777777778,\"#fb9f3a\"],[0.8888888888888888,\"#fdca26\"],[1.0,\"#f0f921\"]],\"sequentialminus\":[[0.0,\"#0d0887\"],[0.1111111111111111,\"#46039f\"],[0.2222222222222222,\"#7201a8\"],[0.3333333333333333,\"#9c179e\"],[0.4444444444444444,\"#bd3786\"],[0.5555555555555556,\"#d8576b\"],[0.6666666666666666,\"#ed7953\"],[0.7777777777777778,\"#fb9f3a\"],[0.8888888888888888,\"#fdca26\"],[1.0,\"#f0f921\"]]},\"colorway\":[\"#636efa\",\"#EF553B\",\"#00cc96\",\"#ab63fa\",\"#FFA15A\",\"#19d3f3\",\"#FF6692\",\"#B6E880\",\"#FF97FF\",\"#FECB52\"],\"font\":{\"color\":\"#2a3f5f\"},\"geo\":{\"bgcolor\":\"white\",\"lakecolor\":\"white\",\"landcolor\":\"#E5ECF6\",\"showlakes\":true,\"showland\":true,\"subunitcolor\":\"white\"},\"hoverlabel\":{\"align\":\"left\"},\"hovermode\":\"closest\",\"mapbox\":{\"style\":\"light\"},\"paper_bgcolor\":\"white\",\"plot_bgcolor\":\"#E5ECF6\",\"polar\":{\"angularaxis\":{\"gridcolor\":\"white\",\"linecolor\":\"white\",\"ticks\":\"\"},\"bgcolor\":\"#E5ECF6\",\"radialaxis\":{\"gridcolor\":\"white\",\"linecolor\":\"white\",\"ticks\":\"\"}},\"scene\":{\"xaxis\":{\"backgroundcolor\":\"#E5ECF6\",\"gridcolor\":\"white\",\"gridwidth\":2,\"linecolor\":\"white\",\"showbackground\":true,\"ticks\":\"\",\"zerolinecolor\":\"white\"},\"yaxis\":{\"backgroundcolor\":\"#E5ECF6\",\"gridcolor\":\"white\",\"gridwidth\":2,\"linecolor\":\"white\",\"showbackground\":true,\"ticks\":\"\",\"zerolinecolor\":\"white\"},\"zaxis\":{\"backgroundcolor\":\"#E5ECF6\",\"gridcolor\":\"white\",\"gridwidth\":2,\"linecolor\":\"white\",\"showbackground\":true,\"ticks\":\"\",\"zerolinecolor\":\"white\"}},\"shapedefaults\":{\"line\":{\"color\":\"#2a3f5f\"}},\"ternary\":{\"aaxis\":{\"gridcolor\":\"white\",\"linecolor\":\"white\",\"ticks\":\"\"},\"baxis\":{\"gridcolor\":\"white\",\"linecolor\":\"white\",\"ticks\":\"\"},\"bgcolor\":\"#E5ECF6\",\"caxis\":{\"gridcolor\":\"white\",\"linecolor\":\"white\",\"ticks\":\"\"}},\"title\":{\"x\":0.05},\"xaxis\":{\"automargin\":true,\"gridcolor\":\"white\",\"linecolor\":\"white\",\"ticks\":\"\",\"title\":{\"standoff\":15},\"zerolinecolor\":\"white\",\"zerolinewidth\":2},\"yaxis\":{\"automargin\":true,\"gridcolor\":\"white\",\"linecolor\":\"white\",\"ticks\":\"\",\"title\":{\"standoff\":15},\"zerolinecolor\":\"white\",\"zerolinewidth\":2}}},\"title\":{\"text\":\"Device Plots\"},\"width\":1200,\"xaxis\":{\"anchor\":\"y\",\"domain\":[0.0,0.2888888888888889]},\"yaxis\":{\"anchor\":\"x\",\"domain\":[0.6933333333333334,1.0]},\"xaxis2\":{\"anchor\":\"y2\",\"domain\":[0.35555555555555557,0.6444444444444445]},\"yaxis2\":{\"anchor\":\"x2\",\"domain\":[0.6933333333333334,1.0]},\"xaxis3\":{\"anchor\":\"y3\",\"domain\":[0.7111111111111111,1.0]},\"yaxis3\":{\"anchor\":\"x3\",\"domain\":[0.6933333333333334,1.0]},\"xaxis4\":{\"anchor\":\"y4\",\"domain\":[0.0,0.2888888888888889]},\"yaxis4\":{\"anchor\":\"x4\",\"domain\":[0.3466666666666667,0.6533333333333333]},\"xaxis5\":{\"anchor\":\"y5\",\"domain\":[0.35555555555555557,0.6444444444444445]},\"yaxis5\":{\"anchor\":\"x5\",\"domain\":[0.3466666666666667,0.6533333333333333]},\"xaxis6\":{\"anchor\":\"y6\",\"domain\":[0.7111111111111111,1.0]},\"yaxis6\":{\"anchor\":\"x6\",\"domain\":[0.3466666666666667,0.6533333333333333]},\"xaxis7\":{\"anchor\":\"y7\",\"domain\":[0.0,0.2888888888888889]},\"yaxis7\":{\"anchor\":\"x7\",\"domain\":[0.0,0.3066666666666667]},\"xaxis8\":{\"anchor\":\"y8\",\"domain\":[0.35555555555555557,0.6444444444444445]},\"yaxis8\":{\"anchor\":\"x8\",\"domain\":[0.0,0.3066666666666667]},\"xaxis9\":{\"anchor\":\"y9\",\"domain\":[0.7111111111111111,1.0]},\"yaxis9\":{\"anchor\":\"x9\",\"domain\":[0.0,0.3066666666666667]}},                        {\"responsive\": true}                    ).then(function(){\n",
       "                            \n",
       "var gd = document.getElementById('3b41d9eb-7c8b-4589-a608-e43182bef2c1');\n",
       "var x = new MutationObserver(function (mutations, observer) {{\n",
       "        var display = window.getComputedStyle(gd).display;\n",
       "        if (!display || display === 'none') {{\n",
       "            console.log([gd, 'removed!']);\n",
       "            Plotly.purge(gd);\n",
       "            observer.disconnect();\n",
       "        }}\n",
       "}});\n",
       "\n",
       "// Listen for the removal of the full notebook cells\n",
       "var notebookContainer = gd.closest('#notebook-container');\n",
       "if (notebookContainer) {{\n",
       "    x.observe(notebookContainer, {childList: true});\n",
       "}}\n",
       "\n",
       "// Listen for the clearing of the current output cell\n",
       "var outputEl = gd.closest('.output');\n",
       "if (outputEl) {{\n",
       "    x.observe(outputEl, {childList: true});\n",
       "}}\n",
       "\n",
       "                        })                };                });            </script>        </div>"
      ]
     },
     "metadata": {},
     "output_type": "display_data"
    }
   ],
   "source": [
    "def horizontal_bar_chart(cnt_srs, color):\n",
    "    trace = go.Bar(\n",
    "        y=cnt_srs.index[::-1],\n",
    "        x=cnt_srs.values[::-1],\n",
    "        showlegend=False,\n",
    "        orientation = 'h',\n",
    "        marker=dict(\n",
    "            color=color,\n",
    "        ),\n",
    "    )\n",
    "    return trace\n",
    "# Device Browser\n",
    "cnt_srs = train_df.groupby('device.browser')['totals.transactionRevenue'].agg(['size', 'count', 'mean'])\n",
    "cnt_srs.columns = [\"count\", \"count of non-zero revenue\", \"mean\"]\n",
    "cnt_srs = cnt_srs.sort_values(by=\"count\", ascending=False)\n",
    "trace1 = horizontal_bar_chart(cnt_srs[\"count\"].head(10), 'rgba(50, 171, 96, 0.6)')\n",
    "trace2 = horizontal_bar_chart(cnt_srs[\"count of non-zero revenue\"].head(10), 'rgba(50, 171, 96, 0.6)')\n",
    "trace3 = horizontal_bar_chart(cnt_srs[\"mean\"].head(10), 'rgba(50, 171, 96, 0.6)')\n",
    "\n",
    "# Device Category\n",
    "cnt_srs = train_df.groupby('device.deviceCategory')['totals.transactionRevenue'].agg(['size', 'count', 'mean'])\n",
    "cnt_srs.columns = [\"count\", \"count of non-zero revenue\", \"mean\"]\n",
    "cnt_srs = cnt_srs.sort_values(by=\"count\", ascending=False)\n",
    "trace4 = horizontal_bar_chart(cnt_srs[\"count\"].head(10), 'rgba(71, 58, 131, 0.8)')\n",
    "trace5 = horizontal_bar_chart(cnt_srs[\"count of non-zero revenue\"].head(10), 'rgba(71, 58, 131, 0.8)')\n",
    "trace6 = horizontal_bar_chart(cnt_srs[\"mean\"].head(10), 'rgba(71, 58, 131, 0.8)')\n",
    "\n",
    "# Operating system\n",
    "cnt_srs = train_df.groupby('device.operatingSystem')['totals.transactionRevenue'].agg(['size', 'count', 'mean'])\n",
    "cnt_srs.columns = [\"count\", \"count of non-zero revenue\", \"mean\"]\n",
    "cnt_srs = cnt_srs.sort_values(by=\"count\", ascending=False)\n",
    "trace7 = horizontal_bar_chart(cnt_srs[\"count\"].head(10), 'rgba(246, 78, 139, 0.6)')\n",
    "trace8 = horizontal_bar_chart(cnt_srs[\"count of non-zero revenue\"].head(10),'rgba(246, 78, 139, 0.6)')\n",
    "trace9 = horizontal_bar_chart(cnt_srs[\"mean\"].head(10),'rgba(246, 78, 139, 0.6)')\n",
    "\n",
    "# Creating two subplots\n",
    "fig = tools.make_subplots(rows=3, cols=3, vertical_spacing=0.04, \n",
    "                          subplot_titles=[\"Device Browser - Count\", \"Device Browser - Non-zero Revenue Count\", \"Device Browser - Mean Revenue\",\n",
    "                                          \"Device Category - Count\",  \"Device Category - Non-zero Revenue Count\", \"Device Category - Mean Revenue\", \n",
    "                                          \"Device OS - Count\", \"Device OS - Non-zero Revenue Count\", \"Device OS - Mean Revenue\"])\n",
    "\n",
    "fig.append_trace(trace1, 1, 1)\n",
    "fig.append_trace(trace2, 1, 2)\n",
    "fig.append_trace(trace3, 1, 3)\n",
    "fig.append_trace(trace4, 2, 1)\n",
    "fig.append_trace(trace5, 2, 2)\n",
    "fig.append_trace(trace6, 2, 3)\n",
    "fig.append_trace(trace7, 3, 1)\n",
    "fig.append_trace(trace8, 3, 2)\n",
    "fig.append_trace(trace9, 3, 3)\n",
    "\n",
    "fig['layout'].update(height=1200, width=1200, paper_bgcolor='rgb(233,233,233)', title=\"Device Plots\")\n",
    "py.iplot(fig, filename='device-plots')"
   ]
  },
  {
   "cell_type": "markdown",
   "id": "549e053e",
   "metadata": {},
   "source": [
    "inferences:\n",
    "\n",
    "    Device browser distribution looks similar on both the count and count of non-zero revenue plots\n",
    "    On the device category front, desktop seem to have higher percentage of non-zero revenue counts compared to mobile devices.\n",
    "    In device operating system, though the number of counts is more from windows, the number of counts where revenue is not zero is more for Macintosh.\n",
    "    Chrome OS also has higher percentage of non-zero revenue counts\n",
    "    On the mobile OS side, iOS has more percentage of non-zero revenue counts compared to Android\n"
   ]
  },
  {
   "cell_type": "code",
   "execution_count": 25,
   "id": "27721882",
   "metadata": {},
   "outputs": [
    {
     "name": "stderr",
     "output_type": "stream",
     "text": [
      "C:\\Users\\Manoj Kumar\\anaconda3\\lib\\site-packages\\plotly\\tools.py:460: DeprecationWarning:\n",
      "\n",
      "plotly.tools.make_subplots is deprecated, please use plotly.subplots.make_subplots instead\n",
      "\n"
     ]
    },
    {
     "data": {
      "application/vnd.plotly.v1+json": {
       "config": {
        "linkText": "Export to plot.ly",
        "plotlyServerURL": "https://plot.ly",
        "showLink": false
       },
       "data": [
        {
         "marker": {
          "color": "red"
         },
         "showlegend": false,
         "type": "scatter",
         "x": [
          "2017-08-01",
          "2017-07-31",
          "2017-07-30",
          "2017-07-29",
          "2017-07-28",
          "2017-07-27",
          "2017-07-26",
          "2017-07-25",
          "2017-07-24",
          "2017-07-23",
          "2017-07-22",
          "2017-07-21",
          "2017-07-20",
          "2017-07-19",
          "2017-07-18",
          "2017-07-17",
          "2017-07-16",
          "2017-07-15",
          "2017-07-14",
          "2017-07-13",
          "2017-07-12",
          "2017-07-11",
          "2017-07-10",
          "2017-07-09",
          "2017-07-08",
          "2017-07-07",
          "2017-07-06",
          "2017-07-05",
          "2017-07-04",
          "2017-07-03",
          "2017-07-02",
          "2017-07-01",
          "2017-06-30",
          "2017-06-29",
          "2017-06-28",
          "2017-06-27",
          "2017-06-26",
          "2017-06-25",
          "2017-06-24",
          "2017-06-23",
          "2017-06-22",
          "2017-06-21",
          "2017-06-20",
          "2017-06-19",
          "2017-06-18",
          "2017-06-17",
          "2017-06-16",
          "2017-06-15",
          "2017-06-14",
          "2017-06-13",
          "2017-06-12",
          "2017-06-11",
          "2017-06-10",
          "2017-06-09",
          "2017-06-08",
          "2017-06-07",
          "2017-06-06",
          "2017-06-05",
          "2017-06-04",
          "2017-06-03",
          "2017-06-02",
          "2017-06-01",
          "2017-05-31",
          "2017-05-30",
          "2017-05-29",
          "2017-05-28",
          "2017-05-27",
          "2017-05-26",
          "2017-05-25",
          "2017-05-24",
          "2017-05-23",
          "2017-05-22",
          "2017-05-21",
          "2017-05-20",
          "2017-05-19",
          "2017-05-18",
          "2017-05-17",
          "2017-05-16",
          "2017-05-15",
          "2017-05-14",
          "2017-05-13",
          "2017-05-12",
          "2017-05-11",
          "2017-05-10",
          "2017-05-09",
          "2017-05-08",
          "2017-05-07",
          "2017-05-06",
          "2017-05-05",
          "2017-05-04",
          "2017-05-03",
          "2017-05-02",
          "2017-05-01",
          "2017-04-30",
          "2017-04-29",
          "2017-04-28",
          "2017-04-27",
          "2017-04-26",
          "2017-04-25",
          "2017-04-24",
          "2017-04-23",
          "2017-04-22",
          "2017-04-21",
          "2017-04-20",
          "2017-04-19",
          "2017-04-18",
          "2017-04-17",
          "2017-04-16",
          "2017-04-15",
          "2017-04-14",
          "2017-04-13",
          "2017-04-12",
          "2017-04-11",
          "2017-04-10",
          "2017-04-09",
          "2017-04-08",
          "2017-04-07",
          "2017-04-06",
          "2017-04-05",
          "2017-04-04",
          "2017-04-03",
          "2017-04-02",
          "2017-04-01",
          "2017-03-31",
          "2017-03-30",
          "2017-03-29",
          "2017-03-28",
          "2017-03-27",
          "2017-03-26",
          "2017-03-25",
          "2017-03-24",
          "2017-03-23",
          "2017-03-22",
          "2017-03-21",
          "2017-03-20",
          "2017-03-19",
          "2017-03-18",
          "2017-03-17",
          "2017-03-16",
          "2017-03-15",
          "2017-03-14",
          "2017-03-13",
          "2017-03-12",
          "2017-03-11",
          "2017-03-10",
          "2017-03-09",
          "2017-03-08",
          "2017-03-07",
          "2017-03-06",
          "2017-03-05",
          "2017-03-04",
          "2017-03-03",
          "2017-03-02",
          "2017-03-01",
          "2017-02-28",
          "2017-02-27",
          "2017-02-26",
          "2017-02-25",
          "2017-02-24",
          "2017-02-23",
          "2017-02-22",
          "2017-02-21",
          "2017-02-20",
          "2017-02-19",
          "2017-02-18",
          "2017-02-17",
          "2017-02-16",
          "2017-02-15",
          "2017-02-14",
          "2017-02-13",
          "2017-02-12",
          "2017-02-11",
          "2017-02-10",
          "2017-02-09",
          "2017-02-08",
          "2017-02-07",
          "2017-02-06",
          "2017-02-05",
          "2017-02-04",
          "2017-02-03",
          "2017-02-02",
          "2017-02-01",
          "2017-01-31",
          "2017-01-30",
          "2017-01-29",
          "2017-01-28",
          "2017-01-27",
          "2017-01-26",
          "2017-01-25",
          "2017-01-24",
          "2017-01-23",
          "2017-01-22",
          "2017-01-21",
          "2017-01-20",
          "2017-01-19",
          "2017-01-18",
          "2017-01-17",
          "2017-01-16",
          "2017-01-15",
          "2017-01-14",
          "2017-01-13",
          "2017-01-12",
          "2017-01-11",
          "2017-01-10",
          "2017-01-09",
          "2017-01-08",
          "2017-01-07",
          "2017-01-06",
          "2017-01-05",
          "2017-01-04",
          "2017-01-03",
          "2017-01-02",
          "2017-01-01",
          "2016-12-31",
          "2016-12-30",
          "2016-12-29",
          "2016-12-28",
          "2016-12-27",
          "2016-12-26",
          "2016-12-25",
          "2016-12-24",
          "2016-12-23",
          "2016-12-22",
          "2016-12-21",
          "2016-12-20",
          "2016-12-19",
          "2016-12-18",
          "2016-12-17",
          "2016-12-16",
          "2016-12-15",
          "2016-12-14",
          "2016-12-13",
          "2016-12-12",
          "2016-12-11",
          "2016-12-10",
          "2016-12-09",
          "2016-12-08",
          "2016-12-07",
          "2016-12-06",
          "2016-12-05",
          "2016-12-04",
          "2016-12-03",
          "2016-12-02",
          "2016-12-01",
          "2016-11-30",
          "2016-11-29",
          "2016-11-28",
          "2016-11-27",
          "2016-11-26",
          "2016-11-25",
          "2016-11-24",
          "2016-11-23",
          "2016-11-22",
          "2016-11-21",
          "2016-11-20",
          "2016-11-19",
          "2016-11-18",
          "2016-11-17",
          "2016-11-16",
          "2016-11-15",
          "2016-11-14",
          "2016-11-13",
          "2016-11-12",
          "2016-11-11",
          "2016-11-10",
          "2016-11-09",
          "2016-11-08",
          "2016-11-07",
          "2016-11-06",
          "2016-11-05",
          "2016-11-04",
          "2016-11-03",
          "2016-11-02",
          "2016-11-01",
          "2016-10-31",
          "2016-10-30",
          "2016-10-29",
          "2016-10-28",
          "2016-10-27",
          "2016-10-26",
          "2016-10-25",
          "2016-10-24",
          "2016-10-23",
          "2016-10-22",
          "2016-10-21",
          "2016-10-20",
          "2016-10-19",
          "2016-10-18",
          "2016-10-17",
          "2016-10-16",
          "2016-10-15",
          "2016-10-14",
          "2016-10-13",
          "2016-10-12",
          "2016-10-11",
          "2016-10-10",
          "2016-10-09",
          "2016-10-08",
          "2016-10-07",
          "2016-10-06",
          "2016-10-05",
          "2016-10-04",
          "2016-10-03",
          "2016-10-02",
          "2016-10-01",
          "2016-09-30",
          "2016-09-29",
          "2016-09-28",
          "2016-09-27",
          "2016-09-26",
          "2016-09-25",
          "2016-09-24",
          "2016-09-23",
          "2016-09-22",
          "2016-09-21",
          "2016-09-20",
          "2016-09-19",
          "2016-09-18",
          "2016-09-17",
          "2016-09-16",
          "2016-09-15",
          "2016-09-14",
          "2016-09-13",
          "2016-09-12",
          "2016-09-11",
          "2016-09-10",
          "2016-09-09",
          "2016-09-08",
          "2016-09-07",
          "2016-09-06",
          "2016-09-05",
          "2016-09-04",
          "2016-09-03",
          "2016-09-02",
          "2016-09-01",
          "2016-08-31",
          "2016-08-30",
          "2016-08-29",
          "2016-08-28",
          "2016-08-27",
          "2016-08-26",
          "2016-08-25",
          "2016-08-24",
          "2016-08-23",
          "2016-08-22",
          "2016-08-21",
          "2016-08-20",
          "2016-08-19",
          "2016-08-18",
          "2016-08-17",
          "2016-08-16",
          "2016-08-15",
          "2016-08-14",
          "2016-08-13",
          "2016-08-12",
          "2016-08-11",
          "2016-08-10",
          "2016-08-09",
          "2016-08-08",
          "2016-08-07",
          "2016-08-06",
          "2016-08-05",
          "2016-08-04",
          "2016-08-03",
          "2016-08-02",
          "2016-08-01"
         ],
         "xaxis": "x",
         "y": [
          2556,
          2620,
          1799,
          1597,
          2433,
          2529,
          2725,
          2631,
          2436,
          1966,
          1724,
          2427,
          2668,
          2514,
          2804,
          2671,
          1766,
          1721,
          2382,
          2741,
          2554,
          2635,
          2769,
          1921,
          1859,
          2450,
          2658,
          2885,
          1938,
          2046,
          1895,
          2048,
          2499,
          2709,
          2687,
          2789,
          2226,
          1597,
          1510,
          2095,
          2258,
          2357,
          2143,
          2142,
          1432,
          1391,
          2028,
          2237,
          2517,
          2181,
          2361,
          1555,
          1545,
          1927,
          2280,
          2279,
          2391,
          2493,
          1534,
          1399,
          2190,
          2826,
          2292,
          2199,
          1745,
          1463,
          1502,
          2009,
          2228,
          2406,
          2129,
          2248,
          1645,
          1855,
          2223,
          2715,
          3117,
          3098,
          2360,
          1290,
          1251,
          1932,
          2218,
          2024,
          2108,
          2025,
          1400,
          1383,
          1960,
          2806,
          2588,
          2564,
          2588,
          1594,
          1566,
          2411,
          2838,
          4224,
          2354,
          2263,
          1548,
          1612,
          2210,
          2374,
          2397,
          2391,
          2279,
          1507,
          1506,
          1834,
          2300,
          2341,
          2464,
          2563,
          1766,
          1829,
          2297,
          2647,
          2619,
          2978,
          2383,
          1861,
          2170,
          2268,
          2731,
          2525,
          2577,
          2525,
          1768,
          1712,
          2374,
          2847,
          2582,
          2611,
          2383,
          1776,
          1610,
          2129,
          2409,
          2486,
          2338,
          2537,
          1781,
          1707,
          2194,
          2231,
          2449,
          2586,
          2396,
          1827,
          1753,
          2162,
          2267,
          2390,
          2347,
          2352,
          1643,
          1638,
          2093,
          2364,
          2477,
          2582,
          2374,
          2187,
          1755,
          2785,
          2539,
          2629,
          2379,
          2266,
          1790,
          1761,
          2199,
          2678,
          2570,
          2476,
          2238,
          1522,
          1549,
          2182,
          2372,
          2445,
          2229,
          2392,
          1814,
          1614,
          1969,
          2209,
          2986,
          3618,
          2262,
          1700,
          1685,
          2074,
          2083,
          2245,
          2443,
          1906,
          1576,
          1526,
          1967,
          2203,
          2185,
          2268,
          2308,
          1637,
          1615,
          2210,
          2193,
          2390,
          2403,
          1620,
          1364,
          1211,
          1232,
          1647,
          1763,
          1855,
          1586,
          1386,
          1231,
          1604,
          2100,
          2594,
          3110,
          3222,
          2128,
          2324,
          2956,
          2937,
          3040,
          3166,
          3433,
          2208,
          2207,
          2830,
          3013,
          2840,
          3021,
          4265,
          3220,
          3044,
          3751,
          4200,
          4435,
          4337,
          4807,
          3356,
          3213,
          3759,
          3770,
          3805,
          3942,
          4143,
          3247,
          2984,
          3654,
          4074,
          4334,
          4685,
          4466,
          3144,
          3119,
          3588,
          4055,
          3752,
          3899,
          3832,
          3232,
          3042,
          3596,
          4014,
          3960,
          3728,
          3827,
          3086,
          2964,
          3791,
          4162,
          4375,
          3842,
          4063,
          2971,
          3029,
          3419,
          3755,
          3544,
          3628,
          3397,
          2649,
          2495,
          2838,
          2964,
          2871,
          2850,
          2911,
          2134,
          2114,
          2892,
          3016,
          3770,
          4322,
          2514,
          1724,
          1589,
          2303,
          2597,
          2535,
          2727,
          2776,
          1877,
          1845,
          2381,
          2581,
          2720,
          2760,
          2689,
          1822,
          1853,
          2603,
          2949,
          2652,
          2396,
          2465,
          1725,
          1671,
          2549,
          2628,
          2562,
          2508,
          2125,
          1692,
          1741,
          2613,
          2687,
          3223,
          2675,
          2454,
          1682,
          1654,
          2359,
          2539,
          2627,
          2754,
          2584,
          1730,
          1664,
          2379,
          2725,
          2799,
          2873,
          3043,
          1801,
          1596,
          2619,
          2667,
          2757,
          2851,
          2815,
          1622,
          1663,
          2702,
          3161,
          2890,
          2140,
          1711
         ],
         "yaxis": "y"
        },
        {
         "marker": {
          "color": "blue"
         },
         "showlegend": false,
         "type": "scatter",
         "x": [
          "2017-08-01",
          "2017-07-31",
          "2017-07-30",
          "2017-07-29",
          "2017-07-28",
          "2017-07-27",
          "2017-07-26",
          "2017-07-25",
          "2017-07-24",
          "2017-07-23",
          "2017-07-22",
          "2017-07-21",
          "2017-07-20",
          "2017-07-19",
          "2017-07-18",
          "2017-07-17",
          "2017-07-16",
          "2017-07-15",
          "2017-07-14",
          "2017-07-13",
          "2017-07-12",
          "2017-07-11",
          "2017-07-10",
          "2017-07-09",
          "2017-07-08",
          "2017-07-07",
          "2017-07-06",
          "2017-07-05",
          "2017-07-04",
          "2017-07-03",
          "2017-07-02",
          "2017-07-01",
          "2017-06-30",
          "2017-06-29",
          "2017-06-28",
          "2017-06-27",
          "2017-06-26",
          "2017-06-25",
          "2017-06-24",
          "2017-06-23",
          "2017-06-22",
          "2017-06-21",
          "2017-06-20",
          "2017-06-19",
          "2017-06-18",
          "2017-06-17",
          "2017-06-16",
          "2017-06-15",
          "2017-06-14",
          "2017-06-13",
          "2017-06-12",
          "2017-06-11",
          "2017-06-10",
          "2017-06-09",
          "2017-06-08",
          "2017-06-07",
          "2017-06-06",
          "2017-06-05",
          "2017-06-04",
          "2017-06-03",
          "2017-06-02",
          "2017-06-01",
          "2017-05-31",
          "2017-05-30",
          "2017-05-29",
          "2017-05-28",
          "2017-05-27",
          "2017-05-26",
          "2017-05-25",
          "2017-05-24",
          "2017-05-23",
          "2017-05-22",
          "2017-05-21",
          "2017-05-20",
          "2017-05-19",
          "2017-05-18",
          "2017-05-17",
          "2017-05-16",
          "2017-05-15",
          "2017-05-14",
          "2017-05-13",
          "2017-05-12",
          "2017-05-11",
          "2017-05-10",
          "2017-05-09",
          "2017-05-08",
          "2017-05-07",
          "2017-05-06",
          "2017-05-05",
          "2017-05-04",
          "2017-05-03",
          "2017-05-02",
          "2017-05-01",
          "2017-04-30",
          "2017-04-29",
          "2017-04-28",
          "2017-04-27",
          "2017-04-26",
          "2017-04-25",
          "2017-04-24",
          "2017-04-23",
          "2017-04-22",
          "2017-04-21",
          "2017-04-20",
          "2017-04-19",
          "2017-04-18",
          "2017-04-17",
          "2017-04-16",
          "2017-04-15",
          "2017-04-14",
          "2017-04-13",
          "2017-04-12",
          "2017-04-11",
          "2017-04-10",
          "2017-04-09",
          "2017-04-08",
          "2017-04-07",
          "2017-04-06",
          "2017-04-05",
          "2017-04-04",
          "2017-04-03",
          "2017-04-02",
          "2017-04-01",
          "2017-03-31",
          "2017-03-30",
          "2017-03-29",
          "2017-03-28",
          "2017-03-27",
          "2017-03-26",
          "2017-03-25",
          "2017-03-24",
          "2017-03-23",
          "2017-03-22",
          "2017-03-21",
          "2017-03-20",
          "2017-03-19",
          "2017-03-18",
          "2017-03-17",
          "2017-03-16",
          "2017-03-15",
          "2017-03-14",
          "2017-03-13",
          "2017-03-12",
          "2017-03-11",
          "2017-03-10",
          "2017-03-09",
          "2017-03-08",
          "2017-03-07",
          "2017-03-06",
          "2017-03-05",
          "2017-03-04",
          "2017-03-03",
          "2017-03-02",
          "2017-03-01",
          "2017-02-28",
          "2017-02-27",
          "2017-02-26",
          "2017-02-25",
          "2017-02-24",
          "2017-02-23",
          "2017-02-22",
          "2017-02-21",
          "2017-02-20",
          "2017-02-19",
          "2017-02-18",
          "2017-02-17",
          "2017-02-16",
          "2017-02-15",
          "2017-02-14",
          "2017-02-13",
          "2017-02-12",
          "2017-02-11",
          "2017-02-10",
          "2017-02-09",
          "2017-02-08",
          "2017-02-07",
          "2017-02-06",
          "2017-02-05",
          "2017-02-04",
          "2017-02-03",
          "2017-02-02",
          "2017-02-01",
          "2017-01-31",
          "2017-01-30",
          "2017-01-29",
          "2017-01-28",
          "2017-01-27",
          "2017-01-26",
          "2017-01-25",
          "2017-01-24",
          "2017-01-23",
          "2017-01-22",
          "2017-01-21",
          "2017-01-20",
          "2017-01-19",
          "2017-01-18",
          "2017-01-17",
          "2017-01-16",
          "2017-01-15",
          "2017-01-14",
          "2017-01-13",
          "2017-01-12",
          "2017-01-11",
          "2017-01-10",
          "2017-01-09",
          "2017-01-08",
          "2017-01-07",
          "2017-01-06",
          "2017-01-05",
          "2017-01-04",
          "2017-01-03",
          "2017-01-02",
          "2017-01-01",
          "2016-12-31",
          "2016-12-30",
          "2016-12-29",
          "2016-12-28",
          "2016-12-27",
          "2016-12-26",
          "2016-12-25",
          "2016-12-24",
          "2016-12-23",
          "2016-12-22",
          "2016-12-21",
          "2016-12-20",
          "2016-12-19",
          "2016-12-18",
          "2016-12-17",
          "2016-12-16",
          "2016-12-15",
          "2016-12-14",
          "2016-12-13",
          "2016-12-12",
          "2016-12-11",
          "2016-12-10",
          "2016-12-09",
          "2016-12-08",
          "2016-12-07",
          "2016-12-06",
          "2016-12-05",
          "2016-12-04",
          "2016-12-03",
          "2016-12-02",
          "2016-12-01",
          "2016-11-30",
          "2016-11-29",
          "2016-11-28",
          "2016-11-27",
          "2016-11-26",
          "2016-11-25",
          "2016-11-24",
          "2016-11-23",
          "2016-11-22",
          "2016-11-21",
          "2016-11-20",
          "2016-11-19",
          "2016-11-18",
          "2016-11-17",
          "2016-11-16",
          "2016-11-15",
          "2016-11-14",
          "2016-11-13",
          "2016-11-12",
          "2016-11-11",
          "2016-11-10",
          "2016-11-09",
          "2016-11-08",
          "2016-11-07",
          "2016-11-06",
          "2016-11-05",
          "2016-11-04",
          "2016-11-03",
          "2016-11-02",
          "2016-11-01",
          "2016-10-31",
          "2016-10-30",
          "2016-10-29",
          "2016-10-28",
          "2016-10-27",
          "2016-10-26",
          "2016-10-25",
          "2016-10-24",
          "2016-10-23",
          "2016-10-22",
          "2016-10-21",
          "2016-10-20",
          "2016-10-19",
          "2016-10-18",
          "2016-10-17",
          "2016-10-16",
          "2016-10-15",
          "2016-10-14",
          "2016-10-13",
          "2016-10-12",
          "2016-10-11",
          "2016-10-10",
          "2016-10-09",
          "2016-10-08",
          "2016-10-07",
          "2016-10-06",
          "2016-10-05",
          "2016-10-04",
          "2016-10-03",
          "2016-10-02",
          "2016-10-01",
          "2016-09-30",
          "2016-09-29",
          "2016-09-28",
          "2016-09-27",
          "2016-09-26",
          "2016-09-25",
          "2016-09-24",
          "2016-09-23",
          "2016-09-22",
          "2016-09-21",
          "2016-09-20",
          "2016-09-19",
          "2016-09-18",
          "2016-09-17",
          "2016-09-16",
          "2016-09-15",
          "2016-09-14",
          "2016-09-13",
          "2016-09-12",
          "2016-09-11",
          "2016-09-10",
          "2016-09-09",
          "2016-09-08",
          "2016-09-07",
          "2016-09-06",
          "2016-09-05",
          "2016-09-04",
          "2016-09-03",
          "2016-09-02",
          "2016-09-01",
          "2016-08-31",
          "2016-08-30",
          "2016-08-29",
          "2016-08-28",
          "2016-08-27",
          "2016-08-26",
          "2016-08-25",
          "2016-08-24",
          "2016-08-23",
          "2016-08-22",
          "2016-08-21",
          "2016-08-20",
          "2016-08-19",
          "2016-08-18",
          "2016-08-17",
          "2016-08-16",
          "2016-08-15",
          "2016-08-14",
          "2016-08-13",
          "2016-08-12",
          "2016-08-11",
          "2016-08-10",
          "2016-08-09",
          "2016-08-08",
          "2016-08-07",
          "2016-08-06",
          "2016-08-05",
          "2016-08-04",
          "2016-08-03",
          "2016-08-02",
          "2016-08-01"
         ],
         "xaxis": "x2",
         "y": [
          43,
          61,
          22,
          19,
          42,
          49,
          41,
          36,
          38,
          16,
          17,
          41,
          40,
          56,
          50,
          49,
          27,
          16,
          44,
          62,
          48,
          40,
          44,
          19,
          14,
          38,
          30,
          41,
          7,
          13,
          8,
          3,
          33,
          44,
          31,
          40,
          32,
          19,
          10,
          26,
          36,
          34,
          35,
          39,
          25,
          18,
          36,
          35,
          45,
          48,
          61,
          26,
          12,
          35,
          24,
          37,
          29,
          35,
          15,
          15,
          36,
          35,
          39,
          39,
          18,
          9,
          16,
          31,
          35,
          36,
          32,
          23,
          22,
          30,
          39,
          34,
          38,
          51,
          37,
          10,
          23,
          54,
          44,
          40,
          46,
          48,
          11,
          12,
          35,
          48,
          70,
          67,
          78,
          27,
          20,
          59,
          42,
          42,
          33,
          24,
          12,
          15,
          42,
          39,
          38,
          47,
          37,
          14,
          7,
          39,
          37,
          45,
          29,
          36,
          10,
          18,
          43,
          41,
          32,
          39,
          36,
          13,
          12,
          17,
          38,
          49,
          44,
          46,
          14,
          13,
          30,
          24,
          37,
          33,
          35,
          17,
          17,
          31,
          29,
          31,
          32,
          35,
          11,
          13,
          32,
          28,
          24,
          35,
          30,
          28,
          26,
          25,
          27,
          32,
          29,
          27,
          9,
          12,
          25,
          30,
          34,
          25,
          21,
          15,
          13,
          67,
          32,
          27,
          51,
          30,
          16,
          10,
          24,
          28,
          24,
          23,
          28,
          12,
          14,
          29,
          26,
          27,
          39,
          33,
          19,
          4,
          21,
          27,
          34,
          28,
          27,
          10,
          11,
          18,
          27,
          36,
          32,
          13,
          6,
          11,
          28,
          22,
          17,
          23,
          38,
          11,
          8,
          26,
          41,
          29,
          29,
          18,
          11,
          10,
          13,
          22,
          25,
          17,
          15,
          18,
          19,
          19,
          33,
          35,
          67,
          69,
          38,
          43,
          87,
          72,
          65,
          77,
          83,
          49,
          37,
          72,
          66,
          49,
          70,
          76,
          36,
          22,
          41,
          50,
          57,
          46,
          73,
          18,
          13,
          29,
          15,
          31,
          21,
          39,
          13,
          16,
          35,
          45,
          33,
          32,
          39,
          16,
          15,
          22,
          25,
          29,
          44,
          41,
          21,
          20,
          37,
          34,
          27,
          33,
          28,
          16,
          11,
          30,
          40,
          38,
          21,
          33,
          28,
          14,
          33,
          30,
          29,
          32,
          40,
          20,
          9,
          21,
          30,
          37,
          43,
          38,
          22,
          12,
          39,
          33,
          44,
          35,
          35,
          25,
          6,
          25,
          32,
          39,
          35,
          42,
          18,
          12,
          24,
          33,
          39,
          45,
          36,
          15,
          8,
          39,
          32,
          42,
          21,
          28,
          17,
          13,
          39,
          46,
          33,
          38,
          16,
          9,
          13,
          27,
          43,
          32,
          34,
          43,
          22,
          15,
          39,
          62,
          47,
          57,
          57,
          23,
          21,
          50,
          43,
          40,
          59,
          65,
          23,
          14,
          71,
          45,
          46,
          42,
          34,
          16,
          10,
          41,
          17,
          0,
          17,
          34
         ],
         "yaxis": "y2"
        }
       ],
       "layout": {
        "annotations": [
         {
          "font": {
           "size": 16
          },
          "showarrow": false,
          "text": "Date - Count",
          "x": 0.5,
          "xanchor": "center",
          "xref": "paper",
          "y": 1,
          "yanchor": "bottom",
          "yref": "paper"
         },
         {
          "font": {
           "size": 16
          },
          "showarrow": false,
          "text": "Date - Non-zero Revenue count",
          "x": 0.5,
          "xanchor": "center",
          "xref": "paper",
          "y": 0.46,
          "yanchor": "bottom",
          "yref": "paper"
         }
        ],
        "height": 800,
        "paper_bgcolor": "rgb(233,233,233)",
        "template": {
         "data": {
          "bar": [
           {
            "error_x": {
             "color": "#2a3f5f"
            },
            "error_y": {
             "color": "#2a3f5f"
            },
            "marker": {
             "line": {
              "color": "#E5ECF6",
              "width": 0.5
             },
             "pattern": {
              "fillmode": "overlay",
              "size": 10,
              "solidity": 0.2
             }
            },
            "type": "bar"
           }
          ],
          "barpolar": [
           {
            "marker": {
             "line": {
              "color": "#E5ECF6",
              "width": 0.5
             },
             "pattern": {
              "fillmode": "overlay",
              "size": 10,
              "solidity": 0.2
             }
            },
            "type": "barpolar"
           }
          ],
          "carpet": [
           {
            "aaxis": {
             "endlinecolor": "#2a3f5f",
             "gridcolor": "white",
             "linecolor": "white",
             "minorgridcolor": "white",
             "startlinecolor": "#2a3f5f"
            },
            "baxis": {
             "endlinecolor": "#2a3f5f",
             "gridcolor": "white",
             "linecolor": "white",
             "minorgridcolor": "white",
             "startlinecolor": "#2a3f5f"
            },
            "type": "carpet"
           }
          ],
          "choropleth": [
           {
            "colorbar": {
             "outlinewidth": 0,
             "ticks": ""
            },
            "type": "choropleth"
           }
          ],
          "contour": [
           {
            "colorbar": {
             "outlinewidth": 0,
             "ticks": ""
            },
            "colorscale": [
             [
              0,
              "#0d0887"
             ],
             [
              0.1111111111111111,
              "#46039f"
             ],
             [
              0.2222222222222222,
              "#7201a8"
             ],
             [
              0.3333333333333333,
              "#9c179e"
             ],
             [
              0.4444444444444444,
              "#bd3786"
             ],
             [
              0.5555555555555556,
              "#d8576b"
             ],
             [
              0.6666666666666666,
              "#ed7953"
             ],
             [
              0.7777777777777778,
              "#fb9f3a"
             ],
             [
              0.8888888888888888,
              "#fdca26"
             ],
             [
              1,
              "#f0f921"
             ]
            ],
            "type": "contour"
           }
          ],
          "contourcarpet": [
           {
            "colorbar": {
             "outlinewidth": 0,
             "ticks": ""
            },
            "type": "contourcarpet"
           }
          ],
          "heatmap": [
           {
            "colorbar": {
             "outlinewidth": 0,
             "ticks": ""
            },
            "colorscale": [
             [
              0,
              "#0d0887"
             ],
             [
              0.1111111111111111,
              "#46039f"
             ],
             [
              0.2222222222222222,
              "#7201a8"
             ],
             [
              0.3333333333333333,
              "#9c179e"
             ],
             [
              0.4444444444444444,
              "#bd3786"
             ],
             [
              0.5555555555555556,
              "#d8576b"
             ],
             [
              0.6666666666666666,
              "#ed7953"
             ],
             [
              0.7777777777777778,
              "#fb9f3a"
             ],
             [
              0.8888888888888888,
              "#fdca26"
             ],
             [
              1,
              "#f0f921"
             ]
            ],
            "type": "heatmap"
           }
          ],
          "heatmapgl": [
           {
            "colorbar": {
             "outlinewidth": 0,
             "ticks": ""
            },
            "colorscale": [
             [
              0,
              "#0d0887"
             ],
             [
              0.1111111111111111,
              "#46039f"
             ],
             [
              0.2222222222222222,
              "#7201a8"
             ],
             [
              0.3333333333333333,
              "#9c179e"
             ],
             [
              0.4444444444444444,
              "#bd3786"
             ],
             [
              0.5555555555555556,
              "#d8576b"
             ],
             [
              0.6666666666666666,
              "#ed7953"
             ],
             [
              0.7777777777777778,
              "#fb9f3a"
             ],
             [
              0.8888888888888888,
              "#fdca26"
             ],
             [
              1,
              "#f0f921"
             ]
            ],
            "type": "heatmapgl"
           }
          ],
          "histogram": [
           {
            "marker": {
             "pattern": {
              "fillmode": "overlay",
              "size": 10,
              "solidity": 0.2
             }
            },
            "type": "histogram"
           }
          ],
          "histogram2d": [
           {
            "colorbar": {
             "outlinewidth": 0,
             "ticks": ""
            },
            "colorscale": [
             [
              0,
              "#0d0887"
             ],
             [
              0.1111111111111111,
              "#46039f"
             ],
             [
              0.2222222222222222,
              "#7201a8"
             ],
             [
              0.3333333333333333,
              "#9c179e"
             ],
             [
              0.4444444444444444,
              "#bd3786"
             ],
             [
              0.5555555555555556,
              "#d8576b"
             ],
             [
              0.6666666666666666,
              "#ed7953"
             ],
             [
              0.7777777777777778,
              "#fb9f3a"
             ],
             [
              0.8888888888888888,
              "#fdca26"
             ],
             [
              1,
              "#f0f921"
             ]
            ],
            "type": "histogram2d"
           }
          ],
          "histogram2dcontour": [
           {
            "colorbar": {
             "outlinewidth": 0,
             "ticks": ""
            },
            "colorscale": [
             [
              0,
              "#0d0887"
             ],
             [
              0.1111111111111111,
              "#46039f"
             ],
             [
              0.2222222222222222,
              "#7201a8"
             ],
             [
              0.3333333333333333,
              "#9c179e"
             ],
             [
              0.4444444444444444,
              "#bd3786"
             ],
             [
              0.5555555555555556,
              "#d8576b"
             ],
             [
              0.6666666666666666,
              "#ed7953"
             ],
             [
              0.7777777777777778,
              "#fb9f3a"
             ],
             [
              0.8888888888888888,
              "#fdca26"
             ],
             [
              1,
              "#f0f921"
             ]
            ],
            "type": "histogram2dcontour"
           }
          ],
          "mesh3d": [
           {
            "colorbar": {
             "outlinewidth": 0,
             "ticks": ""
            },
            "type": "mesh3d"
           }
          ],
          "parcoords": [
           {
            "line": {
             "colorbar": {
              "outlinewidth": 0,
              "ticks": ""
             }
            },
            "type": "parcoords"
           }
          ],
          "pie": [
           {
            "automargin": true,
            "type": "pie"
           }
          ],
          "scatter": [
           {
            "fillpattern": {
             "fillmode": "overlay",
             "size": 10,
             "solidity": 0.2
            },
            "type": "scatter"
           }
          ],
          "scatter3d": [
           {
            "line": {
             "colorbar": {
              "outlinewidth": 0,
              "ticks": ""
             }
            },
            "marker": {
             "colorbar": {
              "outlinewidth": 0,
              "ticks": ""
             }
            },
            "type": "scatter3d"
           }
          ],
          "scattercarpet": [
           {
            "marker": {
             "colorbar": {
              "outlinewidth": 0,
              "ticks": ""
             }
            },
            "type": "scattercarpet"
           }
          ],
          "scattergeo": [
           {
            "marker": {
             "colorbar": {
              "outlinewidth": 0,
              "ticks": ""
             }
            },
            "type": "scattergeo"
           }
          ],
          "scattergl": [
           {
            "marker": {
             "colorbar": {
              "outlinewidth": 0,
              "ticks": ""
             }
            },
            "type": "scattergl"
           }
          ],
          "scattermapbox": [
           {
            "marker": {
             "colorbar": {
              "outlinewidth": 0,
              "ticks": ""
             }
            },
            "type": "scattermapbox"
           }
          ],
          "scatterpolar": [
           {
            "marker": {
             "colorbar": {
              "outlinewidth": 0,
              "ticks": ""
             }
            },
            "type": "scatterpolar"
           }
          ],
          "scatterpolargl": [
           {
            "marker": {
             "colorbar": {
              "outlinewidth": 0,
              "ticks": ""
             }
            },
            "type": "scatterpolargl"
           }
          ],
          "scatterternary": [
           {
            "marker": {
             "colorbar": {
              "outlinewidth": 0,
              "ticks": ""
             }
            },
            "type": "scatterternary"
           }
          ],
          "surface": [
           {
            "colorbar": {
             "outlinewidth": 0,
             "ticks": ""
            },
            "colorscale": [
             [
              0,
              "#0d0887"
             ],
             [
              0.1111111111111111,
              "#46039f"
             ],
             [
              0.2222222222222222,
              "#7201a8"
             ],
             [
              0.3333333333333333,
              "#9c179e"
             ],
             [
              0.4444444444444444,
              "#bd3786"
             ],
             [
              0.5555555555555556,
              "#d8576b"
             ],
             [
              0.6666666666666666,
              "#ed7953"
             ],
             [
              0.7777777777777778,
              "#fb9f3a"
             ],
             [
              0.8888888888888888,
              "#fdca26"
             ],
             [
              1,
              "#f0f921"
             ]
            ],
            "type": "surface"
           }
          ],
          "table": [
           {
            "cells": {
             "fill": {
              "color": "#EBF0F8"
             },
             "line": {
              "color": "white"
             }
            },
            "header": {
             "fill": {
              "color": "#C8D4E3"
             },
             "line": {
              "color": "white"
             }
            },
            "type": "table"
           }
          ]
         },
         "layout": {
          "annotationdefaults": {
           "arrowcolor": "#2a3f5f",
           "arrowhead": 0,
           "arrowwidth": 1
          },
          "autotypenumbers": "strict",
          "coloraxis": {
           "colorbar": {
            "outlinewidth": 0,
            "ticks": ""
           }
          },
          "colorscale": {
           "diverging": [
            [
             0,
             "#8e0152"
            ],
            [
             0.1,
             "#c51b7d"
            ],
            [
             0.2,
             "#de77ae"
            ],
            [
             0.3,
             "#f1b6da"
            ],
            [
             0.4,
             "#fde0ef"
            ],
            [
             0.5,
             "#f7f7f7"
            ],
            [
             0.6,
             "#e6f5d0"
            ],
            [
             0.7,
             "#b8e186"
            ],
            [
             0.8,
             "#7fbc41"
            ],
            [
             0.9,
             "#4d9221"
            ],
            [
             1,
             "#276419"
            ]
           ],
           "sequential": [
            [
             0,
             "#0d0887"
            ],
            [
             0.1111111111111111,
             "#46039f"
            ],
            [
             0.2222222222222222,
             "#7201a8"
            ],
            [
             0.3333333333333333,
             "#9c179e"
            ],
            [
             0.4444444444444444,
             "#bd3786"
            ],
            [
             0.5555555555555556,
             "#d8576b"
            ],
            [
             0.6666666666666666,
             "#ed7953"
            ],
            [
             0.7777777777777778,
             "#fb9f3a"
            ],
            [
             0.8888888888888888,
             "#fdca26"
            ],
            [
             1,
             "#f0f921"
            ]
           ],
           "sequentialminus": [
            [
             0,
             "#0d0887"
            ],
            [
             0.1111111111111111,
             "#46039f"
            ],
            [
             0.2222222222222222,
             "#7201a8"
            ],
            [
             0.3333333333333333,
             "#9c179e"
            ],
            [
             0.4444444444444444,
             "#bd3786"
            ],
            [
             0.5555555555555556,
             "#d8576b"
            ],
            [
             0.6666666666666666,
             "#ed7953"
            ],
            [
             0.7777777777777778,
             "#fb9f3a"
            ],
            [
             0.8888888888888888,
             "#fdca26"
            ],
            [
             1,
             "#f0f921"
            ]
           ]
          },
          "colorway": [
           "#636efa",
           "#EF553B",
           "#00cc96",
           "#ab63fa",
           "#FFA15A",
           "#19d3f3",
           "#FF6692",
           "#B6E880",
           "#FF97FF",
           "#FECB52"
          ],
          "font": {
           "color": "#2a3f5f"
          },
          "geo": {
           "bgcolor": "white",
           "lakecolor": "white",
           "landcolor": "#E5ECF6",
           "showlakes": true,
           "showland": true,
           "subunitcolor": "white"
          },
          "hoverlabel": {
           "align": "left"
          },
          "hovermode": "closest",
          "mapbox": {
           "style": "light"
          },
          "paper_bgcolor": "white",
          "plot_bgcolor": "#E5ECF6",
          "polar": {
           "angularaxis": {
            "gridcolor": "white",
            "linecolor": "white",
            "ticks": ""
           },
           "bgcolor": "#E5ECF6",
           "radialaxis": {
            "gridcolor": "white",
            "linecolor": "white",
            "ticks": ""
           }
          },
          "scene": {
           "xaxis": {
            "backgroundcolor": "#E5ECF6",
            "gridcolor": "white",
            "gridwidth": 2,
            "linecolor": "white",
            "showbackground": true,
            "ticks": "",
            "zerolinecolor": "white"
           },
           "yaxis": {
            "backgroundcolor": "#E5ECF6",
            "gridcolor": "white",
            "gridwidth": 2,
            "linecolor": "white",
            "showbackground": true,
            "ticks": "",
            "zerolinecolor": "white"
           },
           "zaxis": {
            "backgroundcolor": "#E5ECF6",
            "gridcolor": "white",
            "gridwidth": 2,
            "linecolor": "white",
            "showbackground": true,
            "ticks": "",
            "zerolinecolor": "white"
           }
          },
          "shapedefaults": {
           "line": {
            "color": "#2a3f5f"
           }
          },
          "ternary": {
           "aaxis": {
            "gridcolor": "white",
            "linecolor": "white",
            "ticks": ""
           },
           "baxis": {
            "gridcolor": "white",
            "linecolor": "white",
            "ticks": ""
           },
           "bgcolor": "#E5ECF6",
           "caxis": {
            "gridcolor": "white",
            "linecolor": "white",
            "ticks": ""
           }
          },
          "title": {
           "x": 0.05
          },
          "xaxis": {
           "automargin": true,
           "gridcolor": "white",
           "linecolor": "white",
           "ticks": "",
           "title": {
            "standoff": 15
           },
           "zerolinecolor": "white",
           "zerolinewidth": 2
          },
          "yaxis": {
           "automargin": true,
           "gridcolor": "white",
           "linecolor": "white",
           "ticks": "",
           "title": {
            "standoff": 15
           },
           "zerolinecolor": "white",
           "zerolinewidth": 2
          }
         }
        },
        "title": {
         "text": "Date Plots"
        },
        "width": 800,
        "xaxis": {
         "anchor": "y",
         "domain": [
          0,
          1
         ]
        },
        "xaxis2": {
         "anchor": "y2",
         "domain": [
          0,
          1
         ]
        },
        "yaxis": {
         "anchor": "x",
         "domain": [
          0.54,
          1
         ]
        },
        "yaxis2": {
         "anchor": "x2",
         "domain": [
          0,
          0.46
         ]
        }
       }
      },
      "text/html": [
       "<div>                            <div id=\"4788c9f7-1aa7-4986-bfb4-0d928a3a9384\" class=\"plotly-graph-div\" style=\"height:800px; width:800px;\"></div>            <script type=\"text/javascript\">                require([\"plotly\"], function(Plotly) {                    window.PLOTLYENV=window.PLOTLYENV || {};                                    if (document.getElementById(\"4788c9f7-1aa7-4986-bfb4-0d928a3a9384\")) {                    Plotly.newPlot(                        \"4788c9f7-1aa7-4986-bfb4-0d928a3a9384\",                        [{\"marker\":{\"color\":\"red\"},\"showlegend\":false,\"x\":[\"2017-08-01\",\"2017-07-31\",\"2017-07-30\",\"2017-07-29\",\"2017-07-28\",\"2017-07-27\",\"2017-07-26\",\"2017-07-25\",\"2017-07-24\",\"2017-07-23\",\"2017-07-22\",\"2017-07-21\",\"2017-07-20\",\"2017-07-19\",\"2017-07-18\",\"2017-07-17\",\"2017-07-16\",\"2017-07-15\",\"2017-07-14\",\"2017-07-13\",\"2017-07-12\",\"2017-07-11\",\"2017-07-10\",\"2017-07-09\",\"2017-07-08\",\"2017-07-07\",\"2017-07-06\",\"2017-07-05\",\"2017-07-04\",\"2017-07-03\",\"2017-07-02\",\"2017-07-01\",\"2017-06-30\",\"2017-06-29\",\"2017-06-28\",\"2017-06-27\",\"2017-06-26\",\"2017-06-25\",\"2017-06-24\",\"2017-06-23\",\"2017-06-22\",\"2017-06-21\",\"2017-06-20\",\"2017-06-19\",\"2017-06-18\",\"2017-06-17\",\"2017-06-16\",\"2017-06-15\",\"2017-06-14\",\"2017-06-13\",\"2017-06-12\",\"2017-06-11\",\"2017-06-10\",\"2017-06-09\",\"2017-06-08\",\"2017-06-07\",\"2017-06-06\",\"2017-06-05\",\"2017-06-04\",\"2017-06-03\",\"2017-06-02\",\"2017-06-01\",\"2017-05-31\",\"2017-05-30\",\"2017-05-29\",\"2017-05-28\",\"2017-05-27\",\"2017-05-26\",\"2017-05-25\",\"2017-05-24\",\"2017-05-23\",\"2017-05-22\",\"2017-05-21\",\"2017-05-20\",\"2017-05-19\",\"2017-05-18\",\"2017-05-17\",\"2017-05-16\",\"2017-05-15\",\"2017-05-14\",\"2017-05-13\",\"2017-05-12\",\"2017-05-11\",\"2017-05-10\",\"2017-05-09\",\"2017-05-08\",\"2017-05-07\",\"2017-05-06\",\"2017-05-05\",\"2017-05-04\",\"2017-05-03\",\"2017-05-02\",\"2017-05-01\",\"2017-04-30\",\"2017-04-29\",\"2017-04-28\",\"2017-04-27\",\"2017-04-26\",\"2017-04-25\",\"2017-04-24\",\"2017-04-23\",\"2017-04-22\",\"2017-04-21\",\"2017-04-20\",\"2017-04-19\",\"2017-04-18\",\"2017-04-17\",\"2017-04-16\",\"2017-04-15\",\"2017-04-14\",\"2017-04-13\",\"2017-04-12\",\"2017-04-11\",\"2017-04-10\",\"2017-04-09\",\"2017-04-08\",\"2017-04-07\",\"2017-04-06\",\"2017-04-05\",\"2017-04-04\",\"2017-04-03\",\"2017-04-02\",\"2017-04-01\",\"2017-03-31\",\"2017-03-30\",\"2017-03-29\",\"2017-03-28\",\"2017-03-27\",\"2017-03-26\",\"2017-03-25\",\"2017-03-24\",\"2017-03-23\",\"2017-03-22\",\"2017-03-21\",\"2017-03-20\",\"2017-03-19\",\"2017-03-18\",\"2017-03-17\",\"2017-03-16\",\"2017-03-15\",\"2017-03-14\",\"2017-03-13\",\"2017-03-12\",\"2017-03-11\",\"2017-03-10\",\"2017-03-09\",\"2017-03-08\",\"2017-03-07\",\"2017-03-06\",\"2017-03-05\",\"2017-03-04\",\"2017-03-03\",\"2017-03-02\",\"2017-03-01\",\"2017-02-28\",\"2017-02-27\",\"2017-02-26\",\"2017-02-25\",\"2017-02-24\",\"2017-02-23\",\"2017-02-22\",\"2017-02-21\",\"2017-02-20\",\"2017-02-19\",\"2017-02-18\",\"2017-02-17\",\"2017-02-16\",\"2017-02-15\",\"2017-02-14\",\"2017-02-13\",\"2017-02-12\",\"2017-02-11\",\"2017-02-10\",\"2017-02-09\",\"2017-02-08\",\"2017-02-07\",\"2017-02-06\",\"2017-02-05\",\"2017-02-04\",\"2017-02-03\",\"2017-02-02\",\"2017-02-01\",\"2017-01-31\",\"2017-01-30\",\"2017-01-29\",\"2017-01-28\",\"2017-01-27\",\"2017-01-26\",\"2017-01-25\",\"2017-01-24\",\"2017-01-23\",\"2017-01-22\",\"2017-01-21\",\"2017-01-20\",\"2017-01-19\",\"2017-01-18\",\"2017-01-17\",\"2017-01-16\",\"2017-01-15\",\"2017-01-14\",\"2017-01-13\",\"2017-01-12\",\"2017-01-11\",\"2017-01-10\",\"2017-01-09\",\"2017-01-08\",\"2017-01-07\",\"2017-01-06\",\"2017-01-05\",\"2017-01-04\",\"2017-01-03\",\"2017-01-02\",\"2017-01-01\",\"2016-12-31\",\"2016-12-30\",\"2016-12-29\",\"2016-12-28\",\"2016-12-27\",\"2016-12-26\",\"2016-12-25\",\"2016-12-24\",\"2016-12-23\",\"2016-12-22\",\"2016-12-21\",\"2016-12-20\",\"2016-12-19\",\"2016-12-18\",\"2016-12-17\",\"2016-12-16\",\"2016-12-15\",\"2016-12-14\",\"2016-12-13\",\"2016-12-12\",\"2016-12-11\",\"2016-12-10\",\"2016-12-09\",\"2016-12-08\",\"2016-12-07\",\"2016-12-06\",\"2016-12-05\",\"2016-12-04\",\"2016-12-03\",\"2016-12-02\",\"2016-12-01\",\"2016-11-30\",\"2016-11-29\",\"2016-11-28\",\"2016-11-27\",\"2016-11-26\",\"2016-11-25\",\"2016-11-24\",\"2016-11-23\",\"2016-11-22\",\"2016-11-21\",\"2016-11-20\",\"2016-11-19\",\"2016-11-18\",\"2016-11-17\",\"2016-11-16\",\"2016-11-15\",\"2016-11-14\",\"2016-11-13\",\"2016-11-12\",\"2016-11-11\",\"2016-11-10\",\"2016-11-09\",\"2016-11-08\",\"2016-11-07\",\"2016-11-06\",\"2016-11-05\",\"2016-11-04\",\"2016-11-03\",\"2016-11-02\",\"2016-11-01\",\"2016-10-31\",\"2016-10-30\",\"2016-10-29\",\"2016-10-28\",\"2016-10-27\",\"2016-10-26\",\"2016-10-25\",\"2016-10-24\",\"2016-10-23\",\"2016-10-22\",\"2016-10-21\",\"2016-10-20\",\"2016-10-19\",\"2016-10-18\",\"2016-10-17\",\"2016-10-16\",\"2016-10-15\",\"2016-10-14\",\"2016-10-13\",\"2016-10-12\",\"2016-10-11\",\"2016-10-10\",\"2016-10-09\",\"2016-10-08\",\"2016-10-07\",\"2016-10-06\",\"2016-10-05\",\"2016-10-04\",\"2016-10-03\",\"2016-10-02\",\"2016-10-01\",\"2016-09-30\",\"2016-09-29\",\"2016-09-28\",\"2016-09-27\",\"2016-09-26\",\"2016-09-25\",\"2016-09-24\",\"2016-09-23\",\"2016-09-22\",\"2016-09-21\",\"2016-09-20\",\"2016-09-19\",\"2016-09-18\",\"2016-09-17\",\"2016-09-16\",\"2016-09-15\",\"2016-09-14\",\"2016-09-13\",\"2016-09-12\",\"2016-09-11\",\"2016-09-10\",\"2016-09-09\",\"2016-09-08\",\"2016-09-07\",\"2016-09-06\",\"2016-09-05\",\"2016-09-04\",\"2016-09-03\",\"2016-09-02\",\"2016-09-01\",\"2016-08-31\",\"2016-08-30\",\"2016-08-29\",\"2016-08-28\",\"2016-08-27\",\"2016-08-26\",\"2016-08-25\",\"2016-08-24\",\"2016-08-23\",\"2016-08-22\",\"2016-08-21\",\"2016-08-20\",\"2016-08-19\",\"2016-08-18\",\"2016-08-17\",\"2016-08-16\",\"2016-08-15\",\"2016-08-14\",\"2016-08-13\",\"2016-08-12\",\"2016-08-11\",\"2016-08-10\",\"2016-08-09\",\"2016-08-08\",\"2016-08-07\",\"2016-08-06\",\"2016-08-05\",\"2016-08-04\",\"2016-08-03\",\"2016-08-02\",\"2016-08-01\"],\"xaxis\":\"x\",\"y\":[2556,2620,1799,1597,2433,2529,2725,2631,2436,1966,1724,2427,2668,2514,2804,2671,1766,1721,2382,2741,2554,2635,2769,1921,1859,2450,2658,2885,1938,2046,1895,2048,2499,2709,2687,2789,2226,1597,1510,2095,2258,2357,2143,2142,1432,1391,2028,2237,2517,2181,2361,1555,1545,1927,2280,2279,2391,2493,1534,1399,2190,2826,2292,2199,1745,1463,1502,2009,2228,2406,2129,2248,1645,1855,2223,2715,3117,3098,2360,1290,1251,1932,2218,2024,2108,2025,1400,1383,1960,2806,2588,2564,2588,1594,1566,2411,2838,4224,2354,2263,1548,1612,2210,2374,2397,2391,2279,1507,1506,1834,2300,2341,2464,2563,1766,1829,2297,2647,2619,2978,2383,1861,2170,2268,2731,2525,2577,2525,1768,1712,2374,2847,2582,2611,2383,1776,1610,2129,2409,2486,2338,2537,1781,1707,2194,2231,2449,2586,2396,1827,1753,2162,2267,2390,2347,2352,1643,1638,2093,2364,2477,2582,2374,2187,1755,2785,2539,2629,2379,2266,1790,1761,2199,2678,2570,2476,2238,1522,1549,2182,2372,2445,2229,2392,1814,1614,1969,2209,2986,3618,2262,1700,1685,2074,2083,2245,2443,1906,1576,1526,1967,2203,2185,2268,2308,1637,1615,2210,2193,2390,2403,1620,1364,1211,1232,1647,1763,1855,1586,1386,1231,1604,2100,2594,3110,3222,2128,2324,2956,2937,3040,3166,3433,2208,2207,2830,3013,2840,3021,4265,3220,3044,3751,4200,4435,4337,4807,3356,3213,3759,3770,3805,3942,4143,3247,2984,3654,4074,4334,4685,4466,3144,3119,3588,4055,3752,3899,3832,3232,3042,3596,4014,3960,3728,3827,3086,2964,3791,4162,4375,3842,4063,2971,3029,3419,3755,3544,3628,3397,2649,2495,2838,2964,2871,2850,2911,2134,2114,2892,3016,3770,4322,2514,1724,1589,2303,2597,2535,2727,2776,1877,1845,2381,2581,2720,2760,2689,1822,1853,2603,2949,2652,2396,2465,1725,1671,2549,2628,2562,2508,2125,1692,1741,2613,2687,3223,2675,2454,1682,1654,2359,2539,2627,2754,2584,1730,1664,2379,2725,2799,2873,3043,1801,1596,2619,2667,2757,2851,2815,1622,1663,2702,3161,2890,2140,1711],\"yaxis\":\"y\",\"type\":\"scatter\"},{\"marker\":{\"color\":\"blue\"},\"showlegend\":false,\"x\":[\"2017-08-01\",\"2017-07-31\",\"2017-07-30\",\"2017-07-29\",\"2017-07-28\",\"2017-07-27\",\"2017-07-26\",\"2017-07-25\",\"2017-07-24\",\"2017-07-23\",\"2017-07-22\",\"2017-07-21\",\"2017-07-20\",\"2017-07-19\",\"2017-07-18\",\"2017-07-17\",\"2017-07-16\",\"2017-07-15\",\"2017-07-14\",\"2017-07-13\",\"2017-07-12\",\"2017-07-11\",\"2017-07-10\",\"2017-07-09\",\"2017-07-08\",\"2017-07-07\",\"2017-07-06\",\"2017-07-05\",\"2017-07-04\",\"2017-07-03\",\"2017-07-02\",\"2017-07-01\",\"2017-06-30\",\"2017-06-29\",\"2017-06-28\",\"2017-06-27\",\"2017-06-26\",\"2017-06-25\",\"2017-06-24\",\"2017-06-23\",\"2017-06-22\",\"2017-06-21\",\"2017-06-20\",\"2017-06-19\",\"2017-06-18\",\"2017-06-17\",\"2017-06-16\",\"2017-06-15\",\"2017-06-14\",\"2017-06-13\",\"2017-06-12\",\"2017-06-11\",\"2017-06-10\",\"2017-06-09\",\"2017-06-08\",\"2017-06-07\",\"2017-06-06\",\"2017-06-05\",\"2017-06-04\",\"2017-06-03\",\"2017-06-02\",\"2017-06-01\",\"2017-05-31\",\"2017-05-30\",\"2017-05-29\",\"2017-05-28\",\"2017-05-27\",\"2017-05-26\",\"2017-05-25\",\"2017-05-24\",\"2017-05-23\",\"2017-05-22\",\"2017-05-21\",\"2017-05-20\",\"2017-05-19\",\"2017-05-18\",\"2017-05-17\",\"2017-05-16\",\"2017-05-15\",\"2017-05-14\",\"2017-05-13\",\"2017-05-12\",\"2017-05-11\",\"2017-05-10\",\"2017-05-09\",\"2017-05-08\",\"2017-05-07\",\"2017-05-06\",\"2017-05-05\",\"2017-05-04\",\"2017-05-03\",\"2017-05-02\",\"2017-05-01\",\"2017-04-30\",\"2017-04-29\",\"2017-04-28\",\"2017-04-27\",\"2017-04-26\",\"2017-04-25\",\"2017-04-24\",\"2017-04-23\",\"2017-04-22\",\"2017-04-21\",\"2017-04-20\",\"2017-04-19\",\"2017-04-18\",\"2017-04-17\",\"2017-04-16\",\"2017-04-15\",\"2017-04-14\",\"2017-04-13\",\"2017-04-12\",\"2017-04-11\",\"2017-04-10\",\"2017-04-09\",\"2017-04-08\",\"2017-04-07\",\"2017-04-06\",\"2017-04-05\",\"2017-04-04\",\"2017-04-03\",\"2017-04-02\",\"2017-04-01\",\"2017-03-31\",\"2017-03-30\",\"2017-03-29\",\"2017-03-28\",\"2017-03-27\",\"2017-03-26\",\"2017-03-25\",\"2017-03-24\",\"2017-03-23\",\"2017-03-22\",\"2017-03-21\",\"2017-03-20\",\"2017-03-19\",\"2017-03-18\",\"2017-03-17\",\"2017-03-16\",\"2017-03-15\",\"2017-03-14\",\"2017-03-13\",\"2017-03-12\",\"2017-03-11\",\"2017-03-10\",\"2017-03-09\",\"2017-03-08\",\"2017-03-07\",\"2017-03-06\",\"2017-03-05\",\"2017-03-04\",\"2017-03-03\",\"2017-03-02\",\"2017-03-01\",\"2017-02-28\",\"2017-02-27\",\"2017-02-26\",\"2017-02-25\",\"2017-02-24\",\"2017-02-23\",\"2017-02-22\",\"2017-02-21\",\"2017-02-20\",\"2017-02-19\",\"2017-02-18\",\"2017-02-17\",\"2017-02-16\",\"2017-02-15\",\"2017-02-14\",\"2017-02-13\",\"2017-02-12\",\"2017-02-11\",\"2017-02-10\",\"2017-02-09\",\"2017-02-08\",\"2017-02-07\",\"2017-02-06\",\"2017-02-05\",\"2017-02-04\",\"2017-02-03\",\"2017-02-02\",\"2017-02-01\",\"2017-01-31\",\"2017-01-30\",\"2017-01-29\",\"2017-01-28\",\"2017-01-27\",\"2017-01-26\",\"2017-01-25\",\"2017-01-24\",\"2017-01-23\",\"2017-01-22\",\"2017-01-21\",\"2017-01-20\",\"2017-01-19\",\"2017-01-18\",\"2017-01-17\",\"2017-01-16\",\"2017-01-15\",\"2017-01-14\",\"2017-01-13\",\"2017-01-12\",\"2017-01-11\",\"2017-01-10\",\"2017-01-09\",\"2017-01-08\",\"2017-01-07\",\"2017-01-06\",\"2017-01-05\",\"2017-01-04\",\"2017-01-03\",\"2017-01-02\",\"2017-01-01\",\"2016-12-31\",\"2016-12-30\",\"2016-12-29\",\"2016-12-28\",\"2016-12-27\",\"2016-12-26\",\"2016-12-25\",\"2016-12-24\",\"2016-12-23\",\"2016-12-22\",\"2016-12-21\",\"2016-12-20\",\"2016-12-19\",\"2016-12-18\",\"2016-12-17\",\"2016-12-16\",\"2016-12-15\",\"2016-12-14\",\"2016-12-13\",\"2016-12-12\",\"2016-12-11\",\"2016-12-10\",\"2016-12-09\",\"2016-12-08\",\"2016-12-07\",\"2016-12-06\",\"2016-12-05\",\"2016-12-04\",\"2016-12-03\",\"2016-12-02\",\"2016-12-01\",\"2016-11-30\",\"2016-11-29\",\"2016-11-28\",\"2016-11-27\",\"2016-11-26\",\"2016-11-25\",\"2016-11-24\",\"2016-11-23\",\"2016-11-22\",\"2016-11-21\",\"2016-11-20\",\"2016-11-19\",\"2016-11-18\",\"2016-11-17\",\"2016-11-16\",\"2016-11-15\",\"2016-11-14\",\"2016-11-13\",\"2016-11-12\",\"2016-11-11\",\"2016-11-10\",\"2016-11-09\",\"2016-11-08\",\"2016-11-07\",\"2016-11-06\",\"2016-11-05\",\"2016-11-04\",\"2016-11-03\",\"2016-11-02\",\"2016-11-01\",\"2016-10-31\",\"2016-10-30\",\"2016-10-29\",\"2016-10-28\",\"2016-10-27\",\"2016-10-26\",\"2016-10-25\",\"2016-10-24\",\"2016-10-23\",\"2016-10-22\",\"2016-10-21\",\"2016-10-20\",\"2016-10-19\",\"2016-10-18\",\"2016-10-17\",\"2016-10-16\",\"2016-10-15\",\"2016-10-14\",\"2016-10-13\",\"2016-10-12\",\"2016-10-11\",\"2016-10-10\",\"2016-10-09\",\"2016-10-08\",\"2016-10-07\",\"2016-10-06\",\"2016-10-05\",\"2016-10-04\",\"2016-10-03\",\"2016-10-02\",\"2016-10-01\",\"2016-09-30\",\"2016-09-29\",\"2016-09-28\",\"2016-09-27\",\"2016-09-26\",\"2016-09-25\",\"2016-09-24\",\"2016-09-23\",\"2016-09-22\",\"2016-09-21\",\"2016-09-20\",\"2016-09-19\",\"2016-09-18\",\"2016-09-17\",\"2016-09-16\",\"2016-09-15\",\"2016-09-14\",\"2016-09-13\",\"2016-09-12\",\"2016-09-11\",\"2016-09-10\",\"2016-09-09\",\"2016-09-08\",\"2016-09-07\",\"2016-09-06\",\"2016-09-05\",\"2016-09-04\",\"2016-09-03\",\"2016-09-02\",\"2016-09-01\",\"2016-08-31\",\"2016-08-30\",\"2016-08-29\",\"2016-08-28\",\"2016-08-27\",\"2016-08-26\",\"2016-08-25\",\"2016-08-24\",\"2016-08-23\",\"2016-08-22\",\"2016-08-21\",\"2016-08-20\",\"2016-08-19\",\"2016-08-18\",\"2016-08-17\",\"2016-08-16\",\"2016-08-15\",\"2016-08-14\",\"2016-08-13\",\"2016-08-12\",\"2016-08-11\",\"2016-08-10\",\"2016-08-09\",\"2016-08-08\",\"2016-08-07\",\"2016-08-06\",\"2016-08-05\",\"2016-08-04\",\"2016-08-03\",\"2016-08-02\",\"2016-08-01\"],\"xaxis\":\"x2\",\"y\":[43,61,22,19,42,49,41,36,38,16,17,41,40,56,50,49,27,16,44,62,48,40,44,19,14,38,30,41,7,13,8,3,33,44,31,40,32,19,10,26,36,34,35,39,25,18,36,35,45,48,61,26,12,35,24,37,29,35,15,15,36,35,39,39,18,9,16,31,35,36,32,23,22,30,39,34,38,51,37,10,23,54,44,40,46,48,11,12,35,48,70,67,78,27,20,59,42,42,33,24,12,15,42,39,38,47,37,14,7,39,37,45,29,36,10,18,43,41,32,39,36,13,12,17,38,49,44,46,14,13,30,24,37,33,35,17,17,31,29,31,32,35,11,13,32,28,24,35,30,28,26,25,27,32,29,27,9,12,25,30,34,25,21,15,13,67,32,27,51,30,16,10,24,28,24,23,28,12,14,29,26,27,39,33,19,4,21,27,34,28,27,10,11,18,27,36,32,13,6,11,28,22,17,23,38,11,8,26,41,29,29,18,11,10,13,22,25,17,15,18,19,19,33,35,67,69,38,43,87,72,65,77,83,49,37,72,66,49,70,76,36,22,41,50,57,46,73,18,13,29,15,31,21,39,13,16,35,45,33,32,39,16,15,22,25,29,44,41,21,20,37,34,27,33,28,16,11,30,40,38,21,33,28,14,33,30,29,32,40,20,9,21,30,37,43,38,22,12,39,33,44,35,35,25,6,25,32,39,35,42,18,12,24,33,39,45,36,15,8,39,32,42,21,28,17,13,39,46,33,38,16,9,13,27,43,32,34,43,22,15,39,62,47,57,57,23,21,50,43,40,59,65,23,14,71,45,46,42,34,16,10,41,17,0,17,34],\"yaxis\":\"y2\",\"type\":\"scatter\"}],                        {\"annotations\":[{\"font\":{\"size\":16},\"showarrow\":false,\"text\":\"Date - Count\",\"x\":0.5,\"xanchor\":\"center\",\"xref\":\"paper\",\"y\":1.0,\"yanchor\":\"bottom\",\"yref\":\"paper\"},{\"font\":{\"size\":16},\"showarrow\":false,\"text\":\"Date - Non-zero Revenue count\",\"x\":0.5,\"xanchor\":\"center\",\"xref\":\"paper\",\"y\":0.46,\"yanchor\":\"bottom\",\"yref\":\"paper\"}],\"height\":800,\"paper_bgcolor\":\"rgb(233,233,233)\",\"template\":{\"data\":{\"barpolar\":[{\"marker\":{\"line\":{\"color\":\"#E5ECF6\",\"width\":0.5},\"pattern\":{\"fillmode\":\"overlay\",\"size\":10,\"solidity\":0.2}},\"type\":\"barpolar\"}],\"bar\":[{\"error_x\":{\"color\":\"#2a3f5f\"},\"error_y\":{\"color\":\"#2a3f5f\"},\"marker\":{\"line\":{\"color\":\"#E5ECF6\",\"width\":0.5},\"pattern\":{\"fillmode\":\"overlay\",\"size\":10,\"solidity\":0.2}},\"type\":\"bar\"}],\"carpet\":[{\"aaxis\":{\"endlinecolor\":\"#2a3f5f\",\"gridcolor\":\"white\",\"linecolor\":\"white\",\"minorgridcolor\":\"white\",\"startlinecolor\":\"#2a3f5f\"},\"baxis\":{\"endlinecolor\":\"#2a3f5f\",\"gridcolor\":\"white\",\"linecolor\":\"white\",\"minorgridcolor\":\"white\",\"startlinecolor\":\"#2a3f5f\"},\"type\":\"carpet\"}],\"choropleth\":[{\"colorbar\":{\"outlinewidth\":0,\"ticks\":\"\"},\"type\":\"choropleth\"}],\"contourcarpet\":[{\"colorbar\":{\"outlinewidth\":0,\"ticks\":\"\"},\"type\":\"contourcarpet\"}],\"contour\":[{\"colorbar\":{\"outlinewidth\":0,\"ticks\":\"\"},\"colorscale\":[[0.0,\"#0d0887\"],[0.1111111111111111,\"#46039f\"],[0.2222222222222222,\"#7201a8\"],[0.3333333333333333,\"#9c179e\"],[0.4444444444444444,\"#bd3786\"],[0.5555555555555556,\"#d8576b\"],[0.6666666666666666,\"#ed7953\"],[0.7777777777777778,\"#fb9f3a\"],[0.8888888888888888,\"#fdca26\"],[1.0,\"#f0f921\"]],\"type\":\"contour\"}],\"heatmapgl\":[{\"colorbar\":{\"outlinewidth\":0,\"ticks\":\"\"},\"colorscale\":[[0.0,\"#0d0887\"],[0.1111111111111111,\"#46039f\"],[0.2222222222222222,\"#7201a8\"],[0.3333333333333333,\"#9c179e\"],[0.4444444444444444,\"#bd3786\"],[0.5555555555555556,\"#d8576b\"],[0.6666666666666666,\"#ed7953\"],[0.7777777777777778,\"#fb9f3a\"],[0.8888888888888888,\"#fdca26\"],[1.0,\"#f0f921\"]],\"type\":\"heatmapgl\"}],\"heatmap\":[{\"colorbar\":{\"outlinewidth\":0,\"ticks\":\"\"},\"colorscale\":[[0.0,\"#0d0887\"],[0.1111111111111111,\"#46039f\"],[0.2222222222222222,\"#7201a8\"],[0.3333333333333333,\"#9c179e\"],[0.4444444444444444,\"#bd3786\"],[0.5555555555555556,\"#d8576b\"],[0.6666666666666666,\"#ed7953\"],[0.7777777777777778,\"#fb9f3a\"],[0.8888888888888888,\"#fdca26\"],[1.0,\"#f0f921\"]],\"type\":\"heatmap\"}],\"histogram2dcontour\":[{\"colorbar\":{\"outlinewidth\":0,\"ticks\":\"\"},\"colorscale\":[[0.0,\"#0d0887\"],[0.1111111111111111,\"#46039f\"],[0.2222222222222222,\"#7201a8\"],[0.3333333333333333,\"#9c179e\"],[0.4444444444444444,\"#bd3786\"],[0.5555555555555556,\"#d8576b\"],[0.6666666666666666,\"#ed7953\"],[0.7777777777777778,\"#fb9f3a\"],[0.8888888888888888,\"#fdca26\"],[1.0,\"#f0f921\"]],\"type\":\"histogram2dcontour\"}],\"histogram2d\":[{\"colorbar\":{\"outlinewidth\":0,\"ticks\":\"\"},\"colorscale\":[[0.0,\"#0d0887\"],[0.1111111111111111,\"#46039f\"],[0.2222222222222222,\"#7201a8\"],[0.3333333333333333,\"#9c179e\"],[0.4444444444444444,\"#bd3786\"],[0.5555555555555556,\"#d8576b\"],[0.6666666666666666,\"#ed7953\"],[0.7777777777777778,\"#fb9f3a\"],[0.8888888888888888,\"#fdca26\"],[1.0,\"#f0f921\"]],\"type\":\"histogram2d\"}],\"histogram\":[{\"marker\":{\"pattern\":{\"fillmode\":\"overlay\",\"size\":10,\"solidity\":0.2}},\"type\":\"histogram\"}],\"mesh3d\":[{\"colorbar\":{\"outlinewidth\":0,\"ticks\":\"\"},\"type\":\"mesh3d\"}],\"parcoords\":[{\"line\":{\"colorbar\":{\"outlinewidth\":0,\"ticks\":\"\"}},\"type\":\"parcoords\"}],\"pie\":[{\"automargin\":true,\"type\":\"pie\"}],\"scatter3d\":[{\"line\":{\"colorbar\":{\"outlinewidth\":0,\"ticks\":\"\"}},\"marker\":{\"colorbar\":{\"outlinewidth\":0,\"ticks\":\"\"}},\"type\":\"scatter3d\"}],\"scattercarpet\":[{\"marker\":{\"colorbar\":{\"outlinewidth\":0,\"ticks\":\"\"}},\"type\":\"scattercarpet\"}],\"scattergeo\":[{\"marker\":{\"colorbar\":{\"outlinewidth\":0,\"ticks\":\"\"}},\"type\":\"scattergeo\"}],\"scattergl\":[{\"marker\":{\"colorbar\":{\"outlinewidth\":0,\"ticks\":\"\"}},\"type\":\"scattergl\"}],\"scattermapbox\":[{\"marker\":{\"colorbar\":{\"outlinewidth\":0,\"ticks\":\"\"}},\"type\":\"scattermapbox\"}],\"scatterpolargl\":[{\"marker\":{\"colorbar\":{\"outlinewidth\":0,\"ticks\":\"\"}},\"type\":\"scatterpolargl\"}],\"scatterpolar\":[{\"marker\":{\"colorbar\":{\"outlinewidth\":0,\"ticks\":\"\"}},\"type\":\"scatterpolar\"}],\"scatter\":[{\"fillpattern\":{\"fillmode\":\"overlay\",\"size\":10,\"solidity\":0.2},\"type\":\"scatter\"}],\"scatterternary\":[{\"marker\":{\"colorbar\":{\"outlinewidth\":0,\"ticks\":\"\"}},\"type\":\"scatterternary\"}],\"surface\":[{\"colorbar\":{\"outlinewidth\":0,\"ticks\":\"\"},\"colorscale\":[[0.0,\"#0d0887\"],[0.1111111111111111,\"#46039f\"],[0.2222222222222222,\"#7201a8\"],[0.3333333333333333,\"#9c179e\"],[0.4444444444444444,\"#bd3786\"],[0.5555555555555556,\"#d8576b\"],[0.6666666666666666,\"#ed7953\"],[0.7777777777777778,\"#fb9f3a\"],[0.8888888888888888,\"#fdca26\"],[1.0,\"#f0f921\"]],\"type\":\"surface\"}],\"table\":[{\"cells\":{\"fill\":{\"color\":\"#EBF0F8\"},\"line\":{\"color\":\"white\"}},\"header\":{\"fill\":{\"color\":\"#C8D4E3\"},\"line\":{\"color\":\"white\"}},\"type\":\"table\"}]},\"layout\":{\"annotationdefaults\":{\"arrowcolor\":\"#2a3f5f\",\"arrowhead\":0,\"arrowwidth\":1},\"autotypenumbers\":\"strict\",\"coloraxis\":{\"colorbar\":{\"outlinewidth\":0,\"ticks\":\"\"}},\"colorscale\":{\"diverging\":[[0,\"#8e0152\"],[0.1,\"#c51b7d\"],[0.2,\"#de77ae\"],[0.3,\"#f1b6da\"],[0.4,\"#fde0ef\"],[0.5,\"#f7f7f7\"],[0.6,\"#e6f5d0\"],[0.7,\"#b8e186\"],[0.8,\"#7fbc41\"],[0.9,\"#4d9221\"],[1,\"#276419\"]],\"sequential\":[[0.0,\"#0d0887\"],[0.1111111111111111,\"#46039f\"],[0.2222222222222222,\"#7201a8\"],[0.3333333333333333,\"#9c179e\"],[0.4444444444444444,\"#bd3786\"],[0.5555555555555556,\"#d8576b\"],[0.6666666666666666,\"#ed7953\"],[0.7777777777777778,\"#fb9f3a\"],[0.8888888888888888,\"#fdca26\"],[1.0,\"#f0f921\"]],\"sequentialminus\":[[0.0,\"#0d0887\"],[0.1111111111111111,\"#46039f\"],[0.2222222222222222,\"#7201a8\"],[0.3333333333333333,\"#9c179e\"],[0.4444444444444444,\"#bd3786\"],[0.5555555555555556,\"#d8576b\"],[0.6666666666666666,\"#ed7953\"],[0.7777777777777778,\"#fb9f3a\"],[0.8888888888888888,\"#fdca26\"],[1.0,\"#f0f921\"]]},\"colorway\":[\"#636efa\",\"#EF553B\",\"#00cc96\",\"#ab63fa\",\"#FFA15A\",\"#19d3f3\",\"#FF6692\",\"#B6E880\",\"#FF97FF\",\"#FECB52\"],\"font\":{\"color\":\"#2a3f5f\"},\"geo\":{\"bgcolor\":\"white\",\"lakecolor\":\"white\",\"landcolor\":\"#E5ECF6\",\"showlakes\":true,\"showland\":true,\"subunitcolor\":\"white\"},\"hoverlabel\":{\"align\":\"left\"},\"hovermode\":\"closest\",\"mapbox\":{\"style\":\"light\"},\"paper_bgcolor\":\"white\",\"plot_bgcolor\":\"#E5ECF6\",\"polar\":{\"angularaxis\":{\"gridcolor\":\"white\",\"linecolor\":\"white\",\"ticks\":\"\"},\"bgcolor\":\"#E5ECF6\",\"radialaxis\":{\"gridcolor\":\"white\",\"linecolor\":\"white\",\"ticks\":\"\"}},\"scene\":{\"xaxis\":{\"backgroundcolor\":\"#E5ECF6\",\"gridcolor\":\"white\",\"gridwidth\":2,\"linecolor\":\"white\",\"showbackground\":true,\"ticks\":\"\",\"zerolinecolor\":\"white\"},\"yaxis\":{\"backgroundcolor\":\"#E5ECF6\",\"gridcolor\":\"white\",\"gridwidth\":2,\"linecolor\":\"white\",\"showbackground\":true,\"ticks\":\"\",\"zerolinecolor\":\"white\"},\"zaxis\":{\"backgroundcolor\":\"#E5ECF6\",\"gridcolor\":\"white\",\"gridwidth\":2,\"linecolor\":\"white\",\"showbackground\":true,\"ticks\":\"\",\"zerolinecolor\":\"white\"}},\"shapedefaults\":{\"line\":{\"color\":\"#2a3f5f\"}},\"ternary\":{\"aaxis\":{\"gridcolor\":\"white\",\"linecolor\":\"white\",\"ticks\":\"\"},\"baxis\":{\"gridcolor\":\"white\",\"linecolor\":\"white\",\"ticks\":\"\"},\"bgcolor\":\"#E5ECF6\",\"caxis\":{\"gridcolor\":\"white\",\"linecolor\":\"white\",\"ticks\":\"\"}},\"title\":{\"x\":0.05},\"xaxis\":{\"automargin\":true,\"gridcolor\":\"white\",\"linecolor\":\"white\",\"ticks\":\"\",\"title\":{\"standoff\":15},\"zerolinecolor\":\"white\",\"zerolinewidth\":2},\"yaxis\":{\"automargin\":true,\"gridcolor\":\"white\",\"linecolor\":\"white\",\"ticks\":\"\",\"title\":{\"standoff\":15},\"zerolinecolor\":\"white\",\"zerolinewidth\":2}}},\"title\":{\"text\":\"Date Plots\"},\"width\":800,\"xaxis\":{\"anchor\":\"y\",\"domain\":[0.0,1.0]},\"yaxis\":{\"anchor\":\"x\",\"domain\":[0.54,1.0]},\"xaxis2\":{\"anchor\":\"y2\",\"domain\":[0.0,1.0]},\"yaxis2\":{\"anchor\":\"x2\",\"domain\":[0.0,0.46]}},                        {\"responsive\": true}                    ).then(function(){\n",
       "                            \n",
       "var gd = document.getElementById('4788c9f7-1aa7-4986-bfb4-0d928a3a9384');\n",
       "var x = new MutationObserver(function (mutations, observer) {{\n",
       "        var display = window.getComputedStyle(gd).display;\n",
       "        if (!display || display === 'none') {{\n",
       "            console.log([gd, 'removed!']);\n",
       "            Plotly.purge(gd);\n",
       "            observer.disconnect();\n",
       "        }}\n",
       "}});\n",
       "\n",
       "// Listen for the removal of the full notebook cells\n",
       "var notebookContainer = gd.closest('#notebook-container');\n",
       "if (notebookContainer) {{\n",
       "    x.observe(notebookContainer, {childList: true});\n",
       "}}\n",
       "\n",
       "// Listen for the clearing of the current output cell\n",
       "var outputEl = gd.closest('.output');\n",
       "if (outputEl) {{\n",
       "    x.observe(outputEl, {childList: true});\n",
       "}}\n",
       "\n",
       "                        })                };                });            </script>        </div>"
      ]
     },
     "metadata": {},
     "output_type": "display_data"
    }
   ],
   "source": [
    "import datetime\n",
    "\n",
    "def scatter_plot(cnt_srs, color):\n",
    "    trace = go.Scatter(\n",
    "        x=cnt_srs.index[::-1],\n",
    "        y=cnt_srs.values[::-1],\n",
    "        showlegend=False,\n",
    "        marker=dict(\n",
    "            color=color,\n",
    "        ),\n",
    "    )\n",
    "    return trace\n",
    "\n",
    "train_df['date'] = train_df['date'].apply(lambda x: datetime.date(int(str(x)[:4]), int(str(x)[4:6]), int(str(x)[6:])))\n",
    "cnt_srs = train_df.groupby('date')['totals.transactionRevenue'].agg(['size', 'count'])\n",
    "cnt_srs.columns = [\"count\", \"count of non-zero revenue\"]\n",
    "cnt_srs = cnt_srs.sort_index()\n",
    "#cnt_srs.index = cnt_srs.index.astype('str')\n",
    "trace1 = scatter_plot(cnt_srs[\"count\"], 'red')\n",
    "trace2 = scatter_plot(cnt_srs[\"count of non-zero revenue\"], 'blue')\n",
    "\n",
    "fig = tools.make_subplots(rows=2, cols=1, vertical_spacing=0.08,\n",
    "                          subplot_titles=[\"Date - Count\", \"Date - Non-zero Revenue count\"])\n",
    "fig.append_trace(trace1, 1, 1)\n",
    "fig.append_trace(trace2, 2, 1)\n",
    "fig['layout'].update(height=800, width=800, paper_bgcolor='rgb(233,233,233)', title=\"Date Plots\")\n",
    "py.iplot(fig, filename='date-plots')"
   ]
  },
  {
   "cell_type": "code",
   "execution_count": 14,
   "id": "69222966",
   "metadata": {},
   "outputs": [
    {
     "name": "stdout",
     "output_type": "stream",
     "text": [
      "<class 'pandas.core.frame.DataFrame'>\n",
      "RangeIndex: 903653 entries, 0 to 903652\n",
      "Data columns (total 55 columns):\n",
      " #   Column                                             Non-Null Count   Dtype  \n",
      "---  ------                                             --------------   -----  \n",
      " 0   channelGrouping                                    903653 non-null  object \n",
      " 1   date                                               903653 non-null  object \n",
      " 2   fullVisitorId                                      903653 non-null  object \n",
      " 3   sessionId                                          903653 non-null  object \n",
      " 4   socialEngagementType                               903653 non-null  object \n",
      " 5   visitId                                            903653 non-null  int64  \n",
      " 6   visitNumber                                        903653 non-null  int64  \n",
      " 7   visitStartTime                                     903653 non-null  int64  \n",
      " 8   device.browser                                     903653 non-null  object \n",
      " 9   device.browserVersion                              903653 non-null  object \n",
      " 10  device.browserSize                                 903653 non-null  object \n",
      " 11  device.operatingSystem                             903653 non-null  object \n",
      " 12  device.operatingSystemVersion                      903653 non-null  object \n",
      " 13  device.isMobile                                    903653 non-null  bool   \n",
      " 14  device.mobileDeviceBranding                        903653 non-null  object \n",
      " 15  device.mobileDeviceModel                           903653 non-null  object \n",
      " 16  device.mobileInputSelector                         903653 non-null  object \n",
      " 17  device.mobileDeviceInfo                            903653 non-null  object \n",
      " 18  device.mobileDeviceMarketingName                   903653 non-null  object \n",
      " 19  device.flashVersion                                903653 non-null  object \n",
      " 20  device.language                                    903653 non-null  object \n",
      " 21  device.screenColors                                903653 non-null  object \n",
      " 22  device.screenResolution                            903653 non-null  object \n",
      " 23  device.deviceCategory                              903653 non-null  object \n",
      " 24  geoNetwork.continent                               903653 non-null  object \n",
      " 25  geoNetwork.subContinent                            903653 non-null  object \n",
      " 26  geoNetwork.country                                 903653 non-null  object \n",
      " 27  geoNetwork.region                                  903653 non-null  object \n",
      " 28  geoNetwork.metro                                   903653 non-null  object \n",
      " 29  geoNetwork.city                                    903653 non-null  object \n",
      " 30  geoNetwork.cityId                                  903653 non-null  object \n",
      " 31  geoNetwork.networkDomain                           903653 non-null  object \n",
      " 32  geoNetwork.latitude                                903653 non-null  object \n",
      " 33  geoNetwork.longitude                               903653 non-null  object \n",
      " 34  geoNetwork.networkLocation                         903653 non-null  object \n",
      " 35  totals.visits                                      903653 non-null  object \n",
      " 36  totals.hits                                        903653 non-null  object \n",
      " 37  totals.pageviews                                   903553 non-null  object \n",
      " 38  totals.bounces                                     450630 non-null  object \n",
      " 39  totals.newVisits                                   703060 non-null  object \n",
      " 40  totals.transactionRevenue                          11515 non-null   float64\n",
      " 41  trafficSource.campaign                             903653 non-null  object \n",
      " 42  trafficSource.source                               903653 non-null  object \n",
      " 43  trafficSource.medium                               903653 non-null  object \n",
      " 44  trafficSource.keyword                              400724 non-null  object \n",
      " 45  trafficSource.adwordsClickInfo.criteriaParameters  903653 non-null  object \n",
      " 46  trafficSource.isTrueDirect                         274005 non-null  object \n",
      " 47  trafficSource.referralPath                         330941 non-null  object \n",
      " 48  trafficSource.adwordsClickInfo.page                21460 non-null   object \n",
      " 49  trafficSource.adwordsClickInfo.slot                21460 non-null   object \n",
      " 50  trafficSource.adwordsClickInfo.gclId               21561 non-null   object \n",
      " 51  trafficSource.adwordsClickInfo.adNetworkType       21460 non-null   object \n",
      " 52  trafficSource.adwordsClickInfo.isVideoAd           21460 non-null   object \n",
      " 53  trafficSource.adContent                            10946 non-null   object \n",
      " 54  trafficSource.campaignCode                         1 non-null       object \n",
      "dtypes: bool(1), float64(1), int64(3), object(50)\n",
      "memory usage: 373.2+ MB\n"
     ]
    }
   ],
   "source": [
    "train_df.info()"
   ]
  },
  {
   "cell_type": "code",
   "execution_count": 15,
   "id": "c578fa2f",
   "metadata": {},
   "outputs": [
    {
     "data": {
      "application/vnd.plotly.v1+json": {
       "config": {
        "linkText": "Export to plot.ly",
        "plotlyServerURL": "https://plot.ly",
        "showLink": false
       },
       "data": [
        {
         "marker": {
          "color": "red"
         },
         "showlegend": false,
         "type": "scatter",
         "x": [
          "2018-04-30",
          "2018-04-29",
          "2018-04-28",
          "2018-04-27",
          "2018-04-26",
          "2018-04-25",
          "2018-04-24",
          "2018-04-23",
          "2018-04-22",
          "2018-04-21",
          "2018-04-20",
          "2018-04-19",
          "2018-04-18",
          "2018-04-17",
          "2018-04-16",
          "2018-04-15",
          "2018-04-14",
          "2018-04-13",
          "2018-04-12",
          "2018-04-11",
          "2018-04-10",
          "2018-04-09",
          "2018-04-08",
          "2018-04-07",
          "2018-04-06",
          "2018-04-05",
          "2018-04-04",
          "2018-04-03",
          "2018-04-02",
          "2018-04-01",
          "2018-03-31",
          "2018-03-30",
          "2018-03-29",
          "2018-03-28",
          "2018-03-27",
          "2018-03-26",
          "2018-03-25",
          "2018-03-24",
          "2018-03-23",
          "2018-03-22",
          "2018-03-21",
          "2018-03-20",
          "2018-03-19",
          "2018-03-18",
          "2018-03-17",
          "2018-03-16",
          "2018-03-15",
          "2018-03-14",
          "2018-03-13",
          "2018-03-12",
          "2018-03-11",
          "2018-03-10",
          "2018-03-09",
          "2018-03-08",
          "2018-03-07",
          "2018-03-06",
          "2018-03-05",
          "2018-03-04",
          "2018-03-03",
          "2018-03-02",
          "2018-03-01",
          "2018-02-28",
          "2018-02-27",
          "2018-02-26",
          "2018-02-25",
          "2018-02-24",
          "2018-02-23",
          "2018-02-22",
          "2018-02-21",
          "2018-02-20",
          "2018-02-19",
          "2018-02-18",
          "2018-02-17",
          "2018-02-16",
          "2018-02-15",
          "2018-02-14",
          "2018-02-13",
          "2018-02-12",
          "2018-02-11",
          "2018-02-10",
          "2018-02-09",
          "2018-02-08",
          "2018-02-07",
          "2018-02-06",
          "2018-02-05",
          "2018-02-04",
          "2018-02-03",
          "2018-02-02",
          "2018-02-01",
          "2018-01-31",
          "2018-01-30",
          "2018-01-29",
          "2018-01-28",
          "2018-01-27",
          "2018-01-26",
          "2018-01-25",
          "2018-01-24",
          "2018-01-23",
          "2018-01-22",
          "2018-01-21",
          "2018-01-20",
          "2018-01-19",
          "2018-01-18",
          "2018-01-17",
          "2018-01-16",
          "2018-01-15",
          "2018-01-14",
          "2018-01-13",
          "2018-01-12",
          "2018-01-11",
          "2018-01-10",
          "2018-01-09",
          "2018-01-08",
          "2018-01-07",
          "2018-01-06",
          "2018-01-05",
          "2018-01-04",
          "2018-01-03",
          "2018-01-02",
          "2018-01-01",
          "2017-12-31",
          "2017-12-30",
          "2017-12-29",
          "2017-12-28",
          "2017-12-27",
          "2017-12-26",
          "2017-12-25",
          "2017-12-24",
          "2017-12-23",
          "2017-12-22",
          "2017-12-21",
          "2017-12-20",
          "2017-12-19",
          "2017-12-18",
          "2017-12-17",
          "2017-12-16",
          "2017-12-15",
          "2017-12-14",
          "2017-12-13",
          "2017-12-12",
          "2017-12-11",
          "2017-12-10",
          "2017-12-09",
          "2017-12-08",
          "2017-12-07",
          "2017-12-06",
          "2017-12-05",
          "2017-12-04",
          "2017-12-03",
          "2017-12-02",
          "2017-12-01",
          "2017-11-30",
          "2017-11-29",
          "2017-11-28",
          "2017-11-27",
          "2017-11-26",
          "2017-11-25",
          "2017-11-24",
          "2017-11-23",
          "2017-11-22",
          "2017-11-21",
          "2017-11-20",
          "2017-11-19",
          "2017-11-18",
          "2017-11-17",
          "2017-11-16",
          "2017-11-15",
          "2017-11-14",
          "2017-11-13",
          "2017-11-12",
          "2017-11-11",
          "2017-11-10",
          "2017-11-09",
          "2017-11-08",
          "2017-11-07",
          "2017-11-06",
          "2017-11-05",
          "2017-11-04",
          "2017-11-03",
          "2017-11-02",
          "2017-11-01",
          "2017-10-31",
          "2017-10-30",
          "2017-10-29",
          "2017-10-28",
          "2017-10-27",
          "2017-10-26",
          "2017-10-25",
          "2017-10-24",
          "2017-10-23",
          "2017-10-22",
          "2017-10-21",
          "2017-10-20",
          "2017-10-19",
          "2017-10-18",
          "2017-10-17",
          "2017-10-16",
          "2017-10-15",
          "2017-10-14",
          "2017-10-13",
          "2017-10-12",
          "2017-10-11",
          "2017-10-10",
          "2017-10-09",
          "2017-10-08",
          "2017-10-07",
          "2017-10-06",
          "2017-10-05",
          "2017-10-04",
          "2017-10-03",
          "2017-10-02",
          "2017-10-01",
          "2017-09-30",
          "2017-09-29",
          "2017-09-28",
          "2017-09-27",
          "2017-09-26",
          "2017-09-25",
          "2017-09-24",
          "2017-09-23",
          "2017-09-22",
          "2017-09-21",
          "2017-09-20",
          "2017-09-19",
          "2017-09-18",
          "2017-09-17",
          "2017-09-16",
          "2017-09-15",
          "2017-09-14",
          "2017-09-13",
          "2017-09-12",
          "2017-09-11",
          "2017-09-10",
          "2017-09-09",
          "2017-09-08",
          "2017-09-07",
          "2017-09-06",
          "2017-09-05",
          "2017-09-04",
          "2017-09-03",
          "2017-09-02",
          "2017-09-01",
          "2017-08-31",
          "2017-08-30",
          "2017-08-29",
          "2017-08-28",
          "2017-08-27",
          "2017-08-26",
          "2017-08-25",
          "2017-08-24",
          "2017-08-23",
          "2017-08-22",
          "2017-08-21",
          "2017-08-20",
          "2017-08-19",
          "2017-08-18",
          "2017-08-17",
          "2017-08-16",
          "2017-08-15",
          "2017-08-14",
          "2017-08-13",
          "2017-08-12",
          "2017-08-11",
          "2017-08-10",
          "2017-08-09",
          "2017-08-08",
          "2017-08-07",
          "2017-08-06",
          "2017-08-05",
          "2017-08-04",
          "2017-08-03",
          "2017-08-02"
         ],
         "y": [
          2753,
          1977,
          1972,
          2626,
          3177,
          3058,
          3134,
          3104,
          2147,
          1920,
          2581,
          3084,
          3201,
          3229,
          3129,
          2089,
          1900,
          2716,
          3201,
          3084,
          3263,
          3141,
          2434,
          2144,
          2653,
          2936,
          3299,
          3405,
          3176,
          2068,
          1843,
          2679,
          3310,
          3724,
          4227,
          3077,
          2146,
          2228,
          2891,
          3570,
          4434,
          3251,
          3603,
          2317,
          2201,
          2993,
          3498,
          3344,
          3484,
          3598,
          2252,
          2285,
          2877,
          3092,
          3227,
          3824,
          3221,
          2386,
          2390,
          2922,
          3195,
          3163,
          3516,
          3989,
          2446,
          2247,
          3055,
          3596,
          3392,
          3501,
          2871,
          2627,
          2371,
          2738,
          3128,
          3272,
          3434,
          3547,
          2708,
          2469,
          2964,
          2953,
          3012,
          2999,
          3041,
          2171,
          2063,
          2697,
          3034,
          3021,
          3062,
          3017,
          2198,
          2073,
          2672,
          3502,
          2987,
          2901,
          2951,
          2012,
          2024,
          2784,
          2842,
          3120,
          3241,
          3070,
          2242,
          2115,
          2756,
          2954,
          3176,
          3223,
          2751,
          2068,
          1931,
          2613,
          2812,
          2747,
          2715,
          1810,
          1495,
          1768,
          1902,
          2255,
          2716,
          2370,
          2085,
          1960,
          1998,
          2422,
          2930,
          3196,
          3407,
          3601,
          2523,
          2597,
          3527,
          3587,
          9131,
          9234,
          3259,
          2487,
          2239,
          2880,
          3624,
          3577,
          3395,
          3328,
          2439,
          2254,
          2918,
          3178,
          3452,
          3934,
          4194,
          2553,
          2269,
          2901,
          2964,
          3033,
          2905,
          3318,
          2311,
          2123,
          3230,
          3530,
          3581,
          3573,
          3383,
          2784,
          2471,
          3186,
          3628,
          4136,
          3846,
          3542,
          2642,
          2330,
          2937,
          2880,
          2875,
          2774,
          3144,
          2217,
          2293,
          3134,
          3547,
          3290,
          3318,
          3427,
          2662,
          2251,
          2976,
          3205,
          3493,
          4258,
          2989,
          2121,
          2395,
          2699,
          3002,
          3368,
          3961,
          3976,
          3329,
          3539,
          4033,
          4679,
          5122,
          3621,
          3470,
          2993,
          2634,
          2989,
          3396,
          3303,
          3655,
          2987,
          2556,
          2200,
          3313,
          4715,
          4880,
          3526,
          3626,
          2856,
          2821,
          2691,
          2850,
          2790,
          2784,
          2831,
          1992,
          2026,
          2564,
          2793,
          2831,
          2852,
          2313,
          2064,
          1966,
          2471,
          2955,
          3121,
          3263,
          2748,
          2162,
          2177,
          2422,
          3716,
          3267,
          3143,
          2860,
          1985,
          2018,
          2861,
          3203,
          2862,
          3109,
          3487,
          1996,
          2012,
          2769,
          2852,
          2855,
          3059,
          2846,
          2340,
          1796,
          2843,
          2691,
          2828
         ]
        }
       ],
       "layout": {
        "height": 400,
        "paper_bgcolor": "rgb(233,233,233)",
        "template": {
         "data": {
          "bar": [
           {
            "error_x": {
             "color": "#2a3f5f"
            },
            "error_y": {
             "color": "#2a3f5f"
            },
            "marker": {
             "line": {
              "color": "#E5ECF6",
              "width": 0.5
             },
             "pattern": {
              "fillmode": "overlay",
              "size": 10,
              "solidity": 0.2
             }
            },
            "type": "bar"
           }
          ],
          "barpolar": [
           {
            "marker": {
             "line": {
              "color": "#E5ECF6",
              "width": 0.5
             },
             "pattern": {
              "fillmode": "overlay",
              "size": 10,
              "solidity": 0.2
             }
            },
            "type": "barpolar"
           }
          ],
          "carpet": [
           {
            "aaxis": {
             "endlinecolor": "#2a3f5f",
             "gridcolor": "white",
             "linecolor": "white",
             "minorgridcolor": "white",
             "startlinecolor": "#2a3f5f"
            },
            "baxis": {
             "endlinecolor": "#2a3f5f",
             "gridcolor": "white",
             "linecolor": "white",
             "minorgridcolor": "white",
             "startlinecolor": "#2a3f5f"
            },
            "type": "carpet"
           }
          ],
          "choropleth": [
           {
            "colorbar": {
             "outlinewidth": 0,
             "ticks": ""
            },
            "type": "choropleth"
           }
          ],
          "contour": [
           {
            "colorbar": {
             "outlinewidth": 0,
             "ticks": ""
            },
            "colorscale": [
             [
              0,
              "#0d0887"
             ],
             [
              0.1111111111111111,
              "#46039f"
             ],
             [
              0.2222222222222222,
              "#7201a8"
             ],
             [
              0.3333333333333333,
              "#9c179e"
             ],
             [
              0.4444444444444444,
              "#bd3786"
             ],
             [
              0.5555555555555556,
              "#d8576b"
             ],
             [
              0.6666666666666666,
              "#ed7953"
             ],
             [
              0.7777777777777778,
              "#fb9f3a"
             ],
             [
              0.8888888888888888,
              "#fdca26"
             ],
             [
              1,
              "#f0f921"
             ]
            ],
            "type": "contour"
           }
          ],
          "contourcarpet": [
           {
            "colorbar": {
             "outlinewidth": 0,
             "ticks": ""
            },
            "type": "contourcarpet"
           }
          ],
          "heatmap": [
           {
            "colorbar": {
             "outlinewidth": 0,
             "ticks": ""
            },
            "colorscale": [
             [
              0,
              "#0d0887"
             ],
             [
              0.1111111111111111,
              "#46039f"
             ],
             [
              0.2222222222222222,
              "#7201a8"
             ],
             [
              0.3333333333333333,
              "#9c179e"
             ],
             [
              0.4444444444444444,
              "#bd3786"
             ],
             [
              0.5555555555555556,
              "#d8576b"
             ],
             [
              0.6666666666666666,
              "#ed7953"
             ],
             [
              0.7777777777777778,
              "#fb9f3a"
             ],
             [
              0.8888888888888888,
              "#fdca26"
             ],
             [
              1,
              "#f0f921"
             ]
            ],
            "type": "heatmap"
           }
          ],
          "heatmapgl": [
           {
            "colorbar": {
             "outlinewidth": 0,
             "ticks": ""
            },
            "colorscale": [
             [
              0,
              "#0d0887"
             ],
             [
              0.1111111111111111,
              "#46039f"
             ],
             [
              0.2222222222222222,
              "#7201a8"
             ],
             [
              0.3333333333333333,
              "#9c179e"
             ],
             [
              0.4444444444444444,
              "#bd3786"
             ],
             [
              0.5555555555555556,
              "#d8576b"
             ],
             [
              0.6666666666666666,
              "#ed7953"
             ],
             [
              0.7777777777777778,
              "#fb9f3a"
             ],
             [
              0.8888888888888888,
              "#fdca26"
             ],
             [
              1,
              "#f0f921"
             ]
            ],
            "type": "heatmapgl"
           }
          ],
          "histogram": [
           {
            "marker": {
             "pattern": {
              "fillmode": "overlay",
              "size": 10,
              "solidity": 0.2
             }
            },
            "type": "histogram"
           }
          ],
          "histogram2d": [
           {
            "colorbar": {
             "outlinewidth": 0,
             "ticks": ""
            },
            "colorscale": [
             [
              0,
              "#0d0887"
             ],
             [
              0.1111111111111111,
              "#46039f"
             ],
             [
              0.2222222222222222,
              "#7201a8"
             ],
             [
              0.3333333333333333,
              "#9c179e"
             ],
             [
              0.4444444444444444,
              "#bd3786"
             ],
             [
              0.5555555555555556,
              "#d8576b"
             ],
             [
              0.6666666666666666,
              "#ed7953"
             ],
             [
              0.7777777777777778,
              "#fb9f3a"
             ],
             [
              0.8888888888888888,
              "#fdca26"
             ],
             [
              1,
              "#f0f921"
             ]
            ],
            "type": "histogram2d"
           }
          ],
          "histogram2dcontour": [
           {
            "colorbar": {
             "outlinewidth": 0,
             "ticks": ""
            },
            "colorscale": [
             [
              0,
              "#0d0887"
             ],
             [
              0.1111111111111111,
              "#46039f"
             ],
             [
              0.2222222222222222,
              "#7201a8"
             ],
             [
              0.3333333333333333,
              "#9c179e"
             ],
             [
              0.4444444444444444,
              "#bd3786"
             ],
             [
              0.5555555555555556,
              "#d8576b"
             ],
             [
              0.6666666666666666,
              "#ed7953"
             ],
             [
              0.7777777777777778,
              "#fb9f3a"
             ],
             [
              0.8888888888888888,
              "#fdca26"
             ],
             [
              1,
              "#f0f921"
             ]
            ],
            "type": "histogram2dcontour"
           }
          ],
          "mesh3d": [
           {
            "colorbar": {
             "outlinewidth": 0,
             "ticks": ""
            },
            "type": "mesh3d"
           }
          ],
          "parcoords": [
           {
            "line": {
             "colorbar": {
              "outlinewidth": 0,
              "ticks": ""
             }
            },
            "type": "parcoords"
           }
          ],
          "pie": [
           {
            "automargin": true,
            "type": "pie"
           }
          ],
          "scatter": [
           {
            "fillpattern": {
             "fillmode": "overlay",
             "size": 10,
             "solidity": 0.2
            },
            "type": "scatter"
           }
          ],
          "scatter3d": [
           {
            "line": {
             "colorbar": {
              "outlinewidth": 0,
              "ticks": ""
             }
            },
            "marker": {
             "colorbar": {
              "outlinewidth": 0,
              "ticks": ""
             }
            },
            "type": "scatter3d"
           }
          ],
          "scattercarpet": [
           {
            "marker": {
             "colorbar": {
              "outlinewidth": 0,
              "ticks": ""
             }
            },
            "type": "scattercarpet"
           }
          ],
          "scattergeo": [
           {
            "marker": {
             "colorbar": {
              "outlinewidth": 0,
              "ticks": ""
             }
            },
            "type": "scattergeo"
           }
          ],
          "scattergl": [
           {
            "marker": {
             "colorbar": {
              "outlinewidth": 0,
              "ticks": ""
             }
            },
            "type": "scattergl"
           }
          ],
          "scattermapbox": [
           {
            "marker": {
             "colorbar": {
              "outlinewidth": 0,
              "ticks": ""
             }
            },
            "type": "scattermapbox"
           }
          ],
          "scatterpolar": [
           {
            "marker": {
             "colorbar": {
              "outlinewidth": 0,
              "ticks": ""
             }
            },
            "type": "scatterpolar"
           }
          ],
          "scatterpolargl": [
           {
            "marker": {
             "colorbar": {
              "outlinewidth": 0,
              "ticks": ""
             }
            },
            "type": "scatterpolargl"
           }
          ],
          "scatterternary": [
           {
            "marker": {
             "colorbar": {
              "outlinewidth": 0,
              "ticks": ""
             }
            },
            "type": "scatterternary"
           }
          ],
          "surface": [
           {
            "colorbar": {
             "outlinewidth": 0,
             "ticks": ""
            },
            "colorscale": [
             [
              0,
              "#0d0887"
             ],
             [
              0.1111111111111111,
              "#46039f"
             ],
             [
              0.2222222222222222,
              "#7201a8"
             ],
             [
              0.3333333333333333,
              "#9c179e"
             ],
             [
              0.4444444444444444,
              "#bd3786"
             ],
             [
              0.5555555555555556,
              "#d8576b"
             ],
             [
              0.6666666666666666,
              "#ed7953"
             ],
             [
              0.7777777777777778,
              "#fb9f3a"
             ],
             [
              0.8888888888888888,
              "#fdca26"
             ],
             [
              1,
              "#f0f921"
             ]
            ],
            "type": "surface"
           }
          ],
          "table": [
           {
            "cells": {
             "fill": {
              "color": "#EBF0F8"
             },
             "line": {
              "color": "white"
             }
            },
            "header": {
             "fill": {
              "color": "#C8D4E3"
             },
             "line": {
              "color": "white"
             }
            },
            "type": "table"
           }
          ]
         },
         "layout": {
          "annotationdefaults": {
           "arrowcolor": "#2a3f5f",
           "arrowhead": 0,
           "arrowwidth": 1
          },
          "autotypenumbers": "strict",
          "coloraxis": {
           "colorbar": {
            "outlinewidth": 0,
            "ticks": ""
           }
          },
          "colorscale": {
           "diverging": [
            [
             0,
             "#8e0152"
            ],
            [
             0.1,
             "#c51b7d"
            ],
            [
             0.2,
             "#de77ae"
            ],
            [
             0.3,
             "#f1b6da"
            ],
            [
             0.4,
             "#fde0ef"
            ],
            [
             0.5,
             "#f7f7f7"
            ],
            [
             0.6,
             "#e6f5d0"
            ],
            [
             0.7,
             "#b8e186"
            ],
            [
             0.8,
             "#7fbc41"
            ],
            [
             0.9,
             "#4d9221"
            ],
            [
             1,
             "#276419"
            ]
           ],
           "sequential": [
            [
             0,
             "#0d0887"
            ],
            [
             0.1111111111111111,
             "#46039f"
            ],
            [
             0.2222222222222222,
             "#7201a8"
            ],
            [
             0.3333333333333333,
             "#9c179e"
            ],
            [
             0.4444444444444444,
             "#bd3786"
            ],
            [
             0.5555555555555556,
             "#d8576b"
            ],
            [
             0.6666666666666666,
             "#ed7953"
            ],
            [
             0.7777777777777778,
             "#fb9f3a"
            ],
            [
             0.8888888888888888,
             "#fdca26"
            ],
            [
             1,
             "#f0f921"
            ]
           ],
           "sequentialminus": [
            [
             0,
             "#0d0887"
            ],
            [
             0.1111111111111111,
             "#46039f"
            ],
            [
             0.2222222222222222,
             "#7201a8"
            ],
            [
             0.3333333333333333,
             "#9c179e"
            ],
            [
             0.4444444444444444,
             "#bd3786"
            ],
            [
             0.5555555555555556,
             "#d8576b"
            ],
            [
             0.6666666666666666,
             "#ed7953"
            ],
            [
             0.7777777777777778,
             "#fb9f3a"
            ],
            [
             0.8888888888888888,
             "#fdca26"
            ],
            [
             1,
             "#f0f921"
            ]
           ]
          },
          "colorway": [
           "#636efa",
           "#EF553B",
           "#00cc96",
           "#ab63fa",
           "#FFA15A",
           "#19d3f3",
           "#FF6692",
           "#B6E880",
           "#FF97FF",
           "#FECB52"
          ],
          "font": {
           "color": "#2a3f5f"
          },
          "geo": {
           "bgcolor": "white",
           "lakecolor": "white",
           "landcolor": "#E5ECF6",
           "showlakes": true,
           "showland": true,
           "subunitcolor": "white"
          },
          "hoverlabel": {
           "align": "left"
          },
          "hovermode": "closest",
          "mapbox": {
           "style": "light"
          },
          "paper_bgcolor": "white",
          "plot_bgcolor": "#E5ECF6",
          "polar": {
           "angularaxis": {
            "gridcolor": "white",
            "linecolor": "white",
            "ticks": ""
           },
           "bgcolor": "#E5ECF6",
           "radialaxis": {
            "gridcolor": "white",
            "linecolor": "white",
            "ticks": ""
           }
          },
          "scene": {
           "xaxis": {
            "backgroundcolor": "#E5ECF6",
            "gridcolor": "white",
            "gridwidth": 2,
            "linecolor": "white",
            "showbackground": true,
            "ticks": "",
            "zerolinecolor": "white"
           },
           "yaxis": {
            "backgroundcolor": "#E5ECF6",
            "gridcolor": "white",
            "gridwidth": 2,
            "linecolor": "white",
            "showbackground": true,
            "ticks": "",
            "zerolinecolor": "white"
           },
           "zaxis": {
            "backgroundcolor": "#E5ECF6",
            "gridcolor": "white",
            "gridwidth": 2,
            "linecolor": "white",
            "showbackground": true,
            "ticks": "",
            "zerolinecolor": "white"
           }
          },
          "shapedefaults": {
           "line": {
            "color": "#2a3f5f"
           }
          },
          "ternary": {
           "aaxis": {
            "gridcolor": "white",
            "linecolor": "white",
            "ticks": ""
           },
           "baxis": {
            "gridcolor": "white",
            "linecolor": "white",
            "ticks": ""
           },
           "bgcolor": "#E5ECF6",
           "caxis": {
            "gridcolor": "white",
            "linecolor": "white",
            "ticks": ""
           }
          },
          "title": {
           "x": 0.05
          },
          "xaxis": {
           "automargin": true,
           "gridcolor": "white",
           "linecolor": "white",
           "ticks": "",
           "title": {
            "standoff": 15
           },
           "zerolinecolor": "white",
           "zerolinewidth": 2
          },
          "yaxis": {
           "automargin": true,
           "gridcolor": "white",
           "linecolor": "white",
           "ticks": "",
           "title": {
            "standoff": 15
           },
           "zerolinecolor": "white",
           "zerolinewidth": 2
          }
         }
        },
        "title": {
         "text": "Dates in Test set"
        },
        "width": 800
       }
      },
      "text/html": [
       "<div>                            <div id=\"70fc694d-5ea2-4b79-abd7-d54f9364699f\" class=\"plotly-graph-div\" style=\"height:400px; width:800px;\"></div>            <script type=\"text/javascript\">                require([\"plotly\"], function(Plotly) {                    window.PLOTLYENV=window.PLOTLYENV || {};                                    if (document.getElementById(\"70fc694d-5ea2-4b79-abd7-d54f9364699f\")) {                    Plotly.newPlot(                        \"70fc694d-5ea2-4b79-abd7-d54f9364699f\",                        [{\"marker\":{\"color\":\"red\"},\"showlegend\":false,\"x\":[\"2018-04-30\",\"2018-04-29\",\"2018-04-28\",\"2018-04-27\",\"2018-04-26\",\"2018-04-25\",\"2018-04-24\",\"2018-04-23\",\"2018-04-22\",\"2018-04-21\",\"2018-04-20\",\"2018-04-19\",\"2018-04-18\",\"2018-04-17\",\"2018-04-16\",\"2018-04-15\",\"2018-04-14\",\"2018-04-13\",\"2018-04-12\",\"2018-04-11\",\"2018-04-10\",\"2018-04-09\",\"2018-04-08\",\"2018-04-07\",\"2018-04-06\",\"2018-04-05\",\"2018-04-04\",\"2018-04-03\",\"2018-04-02\",\"2018-04-01\",\"2018-03-31\",\"2018-03-30\",\"2018-03-29\",\"2018-03-28\",\"2018-03-27\",\"2018-03-26\",\"2018-03-25\",\"2018-03-24\",\"2018-03-23\",\"2018-03-22\",\"2018-03-21\",\"2018-03-20\",\"2018-03-19\",\"2018-03-18\",\"2018-03-17\",\"2018-03-16\",\"2018-03-15\",\"2018-03-14\",\"2018-03-13\",\"2018-03-12\",\"2018-03-11\",\"2018-03-10\",\"2018-03-09\",\"2018-03-08\",\"2018-03-07\",\"2018-03-06\",\"2018-03-05\",\"2018-03-04\",\"2018-03-03\",\"2018-03-02\",\"2018-03-01\",\"2018-02-28\",\"2018-02-27\",\"2018-02-26\",\"2018-02-25\",\"2018-02-24\",\"2018-02-23\",\"2018-02-22\",\"2018-02-21\",\"2018-02-20\",\"2018-02-19\",\"2018-02-18\",\"2018-02-17\",\"2018-02-16\",\"2018-02-15\",\"2018-02-14\",\"2018-02-13\",\"2018-02-12\",\"2018-02-11\",\"2018-02-10\",\"2018-02-09\",\"2018-02-08\",\"2018-02-07\",\"2018-02-06\",\"2018-02-05\",\"2018-02-04\",\"2018-02-03\",\"2018-02-02\",\"2018-02-01\",\"2018-01-31\",\"2018-01-30\",\"2018-01-29\",\"2018-01-28\",\"2018-01-27\",\"2018-01-26\",\"2018-01-25\",\"2018-01-24\",\"2018-01-23\",\"2018-01-22\",\"2018-01-21\",\"2018-01-20\",\"2018-01-19\",\"2018-01-18\",\"2018-01-17\",\"2018-01-16\",\"2018-01-15\",\"2018-01-14\",\"2018-01-13\",\"2018-01-12\",\"2018-01-11\",\"2018-01-10\",\"2018-01-09\",\"2018-01-08\",\"2018-01-07\",\"2018-01-06\",\"2018-01-05\",\"2018-01-04\",\"2018-01-03\",\"2018-01-02\",\"2018-01-01\",\"2017-12-31\",\"2017-12-30\",\"2017-12-29\",\"2017-12-28\",\"2017-12-27\",\"2017-12-26\",\"2017-12-25\",\"2017-12-24\",\"2017-12-23\",\"2017-12-22\",\"2017-12-21\",\"2017-12-20\",\"2017-12-19\",\"2017-12-18\",\"2017-12-17\",\"2017-12-16\",\"2017-12-15\",\"2017-12-14\",\"2017-12-13\",\"2017-12-12\",\"2017-12-11\",\"2017-12-10\",\"2017-12-09\",\"2017-12-08\",\"2017-12-07\",\"2017-12-06\",\"2017-12-05\",\"2017-12-04\",\"2017-12-03\",\"2017-12-02\",\"2017-12-01\",\"2017-11-30\",\"2017-11-29\",\"2017-11-28\",\"2017-11-27\",\"2017-11-26\",\"2017-11-25\",\"2017-11-24\",\"2017-11-23\",\"2017-11-22\",\"2017-11-21\",\"2017-11-20\",\"2017-11-19\",\"2017-11-18\",\"2017-11-17\",\"2017-11-16\",\"2017-11-15\",\"2017-11-14\",\"2017-11-13\",\"2017-11-12\",\"2017-11-11\",\"2017-11-10\",\"2017-11-09\",\"2017-11-08\",\"2017-11-07\",\"2017-11-06\",\"2017-11-05\",\"2017-11-04\",\"2017-11-03\",\"2017-11-02\",\"2017-11-01\",\"2017-10-31\",\"2017-10-30\",\"2017-10-29\",\"2017-10-28\",\"2017-10-27\",\"2017-10-26\",\"2017-10-25\",\"2017-10-24\",\"2017-10-23\",\"2017-10-22\",\"2017-10-21\",\"2017-10-20\",\"2017-10-19\",\"2017-10-18\",\"2017-10-17\",\"2017-10-16\",\"2017-10-15\",\"2017-10-14\",\"2017-10-13\",\"2017-10-12\",\"2017-10-11\",\"2017-10-10\",\"2017-10-09\",\"2017-10-08\",\"2017-10-07\",\"2017-10-06\",\"2017-10-05\",\"2017-10-04\",\"2017-10-03\",\"2017-10-02\",\"2017-10-01\",\"2017-09-30\",\"2017-09-29\",\"2017-09-28\",\"2017-09-27\",\"2017-09-26\",\"2017-09-25\",\"2017-09-24\",\"2017-09-23\",\"2017-09-22\",\"2017-09-21\",\"2017-09-20\",\"2017-09-19\",\"2017-09-18\",\"2017-09-17\",\"2017-09-16\",\"2017-09-15\",\"2017-09-14\",\"2017-09-13\",\"2017-09-12\",\"2017-09-11\",\"2017-09-10\",\"2017-09-09\",\"2017-09-08\",\"2017-09-07\",\"2017-09-06\",\"2017-09-05\",\"2017-09-04\",\"2017-09-03\",\"2017-09-02\",\"2017-09-01\",\"2017-08-31\",\"2017-08-30\",\"2017-08-29\",\"2017-08-28\",\"2017-08-27\",\"2017-08-26\",\"2017-08-25\",\"2017-08-24\",\"2017-08-23\",\"2017-08-22\",\"2017-08-21\",\"2017-08-20\",\"2017-08-19\",\"2017-08-18\",\"2017-08-17\",\"2017-08-16\",\"2017-08-15\",\"2017-08-14\",\"2017-08-13\",\"2017-08-12\",\"2017-08-11\",\"2017-08-10\",\"2017-08-09\",\"2017-08-08\",\"2017-08-07\",\"2017-08-06\",\"2017-08-05\",\"2017-08-04\",\"2017-08-03\",\"2017-08-02\"],\"y\":[2753,1977,1972,2626,3177,3058,3134,3104,2147,1920,2581,3084,3201,3229,3129,2089,1900,2716,3201,3084,3263,3141,2434,2144,2653,2936,3299,3405,3176,2068,1843,2679,3310,3724,4227,3077,2146,2228,2891,3570,4434,3251,3603,2317,2201,2993,3498,3344,3484,3598,2252,2285,2877,3092,3227,3824,3221,2386,2390,2922,3195,3163,3516,3989,2446,2247,3055,3596,3392,3501,2871,2627,2371,2738,3128,3272,3434,3547,2708,2469,2964,2953,3012,2999,3041,2171,2063,2697,3034,3021,3062,3017,2198,2073,2672,3502,2987,2901,2951,2012,2024,2784,2842,3120,3241,3070,2242,2115,2756,2954,3176,3223,2751,2068,1931,2613,2812,2747,2715,1810,1495,1768,1902,2255,2716,2370,2085,1960,1998,2422,2930,3196,3407,3601,2523,2597,3527,3587,9131,9234,3259,2487,2239,2880,3624,3577,3395,3328,2439,2254,2918,3178,3452,3934,4194,2553,2269,2901,2964,3033,2905,3318,2311,2123,3230,3530,3581,3573,3383,2784,2471,3186,3628,4136,3846,3542,2642,2330,2937,2880,2875,2774,3144,2217,2293,3134,3547,3290,3318,3427,2662,2251,2976,3205,3493,4258,2989,2121,2395,2699,3002,3368,3961,3976,3329,3539,4033,4679,5122,3621,3470,2993,2634,2989,3396,3303,3655,2987,2556,2200,3313,4715,4880,3526,3626,2856,2821,2691,2850,2790,2784,2831,1992,2026,2564,2793,2831,2852,2313,2064,1966,2471,2955,3121,3263,2748,2162,2177,2422,3716,3267,3143,2860,1985,2018,2861,3203,2862,3109,3487,1996,2012,2769,2852,2855,3059,2846,2340,1796,2843,2691,2828],\"type\":\"scatter\"}],                        {\"height\":400,\"paper_bgcolor\":\"rgb(233,233,233)\",\"template\":{\"data\":{\"barpolar\":[{\"marker\":{\"line\":{\"color\":\"#E5ECF6\",\"width\":0.5},\"pattern\":{\"fillmode\":\"overlay\",\"size\":10,\"solidity\":0.2}},\"type\":\"barpolar\"}],\"bar\":[{\"error_x\":{\"color\":\"#2a3f5f\"},\"error_y\":{\"color\":\"#2a3f5f\"},\"marker\":{\"line\":{\"color\":\"#E5ECF6\",\"width\":0.5},\"pattern\":{\"fillmode\":\"overlay\",\"size\":10,\"solidity\":0.2}},\"type\":\"bar\"}],\"carpet\":[{\"aaxis\":{\"endlinecolor\":\"#2a3f5f\",\"gridcolor\":\"white\",\"linecolor\":\"white\",\"minorgridcolor\":\"white\",\"startlinecolor\":\"#2a3f5f\"},\"baxis\":{\"endlinecolor\":\"#2a3f5f\",\"gridcolor\":\"white\",\"linecolor\":\"white\",\"minorgridcolor\":\"white\",\"startlinecolor\":\"#2a3f5f\"},\"type\":\"carpet\"}],\"choropleth\":[{\"colorbar\":{\"outlinewidth\":0,\"ticks\":\"\"},\"type\":\"choropleth\"}],\"contourcarpet\":[{\"colorbar\":{\"outlinewidth\":0,\"ticks\":\"\"},\"type\":\"contourcarpet\"}],\"contour\":[{\"colorbar\":{\"outlinewidth\":0,\"ticks\":\"\"},\"colorscale\":[[0.0,\"#0d0887\"],[0.1111111111111111,\"#46039f\"],[0.2222222222222222,\"#7201a8\"],[0.3333333333333333,\"#9c179e\"],[0.4444444444444444,\"#bd3786\"],[0.5555555555555556,\"#d8576b\"],[0.6666666666666666,\"#ed7953\"],[0.7777777777777778,\"#fb9f3a\"],[0.8888888888888888,\"#fdca26\"],[1.0,\"#f0f921\"]],\"type\":\"contour\"}],\"heatmapgl\":[{\"colorbar\":{\"outlinewidth\":0,\"ticks\":\"\"},\"colorscale\":[[0.0,\"#0d0887\"],[0.1111111111111111,\"#46039f\"],[0.2222222222222222,\"#7201a8\"],[0.3333333333333333,\"#9c179e\"],[0.4444444444444444,\"#bd3786\"],[0.5555555555555556,\"#d8576b\"],[0.6666666666666666,\"#ed7953\"],[0.7777777777777778,\"#fb9f3a\"],[0.8888888888888888,\"#fdca26\"],[1.0,\"#f0f921\"]],\"type\":\"heatmapgl\"}],\"heatmap\":[{\"colorbar\":{\"outlinewidth\":0,\"ticks\":\"\"},\"colorscale\":[[0.0,\"#0d0887\"],[0.1111111111111111,\"#46039f\"],[0.2222222222222222,\"#7201a8\"],[0.3333333333333333,\"#9c179e\"],[0.4444444444444444,\"#bd3786\"],[0.5555555555555556,\"#d8576b\"],[0.6666666666666666,\"#ed7953\"],[0.7777777777777778,\"#fb9f3a\"],[0.8888888888888888,\"#fdca26\"],[1.0,\"#f0f921\"]],\"type\":\"heatmap\"}],\"histogram2dcontour\":[{\"colorbar\":{\"outlinewidth\":0,\"ticks\":\"\"},\"colorscale\":[[0.0,\"#0d0887\"],[0.1111111111111111,\"#46039f\"],[0.2222222222222222,\"#7201a8\"],[0.3333333333333333,\"#9c179e\"],[0.4444444444444444,\"#bd3786\"],[0.5555555555555556,\"#d8576b\"],[0.6666666666666666,\"#ed7953\"],[0.7777777777777778,\"#fb9f3a\"],[0.8888888888888888,\"#fdca26\"],[1.0,\"#f0f921\"]],\"type\":\"histogram2dcontour\"}],\"histogram2d\":[{\"colorbar\":{\"outlinewidth\":0,\"ticks\":\"\"},\"colorscale\":[[0.0,\"#0d0887\"],[0.1111111111111111,\"#46039f\"],[0.2222222222222222,\"#7201a8\"],[0.3333333333333333,\"#9c179e\"],[0.4444444444444444,\"#bd3786\"],[0.5555555555555556,\"#d8576b\"],[0.6666666666666666,\"#ed7953\"],[0.7777777777777778,\"#fb9f3a\"],[0.8888888888888888,\"#fdca26\"],[1.0,\"#f0f921\"]],\"type\":\"histogram2d\"}],\"histogram\":[{\"marker\":{\"pattern\":{\"fillmode\":\"overlay\",\"size\":10,\"solidity\":0.2}},\"type\":\"histogram\"}],\"mesh3d\":[{\"colorbar\":{\"outlinewidth\":0,\"ticks\":\"\"},\"type\":\"mesh3d\"}],\"parcoords\":[{\"line\":{\"colorbar\":{\"outlinewidth\":0,\"ticks\":\"\"}},\"type\":\"parcoords\"}],\"pie\":[{\"automargin\":true,\"type\":\"pie\"}],\"scatter3d\":[{\"line\":{\"colorbar\":{\"outlinewidth\":0,\"ticks\":\"\"}},\"marker\":{\"colorbar\":{\"outlinewidth\":0,\"ticks\":\"\"}},\"type\":\"scatter3d\"}],\"scattercarpet\":[{\"marker\":{\"colorbar\":{\"outlinewidth\":0,\"ticks\":\"\"}},\"type\":\"scattercarpet\"}],\"scattergeo\":[{\"marker\":{\"colorbar\":{\"outlinewidth\":0,\"ticks\":\"\"}},\"type\":\"scattergeo\"}],\"scattergl\":[{\"marker\":{\"colorbar\":{\"outlinewidth\":0,\"ticks\":\"\"}},\"type\":\"scattergl\"}],\"scattermapbox\":[{\"marker\":{\"colorbar\":{\"outlinewidth\":0,\"ticks\":\"\"}},\"type\":\"scattermapbox\"}],\"scatterpolargl\":[{\"marker\":{\"colorbar\":{\"outlinewidth\":0,\"ticks\":\"\"}},\"type\":\"scatterpolargl\"}],\"scatterpolar\":[{\"marker\":{\"colorbar\":{\"outlinewidth\":0,\"ticks\":\"\"}},\"type\":\"scatterpolar\"}],\"scatter\":[{\"fillpattern\":{\"fillmode\":\"overlay\",\"size\":10,\"solidity\":0.2},\"type\":\"scatter\"}],\"scatterternary\":[{\"marker\":{\"colorbar\":{\"outlinewidth\":0,\"ticks\":\"\"}},\"type\":\"scatterternary\"}],\"surface\":[{\"colorbar\":{\"outlinewidth\":0,\"ticks\":\"\"},\"colorscale\":[[0.0,\"#0d0887\"],[0.1111111111111111,\"#46039f\"],[0.2222222222222222,\"#7201a8\"],[0.3333333333333333,\"#9c179e\"],[0.4444444444444444,\"#bd3786\"],[0.5555555555555556,\"#d8576b\"],[0.6666666666666666,\"#ed7953\"],[0.7777777777777778,\"#fb9f3a\"],[0.8888888888888888,\"#fdca26\"],[1.0,\"#f0f921\"]],\"type\":\"surface\"}],\"table\":[{\"cells\":{\"fill\":{\"color\":\"#EBF0F8\"},\"line\":{\"color\":\"white\"}},\"header\":{\"fill\":{\"color\":\"#C8D4E3\"},\"line\":{\"color\":\"white\"}},\"type\":\"table\"}]},\"layout\":{\"annotationdefaults\":{\"arrowcolor\":\"#2a3f5f\",\"arrowhead\":0,\"arrowwidth\":1},\"autotypenumbers\":\"strict\",\"coloraxis\":{\"colorbar\":{\"outlinewidth\":0,\"ticks\":\"\"}},\"colorscale\":{\"diverging\":[[0,\"#8e0152\"],[0.1,\"#c51b7d\"],[0.2,\"#de77ae\"],[0.3,\"#f1b6da\"],[0.4,\"#fde0ef\"],[0.5,\"#f7f7f7\"],[0.6,\"#e6f5d0\"],[0.7,\"#b8e186\"],[0.8,\"#7fbc41\"],[0.9,\"#4d9221\"],[1,\"#276419\"]],\"sequential\":[[0.0,\"#0d0887\"],[0.1111111111111111,\"#46039f\"],[0.2222222222222222,\"#7201a8\"],[0.3333333333333333,\"#9c179e\"],[0.4444444444444444,\"#bd3786\"],[0.5555555555555556,\"#d8576b\"],[0.6666666666666666,\"#ed7953\"],[0.7777777777777778,\"#fb9f3a\"],[0.8888888888888888,\"#fdca26\"],[1.0,\"#f0f921\"]],\"sequentialminus\":[[0.0,\"#0d0887\"],[0.1111111111111111,\"#46039f\"],[0.2222222222222222,\"#7201a8\"],[0.3333333333333333,\"#9c179e\"],[0.4444444444444444,\"#bd3786\"],[0.5555555555555556,\"#d8576b\"],[0.6666666666666666,\"#ed7953\"],[0.7777777777777778,\"#fb9f3a\"],[0.8888888888888888,\"#fdca26\"],[1.0,\"#f0f921\"]]},\"colorway\":[\"#636efa\",\"#EF553B\",\"#00cc96\",\"#ab63fa\",\"#FFA15A\",\"#19d3f3\",\"#FF6692\",\"#B6E880\",\"#FF97FF\",\"#FECB52\"],\"font\":{\"color\":\"#2a3f5f\"},\"geo\":{\"bgcolor\":\"white\",\"lakecolor\":\"white\",\"landcolor\":\"#E5ECF6\",\"showlakes\":true,\"showland\":true,\"subunitcolor\":\"white\"},\"hoverlabel\":{\"align\":\"left\"},\"hovermode\":\"closest\",\"mapbox\":{\"style\":\"light\"},\"paper_bgcolor\":\"white\",\"plot_bgcolor\":\"#E5ECF6\",\"polar\":{\"angularaxis\":{\"gridcolor\":\"white\",\"linecolor\":\"white\",\"ticks\":\"\"},\"bgcolor\":\"#E5ECF6\",\"radialaxis\":{\"gridcolor\":\"white\",\"linecolor\":\"white\",\"ticks\":\"\"}},\"scene\":{\"xaxis\":{\"backgroundcolor\":\"#E5ECF6\",\"gridcolor\":\"white\",\"gridwidth\":2,\"linecolor\":\"white\",\"showbackground\":true,\"ticks\":\"\",\"zerolinecolor\":\"white\"},\"yaxis\":{\"backgroundcolor\":\"#E5ECF6\",\"gridcolor\":\"white\",\"gridwidth\":2,\"linecolor\":\"white\",\"showbackground\":true,\"ticks\":\"\",\"zerolinecolor\":\"white\"},\"zaxis\":{\"backgroundcolor\":\"#E5ECF6\",\"gridcolor\":\"white\",\"gridwidth\":2,\"linecolor\":\"white\",\"showbackground\":true,\"ticks\":\"\",\"zerolinecolor\":\"white\"}},\"shapedefaults\":{\"line\":{\"color\":\"#2a3f5f\"}},\"ternary\":{\"aaxis\":{\"gridcolor\":\"white\",\"linecolor\":\"white\",\"ticks\":\"\"},\"baxis\":{\"gridcolor\":\"white\",\"linecolor\":\"white\",\"ticks\":\"\"},\"bgcolor\":\"#E5ECF6\",\"caxis\":{\"gridcolor\":\"white\",\"linecolor\":\"white\",\"ticks\":\"\"}},\"title\":{\"x\":0.05},\"xaxis\":{\"automargin\":true,\"gridcolor\":\"white\",\"linecolor\":\"white\",\"ticks\":\"\",\"title\":{\"standoff\":15},\"zerolinecolor\":\"white\",\"zerolinewidth\":2},\"yaxis\":{\"automargin\":true,\"gridcolor\":\"white\",\"linecolor\":\"white\",\"ticks\":\"\",\"title\":{\"standoff\":15},\"zerolinecolor\":\"white\",\"zerolinewidth\":2}}},\"title\":{\"text\":\"Dates in Test set\"},\"width\":800},                        {\"responsive\": true}                    ).then(function(){\n",
       "                            \n",
       "var gd = document.getElementById('70fc694d-5ea2-4b79-abd7-d54f9364699f');\n",
       "var x = new MutationObserver(function (mutations, observer) {{\n",
       "        var display = window.getComputedStyle(gd).display;\n",
       "        if (!display || display === 'none') {{\n",
       "            console.log([gd, 'removed!']);\n",
       "            Plotly.purge(gd);\n",
       "            observer.disconnect();\n",
       "        }}\n",
       "}});\n",
       "\n",
       "// Listen for the removal of the full notebook cells\n",
       "var notebookContainer = gd.closest('#notebook-container');\n",
       "if (notebookContainer) {{\n",
       "    x.observe(notebookContainer, {childList: true});\n",
       "}}\n",
       "\n",
       "// Listen for the clearing of the current output cell\n",
       "var outputEl = gd.closest('.output');\n",
       "if (outputEl) {{\n",
       "    x.observe(outputEl, {childList: true});\n",
       "}}\n",
       "\n",
       "                        })                };                });            </script>        </div>"
      ]
     },
     "metadata": {},
     "output_type": "display_data"
    }
   ],
   "source": [
    "test_df['date'] = test_df['date'].apply(lambda x: datetime.date(int(str(x)[:4]), int(str(x)[4:6]), int(str(x)[6:])))\n",
    "cnt_srs = test_df.groupby('date')['fullVisitorId'].size()\n",
    "\n",
    "\n",
    "trace = scatter_plot(cnt_srs, 'red')\n",
    "\n",
    "layout = go.Layout(\n",
    "    height=400,\n",
    "    width=800,\n",
    "    paper_bgcolor='rgb(233,233,233)',\n",
    "    title='Dates in Test set'\n",
    ")\n",
    "\n",
    "data = [trace]\n",
    "fig = go.Figure(data=data, layout=layout)\n",
    "py.iplot(fig, filename=\"ActivationDate\")"
   ]
  },
  {
   "cell_type": "code",
   "execution_count": 26,
   "id": "46a21146",
   "metadata": {},
   "outputs": [
    {
     "name": "stderr",
     "output_type": "stream",
     "text": [
      "C:\\Users\\Manoj Kumar\\anaconda3\\lib\\site-packages\\plotly\\tools.py:460: DeprecationWarning:\n",
      "\n",
      "plotly.tools.make_subplots is deprecated, please use plotly.subplots.make_subplots instead\n",
      "\n"
     ]
    },
    {
     "data": {
      "application/vnd.plotly.v1+json": {
       "config": {
        "linkText": "Export to plot.ly",
        "plotlyServerURL": "https://plot.ly",
        "showLink": false
       },
       "data": [
        {
         "marker": {
          "color": "rgba(58, 71, 80, 0.6)"
         },
         "orientation": "h",
         "showlegend": false,
         "type": "bar",
         "x": [
          1468,
          14745,
          15054,
          198311,
          223698,
          450377
         ],
         "xaxis": "x",
         "y": [
          "(not set)",
          "Africa",
          "Oceania",
          "Europe",
          "Asia",
          "Americas"
         ],
         "yaxis": "y"
        },
        {
         "marker": {
          "color": "rgba(58, 71, 80, 0.6)"
         },
         "orientation": "h",
         "showlegend": false,
         "type": "bar",
         "x": [
          6,
          8,
          14,
          79,
          125,
          11283
         ],
         "xaxis": "x2",
         "y": [
          "(not set)",
          "Africa",
          "Oceania",
          "Europe",
          "Asia",
          "Americas"
         ],
         "yaxis": "y2"
        },
        {
         "marker": {
          "color": "rgba(58, 71, 80, 0.6)"
         },
         "orientation": "h",
         "showlegend": false,
         "type": "bar",
         "x": [
          128296666.66666667,
          1085970000,
          128087857.14285715,
          85405443.03797469,
          139214720,
          133357404.94549322
         ],
         "xaxis": "x3",
         "y": [
          "(not set)",
          "Africa",
          "Oceania",
          "Europe",
          "Asia",
          "Americas"
         ],
         "yaxis": "y3"
        },
        {
         "marker": {
          "color": "orange"
         },
         "orientation": "h",
         "showlegend": false,
         "type": "bar",
         "x": [
          25,
          55,
          81,
          393,
          1215,
          1468,
          1927,
          2169,
          2406,
          2573,
          7683,
          14893,
          15583,
          35780,
          38443,
          41731,
          45249,
          46919,
          58168,
          59114,
          59321,
          77800,
          390657
         ],
         "xaxis": "x4",
         "y": [
          "Polynesia",
          "Micronesian Region",
          "Melanesia",
          "Middle Africa",
          "Central Asia",
          "(not set)",
          "Eastern Africa",
          "Southern Africa",
          "Caribbean",
          "Western Africa",
          "Northern Africa",
          "Australasia",
          "Central America",
          "Southern Europe",
          "Western Asia",
          "South America",
          "Eastern Europe",
          "Eastern Asia",
          "Northern Europe",
          "Western Europe",
          "Southern Asia",
          "Southeast Asia",
          "Northern America"
         ],
         "yaxis": "y4"
        },
        {
         "marker": {
          "color": "orange"
         },
         "orientation": "h",
         "showlegend": false,
         "type": "bar",
         "x": [
          0,
          0,
          0,
          0,
          2,
          6,
          3,
          2,
          16,
          2,
          1,
          14,
          26,
          8,
          21,
          98,
          14,
          59,
          27,
          30,
          11,
          32,
          11143
         ],
         "xaxis": "x5",
         "y": [
          "Polynesia",
          "Micronesian Region",
          "Melanesia",
          "Middle Africa",
          "Central Asia",
          "(not set)",
          "Eastern Africa",
          "Southern Africa",
          "Caribbean",
          "Western Africa",
          "Northern Africa",
          "Australasia",
          "Central America",
          "Southern Europe",
          "Western Asia",
          "South America",
          "Eastern Europe",
          "Eastern Asia",
          "Northern Europe",
          "Western Europe",
          "Southern Asia",
          "Southeast Asia",
          "Northern America"
         ],
         "yaxis": "y5"
        },
        {
         "marker": {
          "color": "orange"
         },
         "orientation": "h",
         "showlegend": false,
         "type": "bar",
         "x": [
          null,
          null,
          null,
          null,
          17490000,
          128296666.66666667,
          1756233333.3333333,
          32850000,
          97721875,
          1651200000,
          50960000,
          128087857.14285715,
          73290384.61538461,
          120501250,
          84811428.57142857,
          162625612.24489796,
          67628571.42857143,
          187715593.22033897,
          73847407.4074074,
          94744666.66666667,
          68600909.0909091,
          117374687.5,
          133291321.00870502
         ],
         "xaxis": "x6",
         "y": [
          "Polynesia",
          "Micronesian Region",
          "Melanesia",
          "Middle Africa",
          "Central Asia",
          "(not set)",
          "Eastern Africa",
          "Southern Africa",
          "Caribbean",
          "Western Africa",
          "Northern Africa",
          "Australasia",
          "Central America",
          "Southern Europe",
          "Western Asia",
          "South America",
          "Eastern Europe",
          "Eastern Asia",
          "Northern Europe",
          "Western Europe",
          "Southern Asia",
          "Southeast Asia",
          "Northern America"
         ],
         "yaxis": "y6"
        },
        {
         "marker": {
          "color": "blue"
         },
         "orientation": "h",
         "showlegend": false,
         "type": "bar",
         "x": [
          6046,
          6414,
          7919,
          9985,
          13228,
          13637,
          14827,
          28743,
          146034,
          244881
         ],
         "xaxis": "x7",
         "y": [
          "3bb.co.th",
          "virginm.net",
          "hinet.net",
          "comcastbusiness.net",
          "ttnet.com.tr",
          "verizon.net",
          "rr.com",
          "comcast.net",
          "unknown.unknown",
          "(not set)"
         ],
         "yaxis": "y7"
        },
        {
         "marker": {
          "color": "blue"
         },
         "orientation": "h",
         "showlegend": false,
         "type": "bar",
         "x": [
          1,
          1,
          11,
          294,
          1,
          469,
          364,
          934,
          400,
          6645
         ],
         "xaxis": "x8",
         "y": [
          "3bb.co.th",
          "virginm.net",
          "hinet.net",
          "comcastbusiness.net",
          "ttnet.com.tr",
          "verizon.net",
          "rr.com",
          "comcast.net",
          "unknown.unknown",
          "(not set)"
         ],
         "yaxis": "y8"
        },
        {
         "marker": {
          "color": "blue"
         },
         "orientation": "h",
         "showlegend": false,
         "type": "bar",
         "x": [
          140590000,
          62270000,
          60891818.18181818,
          497096632.6530612,
          17460000,
          112833624.73347548,
          82780714.28571428,
          131873201.28479658,
          87253850,
          127654487.58465011
         ],
         "xaxis": "x9",
         "y": [
          "3bb.co.th",
          "virginm.net",
          "hinet.net",
          "comcastbusiness.net",
          "ttnet.com.tr",
          "verizon.net",
          "rr.com",
          "comcast.net",
          "unknown.unknown",
          "(not set)"
         ],
         "yaxis": "y9"
        }
       ],
       "layout": {
        "annotations": [
         {
          "font": {
           "size": 16
          },
          "showarrow": false,
          "text": "Continent - Count",
          "x": 0.11666666666666665,
          "xanchor": "center",
          "xref": "paper",
          "y": 1,
          "yanchor": "bottom",
          "yref": "paper"
         },
         {
          "font": {
           "size": 16
          },
          "showarrow": false,
          "text": "Continent - Non-zero Revenue Count",
          "x": 0.49999999999999994,
          "xanchor": "center",
          "xref": "paper",
          "y": 1,
          "yanchor": "bottom",
          "yref": "paper"
         },
         {
          "font": {
           "size": 16
          },
          "showarrow": false,
          "text": "Continent - Mean Revenue",
          "x": 0.8833333333333333,
          "xanchor": "center",
          "xref": "paper",
          "y": 1,
          "yanchor": "bottom",
          "yref": "paper"
         },
         {
          "font": {
           "size": 16
          },
          "showarrow": false,
          "text": "Sub Continent - Count",
          "x": 0.11666666666666665,
          "xanchor": "center",
          "xref": "paper",
          "y": 0.6399999999999999,
          "yanchor": "bottom",
          "yref": "paper"
         },
         {
          "font": {
           "size": 16
          },
          "showarrow": false,
          "text": "Sub Continent - Non-zero Revenue Count",
          "x": 0.49999999999999994,
          "xanchor": "center",
          "xref": "paper",
          "y": 0.6399999999999999,
          "yanchor": "bottom",
          "yref": "paper"
         },
         {
          "font": {
           "size": 16
          },
          "showarrow": false,
          "text": "Sub Continent - Mean Revenue",
          "x": 0.8833333333333333,
          "xanchor": "center",
          "xref": "paper",
          "y": 0.6399999999999999,
          "yanchor": "bottom",
          "yref": "paper"
         },
         {
          "font": {
           "size": 16
          },
          "showarrow": false,
          "text": "Network Domain - Count",
          "x": 0.11666666666666665,
          "xanchor": "center",
          "xref": "paper",
          "y": 0.27999999999999997,
          "yanchor": "bottom",
          "yref": "paper"
         },
         {
          "font": {
           "size": 16
          },
          "showarrow": false,
          "text": "Network Domain - Non-zero Revenue Count",
          "x": 0.49999999999999994,
          "xanchor": "center",
          "xref": "paper",
          "y": 0.27999999999999997,
          "yanchor": "bottom",
          "yref": "paper"
         },
         {
          "font": {
           "size": 16
          },
          "showarrow": false,
          "text": "Network Domain - Mean Revenue",
          "x": 0.8833333333333333,
          "xanchor": "center",
          "xref": "paper",
          "y": 0.27999999999999997,
          "yanchor": "bottom",
          "yref": "paper"
         }
        ],
        "height": 1500,
        "paper_bgcolor": "rgb(233,233,233)",
        "template": {
         "data": {
          "bar": [
           {
            "error_x": {
             "color": "#2a3f5f"
            },
            "error_y": {
             "color": "#2a3f5f"
            },
            "marker": {
             "line": {
              "color": "#E5ECF6",
              "width": 0.5
             },
             "pattern": {
              "fillmode": "overlay",
              "size": 10,
              "solidity": 0.2
             }
            },
            "type": "bar"
           }
          ],
          "barpolar": [
           {
            "marker": {
             "line": {
              "color": "#E5ECF6",
              "width": 0.5
             },
             "pattern": {
              "fillmode": "overlay",
              "size": 10,
              "solidity": 0.2
             }
            },
            "type": "barpolar"
           }
          ],
          "carpet": [
           {
            "aaxis": {
             "endlinecolor": "#2a3f5f",
             "gridcolor": "white",
             "linecolor": "white",
             "minorgridcolor": "white",
             "startlinecolor": "#2a3f5f"
            },
            "baxis": {
             "endlinecolor": "#2a3f5f",
             "gridcolor": "white",
             "linecolor": "white",
             "minorgridcolor": "white",
             "startlinecolor": "#2a3f5f"
            },
            "type": "carpet"
           }
          ],
          "choropleth": [
           {
            "colorbar": {
             "outlinewidth": 0,
             "ticks": ""
            },
            "type": "choropleth"
           }
          ],
          "contour": [
           {
            "colorbar": {
             "outlinewidth": 0,
             "ticks": ""
            },
            "colorscale": [
             [
              0,
              "#0d0887"
             ],
             [
              0.1111111111111111,
              "#46039f"
             ],
             [
              0.2222222222222222,
              "#7201a8"
             ],
             [
              0.3333333333333333,
              "#9c179e"
             ],
             [
              0.4444444444444444,
              "#bd3786"
             ],
             [
              0.5555555555555556,
              "#d8576b"
             ],
             [
              0.6666666666666666,
              "#ed7953"
             ],
             [
              0.7777777777777778,
              "#fb9f3a"
             ],
             [
              0.8888888888888888,
              "#fdca26"
             ],
             [
              1,
              "#f0f921"
             ]
            ],
            "type": "contour"
           }
          ],
          "contourcarpet": [
           {
            "colorbar": {
             "outlinewidth": 0,
             "ticks": ""
            },
            "type": "contourcarpet"
           }
          ],
          "heatmap": [
           {
            "colorbar": {
             "outlinewidth": 0,
             "ticks": ""
            },
            "colorscale": [
             [
              0,
              "#0d0887"
             ],
             [
              0.1111111111111111,
              "#46039f"
             ],
             [
              0.2222222222222222,
              "#7201a8"
             ],
             [
              0.3333333333333333,
              "#9c179e"
             ],
             [
              0.4444444444444444,
              "#bd3786"
             ],
             [
              0.5555555555555556,
              "#d8576b"
             ],
             [
              0.6666666666666666,
              "#ed7953"
             ],
             [
              0.7777777777777778,
              "#fb9f3a"
             ],
             [
              0.8888888888888888,
              "#fdca26"
             ],
             [
              1,
              "#f0f921"
             ]
            ],
            "type": "heatmap"
           }
          ],
          "heatmapgl": [
           {
            "colorbar": {
             "outlinewidth": 0,
             "ticks": ""
            },
            "colorscale": [
             [
              0,
              "#0d0887"
             ],
             [
              0.1111111111111111,
              "#46039f"
             ],
             [
              0.2222222222222222,
              "#7201a8"
             ],
             [
              0.3333333333333333,
              "#9c179e"
             ],
             [
              0.4444444444444444,
              "#bd3786"
             ],
             [
              0.5555555555555556,
              "#d8576b"
             ],
             [
              0.6666666666666666,
              "#ed7953"
             ],
             [
              0.7777777777777778,
              "#fb9f3a"
             ],
             [
              0.8888888888888888,
              "#fdca26"
             ],
             [
              1,
              "#f0f921"
             ]
            ],
            "type": "heatmapgl"
           }
          ],
          "histogram": [
           {
            "marker": {
             "pattern": {
              "fillmode": "overlay",
              "size": 10,
              "solidity": 0.2
             }
            },
            "type": "histogram"
           }
          ],
          "histogram2d": [
           {
            "colorbar": {
             "outlinewidth": 0,
             "ticks": ""
            },
            "colorscale": [
             [
              0,
              "#0d0887"
             ],
             [
              0.1111111111111111,
              "#46039f"
             ],
             [
              0.2222222222222222,
              "#7201a8"
             ],
             [
              0.3333333333333333,
              "#9c179e"
             ],
             [
              0.4444444444444444,
              "#bd3786"
             ],
             [
              0.5555555555555556,
              "#d8576b"
             ],
             [
              0.6666666666666666,
              "#ed7953"
             ],
             [
              0.7777777777777778,
              "#fb9f3a"
             ],
             [
              0.8888888888888888,
              "#fdca26"
             ],
             [
              1,
              "#f0f921"
             ]
            ],
            "type": "histogram2d"
           }
          ],
          "histogram2dcontour": [
           {
            "colorbar": {
             "outlinewidth": 0,
             "ticks": ""
            },
            "colorscale": [
             [
              0,
              "#0d0887"
             ],
             [
              0.1111111111111111,
              "#46039f"
             ],
             [
              0.2222222222222222,
              "#7201a8"
             ],
             [
              0.3333333333333333,
              "#9c179e"
             ],
             [
              0.4444444444444444,
              "#bd3786"
             ],
             [
              0.5555555555555556,
              "#d8576b"
             ],
             [
              0.6666666666666666,
              "#ed7953"
             ],
             [
              0.7777777777777778,
              "#fb9f3a"
             ],
             [
              0.8888888888888888,
              "#fdca26"
             ],
             [
              1,
              "#f0f921"
             ]
            ],
            "type": "histogram2dcontour"
           }
          ],
          "mesh3d": [
           {
            "colorbar": {
             "outlinewidth": 0,
             "ticks": ""
            },
            "type": "mesh3d"
           }
          ],
          "parcoords": [
           {
            "line": {
             "colorbar": {
              "outlinewidth": 0,
              "ticks": ""
             }
            },
            "type": "parcoords"
           }
          ],
          "pie": [
           {
            "automargin": true,
            "type": "pie"
           }
          ],
          "scatter": [
           {
            "fillpattern": {
             "fillmode": "overlay",
             "size": 10,
             "solidity": 0.2
            },
            "type": "scatter"
           }
          ],
          "scatter3d": [
           {
            "line": {
             "colorbar": {
              "outlinewidth": 0,
              "ticks": ""
             }
            },
            "marker": {
             "colorbar": {
              "outlinewidth": 0,
              "ticks": ""
             }
            },
            "type": "scatter3d"
           }
          ],
          "scattercarpet": [
           {
            "marker": {
             "colorbar": {
              "outlinewidth": 0,
              "ticks": ""
             }
            },
            "type": "scattercarpet"
           }
          ],
          "scattergeo": [
           {
            "marker": {
             "colorbar": {
              "outlinewidth": 0,
              "ticks": ""
             }
            },
            "type": "scattergeo"
           }
          ],
          "scattergl": [
           {
            "marker": {
             "colorbar": {
              "outlinewidth": 0,
              "ticks": ""
             }
            },
            "type": "scattergl"
           }
          ],
          "scattermapbox": [
           {
            "marker": {
             "colorbar": {
              "outlinewidth": 0,
              "ticks": ""
             }
            },
            "type": "scattermapbox"
           }
          ],
          "scatterpolar": [
           {
            "marker": {
             "colorbar": {
              "outlinewidth": 0,
              "ticks": ""
             }
            },
            "type": "scatterpolar"
           }
          ],
          "scatterpolargl": [
           {
            "marker": {
             "colorbar": {
              "outlinewidth": 0,
              "ticks": ""
             }
            },
            "type": "scatterpolargl"
           }
          ],
          "scatterternary": [
           {
            "marker": {
             "colorbar": {
              "outlinewidth": 0,
              "ticks": ""
             }
            },
            "type": "scatterternary"
           }
          ],
          "surface": [
           {
            "colorbar": {
             "outlinewidth": 0,
             "ticks": ""
            },
            "colorscale": [
             [
              0,
              "#0d0887"
             ],
             [
              0.1111111111111111,
              "#46039f"
             ],
             [
              0.2222222222222222,
              "#7201a8"
             ],
             [
              0.3333333333333333,
              "#9c179e"
             ],
             [
              0.4444444444444444,
              "#bd3786"
             ],
             [
              0.5555555555555556,
              "#d8576b"
             ],
             [
              0.6666666666666666,
              "#ed7953"
             ],
             [
              0.7777777777777778,
              "#fb9f3a"
             ],
             [
              0.8888888888888888,
              "#fdca26"
             ],
             [
              1,
              "#f0f921"
             ]
            ],
            "type": "surface"
           }
          ],
          "table": [
           {
            "cells": {
             "fill": {
              "color": "#EBF0F8"
             },
             "line": {
              "color": "white"
             }
            },
            "header": {
             "fill": {
              "color": "#C8D4E3"
             },
             "line": {
              "color": "white"
             }
            },
            "type": "table"
           }
          ]
         },
         "layout": {
          "annotationdefaults": {
           "arrowcolor": "#2a3f5f",
           "arrowhead": 0,
           "arrowwidth": 1
          },
          "autotypenumbers": "strict",
          "coloraxis": {
           "colorbar": {
            "outlinewidth": 0,
            "ticks": ""
           }
          },
          "colorscale": {
           "diverging": [
            [
             0,
             "#8e0152"
            ],
            [
             0.1,
             "#c51b7d"
            ],
            [
             0.2,
             "#de77ae"
            ],
            [
             0.3,
             "#f1b6da"
            ],
            [
             0.4,
             "#fde0ef"
            ],
            [
             0.5,
             "#f7f7f7"
            ],
            [
             0.6,
             "#e6f5d0"
            ],
            [
             0.7,
             "#b8e186"
            ],
            [
             0.8,
             "#7fbc41"
            ],
            [
             0.9,
             "#4d9221"
            ],
            [
             1,
             "#276419"
            ]
           ],
           "sequential": [
            [
             0,
             "#0d0887"
            ],
            [
             0.1111111111111111,
             "#46039f"
            ],
            [
             0.2222222222222222,
             "#7201a8"
            ],
            [
             0.3333333333333333,
             "#9c179e"
            ],
            [
             0.4444444444444444,
             "#bd3786"
            ],
            [
             0.5555555555555556,
             "#d8576b"
            ],
            [
             0.6666666666666666,
             "#ed7953"
            ],
            [
             0.7777777777777778,
             "#fb9f3a"
            ],
            [
             0.8888888888888888,
             "#fdca26"
            ],
            [
             1,
             "#f0f921"
            ]
           ],
           "sequentialminus": [
            [
             0,
             "#0d0887"
            ],
            [
             0.1111111111111111,
             "#46039f"
            ],
            [
             0.2222222222222222,
             "#7201a8"
            ],
            [
             0.3333333333333333,
             "#9c179e"
            ],
            [
             0.4444444444444444,
             "#bd3786"
            ],
            [
             0.5555555555555556,
             "#d8576b"
            ],
            [
             0.6666666666666666,
             "#ed7953"
            ],
            [
             0.7777777777777778,
             "#fb9f3a"
            ],
            [
             0.8888888888888888,
             "#fdca26"
            ],
            [
             1,
             "#f0f921"
            ]
           ]
          },
          "colorway": [
           "#636efa",
           "#EF553B",
           "#00cc96",
           "#ab63fa",
           "#FFA15A",
           "#19d3f3",
           "#FF6692",
           "#B6E880",
           "#FF97FF",
           "#FECB52"
          ],
          "font": {
           "color": "#2a3f5f"
          },
          "geo": {
           "bgcolor": "white",
           "lakecolor": "white",
           "landcolor": "#E5ECF6",
           "showlakes": true,
           "showland": true,
           "subunitcolor": "white"
          },
          "hoverlabel": {
           "align": "left"
          },
          "hovermode": "closest",
          "mapbox": {
           "style": "light"
          },
          "paper_bgcolor": "white",
          "plot_bgcolor": "#E5ECF6",
          "polar": {
           "angularaxis": {
            "gridcolor": "white",
            "linecolor": "white",
            "ticks": ""
           },
           "bgcolor": "#E5ECF6",
           "radialaxis": {
            "gridcolor": "white",
            "linecolor": "white",
            "ticks": ""
           }
          },
          "scene": {
           "xaxis": {
            "backgroundcolor": "#E5ECF6",
            "gridcolor": "white",
            "gridwidth": 2,
            "linecolor": "white",
            "showbackground": true,
            "ticks": "",
            "zerolinecolor": "white"
           },
           "yaxis": {
            "backgroundcolor": "#E5ECF6",
            "gridcolor": "white",
            "gridwidth": 2,
            "linecolor": "white",
            "showbackground": true,
            "ticks": "",
            "zerolinecolor": "white"
           },
           "zaxis": {
            "backgroundcolor": "#E5ECF6",
            "gridcolor": "white",
            "gridwidth": 2,
            "linecolor": "white",
            "showbackground": true,
            "ticks": "",
            "zerolinecolor": "white"
           }
          },
          "shapedefaults": {
           "line": {
            "color": "#2a3f5f"
           }
          },
          "ternary": {
           "aaxis": {
            "gridcolor": "white",
            "linecolor": "white",
            "ticks": ""
           },
           "baxis": {
            "gridcolor": "white",
            "linecolor": "white",
            "ticks": ""
           },
           "bgcolor": "#E5ECF6",
           "caxis": {
            "gridcolor": "white",
            "linecolor": "white",
            "ticks": ""
           }
          },
          "title": {
           "x": 0.05
          },
          "xaxis": {
           "automargin": true,
           "gridcolor": "white",
           "linecolor": "white",
           "ticks": "",
           "title": {
            "standoff": 15
           },
           "zerolinecolor": "white",
           "zerolinewidth": 2
          },
          "yaxis": {
           "automargin": true,
           "gridcolor": "white",
           "linecolor": "white",
           "ticks": "",
           "title": {
            "standoff": 15
           },
           "zerolinecolor": "white",
           "zerolinewidth": 2
          }
         }
        },
        "title": {
         "text": "Geography Plots"
        },
        "width": 1200,
        "xaxis": {
         "anchor": "y",
         "domain": [
          0,
          0.2333333333333333
         ]
        },
        "xaxis2": {
         "anchor": "y2",
         "domain": [
          0.3833333333333333,
          0.6166666666666666
         ]
        },
        "xaxis3": {
         "anchor": "y3",
         "domain": [
          0.7666666666666666,
          0.9999999999999999
         ]
        },
        "xaxis4": {
         "anchor": "y4",
         "domain": [
          0,
          0.2333333333333333
         ]
        },
        "xaxis5": {
         "anchor": "y5",
         "domain": [
          0.3833333333333333,
          0.6166666666666666
         ]
        },
        "xaxis6": {
         "anchor": "y6",
         "domain": [
          0.7666666666666666,
          0.9999999999999999
         ]
        },
        "xaxis7": {
         "anchor": "y7",
         "domain": [
          0,
          0.2333333333333333
         ]
        },
        "xaxis8": {
         "anchor": "y8",
         "domain": [
          0.3833333333333333,
          0.6166666666666666
         ]
        },
        "xaxis9": {
         "anchor": "y9",
         "domain": [
          0.7666666666666666,
          0.9999999999999999
         ]
        },
        "yaxis": {
         "anchor": "x",
         "domain": [
          0.72,
          1
         ]
        },
        "yaxis2": {
         "anchor": "x2",
         "domain": [
          0.72,
          1
         ]
        },
        "yaxis3": {
         "anchor": "x3",
         "domain": [
          0.72,
          1
         ]
        },
        "yaxis4": {
         "anchor": "x4",
         "domain": [
          0.36,
          0.6399999999999999
         ]
        },
        "yaxis5": {
         "anchor": "x5",
         "domain": [
          0.36,
          0.6399999999999999
         ]
        },
        "yaxis6": {
         "anchor": "x6",
         "domain": [
          0.36,
          0.6399999999999999
         ]
        },
        "yaxis7": {
         "anchor": "x7",
         "domain": [
          0,
          0.27999999999999997
         ]
        },
        "yaxis8": {
         "anchor": "x8",
         "domain": [
          0,
          0.27999999999999997
         ]
        },
        "yaxis9": {
         "anchor": "x9",
         "domain": [
          0,
          0.27999999999999997
         ]
        }
       }
      },
      "text/html": [
       "<div>                            <div id=\"57a754c5-bfaf-4326-8ad1-2d61ec57f9fc\" class=\"plotly-graph-div\" style=\"height:1500px; width:1200px;\"></div>            <script type=\"text/javascript\">                require([\"plotly\"], function(Plotly) {                    window.PLOTLYENV=window.PLOTLYENV || {};                                    if (document.getElementById(\"57a754c5-bfaf-4326-8ad1-2d61ec57f9fc\")) {                    Plotly.newPlot(                        \"57a754c5-bfaf-4326-8ad1-2d61ec57f9fc\",                        [{\"marker\":{\"color\":\"rgba(58, 71, 80, 0.6)\"},\"orientation\":\"h\",\"showlegend\":false,\"x\":[1468,14745,15054,198311,223698,450377],\"xaxis\":\"x\",\"y\":[\"(not set)\",\"Africa\",\"Oceania\",\"Europe\",\"Asia\",\"Americas\"],\"yaxis\":\"y\",\"type\":\"bar\"},{\"marker\":{\"color\":\"rgba(58, 71, 80, 0.6)\"},\"orientation\":\"h\",\"showlegend\":false,\"x\":[6,8,14,79,125,11283],\"xaxis\":\"x2\",\"y\":[\"(not set)\",\"Africa\",\"Oceania\",\"Europe\",\"Asia\",\"Americas\"],\"yaxis\":\"y2\",\"type\":\"bar\"},{\"marker\":{\"color\":\"rgba(58, 71, 80, 0.6)\"},\"orientation\":\"h\",\"showlegend\":false,\"x\":[128296666.66666667,1085970000.0,128087857.14285715,85405443.03797469,139214720.0,133357404.94549322],\"xaxis\":\"x3\",\"y\":[\"(not set)\",\"Africa\",\"Oceania\",\"Europe\",\"Asia\",\"Americas\"],\"yaxis\":\"y3\",\"type\":\"bar\"},{\"marker\":{\"color\":\"orange\"},\"orientation\":\"h\",\"showlegend\":false,\"x\":[25,55,81,393,1215,1468,1927,2169,2406,2573,7683,14893,15583,35780,38443,41731,45249,46919,58168,59114,59321,77800,390657],\"xaxis\":\"x4\",\"y\":[\"Polynesia\",\"Micronesian Region\",\"Melanesia\",\"Middle Africa\",\"Central Asia\",\"(not set)\",\"Eastern Africa\",\"Southern Africa\",\"Caribbean\",\"Western Africa\",\"Northern Africa\",\"Australasia\",\"Central America\",\"Southern Europe\",\"Western Asia\",\"South America\",\"Eastern Europe\",\"Eastern Asia\",\"Northern Europe\",\"Western Europe\",\"Southern Asia\",\"Southeast Asia\",\"Northern America\"],\"yaxis\":\"y4\",\"type\":\"bar\"},{\"marker\":{\"color\":\"orange\"},\"orientation\":\"h\",\"showlegend\":false,\"x\":[0,0,0,0,2,6,3,2,16,2,1,14,26,8,21,98,14,59,27,30,11,32,11143],\"xaxis\":\"x5\",\"y\":[\"Polynesia\",\"Micronesian Region\",\"Melanesia\",\"Middle Africa\",\"Central Asia\",\"(not set)\",\"Eastern Africa\",\"Southern Africa\",\"Caribbean\",\"Western Africa\",\"Northern Africa\",\"Australasia\",\"Central America\",\"Southern Europe\",\"Western Asia\",\"South America\",\"Eastern Europe\",\"Eastern Asia\",\"Northern Europe\",\"Western Europe\",\"Southern Asia\",\"Southeast Asia\",\"Northern America\"],\"yaxis\":\"y5\",\"type\":\"bar\"},{\"marker\":{\"color\":\"orange\"},\"orientation\":\"h\",\"showlegend\":false,\"x\":[null,null,null,null,17490000.0,128296666.66666667,1756233333.3333333,32850000.0,97721875.0,1651200000.0,50960000.0,128087857.14285715,73290384.61538461,120501250.0,84811428.57142857,162625612.24489796,67628571.42857143,187715593.22033897,73847407.4074074,94744666.66666667,68600909.0909091,117374687.5,133291321.00870502],\"xaxis\":\"x6\",\"y\":[\"Polynesia\",\"Micronesian Region\",\"Melanesia\",\"Middle Africa\",\"Central Asia\",\"(not set)\",\"Eastern Africa\",\"Southern Africa\",\"Caribbean\",\"Western Africa\",\"Northern Africa\",\"Australasia\",\"Central America\",\"Southern Europe\",\"Western Asia\",\"South America\",\"Eastern Europe\",\"Eastern Asia\",\"Northern Europe\",\"Western Europe\",\"Southern Asia\",\"Southeast Asia\",\"Northern America\"],\"yaxis\":\"y6\",\"type\":\"bar\"},{\"marker\":{\"color\":\"blue\"},\"orientation\":\"h\",\"showlegend\":false,\"x\":[6046,6414,7919,9985,13228,13637,14827,28743,146034,244881],\"xaxis\":\"x7\",\"y\":[\"3bb.co.th\",\"virginm.net\",\"hinet.net\",\"comcastbusiness.net\",\"ttnet.com.tr\",\"verizon.net\",\"rr.com\",\"comcast.net\",\"unknown.unknown\",\"(not set)\"],\"yaxis\":\"y7\",\"type\":\"bar\"},{\"marker\":{\"color\":\"blue\"},\"orientation\":\"h\",\"showlegend\":false,\"x\":[1,1,11,294,1,469,364,934,400,6645],\"xaxis\":\"x8\",\"y\":[\"3bb.co.th\",\"virginm.net\",\"hinet.net\",\"comcastbusiness.net\",\"ttnet.com.tr\",\"verizon.net\",\"rr.com\",\"comcast.net\",\"unknown.unknown\",\"(not set)\"],\"yaxis\":\"y8\",\"type\":\"bar\"},{\"marker\":{\"color\":\"blue\"},\"orientation\":\"h\",\"showlegend\":false,\"x\":[140590000.0,62270000.0,60891818.18181818,497096632.6530612,17460000.0,112833624.73347548,82780714.28571428,131873201.28479658,87253850.0,127654487.58465011],\"xaxis\":\"x9\",\"y\":[\"3bb.co.th\",\"virginm.net\",\"hinet.net\",\"comcastbusiness.net\",\"ttnet.com.tr\",\"verizon.net\",\"rr.com\",\"comcast.net\",\"unknown.unknown\",\"(not set)\"],\"yaxis\":\"y9\",\"type\":\"bar\"}],                        {\"annotations\":[{\"font\":{\"size\":16},\"showarrow\":false,\"text\":\"Continent - Count\",\"x\":0.11666666666666665,\"xanchor\":\"center\",\"xref\":\"paper\",\"y\":1.0,\"yanchor\":\"bottom\",\"yref\":\"paper\"},{\"font\":{\"size\":16},\"showarrow\":false,\"text\":\"Continent - Non-zero Revenue Count\",\"x\":0.49999999999999994,\"xanchor\":\"center\",\"xref\":\"paper\",\"y\":1.0,\"yanchor\":\"bottom\",\"yref\":\"paper\"},{\"font\":{\"size\":16},\"showarrow\":false,\"text\":\"Continent - Mean Revenue\",\"x\":0.8833333333333333,\"xanchor\":\"center\",\"xref\":\"paper\",\"y\":1.0,\"yanchor\":\"bottom\",\"yref\":\"paper\"},{\"font\":{\"size\":16},\"showarrow\":false,\"text\":\"Sub Continent - Count\",\"x\":0.11666666666666665,\"xanchor\":\"center\",\"xref\":\"paper\",\"y\":0.6399999999999999,\"yanchor\":\"bottom\",\"yref\":\"paper\"},{\"font\":{\"size\":16},\"showarrow\":false,\"text\":\"Sub Continent - Non-zero Revenue Count\",\"x\":0.49999999999999994,\"xanchor\":\"center\",\"xref\":\"paper\",\"y\":0.6399999999999999,\"yanchor\":\"bottom\",\"yref\":\"paper\"},{\"font\":{\"size\":16},\"showarrow\":false,\"text\":\"Sub Continent - Mean Revenue\",\"x\":0.8833333333333333,\"xanchor\":\"center\",\"xref\":\"paper\",\"y\":0.6399999999999999,\"yanchor\":\"bottom\",\"yref\":\"paper\"},{\"font\":{\"size\":16},\"showarrow\":false,\"text\":\"Network Domain - Count\",\"x\":0.11666666666666665,\"xanchor\":\"center\",\"xref\":\"paper\",\"y\":0.27999999999999997,\"yanchor\":\"bottom\",\"yref\":\"paper\"},{\"font\":{\"size\":16},\"showarrow\":false,\"text\":\"Network Domain - Non-zero Revenue Count\",\"x\":0.49999999999999994,\"xanchor\":\"center\",\"xref\":\"paper\",\"y\":0.27999999999999997,\"yanchor\":\"bottom\",\"yref\":\"paper\"},{\"font\":{\"size\":16},\"showarrow\":false,\"text\":\"Network Domain - Mean Revenue\",\"x\":0.8833333333333333,\"xanchor\":\"center\",\"xref\":\"paper\",\"y\":0.27999999999999997,\"yanchor\":\"bottom\",\"yref\":\"paper\"}],\"height\":1500,\"paper_bgcolor\":\"rgb(233,233,233)\",\"template\":{\"data\":{\"barpolar\":[{\"marker\":{\"line\":{\"color\":\"#E5ECF6\",\"width\":0.5},\"pattern\":{\"fillmode\":\"overlay\",\"size\":10,\"solidity\":0.2}},\"type\":\"barpolar\"}],\"bar\":[{\"error_x\":{\"color\":\"#2a3f5f\"},\"error_y\":{\"color\":\"#2a3f5f\"},\"marker\":{\"line\":{\"color\":\"#E5ECF6\",\"width\":0.5},\"pattern\":{\"fillmode\":\"overlay\",\"size\":10,\"solidity\":0.2}},\"type\":\"bar\"}],\"carpet\":[{\"aaxis\":{\"endlinecolor\":\"#2a3f5f\",\"gridcolor\":\"white\",\"linecolor\":\"white\",\"minorgridcolor\":\"white\",\"startlinecolor\":\"#2a3f5f\"},\"baxis\":{\"endlinecolor\":\"#2a3f5f\",\"gridcolor\":\"white\",\"linecolor\":\"white\",\"minorgridcolor\":\"white\",\"startlinecolor\":\"#2a3f5f\"},\"type\":\"carpet\"}],\"choropleth\":[{\"colorbar\":{\"outlinewidth\":0,\"ticks\":\"\"},\"type\":\"choropleth\"}],\"contourcarpet\":[{\"colorbar\":{\"outlinewidth\":0,\"ticks\":\"\"},\"type\":\"contourcarpet\"}],\"contour\":[{\"colorbar\":{\"outlinewidth\":0,\"ticks\":\"\"},\"colorscale\":[[0.0,\"#0d0887\"],[0.1111111111111111,\"#46039f\"],[0.2222222222222222,\"#7201a8\"],[0.3333333333333333,\"#9c179e\"],[0.4444444444444444,\"#bd3786\"],[0.5555555555555556,\"#d8576b\"],[0.6666666666666666,\"#ed7953\"],[0.7777777777777778,\"#fb9f3a\"],[0.8888888888888888,\"#fdca26\"],[1.0,\"#f0f921\"]],\"type\":\"contour\"}],\"heatmapgl\":[{\"colorbar\":{\"outlinewidth\":0,\"ticks\":\"\"},\"colorscale\":[[0.0,\"#0d0887\"],[0.1111111111111111,\"#46039f\"],[0.2222222222222222,\"#7201a8\"],[0.3333333333333333,\"#9c179e\"],[0.4444444444444444,\"#bd3786\"],[0.5555555555555556,\"#d8576b\"],[0.6666666666666666,\"#ed7953\"],[0.7777777777777778,\"#fb9f3a\"],[0.8888888888888888,\"#fdca26\"],[1.0,\"#f0f921\"]],\"type\":\"heatmapgl\"}],\"heatmap\":[{\"colorbar\":{\"outlinewidth\":0,\"ticks\":\"\"},\"colorscale\":[[0.0,\"#0d0887\"],[0.1111111111111111,\"#46039f\"],[0.2222222222222222,\"#7201a8\"],[0.3333333333333333,\"#9c179e\"],[0.4444444444444444,\"#bd3786\"],[0.5555555555555556,\"#d8576b\"],[0.6666666666666666,\"#ed7953\"],[0.7777777777777778,\"#fb9f3a\"],[0.8888888888888888,\"#fdca26\"],[1.0,\"#f0f921\"]],\"type\":\"heatmap\"}],\"histogram2dcontour\":[{\"colorbar\":{\"outlinewidth\":0,\"ticks\":\"\"},\"colorscale\":[[0.0,\"#0d0887\"],[0.1111111111111111,\"#46039f\"],[0.2222222222222222,\"#7201a8\"],[0.3333333333333333,\"#9c179e\"],[0.4444444444444444,\"#bd3786\"],[0.5555555555555556,\"#d8576b\"],[0.6666666666666666,\"#ed7953\"],[0.7777777777777778,\"#fb9f3a\"],[0.8888888888888888,\"#fdca26\"],[1.0,\"#f0f921\"]],\"type\":\"histogram2dcontour\"}],\"histogram2d\":[{\"colorbar\":{\"outlinewidth\":0,\"ticks\":\"\"},\"colorscale\":[[0.0,\"#0d0887\"],[0.1111111111111111,\"#46039f\"],[0.2222222222222222,\"#7201a8\"],[0.3333333333333333,\"#9c179e\"],[0.4444444444444444,\"#bd3786\"],[0.5555555555555556,\"#d8576b\"],[0.6666666666666666,\"#ed7953\"],[0.7777777777777778,\"#fb9f3a\"],[0.8888888888888888,\"#fdca26\"],[1.0,\"#f0f921\"]],\"type\":\"histogram2d\"}],\"histogram\":[{\"marker\":{\"pattern\":{\"fillmode\":\"overlay\",\"size\":10,\"solidity\":0.2}},\"type\":\"histogram\"}],\"mesh3d\":[{\"colorbar\":{\"outlinewidth\":0,\"ticks\":\"\"},\"type\":\"mesh3d\"}],\"parcoords\":[{\"line\":{\"colorbar\":{\"outlinewidth\":0,\"ticks\":\"\"}},\"type\":\"parcoords\"}],\"pie\":[{\"automargin\":true,\"type\":\"pie\"}],\"scatter3d\":[{\"line\":{\"colorbar\":{\"outlinewidth\":0,\"ticks\":\"\"}},\"marker\":{\"colorbar\":{\"outlinewidth\":0,\"ticks\":\"\"}},\"type\":\"scatter3d\"}],\"scattercarpet\":[{\"marker\":{\"colorbar\":{\"outlinewidth\":0,\"ticks\":\"\"}},\"type\":\"scattercarpet\"}],\"scattergeo\":[{\"marker\":{\"colorbar\":{\"outlinewidth\":0,\"ticks\":\"\"}},\"type\":\"scattergeo\"}],\"scattergl\":[{\"marker\":{\"colorbar\":{\"outlinewidth\":0,\"ticks\":\"\"}},\"type\":\"scattergl\"}],\"scattermapbox\":[{\"marker\":{\"colorbar\":{\"outlinewidth\":0,\"ticks\":\"\"}},\"type\":\"scattermapbox\"}],\"scatterpolargl\":[{\"marker\":{\"colorbar\":{\"outlinewidth\":0,\"ticks\":\"\"}},\"type\":\"scatterpolargl\"}],\"scatterpolar\":[{\"marker\":{\"colorbar\":{\"outlinewidth\":0,\"ticks\":\"\"}},\"type\":\"scatterpolar\"}],\"scatter\":[{\"fillpattern\":{\"fillmode\":\"overlay\",\"size\":10,\"solidity\":0.2},\"type\":\"scatter\"}],\"scatterternary\":[{\"marker\":{\"colorbar\":{\"outlinewidth\":0,\"ticks\":\"\"}},\"type\":\"scatterternary\"}],\"surface\":[{\"colorbar\":{\"outlinewidth\":0,\"ticks\":\"\"},\"colorscale\":[[0.0,\"#0d0887\"],[0.1111111111111111,\"#46039f\"],[0.2222222222222222,\"#7201a8\"],[0.3333333333333333,\"#9c179e\"],[0.4444444444444444,\"#bd3786\"],[0.5555555555555556,\"#d8576b\"],[0.6666666666666666,\"#ed7953\"],[0.7777777777777778,\"#fb9f3a\"],[0.8888888888888888,\"#fdca26\"],[1.0,\"#f0f921\"]],\"type\":\"surface\"}],\"table\":[{\"cells\":{\"fill\":{\"color\":\"#EBF0F8\"},\"line\":{\"color\":\"white\"}},\"header\":{\"fill\":{\"color\":\"#C8D4E3\"},\"line\":{\"color\":\"white\"}},\"type\":\"table\"}]},\"layout\":{\"annotationdefaults\":{\"arrowcolor\":\"#2a3f5f\",\"arrowhead\":0,\"arrowwidth\":1},\"autotypenumbers\":\"strict\",\"coloraxis\":{\"colorbar\":{\"outlinewidth\":0,\"ticks\":\"\"}},\"colorscale\":{\"diverging\":[[0,\"#8e0152\"],[0.1,\"#c51b7d\"],[0.2,\"#de77ae\"],[0.3,\"#f1b6da\"],[0.4,\"#fde0ef\"],[0.5,\"#f7f7f7\"],[0.6,\"#e6f5d0\"],[0.7,\"#b8e186\"],[0.8,\"#7fbc41\"],[0.9,\"#4d9221\"],[1,\"#276419\"]],\"sequential\":[[0.0,\"#0d0887\"],[0.1111111111111111,\"#46039f\"],[0.2222222222222222,\"#7201a8\"],[0.3333333333333333,\"#9c179e\"],[0.4444444444444444,\"#bd3786\"],[0.5555555555555556,\"#d8576b\"],[0.6666666666666666,\"#ed7953\"],[0.7777777777777778,\"#fb9f3a\"],[0.8888888888888888,\"#fdca26\"],[1.0,\"#f0f921\"]],\"sequentialminus\":[[0.0,\"#0d0887\"],[0.1111111111111111,\"#46039f\"],[0.2222222222222222,\"#7201a8\"],[0.3333333333333333,\"#9c179e\"],[0.4444444444444444,\"#bd3786\"],[0.5555555555555556,\"#d8576b\"],[0.6666666666666666,\"#ed7953\"],[0.7777777777777778,\"#fb9f3a\"],[0.8888888888888888,\"#fdca26\"],[1.0,\"#f0f921\"]]},\"colorway\":[\"#636efa\",\"#EF553B\",\"#00cc96\",\"#ab63fa\",\"#FFA15A\",\"#19d3f3\",\"#FF6692\",\"#B6E880\",\"#FF97FF\",\"#FECB52\"],\"font\":{\"color\":\"#2a3f5f\"},\"geo\":{\"bgcolor\":\"white\",\"lakecolor\":\"white\",\"landcolor\":\"#E5ECF6\",\"showlakes\":true,\"showland\":true,\"subunitcolor\":\"white\"},\"hoverlabel\":{\"align\":\"left\"},\"hovermode\":\"closest\",\"mapbox\":{\"style\":\"light\"},\"paper_bgcolor\":\"white\",\"plot_bgcolor\":\"#E5ECF6\",\"polar\":{\"angularaxis\":{\"gridcolor\":\"white\",\"linecolor\":\"white\",\"ticks\":\"\"},\"bgcolor\":\"#E5ECF6\",\"radialaxis\":{\"gridcolor\":\"white\",\"linecolor\":\"white\",\"ticks\":\"\"}},\"scene\":{\"xaxis\":{\"backgroundcolor\":\"#E5ECF6\",\"gridcolor\":\"white\",\"gridwidth\":2,\"linecolor\":\"white\",\"showbackground\":true,\"ticks\":\"\",\"zerolinecolor\":\"white\"},\"yaxis\":{\"backgroundcolor\":\"#E5ECF6\",\"gridcolor\":\"white\",\"gridwidth\":2,\"linecolor\":\"white\",\"showbackground\":true,\"ticks\":\"\",\"zerolinecolor\":\"white\"},\"zaxis\":{\"backgroundcolor\":\"#E5ECF6\",\"gridcolor\":\"white\",\"gridwidth\":2,\"linecolor\":\"white\",\"showbackground\":true,\"ticks\":\"\",\"zerolinecolor\":\"white\"}},\"shapedefaults\":{\"line\":{\"color\":\"#2a3f5f\"}},\"ternary\":{\"aaxis\":{\"gridcolor\":\"white\",\"linecolor\":\"white\",\"ticks\":\"\"},\"baxis\":{\"gridcolor\":\"white\",\"linecolor\":\"white\",\"ticks\":\"\"},\"bgcolor\":\"#E5ECF6\",\"caxis\":{\"gridcolor\":\"white\",\"linecolor\":\"white\",\"ticks\":\"\"}},\"title\":{\"x\":0.05},\"xaxis\":{\"automargin\":true,\"gridcolor\":\"white\",\"linecolor\":\"white\",\"ticks\":\"\",\"title\":{\"standoff\":15},\"zerolinecolor\":\"white\",\"zerolinewidth\":2},\"yaxis\":{\"automargin\":true,\"gridcolor\":\"white\",\"linecolor\":\"white\",\"ticks\":\"\",\"title\":{\"standoff\":15},\"zerolinecolor\":\"white\",\"zerolinewidth\":2}}},\"title\":{\"text\":\"Geography Plots\"},\"width\":1200,\"xaxis\":{\"anchor\":\"y\",\"domain\":[0.0,0.2333333333333333]},\"yaxis\":{\"anchor\":\"x\",\"domain\":[0.72,1.0]},\"xaxis2\":{\"anchor\":\"y2\",\"domain\":[0.3833333333333333,0.6166666666666666]},\"yaxis2\":{\"anchor\":\"x2\",\"domain\":[0.72,1.0]},\"xaxis3\":{\"anchor\":\"y3\",\"domain\":[0.7666666666666666,0.9999999999999999]},\"yaxis3\":{\"anchor\":\"x3\",\"domain\":[0.72,1.0]},\"xaxis4\":{\"anchor\":\"y4\",\"domain\":[0.0,0.2333333333333333]},\"yaxis4\":{\"anchor\":\"x4\",\"domain\":[0.36,0.6399999999999999]},\"xaxis5\":{\"anchor\":\"y5\",\"domain\":[0.3833333333333333,0.6166666666666666]},\"yaxis5\":{\"anchor\":\"x5\",\"domain\":[0.36,0.6399999999999999]},\"xaxis6\":{\"anchor\":\"y6\",\"domain\":[0.7666666666666666,0.9999999999999999]},\"yaxis6\":{\"anchor\":\"x6\",\"domain\":[0.36,0.6399999999999999]},\"xaxis7\":{\"anchor\":\"y7\",\"domain\":[0.0,0.2333333333333333]},\"yaxis7\":{\"anchor\":\"x7\",\"domain\":[0.0,0.27999999999999997]},\"xaxis8\":{\"anchor\":\"y8\",\"domain\":[0.3833333333333333,0.6166666666666666]},\"yaxis8\":{\"anchor\":\"x8\",\"domain\":[0.0,0.27999999999999997]},\"xaxis9\":{\"anchor\":\"y9\",\"domain\":[0.7666666666666666,0.9999999999999999]},\"yaxis9\":{\"anchor\":\"x9\",\"domain\":[0.0,0.27999999999999997]}},                        {\"responsive\": true}                    ).then(function(){\n",
       "                            \n",
       "var gd = document.getElementById('57a754c5-bfaf-4326-8ad1-2d61ec57f9fc');\n",
       "var x = new MutationObserver(function (mutations, observer) {{\n",
       "        var display = window.getComputedStyle(gd).display;\n",
       "        if (!display || display === 'none') {{\n",
       "            console.log([gd, 'removed!']);\n",
       "            Plotly.purge(gd);\n",
       "            observer.disconnect();\n",
       "        }}\n",
       "}});\n",
       "\n",
       "// Listen for the removal of the full notebook cells\n",
       "var notebookContainer = gd.closest('#notebook-container');\n",
       "if (notebookContainer) {{\n",
       "    x.observe(notebookContainer, {childList: true});\n",
       "}}\n",
       "\n",
       "// Listen for the clearing of the current output cell\n",
       "var outputEl = gd.closest('.output');\n",
       "if (outputEl) {{\n",
       "    x.observe(outputEl, {childList: true});\n",
       "}}\n",
       "\n",
       "                        })                };                });            </script>        </div>"
      ]
     },
     "metadata": {},
     "output_type": "display_data"
    }
   ],
   "source": [
    "# Continent\n",
    "cnt_srs = train_df.groupby('geoNetwork.continent')['totals.transactionRevenue'].agg(['size', 'count', 'mean'])\n",
    "cnt_srs.columns = [\"count\", \"count of non-zero revenue\", \"mean\"]\n",
    "cnt_srs = cnt_srs.sort_values(by=\"count\", ascending=False)\n",
    "trace1 = horizontal_bar_chart(cnt_srs[\"count\"].head(10), 'rgba(58, 71, 80, 0.6)')\n",
    "trace2 = horizontal_bar_chart(cnt_srs[\"count of non-zero revenue\"].head(10), 'rgba(58, 71, 80, 0.6)')\n",
    "trace3 = horizontal_bar_chart(cnt_srs[\"mean\"].head(10), 'rgba(58, 71, 80, 0.6)')\n",
    "\n",
    "# Sub-continent\n",
    "cnt_srs = train_df.groupby('geoNetwork.subContinent')['totals.transactionRevenue'].agg(['size', 'count', 'mean'])\n",
    "cnt_srs.columns = [\"count\", \"count of non-zero revenue\", \"mean\"]\n",
    "cnt_srs = cnt_srs.sort_values(by=\"count\", ascending=False)\n",
    "trace4 = horizontal_bar_chart(cnt_srs[\"count\"], 'orange')\n",
    "trace5 = horizontal_bar_chart(cnt_srs[\"count of non-zero revenue\"], 'orange')\n",
    "trace6 = horizontal_bar_chart(cnt_srs[\"mean\"], 'orange')\n",
    "\n",
    "# Network domain\n",
    "cnt_srs = train_df.groupby('geoNetwork.networkDomain')['totals.transactionRevenue'].agg(['size', 'count', 'mean'])\n",
    "cnt_srs.columns = [\"count\", \"count of non-zero revenue\", \"mean\"]\n",
    "cnt_srs = cnt_srs.sort_values(by=\"count\", ascending=False)\n",
    "trace7 = horizontal_bar_chart(cnt_srs[\"count\"].head(10), 'blue')\n",
    "trace8 = horizontal_bar_chart(cnt_srs[\"count of non-zero revenue\"].head(10), 'blue')\n",
    "trace9 = horizontal_bar_chart(cnt_srs[\"mean\"].head(10), 'blue')\n",
    "\n",
    "# Creating two subplots\n",
    "fig = tools.make_subplots(rows=3, cols=3, vertical_spacing=0.08, horizontal_spacing=0.15, \n",
    "                          subplot_titles=[\"Continent - Count\", \"Continent - Non-zero Revenue Count\", \"Continent - Mean Revenue\",\n",
    "                                          \"Sub Continent - Count\",  \"Sub Continent - Non-zero Revenue Count\", \"Sub Continent - Mean Revenue\",\n",
    "                                          \"Network Domain - Count\", \"Network Domain - Non-zero Revenue Count\", \"Network Domain - Mean Revenue\"])\n",
    "\n",
    "fig.append_trace(trace1, 1, 1)\n",
    "fig.append_trace(trace2, 1, 2)\n",
    "fig.append_trace(trace3, 1, 3)\n",
    "fig.append_trace(trace4, 2, 1)\n",
    "fig.append_trace(trace5, 2, 2)\n",
    "fig.append_trace(trace6, 2, 3)\n",
    "fig.append_trace(trace7, 3, 1)\n",
    "fig.append_trace(trace8, 3, 2)\n",
    "fig.append_trace(trace9, 3, 3)\n",
    "\n",
    "fig['layout'].update(height=1500, width=1200, paper_bgcolor='rgb(233,233,233)', title=\"Geography Plots\")\n",
    "py.iplot(fig, filename='geo-plots')"
   ]
  },
  {
   "cell_type": "markdown",
   "id": "0b3ad038",
   "metadata": {},
   "source": [
    "Inferences:\n",
    "\n",
    "    On the continent plot, we can see that America has both higher number of counts as well as highest number of counts where the revenue is non-zero\n",
    "    Though Asia and Europe has high number of counts, the number of non-zero revenue counts from these continents are comparatively low.\n",
    "    We can infer the first two points from the sub-continents plot too.\n",
    "    If the network domain is \"unknown.unknown\" rather than \"(not set)\", then the number of counts with non-zero revenue tend to be lower.\n"
   ]
  },
  {
   "cell_type": "code",
   "execution_count": 27,
   "id": "e2fe6725",
   "metadata": {},
   "outputs": [
    {
     "name": "stderr",
     "output_type": "stream",
     "text": [
      "C:\\Users\\Manoj Kumar\\anaconda3\\lib\\site-packages\\plotly\\tools.py:460: DeprecationWarning:\n",
      "\n",
      "plotly.tools.make_subplots is deprecated, please use plotly.subplots.make_subplots instead\n",
      "\n"
     ]
    },
    {
     "data": {
      "application/vnd.plotly.v1+json": {
       "config": {
        "linkText": "Export to plot.ly",
        "plotlyServerURL": "https://plot.ly",
        "showLink": false
       },
       "data": [
        {
         "marker": {
          "color": "green"
         },
         "orientation": "h",
         "showlegend": false,
         "type": "bar",
         "x": [
          3356,
          3365,
          4669,
          5686,
          16172,
          16411,
          66416,
          143028,
          212602,
          400788
         ],
         "xaxis": "x",
         "y": [
          "baidu",
          "m.facebook.com",
          "google.com",
          "dfa",
          "analytics.google.com",
          "Partners",
          "mall.googleplex.com",
          "(direct)",
          "youtube.com",
          "google"
         ],
         "yaxis": "y"
        },
        {
         "marker": {
          "color": "green"
         },
         "orientation": "h",
         "showlegend": false,
         "type": "bar",
         "x": [
          0,
          6,
          5,
          123,
          0,
          9,
          5103,
          2042,
          11,
          3879
         ],
         "xaxis": "x2",
         "y": [
          "baidu",
          "m.facebook.com",
          "google.com",
          "dfa",
          "analytics.google.com",
          "Partners",
          "mall.googleplex.com",
          "(direct)",
          "youtube.com",
          "google"
         ],
         "yaxis": "y2"
        },
        {
         "marker": {
          "color": "green"
         },
         "orientation": "h",
         "showlegend": false,
         "type": "bar",
         "x": [
          null,
          31133333.333333332,
          69448000,
          625434308.9430895,
          null,
          66375555.55555555,
          120119151.47952186,
          212948359.45151812,
          28551818.181818184,
          95118680.07218355
         ],
         "xaxis": "x3",
         "y": [
          "baidu",
          "m.facebook.com",
          "google.com",
          "dfa",
          "analytics.google.com",
          "Partners",
          "mall.googleplex.com",
          "(direct)",
          "youtube.com",
          "google"
         ],
         "yaxis": "y3"
        },
        {
         "marker": {
          "color": "purple"
         },
         "orientation": "h",
         "showlegend": false,
         "type": "bar",
         "x": [
          120,
          6262,
          16403,
          25326,
          143026,
          330955,
          381561
         ],
         "xaxis": "x4",
         "y": [
          "(not set)",
          "cpm",
          "affiliate",
          "cpc",
          "(none)",
          "referral",
          "organic"
         ],
         "yaxis": "y4"
        },
        {
         "marker": {
          "color": "purple"
         },
         "orientation": "h",
         "showlegend": false,
         "type": "bar",
         "x": [
          1,
          142,
          9,
          468,
          2042,
          5415,
          3438
         ],
         "xaxis": "x5",
         "y": [
          "(not set)",
          "cpm",
          "affiliate",
          "cpc",
          "(none)",
          "referral",
          "organic"
         ],
         "yaxis": "y5"
        },
        {
         "marker": {
          "color": "purple"
         },
         "orientation": "h",
         "showlegend": false,
         "type": "bar",
         "x": [
          9990000,
          551672253.5211267,
          66375555.55555555,
          93074572.64957266,
          212948359.45151812,
          121208947.36842105,
          94933248.98196626
         ],
         "xaxis": "x6",
         "y": [
          "(not set)",
          "cpm",
          "affiliate",
          "cpc",
          "(none)",
          "referral",
          "organic"
         ],
         "yaxis": "y6"
        }
       ],
       "layout": {
        "annotations": [
         {
          "font": {
           "size": 16
          },
          "showarrow": false,
          "text": "Traffic Source - Count",
          "x": 0.11666666666666665,
          "xanchor": "center",
          "xref": "paper",
          "y": 1,
          "yanchor": "bottom",
          "yref": "paper"
         },
         {
          "font": {
           "size": 16
          },
          "showarrow": false,
          "text": "Traffic Source - Non-zero Revenue Count",
          "x": 0.49999999999999994,
          "xanchor": "center",
          "xref": "paper",
          "y": 1,
          "yanchor": "bottom",
          "yref": "paper"
         },
         {
          "font": {
           "size": 16
          },
          "showarrow": false,
          "text": "Traffic Source - Mean Revenue",
          "x": 0.8833333333333333,
          "xanchor": "center",
          "xref": "paper",
          "y": 1,
          "yanchor": "bottom",
          "yref": "paper"
         },
         {
          "font": {
           "size": 16
          },
          "showarrow": false,
          "text": "Traffic Source Medium - Count",
          "x": 0.11666666666666665,
          "xanchor": "center",
          "xref": "paper",
          "y": 0.46,
          "yanchor": "bottom",
          "yref": "paper"
         },
         {
          "font": {
           "size": 16
          },
          "showarrow": false,
          "text": "Traffic Source Medium - Non-zero Revenue Count",
          "x": 0.49999999999999994,
          "xanchor": "center",
          "xref": "paper",
          "y": 0.46,
          "yanchor": "bottom",
          "yref": "paper"
         },
         {
          "font": {
           "size": 16
          },
          "showarrow": false,
          "text": "Traffic Source Medium - Mean Revenue",
          "x": 0.8833333333333333,
          "xanchor": "center",
          "xref": "paper",
          "y": 0.46,
          "yanchor": "bottom",
          "yref": "paper"
         }
        ],
        "height": 1000,
        "paper_bgcolor": "rgb(233,233,233)",
        "template": {
         "data": {
          "bar": [
           {
            "error_x": {
             "color": "#2a3f5f"
            },
            "error_y": {
             "color": "#2a3f5f"
            },
            "marker": {
             "line": {
              "color": "#E5ECF6",
              "width": 0.5
             },
             "pattern": {
              "fillmode": "overlay",
              "size": 10,
              "solidity": 0.2
             }
            },
            "type": "bar"
           }
          ],
          "barpolar": [
           {
            "marker": {
             "line": {
              "color": "#E5ECF6",
              "width": 0.5
             },
             "pattern": {
              "fillmode": "overlay",
              "size": 10,
              "solidity": 0.2
             }
            },
            "type": "barpolar"
           }
          ],
          "carpet": [
           {
            "aaxis": {
             "endlinecolor": "#2a3f5f",
             "gridcolor": "white",
             "linecolor": "white",
             "minorgridcolor": "white",
             "startlinecolor": "#2a3f5f"
            },
            "baxis": {
             "endlinecolor": "#2a3f5f",
             "gridcolor": "white",
             "linecolor": "white",
             "minorgridcolor": "white",
             "startlinecolor": "#2a3f5f"
            },
            "type": "carpet"
           }
          ],
          "choropleth": [
           {
            "colorbar": {
             "outlinewidth": 0,
             "ticks": ""
            },
            "type": "choropleth"
           }
          ],
          "contour": [
           {
            "colorbar": {
             "outlinewidth": 0,
             "ticks": ""
            },
            "colorscale": [
             [
              0,
              "#0d0887"
             ],
             [
              0.1111111111111111,
              "#46039f"
             ],
             [
              0.2222222222222222,
              "#7201a8"
             ],
             [
              0.3333333333333333,
              "#9c179e"
             ],
             [
              0.4444444444444444,
              "#bd3786"
             ],
             [
              0.5555555555555556,
              "#d8576b"
             ],
             [
              0.6666666666666666,
              "#ed7953"
             ],
             [
              0.7777777777777778,
              "#fb9f3a"
             ],
             [
              0.8888888888888888,
              "#fdca26"
             ],
             [
              1,
              "#f0f921"
             ]
            ],
            "type": "contour"
           }
          ],
          "contourcarpet": [
           {
            "colorbar": {
             "outlinewidth": 0,
             "ticks": ""
            },
            "type": "contourcarpet"
           }
          ],
          "heatmap": [
           {
            "colorbar": {
             "outlinewidth": 0,
             "ticks": ""
            },
            "colorscale": [
             [
              0,
              "#0d0887"
             ],
             [
              0.1111111111111111,
              "#46039f"
             ],
             [
              0.2222222222222222,
              "#7201a8"
             ],
             [
              0.3333333333333333,
              "#9c179e"
             ],
             [
              0.4444444444444444,
              "#bd3786"
             ],
             [
              0.5555555555555556,
              "#d8576b"
             ],
             [
              0.6666666666666666,
              "#ed7953"
             ],
             [
              0.7777777777777778,
              "#fb9f3a"
             ],
             [
              0.8888888888888888,
              "#fdca26"
             ],
             [
              1,
              "#f0f921"
             ]
            ],
            "type": "heatmap"
           }
          ],
          "heatmapgl": [
           {
            "colorbar": {
             "outlinewidth": 0,
             "ticks": ""
            },
            "colorscale": [
             [
              0,
              "#0d0887"
             ],
             [
              0.1111111111111111,
              "#46039f"
             ],
             [
              0.2222222222222222,
              "#7201a8"
             ],
             [
              0.3333333333333333,
              "#9c179e"
             ],
             [
              0.4444444444444444,
              "#bd3786"
             ],
             [
              0.5555555555555556,
              "#d8576b"
             ],
             [
              0.6666666666666666,
              "#ed7953"
             ],
             [
              0.7777777777777778,
              "#fb9f3a"
             ],
             [
              0.8888888888888888,
              "#fdca26"
             ],
             [
              1,
              "#f0f921"
             ]
            ],
            "type": "heatmapgl"
           }
          ],
          "histogram": [
           {
            "marker": {
             "pattern": {
              "fillmode": "overlay",
              "size": 10,
              "solidity": 0.2
             }
            },
            "type": "histogram"
           }
          ],
          "histogram2d": [
           {
            "colorbar": {
             "outlinewidth": 0,
             "ticks": ""
            },
            "colorscale": [
             [
              0,
              "#0d0887"
             ],
             [
              0.1111111111111111,
              "#46039f"
             ],
             [
              0.2222222222222222,
              "#7201a8"
             ],
             [
              0.3333333333333333,
              "#9c179e"
             ],
             [
              0.4444444444444444,
              "#bd3786"
             ],
             [
              0.5555555555555556,
              "#d8576b"
             ],
             [
              0.6666666666666666,
              "#ed7953"
             ],
             [
              0.7777777777777778,
              "#fb9f3a"
             ],
             [
              0.8888888888888888,
              "#fdca26"
             ],
             [
              1,
              "#f0f921"
             ]
            ],
            "type": "histogram2d"
           }
          ],
          "histogram2dcontour": [
           {
            "colorbar": {
             "outlinewidth": 0,
             "ticks": ""
            },
            "colorscale": [
             [
              0,
              "#0d0887"
             ],
             [
              0.1111111111111111,
              "#46039f"
             ],
             [
              0.2222222222222222,
              "#7201a8"
             ],
             [
              0.3333333333333333,
              "#9c179e"
             ],
             [
              0.4444444444444444,
              "#bd3786"
             ],
             [
              0.5555555555555556,
              "#d8576b"
             ],
             [
              0.6666666666666666,
              "#ed7953"
             ],
             [
              0.7777777777777778,
              "#fb9f3a"
             ],
             [
              0.8888888888888888,
              "#fdca26"
             ],
             [
              1,
              "#f0f921"
             ]
            ],
            "type": "histogram2dcontour"
           }
          ],
          "mesh3d": [
           {
            "colorbar": {
             "outlinewidth": 0,
             "ticks": ""
            },
            "type": "mesh3d"
           }
          ],
          "parcoords": [
           {
            "line": {
             "colorbar": {
              "outlinewidth": 0,
              "ticks": ""
             }
            },
            "type": "parcoords"
           }
          ],
          "pie": [
           {
            "automargin": true,
            "type": "pie"
           }
          ],
          "scatter": [
           {
            "fillpattern": {
             "fillmode": "overlay",
             "size": 10,
             "solidity": 0.2
            },
            "type": "scatter"
           }
          ],
          "scatter3d": [
           {
            "line": {
             "colorbar": {
              "outlinewidth": 0,
              "ticks": ""
             }
            },
            "marker": {
             "colorbar": {
              "outlinewidth": 0,
              "ticks": ""
             }
            },
            "type": "scatter3d"
           }
          ],
          "scattercarpet": [
           {
            "marker": {
             "colorbar": {
              "outlinewidth": 0,
              "ticks": ""
             }
            },
            "type": "scattercarpet"
           }
          ],
          "scattergeo": [
           {
            "marker": {
             "colorbar": {
              "outlinewidth": 0,
              "ticks": ""
             }
            },
            "type": "scattergeo"
           }
          ],
          "scattergl": [
           {
            "marker": {
             "colorbar": {
              "outlinewidth": 0,
              "ticks": ""
             }
            },
            "type": "scattergl"
           }
          ],
          "scattermapbox": [
           {
            "marker": {
             "colorbar": {
              "outlinewidth": 0,
              "ticks": ""
             }
            },
            "type": "scattermapbox"
           }
          ],
          "scatterpolar": [
           {
            "marker": {
             "colorbar": {
              "outlinewidth": 0,
              "ticks": ""
             }
            },
            "type": "scatterpolar"
           }
          ],
          "scatterpolargl": [
           {
            "marker": {
             "colorbar": {
              "outlinewidth": 0,
              "ticks": ""
             }
            },
            "type": "scatterpolargl"
           }
          ],
          "scatterternary": [
           {
            "marker": {
             "colorbar": {
              "outlinewidth": 0,
              "ticks": ""
             }
            },
            "type": "scatterternary"
           }
          ],
          "surface": [
           {
            "colorbar": {
             "outlinewidth": 0,
             "ticks": ""
            },
            "colorscale": [
             [
              0,
              "#0d0887"
             ],
             [
              0.1111111111111111,
              "#46039f"
             ],
             [
              0.2222222222222222,
              "#7201a8"
             ],
             [
              0.3333333333333333,
              "#9c179e"
             ],
             [
              0.4444444444444444,
              "#bd3786"
             ],
             [
              0.5555555555555556,
              "#d8576b"
             ],
             [
              0.6666666666666666,
              "#ed7953"
             ],
             [
              0.7777777777777778,
              "#fb9f3a"
             ],
             [
              0.8888888888888888,
              "#fdca26"
             ],
             [
              1,
              "#f0f921"
             ]
            ],
            "type": "surface"
           }
          ],
          "table": [
           {
            "cells": {
             "fill": {
              "color": "#EBF0F8"
             },
             "line": {
              "color": "white"
             }
            },
            "header": {
             "fill": {
              "color": "#C8D4E3"
             },
             "line": {
              "color": "white"
             }
            },
            "type": "table"
           }
          ]
         },
         "layout": {
          "annotationdefaults": {
           "arrowcolor": "#2a3f5f",
           "arrowhead": 0,
           "arrowwidth": 1
          },
          "autotypenumbers": "strict",
          "coloraxis": {
           "colorbar": {
            "outlinewidth": 0,
            "ticks": ""
           }
          },
          "colorscale": {
           "diverging": [
            [
             0,
             "#8e0152"
            ],
            [
             0.1,
             "#c51b7d"
            ],
            [
             0.2,
             "#de77ae"
            ],
            [
             0.3,
             "#f1b6da"
            ],
            [
             0.4,
             "#fde0ef"
            ],
            [
             0.5,
             "#f7f7f7"
            ],
            [
             0.6,
             "#e6f5d0"
            ],
            [
             0.7,
             "#b8e186"
            ],
            [
             0.8,
             "#7fbc41"
            ],
            [
             0.9,
             "#4d9221"
            ],
            [
             1,
             "#276419"
            ]
           ],
           "sequential": [
            [
             0,
             "#0d0887"
            ],
            [
             0.1111111111111111,
             "#46039f"
            ],
            [
             0.2222222222222222,
             "#7201a8"
            ],
            [
             0.3333333333333333,
             "#9c179e"
            ],
            [
             0.4444444444444444,
             "#bd3786"
            ],
            [
             0.5555555555555556,
             "#d8576b"
            ],
            [
             0.6666666666666666,
             "#ed7953"
            ],
            [
             0.7777777777777778,
             "#fb9f3a"
            ],
            [
             0.8888888888888888,
             "#fdca26"
            ],
            [
             1,
             "#f0f921"
            ]
           ],
           "sequentialminus": [
            [
             0,
             "#0d0887"
            ],
            [
             0.1111111111111111,
             "#46039f"
            ],
            [
             0.2222222222222222,
             "#7201a8"
            ],
            [
             0.3333333333333333,
             "#9c179e"
            ],
            [
             0.4444444444444444,
             "#bd3786"
            ],
            [
             0.5555555555555556,
             "#d8576b"
            ],
            [
             0.6666666666666666,
             "#ed7953"
            ],
            [
             0.7777777777777778,
             "#fb9f3a"
            ],
            [
             0.8888888888888888,
             "#fdca26"
            ],
            [
             1,
             "#f0f921"
            ]
           ]
          },
          "colorway": [
           "#636efa",
           "#EF553B",
           "#00cc96",
           "#ab63fa",
           "#FFA15A",
           "#19d3f3",
           "#FF6692",
           "#B6E880",
           "#FF97FF",
           "#FECB52"
          ],
          "font": {
           "color": "#2a3f5f"
          },
          "geo": {
           "bgcolor": "white",
           "lakecolor": "white",
           "landcolor": "#E5ECF6",
           "showlakes": true,
           "showland": true,
           "subunitcolor": "white"
          },
          "hoverlabel": {
           "align": "left"
          },
          "hovermode": "closest",
          "mapbox": {
           "style": "light"
          },
          "paper_bgcolor": "white",
          "plot_bgcolor": "#E5ECF6",
          "polar": {
           "angularaxis": {
            "gridcolor": "white",
            "linecolor": "white",
            "ticks": ""
           },
           "bgcolor": "#E5ECF6",
           "radialaxis": {
            "gridcolor": "white",
            "linecolor": "white",
            "ticks": ""
           }
          },
          "scene": {
           "xaxis": {
            "backgroundcolor": "#E5ECF6",
            "gridcolor": "white",
            "gridwidth": 2,
            "linecolor": "white",
            "showbackground": true,
            "ticks": "",
            "zerolinecolor": "white"
           },
           "yaxis": {
            "backgroundcolor": "#E5ECF6",
            "gridcolor": "white",
            "gridwidth": 2,
            "linecolor": "white",
            "showbackground": true,
            "ticks": "",
            "zerolinecolor": "white"
           },
           "zaxis": {
            "backgroundcolor": "#E5ECF6",
            "gridcolor": "white",
            "gridwidth": 2,
            "linecolor": "white",
            "showbackground": true,
            "ticks": "",
            "zerolinecolor": "white"
           }
          },
          "shapedefaults": {
           "line": {
            "color": "#2a3f5f"
           }
          },
          "ternary": {
           "aaxis": {
            "gridcolor": "white",
            "linecolor": "white",
            "ticks": ""
           },
           "baxis": {
            "gridcolor": "white",
            "linecolor": "white",
            "ticks": ""
           },
           "bgcolor": "#E5ECF6",
           "caxis": {
            "gridcolor": "white",
            "linecolor": "white",
            "ticks": ""
           }
          },
          "title": {
           "x": 0.05
          },
          "xaxis": {
           "automargin": true,
           "gridcolor": "white",
           "linecolor": "white",
           "ticks": "",
           "title": {
            "standoff": 15
           },
           "zerolinecolor": "white",
           "zerolinewidth": 2
          },
          "yaxis": {
           "automargin": true,
           "gridcolor": "white",
           "linecolor": "white",
           "ticks": "",
           "title": {
            "standoff": 15
           },
           "zerolinecolor": "white",
           "zerolinewidth": 2
          }
         }
        },
        "title": {
         "text": "Traffic Source Plots"
        },
        "width": 1200,
        "xaxis": {
         "anchor": "y",
         "domain": [
          0,
          0.2333333333333333
         ]
        },
        "xaxis2": {
         "anchor": "y2",
         "domain": [
          0.3833333333333333,
          0.6166666666666666
         ]
        },
        "xaxis3": {
         "anchor": "y3",
         "domain": [
          0.7666666666666666,
          0.9999999999999999
         ]
        },
        "xaxis4": {
         "anchor": "y4",
         "domain": [
          0,
          0.2333333333333333
         ]
        },
        "xaxis5": {
         "anchor": "y5",
         "domain": [
          0.3833333333333333,
          0.6166666666666666
         ]
        },
        "xaxis6": {
         "anchor": "y6",
         "domain": [
          0.7666666666666666,
          0.9999999999999999
         ]
        },
        "yaxis": {
         "anchor": "x",
         "domain": [
          0.54,
          1
         ]
        },
        "yaxis2": {
         "anchor": "x2",
         "domain": [
          0.54,
          1
         ]
        },
        "yaxis3": {
         "anchor": "x3",
         "domain": [
          0.54,
          1
         ]
        },
        "yaxis4": {
         "anchor": "x4",
         "domain": [
          0,
          0.46
         ]
        },
        "yaxis5": {
         "anchor": "x5",
         "domain": [
          0,
          0.46
         ]
        },
        "yaxis6": {
         "anchor": "x6",
         "domain": [
          0,
          0.46
         ]
        }
       }
      },
      "text/html": [
       "<div>                            <div id=\"c0ccc0c0-0fdf-4a44-8f03-0bed50602e22\" class=\"plotly-graph-div\" style=\"height:1000px; width:1200px;\"></div>            <script type=\"text/javascript\">                require([\"plotly\"], function(Plotly) {                    window.PLOTLYENV=window.PLOTLYENV || {};                                    if (document.getElementById(\"c0ccc0c0-0fdf-4a44-8f03-0bed50602e22\")) {                    Plotly.newPlot(                        \"c0ccc0c0-0fdf-4a44-8f03-0bed50602e22\",                        [{\"marker\":{\"color\":\"green\"},\"orientation\":\"h\",\"showlegend\":false,\"x\":[3356,3365,4669,5686,16172,16411,66416,143028,212602,400788],\"xaxis\":\"x\",\"y\":[\"baidu\",\"m.facebook.com\",\"google.com\",\"dfa\",\"analytics.google.com\",\"Partners\",\"mall.googleplex.com\",\"(direct)\",\"youtube.com\",\"google\"],\"yaxis\":\"y\",\"type\":\"bar\"},{\"marker\":{\"color\":\"green\"},\"orientation\":\"h\",\"showlegend\":false,\"x\":[0,6,5,123,0,9,5103,2042,11,3879],\"xaxis\":\"x2\",\"y\":[\"baidu\",\"m.facebook.com\",\"google.com\",\"dfa\",\"analytics.google.com\",\"Partners\",\"mall.googleplex.com\",\"(direct)\",\"youtube.com\",\"google\"],\"yaxis\":\"y2\",\"type\":\"bar\"},{\"marker\":{\"color\":\"green\"},\"orientation\":\"h\",\"showlegend\":false,\"x\":[null,31133333.333333332,69448000.0,625434308.9430895,null,66375555.55555555,120119151.47952186,212948359.45151812,28551818.181818184,95118680.07218355],\"xaxis\":\"x3\",\"y\":[\"baidu\",\"m.facebook.com\",\"google.com\",\"dfa\",\"analytics.google.com\",\"Partners\",\"mall.googleplex.com\",\"(direct)\",\"youtube.com\",\"google\"],\"yaxis\":\"y3\",\"type\":\"bar\"},{\"marker\":{\"color\":\"purple\"},\"orientation\":\"h\",\"showlegend\":false,\"x\":[120,6262,16403,25326,143026,330955,381561],\"xaxis\":\"x4\",\"y\":[\"(not set)\",\"cpm\",\"affiliate\",\"cpc\",\"(none)\",\"referral\",\"organic\"],\"yaxis\":\"y4\",\"type\":\"bar\"},{\"marker\":{\"color\":\"purple\"},\"orientation\":\"h\",\"showlegend\":false,\"x\":[1,142,9,468,2042,5415,3438],\"xaxis\":\"x5\",\"y\":[\"(not set)\",\"cpm\",\"affiliate\",\"cpc\",\"(none)\",\"referral\",\"organic\"],\"yaxis\":\"y5\",\"type\":\"bar\"},{\"marker\":{\"color\":\"purple\"},\"orientation\":\"h\",\"showlegend\":false,\"x\":[9990000.0,551672253.5211267,66375555.55555555,93074572.64957266,212948359.45151812,121208947.36842105,94933248.98196626],\"xaxis\":\"x6\",\"y\":[\"(not set)\",\"cpm\",\"affiliate\",\"cpc\",\"(none)\",\"referral\",\"organic\"],\"yaxis\":\"y6\",\"type\":\"bar\"}],                        {\"annotations\":[{\"font\":{\"size\":16},\"showarrow\":false,\"text\":\"Traffic Source - Count\",\"x\":0.11666666666666665,\"xanchor\":\"center\",\"xref\":\"paper\",\"y\":1.0,\"yanchor\":\"bottom\",\"yref\":\"paper\"},{\"font\":{\"size\":16},\"showarrow\":false,\"text\":\"Traffic Source - Non-zero Revenue Count\",\"x\":0.49999999999999994,\"xanchor\":\"center\",\"xref\":\"paper\",\"y\":1.0,\"yanchor\":\"bottom\",\"yref\":\"paper\"},{\"font\":{\"size\":16},\"showarrow\":false,\"text\":\"Traffic Source - Mean Revenue\",\"x\":0.8833333333333333,\"xanchor\":\"center\",\"xref\":\"paper\",\"y\":1.0,\"yanchor\":\"bottom\",\"yref\":\"paper\"},{\"font\":{\"size\":16},\"showarrow\":false,\"text\":\"Traffic Source Medium - Count\",\"x\":0.11666666666666665,\"xanchor\":\"center\",\"xref\":\"paper\",\"y\":0.46,\"yanchor\":\"bottom\",\"yref\":\"paper\"},{\"font\":{\"size\":16},\"showarrow\":false,\"text\":\"Traffic Source Medium - Non-zero Revenue Count\",\"x\":0.49999999999999994,\"xanchor\":\"center\",\"xref\":\"paper\",\"y\":0.46,\"yanchor\":\"bottom\",\"yref\":\"paper\"},{\"font\":{\"size\":16},\"showarrow\":false,\"text\":\"Traffic Source Medium - Mean Revenue\",\"x\":0.8833333333333333,\"xanchor\":\"center\",\"xref\":\"paper\",\"y\":0.46,\"yanchor\":\"bottom\",\"yref\":\"paper\"}],\"height\":1000,\"paper_bgcolor\":\"rgb(233,233,233)\",\"template\":{\"data\":{\"barpolar\":[{\"marker\":{\"line\":{\"color\":\"#E5ECF6\",\"width\":0.5},\"pattern\":{\"fillmode\":\"overlay\",\"size\":10,\"solidity\":0.2}},\"type\":\"barpolar\"}],\"bar\":[{\"error_x\":{\"color\":\"#2a3f5f\"},\"error_y\":{\"color\":\"#2a3f5f\"},\"marker\":{\"line\":{\"color\":\"#E5ECF6\",\"width\":0.5},\"pattern\":{\"fillmode\":\"overlay\",\"size\":10,\"solidity\":0.2}},\"type\":\"bar\"}],\"carpet\":[{\"aaxis\":{\"endlinecolor\":\"#2a3f5f\",\"gridcolor\":\"white\",\"linecolor\":\"white\",\"minorgridcolor\":\"white\",\"startlinecolor\":\"#2a3f5f\"},\"baxis\":{\"endlinecolor\":\"#2a3f5f\",\"gridcolor\":\"white\",\"linecolor\":\"white\",\"minorgridcolor\":\"white\",\"startlinecolor\":\"#2a3f5f\"},\"type\":\"carpet\"}],\"choropleth\":[{\"colorbar\":{\"outlinewidth\":0,\"ticks\":\"\"},\"type\":\"choropleth\"}],\"contourcarpet\":[{\"colorbar\":{\"outlinewidth\":0,\"ticks\":\"\"},\"type\":\"contourcarpet\"}],\"contour\":[{\"colorbar\":{\"outlinewidth\":0,\"ticks\":\"\"},\"colorscale\":[[0.0,\"#0d0887\"],[0.1111111111111111,\"#46039f\"],[0.2222222222222222,\"#7201a8\"],[0.3333333333333333,\"#9c179e\"],[0.4444444444444444,\"#bd3786\"],[0.5555555555555556,\"#d8576b\"],[0.6666666666666666,\"#ed7953\"],[0.7777777777777778,\"#fb9f3a\"],[0.8888888888888888,\"#fdca26\"],[1.0,\"#f0f921\"]],\"type\":\"contour\"}],\"heatmapgl\":[{\"colorbar\":{\"outlinewidth\":0,\"ticks\":\"\"},\"colorscale\":[[0.0,\"#0d0887\"],[0.1111111111111111,\"#46039f\"],[0.2222222222222222,\"#7201a8\"],[0.3333333333333333,\"#9c179e\"],[0.4444444444444444,\"#bd3786\"],[0.5555555555555556,\"#d8576b\"],[0.6666666666666666,\"#ed7953\"],[0.7777777777777778,\"#fb9f3a\"],[0.8888888888888888,\"#fdca26\"],[1.0,\"#f0f921\"]],\"type\":\"heatmapgl\"}],\"heatmap\":[{\"colorbar\":{\"outlinewidth\":0,\"ticks\":\"\"},\"colorscale\":[[0.0,\"#0d0887\"],[0.1111111111111111,\"#46039f\"],[0.2222222222222222,\"#7201a8\"],[0.3333333333333333,\"#9c179e\"],[0.4444444444444444,\"#bd3786\"],[0.5555555555555556,\"#d8576b\"],[0.6666666666666666,\"#ed7953\"],[0.7777777777777778,\"#fb9f3a\"],[0.8888888888888888,\"#fdca26\"],[1.0,\"#f0f921\"]],\"type\":\"heatmap\"}],\"histogram2dcontour\":[{\"colorbar\":{\"outlinewidth\":0,\"ticks\":\"\"},\"colorscale\":[[0.0,\"#0d0887\"],[0.1111111111111111,\"#46039f\"],[0.2222222222222222,\"#7201a8\"],[0.3333333333333333,\"#9c179e\"],[0.4444444444444444,\"#bd3786\"],[0.5555555555555556,\"#d8576b\"],[0.6666666666666666,\"#ed7953\"],[0.7777777777777778,\"#fb9f3a\"],[0.8888888888888888,\"#fdca26\"],[1.0,\"#f0f921\"]],\"type\":\"histogram2dcontour\"}],\"histogram2d\":[{\"colorbar\":{\"outlinewidth\":0,\"ticks\":\"\"},\"colorscale\":[[0.0,\"#0d0887\"],[0.1111111111111111,\"#46039f\"],[0.2222222222222222,\"#7201a8\"],[0.3333333333333333,\"#9c179e\"],[0.4444444444444444,\"#bd3786\"],[0.5555555555555556,\"#d8576b\"],[0.6666666666666666,\"#ed7953\"],[0.7777777777777778,\"#fb9f3a\"],[0.8888888888888888,\"#fdca26\"],[1.0,\"#f0f921\"]],\"type\":\"histogram2d\"}],\"histogram\":[{\"marker\":{\"pattern\":{\"fillmode\":\"overlay\",\"size\":10,\"solidity\":0.2}},\"type\":\"histogram\"}],\"mesh3d\":[{\"colorbar\":{\"outlinewidth\":0,\"ticks\":\"\"},\"type\":\"mesh3d\"}],\"parcoords\":[{\"line\":{\"colorbar\":{\"outlinewidth\":0,\"ticks\":\"\"}},\"type\":\"parcoords\"}],\"pie\":[{\"automargin\":true,\"type\":\"pie\"}],\"scatter3d\":[{\"line\":{\"colorbar\":{\"outlinewidth\":0,\"ticks\":\"\"}},\"marker\":{\"colorbar\":{\"outlinewidth\":0,\"ticks\":\"\"}},\"type\":\"scatter3d\"}],\"scattercarpet\":[{\"marker\":{\"colorbar\":{\"outlinewidth\":0,\"ticks\":\"\"}},\"type\":\"scattercarpet\"}],\"scattergeo\":[{\"marker\":{\"colorbar\":{\"outlinewidth\":0,\"ticks\":\"\"}},\"type\":\"scattergeo\"}],\"scattergl\":[{\"marker\":{\"colorbar\":{\"outlinewidth\":0,\"ticks\":\"\"}},\"type\":\"scattergl\"}],\"scattermapbox\":[{\"marker\":{\"colorbar\":{\"outlinewidth\":0,\"ticks\":\"\"}},\"type\":\"scattermapbox\"}],\"scatterpolargl\":[{\"marker\":{\"colorbar\":{\"outlinewidth\":0,\"ticks\":\"\"}},\"type\":\"scatterpolargl\"}],\"scatterpolar\":[{\"marker\":{\"colorbar\":{\"outlinewidth\":0,\"ticks\":\"\"}},\"type\":\"scatterpolar\"}],\"scatter\":[{\"fillpattern\":{\"fillmode\":\"overlay\",\"size\":10,\"solidity\":0.2},\"type\":\"scatter\"}],\"scatterternary\":[{\"marker\":{\"colorbar\":{\"outlinewidth\":0,\"ticks\":\"\"}},\"type\":\"scatterternary\"}],\"surface\":[{\"colorbar\":{\"outlinewidth\":0,\"ticks\":\"\"},\"colorscale\":[[0.0,\"#0d0887\"],[0.1111111111111111,\"#46039f\"],[0.2222222222222222,\"#7201a8\"],[0.3333333333333333,\"#9c179e\"],[0.4444444444444444,\"#bd3786\"],[0.5555555555555556,\"#d8576b\"],[0.6666666666666666,\"#ed7953\"],[0.7777777777777778,\"#fb9f3a\"],[0.8888888888888888,\"#fdca26\"],[1.0,\"#f0f921\"]],\"type\":\"surface\"}],\"table\":[{\"cells\":{\"fill\":{\"color\":\"#EBF0F8\"},\"line\":{\"color\":\"white\"}},\"header\":{\"fill\":{\"color\":\"#C8D4E3\"},\"line\":{\"color\":\"white\"}},\"type\":\"table\"}]},\"layout\":{\"annotationdefaults\":{\"arrowcolor\":\"#2a3f5f\",\"arrowhead\":0,\"arrowwidth\":1},\"autotypenumbers\":\"strict\",\"coloraxis\":{\"colorbar\":{\"outlinewidth\":0,\"ticks\":\"\"}},\"colorscale\":{\"diverging\":[[0,\"#8e0152\"],[0.1,\"#c51b7d\"],[0.2,\"#de77ae\"],[0.3,\"#f1b6da\"],[0.4,\"#fde0ef\"],[0.5,\"#f7f7f7\"],[0.6,\"#e6f5d0\"],[0.7,\"#b8e186\"],[0.8,\"#7fbc41\"],[0.9,\"#4d9221\"],[1,\"#276419\"]],\"sequential\":[[0.0,\"#0d0887\"],[0.1111111111111111,\"#46039f\"],[0.2222222222222222,\"#7201a8\"],[0.3333333333333333,\"#9c179e\"],[0.4444444444444444,\"#bd3786\"],[0.5555555555555556,\"#d8576b\"],[0.6666666666666666,\"#ed7953\"],[0.7777777777777778,\"#fb9f3a\"],[0.8888888888888888,\"#fdca26\"],[1.0,\"#f0f921\"]],\"sequentialminus\":[[0.0,\"#0d0887\"],[0.1111111111111111,\"#46039f\"],[0.2222222222222222,\"#7201a8\"],[0.3333333333333333,\"#9c179e\"],[0.4444444444444444,\"#bd3786\"],[0.5555555555555556,\"#d8576b\"],[0.6666666666666666,\"#ed7953\"],[0.7777777777777778,\"#fb9f3a\"],[0.8888888888888888,\"#fdca26\"],[1.0,\"#f0f921\"]]},\"colorway\":[\"#636efa\",\"#EF553B\",\"#00cc96\",\"#ab63fa\",\"#FFA15A\",\"#19d3f3\",\"#FF6692\",\"#B6E880\",\"#FF97FF\",\"#FECB52\"],\"font\":{\"color\":\"#2a3f5f\"},\"geo\":{\"bgcolor\":\"white\",\"lakecolor\":\"white\",\"landcolor\":\"#E5ECF6\",\"showlakes\":true,\"showland\":true,\"subunitcolor\":\"white\"},\"hoverlabel\":{\"align\":\"left\"},\"hovermode\":\"closest\",\"mapbox\":{\"style\":\"light\"},\"paper_bgcolor\":\"white\",\"plot_bgcolor\":\"#E5ECF6\",\"polar\":{\"angularaxis\":{\"gridcolor\":\"white\",\"linecolor\":\"white\",\"ticks\":\"\"},\"bgcolor\":\"#E5ECF6\",\"radialaxis\":{\"gridcolor\":\"white\",\"linecolor\":\"white\",\"ticks\":\"\"}},\"scene\":{\"xaxis\":{\"backgroundcolor\":\"#E5ECF6\",\"gridcolor\":\"white\",\"gridwidth\":2,\"linecolor\":\"white\",\"showbackground\":true,\"ticks\":\"\",\"zerolinecolor\":\"white\"},\"yaxis\":{\"backgroundcolor\":\"#E5ECF6\",\"gridcolor\":\"white\",\"gridwidth\":2,\"linecolor\":\"white\",\"showbackground\":true,\"ticks\":\"\",\"zerolinecolor\":\"white\"},\"zaxis\":{\"backgroundcolor\":\"#E5ECF6\",\"gridcolor\":\"white\",\"gridwidth\":2,\"linecolor\":\"white\",\"showbackground\":true,\"ticks\":\"\",\"zerolinecolor\":\"white\"}},\"shapedefaults\":{\"line\":{\"color\":\"#2a3f5f\"}},\"ternary\":{\"aaxis\":{\"gridcolor\":\"white\",\"linecolor\":\"white\",\"ticks\":\"\"},\"baxis\":{\"gridcolor\":\"white\",\"linecolor\":\"white\",\"ticks\":\"\"},\"bgcolor\":\"#E5ECF6\",\"caxis\":{\"gridcolor\":\"white\",\"linecolor\":\"white\",\"ticks\":\"\"}},\"title\":{\"x\":0.05},\"xaxis\":{\"automargin\":true,\"gridcolor\":\"white\",\"linecolor\":\"white\",\"ticks\":\"\",\"title\":{\"standoff\":15},\"zerolinecolor\":\"white\",\"zerolinewidth\":2},\"yaxis\":{\"automargin\":true,\"gridcolor\":\"white\",\"linecolor\":\"white\",\"ticks\":\"\",\"title\":{\"standoff\":15},\"zerolinecolor\":\"white\",\"zerolinewidth\":2}}},\"title\":{\"text\":\"Traffic Source Plots\"},\"width\":1200,\"xaxis\":{\"anchor\":\"y\",\"domain\":[0.0,0.2333333333333333]},\"yaxis\":{\"anchor\":\"x\",\"domain\":[0.54,1.0]},\"xaxis2\":{\"anchor\":\"y2\",\"domain\":[0.3833333333333333,0.6166666666666666]},\"yaxis2\":{\"anchor\":\"x2\",\"domain\":[0.54,1.0]},\"xaxis3\":{\"anchor\":\"y3\",\"domain\":[0.7666666666666666,0.9999999999999999]},\"yaxis3\":{\"anchor\":\"x3\",\"domain\":[0.54,1.0]},\"xaxis4\":{\"anchor\":\"y4\",\"domain\":[0.0,0.2333333333333333]},\"yaxis4\":{\"anchor\":\"x4\",\"domain\":[0.0,0.46]},\"xaxis5\":{\"anchor\":\"y5\",\"domain\":[0.3833333333333333,0.6166666666666666]},\"yaxis5\":{\"anchor\":\"x5\",\"domain\":[0.0,0.46]},\"xaxis6\":{\"anchor\":\"y6\",\"domain\":[0.7666666666666666,0.9999999999999999]},\"yaxis6\":{\"anchor\":\"x6\",\"domain\":[0.0,0.46]}},                        {\"responsive\": true}                    ).then(function(){\n",
       "                            \n",
       "var gd = document.getElementById('c0ccc0c0-0fdf-4a44-8f03-0bed50602e22');\n",
       "var x = new MutationObserver(function (mutations, observer) {{\n",
       "        var display = window.getComputedStyle(gd).display;\n",
       "        if (!display || display === 'none') {{\n",
       "            console.log([gd, 'removed!']);\n",
       "            Plotly.purge(gd);\n",
       "            observer.disconnect();\n",
       "        }}\n",
       "}});\n",
       "\n",
       "// Listen for the removal of the full notebook cells\n",
       "var notebookContainer = gd.closest('#notebook-container');\n",
       "if (notebookContainer) {{\n",
       "    x.observe(notebookContainer, {childList: true});\n",
       "}}\n",
       "\n",
       "// Listen for the clearing of the current output cell\n",
       "var outputEl = gd.closest('.output');\n",
       "if (outputEl) {{\n",
       "    x.observe(outputEl, {childList: true});\n",
       "}}\n",
       "\n",
       "                        })                };                });            </script>        </div>"
      ]
     },
     "metadata": {},
     "output_type": "display_data"
    }
   ],
   "source": [
    "# Continent\n",
    "cnt_srs = train_df.groupby('trafficSource.source')['totals.transactionRevenue'].agg(['size', 'count', 'mean'])\n",
    "cnt_srs.columns = [\"count\", \"count of non-zero revenue\", \"mean\"]\n",
    "cnt_srs = cnt_srs.sort_values(by=\"count\", ascending=False)\n",
    "trace1 = horizontal_bar_chart(cnt_srs[\"count\"].head(10), 'green')\n",
    "trace2 = horizontal_bar_chart(cnt_srs[\"count of non-zero revenue\"].head(10), 'green')\n",
    "trace3 = horizontal_bar_chart(cnt_srs[\"mean\"].head(10), 'green')\n",
    "\n",
    "# Sub-continent\n",
    "cnt_srs = train_df.groupby('trafficSource.medium')['totals.transactionRevenue'].agg(['size', 'count', 'mean'])\n",
    "cnt_srs.columns = [\"count\", \"count of non-zero revenue\", \"mean\"]\n",
    "cnt_srs = cnt_srs.sort_values(by=\"count\", ascending=False)\n",
    "trace4 = horizontal_bar_chart(cnt_srs[\"count\"], 'purple')\n",
    "trace5 = horizontal_bar_chart(cnt_srs[\"count of non-zero revenue\"], 'purple')\n",
    "trace6 = horizontal_bar_chart(cnt_srs[\"mean\"], 'purple')\n",
    "\n",
    "# Creating two subplots\n",
    "fig = tools.make_subplots(rows=2, cols=3, vertical_spacing=0.08, horizontal_spacing=0.15, \n",
    "                          subplot_titles=[\"Traffic Source - Count\", \"Traffic Source - Non-zero Revenue Count\", \"Traffic Source - Mean Revenue\",\n",
    "                                          \"Traffic Source Medium - Count\",  \"Traffic Source Medium - Non-zero Revenue Count\", \"Traffic Source Medium - Mean Revenue\"\n",
    "                                          ])\n",
    "\n",
    "fig.append_trace(trace1, 1, 1)\n",
    "fig.append_trace(trace2, 1, 2)\n",
    "fig.append_trace(trace3, 1, 3)\n",
    "fig.append_trace(trace4, 2, 1)\n",
    "fig.append_trace(trace5, 2, 2)\n",
    "fig.append_trace(trace6, 2, 3)\n",
    "\n",
    "fig['layout'].update(height=1000, width=1200, paper_bgcolor='rgb(233,233,233)', title=\"Traffic Source Plots\")\n",
    "py.iplot(fig, filename='traffic-source-plots')"
   ]
  },
  {
   "cell_type": "markdown",
   "id": "21b61b3a",
   "metadata": {},
   "source": [
    "Inferences:\n",
    "\n",
    "    In the traffic source plot, though Youtube has high number of counts in the dataset, the number of non-zero revenue counts are very less.\n",
    "    Google plex has a high ratio of non-zero revenue count to total count in the traffic source plot.\n",
    "    On the traffic source medium, \"referral\" has more number of non-zero revenue count compared to \"organic\" medium.\n",
    "\n",
    "Visitor Profile:\n",
    "\n",
    "Now let us look at the visitor profile variables like number of pageviews by the visitor, number of hits by the visitor and see how they look.\n"
   ]
  },
  {
   "cell_type": "code",
   "execution_count": 28,
   "id": "2b24a772",
   "metadata": {},
   "outputs": [
    {
     "name": "stderr",
     "output_type": "stream",
     "text": [
      "C:\\Users\\Manoj Kumar\\anaconda3\\lib\\site-packages\\plotly\\tools.py:460: DeprecationWarning:\n",
      "\n",
      "plotly.tools.make_subplots is deprecated, please use plotly.subplots.make_subplots instead\n",
      "\n"
     ]
    },
    {
     "data": {
      "application/vnd.plotly.v1+json": {
       "config": {
        "linkText": "Export to plot.ly",
        "plotlyServerURL": "https://plot.ly",
        "showLink": false
       },
       "data": [
        {
         "marker": {
          "color": "cyan"
         },
         "orientation": "h",
         "showlegend": false,
         "type": "bar",
         "x": [
          84,
          88,
          94,
          112,
          114,
          124,
          134,
          135,
          162,
          168,
          184,
          192,
          222,
          225,
          240,
          242,
          265,
          268,
          298,
          338,
          355,
          388,
          410,
          453,
          509,
          535,
          567,
          674,
          704,
          847,
          873,
          875,
          1091,
          1143,
          1318,
          1413,
          1567,
          1722,
          1949,
          2211,
          2409,
          2682,
          3150,
          3511,
          4010,
          4720,
          5291,
          6197,
          7097,
          8671,
          10104,
          12585,
          15272,
          19476,
          24688,
          33411,
          45192,
          73835,
          143770,
          452522
         ],
         "xaxis": "x",
         "y": [
          "60",
          "59",
          "58",
          "56",
          "57",
          "55",
          "54",
          "53",
          "50",
          "52",
          "51",
          "49",
          "48",
          "47",
          "46",
          "44",
          "43",
          "45",
          "42",
          "41",
          "40",
          "39",
          "38",
          "37",
          "36",
          "35",
          "34",
          "33",
          "32",
          "31",
          "30",
          "29",
          "28",
          "27",
          "26",
          "25",
          "24",
          "23",
          "22",
          "21",
          "20",
          "19",
          "18",
          "17",
          "16",
          "15",
          "14",
          "13",
          "12",
          "11",
          "10",
          "9",
          "8",
          "7",
          "6",
          "5",
          "4",
          "3",
          "2",
          "1"
         ],
         "yaxis": "y"
        },
        {
         "marker": {
          "color": "cyan"
         },
         "orientation": "h",
         "showlegend": false,
         "type": "bar",
         "x": [
          29,
          32,
          35,
          37,
          48,
          39,
          41,
          50,
          62,
          62,
          63,
          76,
          95,
          73,
          77,
          81,
          92,
          97,
          109,
          112,
          108,
          140,
          139,
          164,
          158,
          175,
          160,
          199,
          189,
          240,
          238,
          242,
          251,
          268,
          331,
          297,
          347,
          334,
          367,
          407,
          397,
          367,
          451,
          445,
          478,
          471,
          467,
          453,
          385,
          374,
          257,
          136,
          83,
          25,
          9,
          13,
          8,
          3,
          4,
          0
         ],
         "xaxis": "x2",
         "y": [
          "60",
          "59",
          "58",
          "56",
          "57",
          "55",
          "54",
          "53",
          "50",
          "52",
          "51",
          "49",
          "48",
          "47",
          "46",
          "44",
          "43",
          "45",
          "42",
          "41",
          "40",
          "39",
          "38",
          "37",
          "36",
          "35",
          "34",
          "33",
          "32",
          "31",
          "30",
          "29",
          "28",
          "27",
          "26",
          "25",
          "24",
          "23",
          "22",
          "21",
          "20",
          "19",
          "18",
          "17",
          "16",
          "15",
          "14",
          "13",
          "12",
          "11",
          "10",
          "9",
          "8",
          "7",
          "6",
          "5",
          "4",
          "3",
          "2",
          "1"
         ],
         "yaxis": "y2"
        },
        {
         "marker": {
          "color": "cyan"
         },
         "orientation": "h",
         "showlegend": false,
         "type": "bar",
         "x": [
          215537241.37931034,
          228677500,
          258122000,
          322468108.1081081,
          254373541.66666666,
          252405384.6153846,
          156237317.07317072,
          197964400,
          150037096.77419356,
          325115322.58064514,
          220292857.14285713,
          227623684.21052632,
          190762842.10526314,
          221611643.83561644,
          186804155.84415585,
          150668024.69135803,
          129303260.86956522,
          122456185.56701031,
          134804311.9266055,
          175578303.57142857,
          386671203.7037037,
          239388500,
          151532446.04316548,
          106345609.75609756,
          145872974.6835443,
          120449314.28571428,
          160237937.5,
          135816683.41708544,
          126580793.65079366,
          125540541.66666667,
          162768865.54621848,
          93466900.82644628,
          112260478.0876494,
          119993507.46268657,
          133370332.32628399,
          97608484.84848484,
          114713025.93659942,
          122923113.7724551,
          137787792.91553134,
          97864987.71498771,
          89532997.48110831,
          78330572.20708446,
          83453237.25055432,
          91032606.74157304,
          86659351.46443515,
          85831740.97664544,
          106072526.76659529,
          94117836.64459161,
          69840493.50649351,
          100246764.70588236,
          93482295.71984436,
          106478455.88235295,
          102294457.83132531,
          62228400,
          37278888.88888889,
          209072307.69230768,
          124287500,
          70393333.33333333,
          303625000,
          null
         ],
         "xaxis": "x3",
         "y": [
          "60",
          "59",
          "58",
          "56",
          "57",
          "55",
          "54",
          "53",
          "50",
          "52",
          "51",
          "49",
          "48",
          "47",
          "46",
          "44",
          "43",
          "45",
          "42",
          "41",
          "40",
          "39",
          "38",
          "37",
          "36",
          "35",
          "34",
          "33",
          "32",
          "31",
          "30",
          "29",
          "28",
          "27",
          "26",
          "25",
          "24",
          "23",
          "22",
          "21",
          "20",
          "19",
          "18",
          "17",
          "16",
          "15",
          "14",
          "13",
          "12",
          "11",
          "10",
          "9",
          "8",
          "7",
          "6",
          "5",
          "4",
          "3",
          "2",
          "1"
         ],
         "yaxis": "y3"
        },
        {
         "marker": {
          "color": "black"
         },
         "orientation": "h",
         "showlegend": false,
         "type": "bar",
         "x": [
          198,
          203,
          206,
          211,
          212,
          227,
          246,
          261,
          269,
          316,
          333,
          348,
          349,
          363,
          424,
          438,
          454,
          501,
          527,
          553,
          621,
          693,
          724,
          745,
          785,
          845,
          846,
          944,
          1088,
          1104,
          1289,
          1291,
          1406,
          1504,
          1718,
          1925,
          2126,
          2190,
          2477,
          2798,
          3064,
          3291,
          3755,
          4130,
          4716,
          5384,
          6194,
          6881,
          7879,
          9264,
          10640,
          12959,
          15484,
          19518,
          23918,
          30939,
          42444,
          70402,
          137952,
          446754
         ],
         "xaxis": "x4",
         "y": [
          "61",
          "59",
          "60",
          "56",
          "57",
          "55",
          "54",
          "52",
          "53",
          "50",
          "51",
          "49",
          "48",
          "47",
          "46",
          "45",
          "44",
          "43",
          "42",
          "41",
          "40",
          "39",
          "38",
          "37",
          "36",
          "35",
          "34",
          "33",
          "32",
          "31",
          "30",
          "29",
          "28",
          "27",
          "26",
          "25",
          "24",
          "23",
          "22",
          "21",
          "20",
          "19",
          "18",
          "17",
          "16",
          "15",
          "14",
          "13",
          "12",
          "11",
          "10",
          "9",
          "8",
          "7",
          "6",
          "5",
          "4",
          "3",
          "2",
          "1"
         ],
         "yaxis": "y4"
        },
        {
         "marker": {
          "color": "black"
         },
         "orientation": "h",
         "showlegend": false,
         "type": "bar",
         "x": [
          69,
          63,
          75,
          58,
          83,
          67,
          57,
          72,
          90,
          81,
          104,
          94,
          111,
          105,
          129,
          124,
          122,
          155,
          135,
          133,
          159,
          145,
          172,
          177,
          175,
          193,
          198,
          193,
          204,
          207,
          261,
          222,
          267,
          263,
          279,
          269,
          292,
          311,
          290,
          313,
          329,
          345,
          375,
          348,
          362,
          354,
          348,
          313,
          258,
          193,
          123,
          94,
          54,
          19,
          9,
          12,
          8,
          3,
          4,
          0
         ],
         "xaxis": "x5",
         "y": [
          "61",
          "59",
          "60",
          "56",
          "57",
          "55",
          "54",
          "52",
          "53",
          "50",
          "51",
          "49",
          "48",
          "47",
          "46",
          "45",
          "44",
          "43",
          "42",
          "41",
          "40",
          "39",
          "38",
          "37",
          "36",
          "35",
          "34",
          "33",
          "32",
          "31",
          "30",
          "29",
          "28",
          "27",
          "26",
          "25",
          "24",
          "23",
          "22",
          "21",
          "20",
          "19",
          "18",
          "17",
          "16",
          "15",
          "14",
          "13",
          "12",
          "11",
          "10",
          "9",
          "8",
          "7",
          "6",
          "5",
          "4",
          "3",
          "2",
          "1"
         ],
         "yaxis": "y5"
        },
        {
         "marker": {
          "color": "black"
         },
         "orientation": "h",
         "showlegend": false,
         "type": "bar",
         "x": [
          192411594.20289856,
          136002063.4920635,
          148718266.66666666,
          193214655.1724138,
          244709879.51807228,
          175378955.2238806,
          243480526.31578946,
          143963611.1111111,
          166214888.8888889,
          252568765.43209878,
          140265480.76923078,
          162276595.74468085,
          143352252.25225225,
          156829428.57142857,
          124861395.34883721,
          115575564.51612903,
          132623360.6557377,
          100177612.90322581,
          138757555.55555555,
          210898195.48872182,
          107951823.89937107,
          110296413.79310344,
          106440058.13953489,
          140660621.46892655,
          83897600,
          145448808.29015544,
          129305050.50505051,
          152879896.373057,
          155526911.7647059,
          121725555.55555555,
          107391417.62452108,
          85833603.6036036,
          88798239.70037453,
          95413498.09885931,
          113594121.86379929,
          87118327.13754646,
          98842671.23287672,
          84713086.81672026,
          71686655.1724138,
          82634217.25239617,
          93415288.7537994,
          98681072.46376811,
          63682800,
          113642298.85057472,
          96459337.01657459,
          95994322.03389831,
          74250028.73563218,
          73472268.37060703,
          77147209.30232558,
          110564352.33160622,
          106691056.9105691,
          109170957.44680852,
          101212407.4074074,
          65030000,
          37278888.88888889,
          190169166.66666666,
          124287500,
          70393333.33333333,
          303625000,
          null
         ],
         "xaxis": "x6",
         "y": [
          "61",
          "59",
          "60",
          "56",
          "57",
          "55",
          "54",
          "52",
          "53",
          "50",
          "51",
          "49",
          "48",
          "47",
          "46",
          "45",
          "44",
          "43",
          "42",
          "41",
          "40",
          "39",
          "38",
          "37",
          "36",
          "35",
          "34",
          "33",
          "32",
          "31",
          "30",
          "29",
          "28",
          "27",
          "26",
          "25",
          "24",
          "23",
          "22",
          "21",
          "20",
          "19",
          "18",
          "17",
          "16",
          "15",
          "14",
          "13",
          "12",
          "11",
          "10",
          "9",
          "8",
          "7",
          "6",
          "5",
          "4",
          "3",
          "2",
          "1"
         ],
         "yaxis": "y6"
        }
       ],
       "layout": {
        "annotations": [
         {
          "font": {
           "size": 16
          },
          "showarrow": false,
          "text": "Total Pageviews - Count",
          "x": 0.11666666666666665,
          "xanchor": "center",
          "xref": "paper",
          "y": 1,
          "yanchor": "bottom",
          "yref": "paper"
         },
         {
          "font": {
           "size": 16
          },
          "showarrow": false,
          "text": "Total Pageviews - Non-zero Revenue Count",
          "x": 0.49999999999999994,
          "xanchor": "center",
          "xref": "paper",
          "y": 1,
          "yanchor": "bottom",
          "yref": "paper"
         },
         {
          "font": {
           "size": 16
          },
          "showarrow": false,
          "text": "Total Pageviews - Mean Revenue",
          "x": 0.8833333333333333,
          "xanchor": "center",
          "xref": "paper",
          "y": 1,
          "yanchor": "bottom",
          "yref": "paper"
         },
         {
          "font": {
           "size": 16
          },
          "showarrow": false,
          "text": "Total Hits - Count",
          "x": 0.11666666666666665,
          "xanchor": "center",
          "xref": "paper",
          "y": 0.46,
          "yanchor": "bottom",
          "yref": "paper"
         },
         {
          "font": {
           "size": 16
          },
          "showarrow": false,
          "text": "Total Hits - Non-zero Revenue Count",
          "x": 0.49999999999999994,
          "xanchor": "center",
          "xref": "paper",
          "y": 0.46,
          "yanchor": "bottom",
          "yref": "paper"
         },
         {
          "font": {
           "size": 16
          },
          "showarrow": false,
          "text": "Total Hits - Mean Revenue",
          "x": 0.8833333333333333,
          "xanchor": "center",
          "xref": "paper",
          "y": 0.46,
          "yanchor": "bottom",
          "yref": "paper"
         }
        ],
        "height": 1200,
        "paper_bgcolor": "rgb(233,233,233)",
        "template": {
         "data": {
          "bar": [
           {
            "error_x": {
             "color": "#2a3f5f"
            },
            "error_y": {
             "color": "#2a3f5f"
            },
            "marker": {
             "line": {
              "color": "#E5ECF6",
              "width": 0.5
             },
             "pattern": {
              "fillmode": "overlay",
              "size": 10,
              "solidity": 0.2
             }
            },
            "type": "bar"
           }
          ],
          "barpolar": [
           {
            "marker": {
             "line": {
              "color": "#E5ECF6",
              "width": 0.5
             },
             "pattern": {
              "fillmode": "overlay",
              "size": 10,
              "solidity": 0.2
             }
            },
            "type": "barpolar"
           }
          ],
          "carpet": [
           {
            "aaxis": {
             "endlinecolor": "#2a3f5f",
             "gridcolor": "white",
             "linecolor": "white",
             "minorgridcolor": "white",
             "startlinecolor": "#2a3f5f"
            },
            "baxis": {
             "endlinecolor": "#2a3f5f",
             "gridcolor": "white",
             "linecolor": "white",
             "minorgridcolor": "white",
             "startlinecolor": "#2a3f5f"
            },
            "type": "carpet"
           }
          ],
          "choropleth": [
           {
            "colorbar": {
             "outlinewidth": 0,
             "ticks": ""
            },
            "type": "choropleth"
           }
          ],
          "contour": [
           {
            "colorbar": {
             "outlinewidth": 0,
             "ticks": ""
            },
            "colorscale": [
             [
              0,
              "#0d0887"
             ],
             [
              0.1111111111111111,
              "#46039f"
             ],
             [
              0.2222222222222222,
              "#7201a8"
             ],
             [
              0.3333333333333333,
              "#9c179e"
             ],
             [
              0.4444444444444444,
              "#bd3786"
             ],
             [
              0.5555555555555556,
              "#d8576b"
             ],
             [
              0.6666666666666666,
              "#ed7953"
             ],
             [
              0.7777777777777778,
              "#fb9f3a"
             ],
             [
              0.8888888888888888,
              "#fdca26"
             ],
             [
              1,
              "#f0f921"
             ]
            ],
            "type": "contour"
           }
          ],
          "contourcarpet": [
           {
            "colorbar": {
             "outlinewidth": 0,
             "ticks": ""
            },
            "type": "contourcarpet"
           }
          ],
          "heatmap": [
           {
            "colorbar": {
             "outlinewidth": 0,
             "ticks": ""
            },
            "colorscale": [
             [
              0,
              "#0d0887"
             ],
             [
              0.1111111111111111,
              "#46039f"
             ],
             [
              0.2222222222222222,
              "#7201a8"
             ],
             [
              0.3333333333333333,
              "#9c179e"
             ],
             [
              0.4444444444444444,
              "#bd3786"
             ],
             [
              0.5555555555555556,
              "#d8576b"
             ],
             [
              0.6666666666666666,
              "#ed7953"
             ],
             [
              0.7777777777777778,
              "#fb9f3a"
             ],
             [
              0.8888888888888888,
              "#fdca26"
             ],
             [
              1,
              "#f0f921"
             ]
            ],
            "type": "heatmap"
           }
          ],
          "heatmapgl": [
           {
            "colorbar": {
             "outlinewidth": 0,
             "ticks": ""
            },
            "colorscale": [
             [
              0,
              "#0d0887"
             ],
             [
              0.1111111111111111,
              "#46039f"
             ],
             [
              0.2222222222222222,
              "#7201a8"
             ],
             [
              0.3333333333333333,
              "#9c179e"
             ],
             [
              0.4444444444444444,
              "#bd3786"
             ],
             [
              0.5555555555555556,
              "#d8576b"
             ],
             [
              0.6666666666666666,
              "#ed7953"
             ],
             [
              0.7777777777777778,
              "#fb9f3a"
             ],
             [
              0.8888888888888888,
              "#fdca26"
             ],
             [
              1,
              "#f0f921"
             ]
            ],
            "type": "heatmapgl"
           }
          ],
          "histogram": [
           {
            "marker": {
             "pattern": {
              "fillmode": "overlay",
              "size": 10,
              "solidity": 0.2
             }
            },
            "type": "histogram"
           }
          ],
          "histogram2d": [
           {
            "colorbar": {
             "outlinewidth": 0,
             "ticks": ""
            },
            "colorscale": [
             [
              0,
              "#0d0887"
             ],
             [
              0.1111111111111111,
              "#46039f"
             ],
             [
              0.2222222222222222,
              "#7201a8"
             ],
             [
              0.3333333333333333,
              "#9c179e"
             ],
             [
              0.4444444444444444,
              "#bd3786"
             ],
             [
              0.5555555555555556,
              "#d8576b"
             ],
             [
              0.6666666666666666,
              "#ed7953"
             ],
             [
              0.7777777777777778,
              "#fb9f3a"
             ],
             [
              0.8888888888888888,
              "#fdca26"
             ],
             [
              1,
              "#f0f921"
             ]
            ],
            "type": "histogram2d"
           }
          ],
          "histogram2dcontour": [
           {
            "colorbar": {
             "outlinewidth": 0,
             "ticks": ""
            },
            "colorscale": [
             [
              0,
              "#0d0887"
             ],
             [
              0.1111111111111111,
              "#46039f"
             ],
             [
              0.2222222222222222,
              "#7201a8"
             ],
             [
              0.3333333333333333,
              "#9c179e"
             ],
             [
              0.4444444444444444,
              "#bd3786"
             ],
             [
              0.5555555555555556,
              "#d8576b"
             ],
             [
              0.6666666666666666,
              "#ed7953"
             ],
             [
              0.7777777777777778,
              "#fb9f3a"
             ],
             [
              0.8888888888888888,
              "#fdca26"
             ],
             [
              1,
              "#f0f921"
             ]
            ],
            "type": "histogram2dcontour"
           }
          ],
          "mesh3d": [
           {
            "colorbar": {
             "outlinewidth": 0,
             "ticks": ""
            },
            "type": "mesh3d"
           }
          ],
          "parcoords": [
           {
            "line": {
             "colorbar": {
              "outlinewidth": 0,
              "ticks": ""
             }
            },
            "type": "parcoords"
           }
          ],
          "pie": [
           {
            "automargin": true,
            "type": "pie"
           }
          ],
          "scatter": [
           {
            "fillpattern": {
             "fillmode": "overlay",
             "size": 10,
             "solidity": 0.2
            },
            "type": "scatter"
           }
          ],
          "scatter3d": [
           {
            "line": {
             "colorbar": {
              "outlinewidth": 0,
              "ticks": ""
             }
            },
            "marker": {
             "colorbar": {
              "outlinewidth": 0,
              "ticks": ""
             }
            },
            "type": "scatter3d"
           }
          ],
          "scattercarpet": [
           {
            "marker": {
             "colorbar": {
              "outlinewidth": 0,
              "ticks": ""
             }
            },
            "type": "scattercarpet"
           }
          ],
          "scattergeo": [
           {
            "marker": {
             "colorbar": {
              "outlinewidth": 0,
              "ticks": ""
             }
            },
            "type": "scattergeo"
           }
          ],
          "scattergl": [
           {
            "marker": {
             "colorbar": {
              "outlinewidth": 0,
              "ticks": ""
             }
            },
            "type": "scattergl"
           }
          ],
          "scattermapbox": [
           {
            "marker": {
             "colorbar": {
              "outlinewidth": 0,
              "ticks": ""
             }
            },
            "type": "scattermapbox"
           }
          ],
          "scatterpolar": [
           {
            "marker": {
             "colorbar": {
              "outlinewidth": 0,
              "ticks": ""
             }
            },
            "type": "scatterpolar"
           }
          ],
          "scatterpolargl": [
           {
            "marker": {
             "colorbar": {
              "outlinewidth": 0,
              "ticks": ""
             }
            },
            "type": "scatterpolargl"
           }
          ],
          "scatterternary": [
           {
            "marker": {
             "colorbar": {
              "outlinewidth": 0,
              "ticks": ""
             }
            },
            "type": "scatterternary"
           }
          ],
          "surface": [
           {
            "colorbar": {
             "outlinewidth": 0,
             "ticks": ""
            },
            "colorscale": [
             [
              0,
              "#0d0887"
             ],
             [
              0.1111111111111111,
              "#46039f"
             ],
             [
              0.2222222222222222,
              "#7201a8"
             ],
             [
              0.3333333333333333,
              "#9c179e"
             ],
             [
              0.4444444444444444,
              "#bd3786"
             ],
             [
              0.5555555555555556,
              "#d8576b"
             ],
             [
              0.6666666666666666,
              "#ed7953"
             ],
             [
              0.7777777777777778,
              "#fb9f3a"
             ],
             [
              0.8888888888888888,
              "#fdca26"
             ],
             [
              1,
              "#f0f921"
             ]
            ],
            "type": "surface"
           }
          ],
          "table": [
           {
            "cells": {
             "fill": {
              "color": "#EBF0F8"
             },
             "line": {
              "color": "white"
             }
            },
            "header": {
             "fill": {
              "color": "#C8D4E3"
             },
             "line": {
              "color": "white"
             }
            },
            "type": "table"
           }
          ]
         },
         "layout": {
          "annotationdefaults": {
           "arrowcolor": "#2a3f5f",
           "arrowhead": 0,
           "arrowwidth": 1
          },
          "autotypenumbers": "strict",
          "coloraxis": {
           "colorbar": {
            "outlinewidth": 0,
            "ticks": ""
           }
          },
          "colorscale": {
           "diverging": [
            [
             0,
             "#8e0152"
            ],
            [
             0.1,
             "#c51b7d"
            ],
            [
             0.2,
             "#de77ae"
            ],
            [
             0.3,
             "#f1b6da"
            ],
            [
             0.4,
             "#fde0ef"
            ],
            [
             0.5,
             "#f7f7f7"
            ],
            [
             0.6,
             "#e6f5d0"
            ],
            [
             0.7,
             "#b8e186"
            ],
            [
             0.8,
             "#7fbc41"
            ],
            [
             0.9,
             "#4d9221"
            ],
            [
             1,
             "#276419"
            ]
           ],
           "sequential": [
            [
             0,
             "#0d0887"
            ],
            [
             0.1111111111111111,
             "#46039f"
            ],
            [
             0.2222222222222222,
             "#7201a8"
            ],
            [
             0.3333333333333333,
             "#9c179e"
            ],
            [
             0.4444444444444444,
             "#bd3786"
            ],
            [
             0.5555555555555556,
             "#d8576b"
            ],
            [
             0.6666666666666666,
             "#ed7953"
            ],
            [
             0.7777777777777778,
             "#fb9f3a"
            ],
            [
             0.8888888888888888,
             "#fdca26"
            ],
            [
             1,
             "#f0f921"
            ]
           ],
           "sequentialminus": [
            [
             0,
             "#0d0887"
            ],
            [
             0.1111111111111111,
             "#46039f"
            ],
            [
             0.2222222222222222,
             "#7201a8"
            ],
            [
             0.3333333333333333,
             "#9c179e"
            ],
            [
             0.4444444444444444,
             "#bd3786"
            ],
            [
             0.5555555555555556,
             "#d8576b"
            ],
            [
             0.6666666666666666,
             "#ed7953"
            ],
            [
             0.7777777777777778,
             "#fb9f3a"
            ],
            [
             0.8888888888888888,
             "#fdca26"
            ],
            [
             1,
             "#f0f921"
            ]
           ]
          },
          "colorway": [
           "#636efa",
           "#EF553B",
           "#00cc96",
           "#ab63fa",
           "#FFA15A",
           "#19d3f3",
           "#FF6692",
           "#B6E880",
           "#FF97FF",
           "#FECB52"
          ],
          "font": {
           "color": "#2a3f5f"
          },
          "geo": {
           "bgcolor": "white",
           "lakecolor": "white",
           "landcolor": "#E5ECF6",
           "showlakes": true,
           "showland": true,
           "subunitcolor": "white"
          },
          "hoverlabel": {
           "align": "left"
          },
          "hovermode": "closest",
          "mapbox": {
           "style": "light"
          },
          "paper_bgcolor": "white",
          "plot_bgcolor": "#E5ECF6",
          "polar": {
           "angularaxis": {
            "gridcolor": "white",
            "linecolor": "white",
            "ticks": ""
           },
           "bgcolor": "#E5ECF6",
           "radialaxis": {
            "gridcolor": "white",
            "linecolor": "white",
            "ticks": ""
           }
          },
          "scene": {
           "xaxis": {
            "backgroundcolor": "#E5ECF6",
            "gridcolor": "white",
            "gridwidth": 2,
            "linecolor": "white",
            "showbackground": true,
            "ticks": "",
            "zerolinecolor": "white"
           },
           "yaxis": {
            "backgroundcolor": "#E5ECF6",
            "gridcolor": "white",
            "gridwidth": 2,
            "linecolor": "white",
            "showbackground": true,
            "ticks": "",
            "zerolinecolor": "white"
           },
           "zaxis": {
            "backgroundcolor": "#E5ECF6",
            "gridcolor": "white",
            "gridwidth": 2,
            "linecolor": "white",
            "showbackground": true,
            "ticks": "",
            "zerolinecolor": "white"
           }
          },
          "shapedefaults": {
           "line": {
            "color": "#2a3f5f"
           }
          },
          "ternary": {
           "aaxis": {
            "gridcolor": "white",
            "linecolor": "white",
            "ticks": ""
           },
           "baxis": {
            "gridcolor": "white",
            "linecolor": "white",
            "ticks": ""
           },
           "bgcolor": "#E5ECF6",
           "caxis": {
            "gridcolor": "white",
            "linecolor": "white",
            "ticks": ""
           }
          },
          "title": {
           "x": 0.05
          },
          "xaxis": {
           "automargin": true,
           "gridcolor": "white",
           "linecolor": "white",
           "ticks": "",
           "title": {
            "standoff": 15
           },
           "zerolinecolor": "white",
           "zerolinewidth": 2
          },
          "yaxis": {
           "automargin": true,
           "gridcolor": "white",
           "linecolor": "white",
           "ticks": "",
           "title": {
            "standoff": 15
           },
           "zerolinecolor": "white",
           "zerolinewidth": 2
          }
         }
        },
        "title": {
         "text": "Visitor Profile Plots"
        },
        "width": 900,
        "xaxis": {
         "anchor": "y",
         "domain": [
          0,
          0.2333333333333333
         ]
        },
        "xaxis2": {
         "anchor": "y2",
         "domain": [
          0.3833333333333333,
          0.6166666666666666
         ]
        },
        "xaxis3": {
         "anchor": "y3",
         "domain": [
          0.7666666666666666,
          0.9999999999999999
         ]
        },
        "xaxis4": {
         "anchor": "y4",
         "domain": [
          0,
          0.2333333333333333
         ]
        },
        "xaxis5": {
         "anchor": "y5",
         "domain": [
          0.3833333333333333,
          0.6166666666666666
         ]
        },
        "xaxis6": {
         "anchor": "y6",
         "domain": [
          0.7666666666666666,
          0.9999999999999999
         ]
        },
        "yaxis": {
         "anchor": "x",
         "domain": [
          0.54,
          1
         ]
        },
        "yaxis2": {
         "anchor": "x2",
         "domain": [
          0.54,
          1
         ]
        },
        "yaxis3": {
         "anchor": "x3",
         "domain": [
          0.54,
          1
         ]
        },
        "yaxis4": {
         "anchor": "x4",
         "domain": [
          0,
          0.46
         ]
        },
        "yaxis5": {
         "anchor": "x5",
         "domain": [
          0,
          0.46
         ]
        },
        "yaxis6": {
         "anchor": "x6",
         "domain": [
          0,
          0.46
         ]
        }
       }
      },
      "text/html": [
       "<div>                            <div id=\"fe63dbd8-8f30-408e-98c5-2b43747ba19f\" class=\"plotly-graph-div\" style=\"height:1200px; width:900px;\"></div>            <script type=\"text/javascript\">                require([\"plotly\"], function(Plotly) {                    window.PLOTLYENV=window.PLOTLYENV || {};                                    if (document.getElementById(\"fe63dbd8-8f30-408e-98c5-2b43747ba19f\")) {                    Plotly.newPlot(                        \"fe63dbd8-8f30-408e-98c5-2b43747ba19f\",                        [{\"marker\":{\"color\":\"cyan\"},\"orientation\":\"h\",\"showlegend\":false,\"x\":[84,88,94,112,114,124,134,135,162,168,184,192,222,225,240,242,265,268,298,338,355,388,410,453,509,535,567,674,704,847,873,875,1091,1143,1318,1413,1567,1722,1949,2211,2409,2682,3150,3511,4010,4720,5291,6197,7097,8671,10104,12585,15272,19476,24688,33411,45192,73835,143770,452522],\"xaxis\":\"x\",\"y\":[\"60\",\"59\",\"58\",\"56\",\"57\",\"55\",\"54\",\"53\",\"50\",\"52\",\"51\",\"49\",\"48\",\"47\",\"46\",\"44\",\"43\",\"45\",\"42\",\"41\",\"40\",\"39\",\"38\",\"37\",\"36\",\"35\",\"34\",\"33\",\"32\",\"31\",\"30\",\"29\",\"28\",\"27\",\"26\",\"25\",\"24\",\"23\",\"22\",\"21\",\"20\",\"19\",\"18\",\"17\",\"16\",\"15\",\"14\",\"13\",\"12\",\"11\",\"10\",\"9\",\"8\",\"7\",\"6\",\"5\",\"4\",\"3\",\"2\",\"1\"],\"yaxis\":\"y\",\"type\":\"bar\"},{\"marker\":{\"color\":\"cyan\"},\"orientation\":\"h\",\"showlegend\":false,\"x\":[29,32,35,37,48,39,41,50,62,62,63,76,95,73,77,81,92,97,109,112,108,140,139,164,158,175,160,199,189,240,238,242,251,268,331,297,347,334,367,407,397,367,451,445,478,471,467,453,385,374,257,136,83,25,9,13,8,3,4,0],\"xaxis\":\"x2\",\"y\":[\"60\",\"59\",\"58\",\"56\",\"57\",\"55\",\"54\",\"53\",\"50\",\"52\",\"51\",\"49\",\"48\",\"47\",\"46\",\"44\",\"43\",\"45\",\"42\",\"41\",\"40\",\"39\",\"38\",\"37\",\"36\",\"35\",\"34\",\"33\",\"32\",\"31\",\"30\",\"29\",\"28\",\"27\",\"26\",\"25\",\"24\",\"23\",\"22\",\"21\",\"20\",\"19\",\"18\",\"17\",\"16\",\"15\",\"14\",\"13\",\"12\",\"11\",\"10\",\"9\",\"8\",\"7\",\"6\",\"5\",\"4\",\"3\",\"2\",\"1\"],\"yaxis\":\"y2\",\"type\":\"bar\"},{\"marker\":{\"color\":\"cyan\"},\"orientation\":\"h\",\"showlegend\":false,\"x\":[215537241.37931034,228677500.0,258122000.0,322468108.1081081,254373541.66666666,252405384.6153846,156237317.07317072,197964400.0,150037096.77419356,325115322.58064514,220292857.14285713,227623684.21052632,190762842.10526314,221611643.83561644,186804155.84415585,150668024.69135803,129303260.86956522,122456185.56701031,134804311.9266055,175578303.57142857,386671203.7037037,239388500.0,151532446.04316548,106345609.75609756,145872974.6835443,120449314.28571428,160237937.5,135816683.41708544,126580793.65079366,125540541.66666667,162768865.54621848,93466900.82644628,112260478.0876494,119993507.46268657,133370332.32628399,97608484.84848484,114713025.93659942,122923113.7724551,137787792.91553134,97864987.71498771,89532997.48110831,78330572.20708446,83453237.25055432,91032606.74157304,86659351.46443515,85831740.97664544,106072526.76659529,94117836.64459161,69840493.50649351,100246764.70588236,93482295.71984436,106478455.88235295,102294457.83132531,62228400.0,37278888.88888889,209072307.69230768,124287500.0,70393333.33333333,303625000.0,null],\"xaxis\":\"x3\",\"y\":[\"60\",\"59\",\"58\",\"56\",\"57\",\"55\",\"54\",\"53\",\"50\",\"52\",\"51\",\"49\",\"48\",\"47\",\"46\",\"44\",\"43\",\"45\",\"42\",\"41\",\"40\",\"39\",\"38\",\"37\",\"36\",\"35\",\"34\",\"33\",\"32\",\"31\",\"30\",\"29\",\"28\",\"27\",\"26\",\"25\",\"24\",\"23\",\"22\",\"21\",\"20\",\"19\",\"18\",\"17\",\"16\",\"15\",\"14\",\"13\",\"12\",\"11\",\"10\",\"9\",\"8\",\"7\",\"6\",\"5\",\"4\",\"3\",\"2\",\"1\"],\"yaxis\":\"y3\",\"type\":\"bar\"},{\"marker\":{\"color\":\"black\"},\"orientation\":\"h\",\"showlegend\":false,\"x\":[198,203,206,211,212,227,246,261,269,316,333,348,349,363,424,438,454,501,527,553,621,693,724,745,785,845,846,944,1088,1104,1289,1291,1406,1504,1718,1925,2126,2190,2477,2798,3064,3291,3755,4130,4716,5384,6194,6881,7879,9264,10640,12959,15484,19518,23918,30939,42444,70402,137952,446754],\"xaxis\":\"x4\",\"y\":[\"61\",\"59\",\"60\",\"56\",\"57\",\"55\",\"54\",\"52\",\"53\",\"50\",\"51\",\"49\",\"48\",\"47\",\"46\",\"45\",\"44\",\"43\",\"42\",\"41\",\"40\",\"39\",\"38\",\"37\",\"36\",\"35\",\"34\",\"33\",\"32\",\"31\",\"30\",\"29\",\"28\",\"27\",\"26\",\"25\",\"24\",\"23\",\"22\",\"21\",\"20\",\"19\",\"18\",\"17\",\"16\",\"15\",\"14\",\"13\",\"12\",\"11\",\"10\",\"9\",\"8\",\"7\",\"6\",\"5\",\"4\",\"3\",\"2\",\"1\"],\"yaxis\":\"y4\",\"type\":\"bar\"},{\"marker\":{\"color\":\"black\"},\"orientation\":\"h\",\"showlegend\":false,\"x\":[69,63,75,58,83,67,57,72,90,81,104,94,111,105,129,124,122,155,135,133,159,145,172,177,175,193,198,193,204,207,261,222,267,263,279,269,292,311,290,313,329,345,375,348,362,354,348,313,258,193,123,94,54,19,9,12,8,3,4,0],\"xaxis\":\"x5\",\"y\":[\"61\",\"59\",\"60\",\"56\",\"57\",\"55\",\"54\",\"52\",\"53\",\"50\",\"51\",\"49\",\"48\",\"47\",\"46\",\"45\",\"44\",\"43\",\"42\",\"41\",\"40\",\"39\",\"38\",\"37\",\"36\",\"35\",\"34\",\"33\",\"32\",\"31\",\"30\",\"29\",\"28\",\"27\",\"26\",\"25\",\"24\",\"23\",\"22\",\"21\",\"20\",\"19\",\"18\",\"17\",\"16\",\"15\",\"14\",\"13\",\"12\",\"11\",\"10\",\"9\",\"8\",\"7\",\"6\",\"5\",\"4\",\"3\",\"2\",\"1\"],\"yaxis\":\"y5\",\"type\":\"bar\"},{\"marker\":{\"color\":\"black\"},\"orientation\":\"h\",\"showlegend\":false,\"x\":[192411594.20289856,136002063.4920635,148718266.66666666,193214655.1724138,244709879.51807228,175378955.2238806,243480526.31578946,143963611.1111111,166214888.8888889,252568765.43209878,140265480.76923078,162276595.74468085,143352252.25225225,156829428.57142857,124861395.34883721,115575564.51612903,132623360.6557377,100177612.90322581,138757555.55555555,210898195.48872182,107951823.89937107,110296413.79310344,106440058.13953489,140660621.46892655,83897600.0,145448808.29015544,129305050.50505051,152879896.373057,155526911.7647059,121725555.55555555,107391417.62452108,85833603.6036036,88798239.70037453,95413498.09885931,113594121.86379929,87118327.13754646,98842671.23287672,84713086.81672026,71686655.1724138,82634217.25239617,93415288.7537994,98681072.46376811,63682800.0,113642298.85057472,96459337.01657459,95994322.03389831,74250028.73563218,73472268.37060703,77147209.30232558,110564352.33160622,106691056.9105691,109170957.44680852,101212407.4074074,65030000.0,37278888.88888889,190169166.66666666,124287500.0,70393333.33333333,303625000.0,null],\"xaxis\":\"x6\",\"y\":[\"61\",\"59\",\"60\",\"56\",\"57\",\"55\",\"54\",\"52\",\"53\",\"50\",\"51\",\"49\",\"48\",\"47\",\"46\",\"45\",\"44\",\"43\",\"42\",\"41\",\"40\",\"39\",\"38\",\"37\",\"36\",\"35\",\"34\",\"33\",\"32\",\"31\",\"30\",\"29\",\"28\",\"27\",\"26\",\"25\",\"24\",\"23\",\"22\",\"21\",\"20\",\"19\",\"18\",\"17\",\"16\",\"15\",\"14\",\"13\",\"12\",\"11\",\"10\",\"9\",\"8\",\"7\",\"6\",\"5\",\"4\",\"3\",\"2\",\"1\"],\"yaxis\":\"y6\",\"type\":\"bar\"}],                        {\"annotations\":[{\"font\":{\"size\":16},\"showarrow\":false,\"text\":\"Total Pageviews - Count\",\"x\":0.11666666666666665,\"xanchor\":\"center\",\"xref\":\"paper\",\"y\":1.0,\"yanchor\":\"bottom\",\"yref\":\"paper\"},{\"font\":{\"size\":16},\"showarrow\":false,\"text\":\"Total Pageviews - Non-zero Revenue Count\",\"x\":0.49999999999999994,\"xanchor\":\"center\",\"xref\":\"paper\",\"y\":1.0,\"yanchor\":\"bottom\",\"yref\":\"paper\"},{\"font\":{\"size\":16},\"showarrow\":false,\"text\":\"Total Pageviews - Mean Revenue\",\"x\":0.8833333333333333,\"xanchor\":\"center\",\"xref\":\"paper\",\"y\":1.0,\"yanchor\":\"bottom\",\"yref\":\"paper\"},{\"font\":{\"size\":16},\"showarrow\":false,\"text\":\"Total Hits - Count\",\"x\":0.11666666666666665,\"xanchor\":\"center\",\"xref\":\"paper\",\"y\":0.46,\"yanchor\":\"bottom\",\"yref\":\"paper\"},{\"font\":{\"size\":16},\"showarrow\":false,\"text\":\"Total Hits - Non-zero Revenue Count\",\"x\":0.49999999999999994,\"xanchor\":\"center\",\"xref\":\"paper\",\"y\":0.46,\"yanchor\":\"bottom\",\"yref\":\"paper\"},{\"font\":{\"size\":16},\"showarrow\":false,\"text\":\"Total Hits - Mean Revenue\",\"x\":0.8833333333333333,\"xanchor\":\"center\",\"xref\":\"paper\",\"y\":0.46,\"yanchor\":\"bottom\",\"yref\":\"paper\"}],\"height\":1200,\"paper_bgcolor\":\"rgb(233,233,233)\",\"template\":{\"data\":{\"barpolar\":[{\"marker\":{\"line\":{\"color\":\"#E5ECF6\",\"width\":0.5},\"pattern\":{\"fillmode\":\"overlay\",\"size\":10,\"solidity\":0.2}},\"type\":\"barpolar\"}],\"bar\":[{\"error_x\":{\"color\":\"#2a3f5f\"},\"error_y\":{\"color\":\"#2a3f5f\"},\"marker\":{\"line\":{\"color\":\"#E5ECF6\",\"width\":0.5},\"pattern\":{\"fillmode\":\"overlay\",\"size\":10,\"solidity\":0.2}},\"type\":\"bar\"}],\"carpet\":[{\"aaxis\":{\"endlinecolor\":\"#2a3f5f\",\"gridcolor\":\"white\",\"linecolor\":\"white\",\"minorgridcolor\":\"white\",\"startlinecolor\":\"#2a3f5f\"},\"baxis\":{\"endlinecolor\":\"#2a3f5f\",\"gridcolor\":\"white\",\"linecolor\":\"white\",\"minorgridcolor\":\"white\",\"startlinecolor\":\"#2a3f5f\"},\"type\":\"carpet\"}],\"choropleth\":[{\"colorbar\":{\"outlinewidth\":0,\"ticks\":\"\"},\"type\":\"choropleth\"}],\"contourcarpet\":[{\"colorbar\":{\"outlinewidth\":0,\"ticks\":\"\"},\"type\":\"contourcarpet\"}],\"contour\":[{\"colorbar\":{\"outlinewidth\":0,\"ticks\":\"\"},\"colorscale\":[[0.0,\"#0d0887\"],[0.1111111111111111,\"#46039f\"],[0.2222222222222222,\"#7201a8\"],[0.3333333333333333,\"#9c179e\"],[0.4444444444444444,\"#bd3786\"],[0.5555555555555556,\"#d8576b\"],[0.6666666666666666,\"#ed7953\"],[0.7777777777777778,\"#fb9f3a\"],[0.8888888888888888,\"#fdca26\"],[1.0,\"#f0f921\"]],\"type\":\"contour\"}],\"heatmapgl\":[{\"colorbar\":{\"outlinewidth\":0,\"ticks\":\"\"},\"colorscale\":[[0.0,\"#0d0887\"],[0.1111111111111111,\"#46039f\"],[0.2222222222222222,\"#7201a8\"],[0.3333333333333333,\"#9c179e\"],[0.4444444444444444,\"#bd3786\"],[0.5555555555555556,\"#d8576b\"],[0.6666666666666666,\"#ed7953\"],[0.7777777777777778,\"#fb9f3a\"],[0.8888888888888888,\"#fdca26\"],[1.0,\"#f0f921\"]],\"type\":\"heatmapgl\"}],\"heatmap\":[{\"colorbar\":{\"outlinewidth\":0,\"ticks\":\"\"},\"colorscale\":[[0.0,\"#0d0887\"],[0.1111111111111111,\"#46039f\"],[0.2222222222222222,\"#7201a8\"],[0.3333333333333333,\"#9c179e\"],[0.4444444444444444,\"#bd3786\"],[0.5555555555555556,\"#d8576b\"],[0.6666666666666666,\"#ed7953\"],[0.7777777777777778,\"#fb9f3a\"],[0.8888888888888888,\"#fdca26\"],[1.0,\"#f0f921\"]],\"type\":\"heatmap\"}],\"histogram2dcontour\":[{\"colorbar\":{\"outlinewidth\":0,\"ticks\":\"\"},\"colorscale\":[[0.0,\"#0d0887\"],[0.1111111111111111,\"#46039f\"],[0.2222222222222222,\"#7201a8\"],[0.3333333333333333,\"#9c179e\"],[0.4444444444444444,\"#bd3786\"],[0.5555555555555556,\"#d8576b\"],[0.6666666666666666,\"#ed7953\"],[0.7777777777777778,\"#fb9f3a\"],[0.8888888888888888,\"#fdca26\"],[1.0,\"#f0f921\"]],\"type\":\"histogram2dcontour\"}],\"histogram2d\":[{\"colorbar\":{\"outlinewidth\":0,\"ticks\":\"\"},\"colorscale\":[[0.0,\"#0d0887\"],[0.1111111111111111,\"#46039f\"],[0.2222222222222222,\"#7201a8\"],[0.3333333333333333,\"#9c179e\"],[0.4444444444444444,\"#bd3786\"],[0.5555555555555556,\"#d8576b\"],[0.6666666666666666,\"#ed7953\"],[0.7777777777777778,\"#fb9f3a\"],[0.8888888888888888,\"#fdca26\"],[1.0,\"#f0f921\"]],\"type\":\"histogram2d\"}],\"histogram\":[{\"marker\":{\"pattern\":{\"fillmode\":\"overlay\",\"size\":10,\"solidity\":0.2}},\"type\":\"histogram\"}],\"mesh3d\":[{\"colorbar\":{\"outlinewidth\":0,\"ticks\":\"\"},\"type\":\"mesh3d\"}],\"parcoords\":[{\"line\":{\"colorbar\":{\"outlinewidth\":0,\"ticks\":\"\"}},\"type\":\"parcoords\"}],\"pie\":[{\"automargin\":true,\"type\":\"pie\"}],\"scatter3d\":[{\"line\":{\"colorbar\":{\"outlinewidth\":0,\"ticks\":\"\"}},\"marker\":{\"colorbar\":{\"outlinewidth\":0,\"ticks\":\"\"}},\"type\":\"scatter3d\"}],\"scattercarpet\":[{\"marker\":{\"colorbar\":{\"outlinewidth\":0,\"ticks\":\"\"}},\"type\":\"scattercarpet\"}],\"scattergeo\":[{\"marker\":{\"colorbar\":{\"outlinewidth\":0,\"ticks\":\"\"}},\"type\":\"scattergeo\"}],\"scattergl\":[{\"marker\":{\"colorbar\":{\"outlinewidth\":0,\"ticks\":\"\"}},\"type\":\"scattergl\"}],\"scattermapbox\":[{\"marker\":{\"colorbar\":{\"outlinewidth\":0,\"ticks\":\"\"}},\"type\":\"scattermapbox\"}],\"scatterpolargl\":[{\"marker\":{\"colorbar\":{\"outlinewidth\":0,\"ticks\":\"\"}},\"type\":\"scatterpolargl\"}],\"scatterpolar\":[{\"marker\":{\"colorbar\":{\"outlinewidth\":0,\"ticks\":\"\"}},\"type\":\"scatterpolar\"}],\"scatter\":[{\"fillpattern\":{\"fillmode\":\"overlay\",\"size\":10,\"solidity\":0.2},\"type\":\"scatter\"}],\"scatterternary\":[{\"marker\":{\"colorbar\":{\"outlinewidth\":0,\"ticks\":\"\"}},\"type\":\"scatterternary\"}],\"surface\":[{\"colorbar\":{\"outlinewidth\":0,\"ticks\":\"\"},\"colorscale\":[[0.0,\"#0d0887\"],[0.1111111111111111,\"#46039f\"],[0.2222222222222222,\"#7201a8\"],[0.3333333333333333,\"#9c179e\"],[0.4444444444444444,\"#bd3786\"],[0.5555555555555556,\"#d8576b\"],[0.6666666666666666,\"#ed7953\"],[0.7777777777777778,\"#fb9f3a\"],[0.8888888888888888,\"#fdca26\"],[1.0,\"#f0f921\"]],\"type\":\"surface\"}],\"table\":[{\"cells\":{\"fill\":{\"color\":\"#EBF0F8\"},\"line\":{\"color\":\"white\"}},\"header\":{\"fill\":{\"color\":\"#C8D4E3\"},\"line\":{\"color\":\"white\"}},\"type\":\"table\"}]},\"layout\":{\"annotationdefaults\":{\"arrowcolor\":\"#2a3f5f\",\"arrowhead\":0,\"arrowwidth\":1},\"autotypenumbers\":\"strict\",\"coloraxis\":{\"colorbar\":{\"outlinewidth\":0,\"ticks\":\"\"}},\"colorscale\":{\"diverging\":[[0,\"#8e0152\"],[0.1,\"#c51b7d\"],[0.2,\"#de77ae\"],[0.3,\"#f1b6da\"],[0.4,\"#fde0ef\"],[0.5,\"#f7f7f7\"],[0.6,\"#e6f5d0\"],[0.7,\"#b8e186\"],[0.8,\"#7fbc41\"],[0.9,\"#4d9221\"],[1,\"#276419\"]],\"sequential\":[[0.0,\"#0d0887\"],[0.1111111111111111,\"#46039f\"],[0.2222222222222222,\"#7201a8\"],[0.3333333333333333,\"#9c179e\"],[0.4444444444444444,\"#bd3786\"],[0.5555555555555556,\"#d8576b\"],[0.6666666666666666,\"#ed7953\"],[0.7777777777777778,\"#fb9f3a\"],[0.8888888888888888,\"#fdca26\"],[1.0,\"#f0f921\"]],\"sequentialminus\":[[0.0,\"#0d0887\"],[0.1111111111111111,\"#46039f\"],[0.2222222222222222,\"#7201a8\"],[0.3333333333333333,\"#9c179e\"],[0.4444444444444444,\"#bd3786\"],[0.5555555555555556,\"#d8576b\"],[0.6666666666666666,\"#ed7953\"],[0.7777777777777778,\"#fb9f3a\"],[0.8888888888888888,\"#fdca26\"],[1.0,\"#f0f921\"]]},\"colorway\":[\"#636efa\",\"#EF553B\",\"#00cc96\",\"#ab63fa\",\"#FFA15A\",\"#19d3f3\",\"#FF6692\",\"#B6E880\",\"#FF97FF\",\"#FECB52\"],\"font\":{\"color\":\"#2a3f5f\"},\"geo\":{\"bgcolor\":\"white\",\"lakecolor\":\"white\",\"landcolor\":\"#E5ECF6\",\"showlakes\":true,\"showland\":true,\"subunitcolor\":\"white\"},\"hoverlabel\":{\"align\":\"left\"},\"hovermode\":\"closest\",\"mapbox\":{\"style\":\"light\"},\"paper_bgcolor\":\"white\",\"plot_bgcolor\":\"#E5ECF6\",\"polar\":{\"angularaxis\":{\"gridcolor\":\"white\",\"linecolor\":\"white\",\"ticks\":\"\"},\"bgcolor\":\"#E5ECF6\",\"radialaxis\":{\"gridcolor\":\"white\",\"linecolor\":\"white\",\"ticks\":\"\"}},\"scene\":{\"xaxis\":{\"backgroundcolor\":\"#E5ECF6\",\"gridcolor\":\"white\",\"gridwidth\":2,\"linecolor\":\"white\",\"showbackground\":true,\"ticks\":\"\",\"zerolinecolor\":\"white\"},\"yaxis\":{\"backgroundcolor\":\"#E5ECF6\",\"gridcolor\":\"white\",\"gridwidth\":2,\"linecolor\":\"white\",\"showbackground\":true,\"ticks\":\"\",\"zerolinecolor\":\"white\"},\"zaxis\":{\"backgroundcolor\":\"#E5ECF6\",\"gridcolor\":\"white\",\"gridwidth\":2,\"linecolor\":\"white\",\"showbackground\":true,\"ticks\":\"\",\"zerolinecolor\":\"white\"}},\"shapedefaults\":{\"line\":{\"color\":\"#2a3f5f\"}},\"ternary\":{\"aaxis\":{\"gridcolor\":\"white\",\"linecolor\":\"white\",\"ticks\":\"\"},\"baxis\":{\"gridcolor\":\"white\",\"linecolor\":\"white\",\"ticks\":\"\"},\"bgcolor\":\"#E5ECF6\",\"caxis\":{\"gridcolor\":\"white\",\"linecolor\":\"white\",\"ticks\":\"\"}},\"title\":{\"x\":0.05},\"xaxis\":{\"automargin\":true,\"gridcolor\":\"white\",\"linecolor\":\"white\",\"ticks\":\"\",\"title\":{\"standoff\":15},\"zerolinecolor\":\"white\",\"zerolinewidth\":2},\"yaxis\":{\"automargin\":true,\"gridcolor\":\"white\",\"linecolor\":\"white\",\"ticks\":\"\",\"title\":{\"standoff\":15},\"zerolinecolor\":\"white\",\"zerolinewidth\":2}}},\"title\":{\"text\":\"Visitor Profile Plots\"},\"width\":900,\"xaxis\":{\"anchor\":\"y\",\"domain\":[0.0,0.2333333333333333]},\"yaxis\":{\"anchor\":\"x\",\"domain\":[0.54,1.0]},\"xaxis2\":{\"anchor\":\"y2\",\"domain\":[0.3833333333333333,0.6166666666666666]},\"yaxis2\":{\"anchor\":\"x2\",\"domain\":[0.54,1.0]},\"xaxis3\":{\"anchor\":\"y3\",\"domain\":[0.7666666666666666,0.9999999999999999]},\"yaxis3\":{\"anchor\":\"x3\",\"domain\":[0.54,1.0]},\"xaxis4\":{\"anchor\":\"y4\",\"domain\":[0.0,0.2333333333333333]},\"yaxis4\":{\"anchor\":\"x4\",\"domain\":[0.0,0.46]},\"xaxis5\":{\"anchor\":\"y5\",\"domain\":[0.3833333333333333,0.6166666666666666]},\"yaxis5\":{\"anchor\":\"x5\",\"domain\":[0.0,0.46]},\"xaxis6\":{\"anchor\":\"y6\",\"domain\":[0.7666666666666666,0.9999999999999999]},\"yaxis6\":{\"anchor\":\"x6\",\"domain\":[0.0,0.46]}},                        {\"responsive\": true}                    ).then(function(){\n",
       "                            \n",
       "var gd = document.getElementById('fe63dbd8-8f30-408e-98c5-2b43747ba19f');\n",
       "var x = new MutationObserver(function (mutations, observer) {{\n",
       "        var display = window.getComputedStyle(gd).display;\n",
       "        if (!display || display === 'none') {{\n",
       "            console.log([gd, 'removed!']);\n",
       "            Plotly.purge(gd);\n",
       "            observer.disconnect();\n",
       "        }}\n",
       "}});\n",
       "\n",
       "// Listen for the removal of the full notebook cells\n",
       "var notebookContainer = gd.closest('#notebook-container');\n",
       "if (notebookContainer) {{\n",
       "    x.observe(notebookContainer, {childList: true});\n",
       "}}\n",
       "\n",
       "// Listen for the clearing of the current output cell\n",
       "var outputEl = gd.closest('.output');\n",
       "if (outputEl) {{\n",
       "    x.observe(outputEl, {childList: true});\n",
       "}}\n",
       "\n",
       "                        })                };                });            </script>        </div>"
      ]
     },
     "metadata": {},
     "output_type": "display_data"
    }
   ],
   "source": [
    "# Page views\n",
    "cnt_srs = train_df.groupby('totals.pageviews')['totals.transactionRevenue'].agg(['size', 'count', 'mean'])\n",
    "cnt_srs.columns = [\"count\", \"count of non-zero revenue\", \"mean\"]\n",
    "cnt_srs = cnt_srs.sort_values(by=\"count\", ascending=False)\n",
    "trace1 = horizontal_bar_chart(cnt_srs[\"count\"].head(60), 'cyan')\n",
    "trace2 = horizontal_bar_chart(cnt_srs[\"count of non-zero revenue\"].head(60), 'cyan')\n",
    "trace5 = horizontal_bar_chart(cnt_srs[\"mean\"].head(60), 'cyan')\n",
    "\n",
    "# Hits\n",
    "cnt_srs = train_df.groupby('totals.hits')['totals.transactionRevenue'].agg(['size', 'count', 'mean'])\n",
    "cnt_srs.columns = [\"count\", \"count of non-zero revenue\", 'mean']\n",
    "cnt_srs = cnt_srs.sort_values(by=\"count\", ascending=False)\n",
    "trace3 = horizontal_bar_chart(cnt_srs[\"count\"].head(60), 'black')\n",
    "trace4 = horizontal_bar_chart(cnt_srs[\"count of non-zero revenue\"].head(60), 'black')\n",
    "trace6 = horizontal_bar_chart(cnt_srs[\"mean\"].head(60), 'black')\n",
    "\n",
    "# Creating two subplots\n",
    "fig = tools.make_subplots(rows=2, cols=3, vertical_spacing=0.08, horizontal_spacing=0.15, \n",
    "                          subplot_titles=[\"Total Pageviews - Count\", \"Total Pageviews - Non-zero Revenue Count\", \"Total Pageviews - Mean Revenue\",\n",
    "                                          \"Total Hits - Count\",  \"Total Hits - Non-zero Revenue Count\", \"Total Hits - Mean Revenue\"])\n",
    "\n",
    "fig.append_trace(trace1, 1, 1)\n",
    "fig.append_trace(trace2, 1, 2)\n",
    "fig.append_trace(trace5, 1, 3)\n",
    "fig.append_trace(trace3, 2, 1)\n",
    "fig.append_trace(trace4, 2, 2)\n",
    "fig.append_trace(trace6, 2, 3)\n",
    "\n",
    "fig['layout'].update(height=1200, width=900, paper_bgcolor='rgb(233,233,233)', title=\"Visitor Profile Plots\")\n",
    "py.iplot(fig, filename='visitor-profile-plots')"
   ]
  },
  {
   "cell_type": "markdown",
   "id": "ebecc848",
   "metadata": {},
   "source": [
    "\n",
    "\n",
    "Inferences:\n",
    "\n",
    "    Both these variables look very predictive\n",
    "    Count plot shows decreasing nature i.e. we have a very high total count for less number of hits and page views per visitor transaction and the overall count decreases when the number of hits per visitor transaction increases.\n",
    "    On the other hand, we can clearly see that when the number of hits / pageviews per visitor transaction increases, we see that there is a high number of non-zero revenue counts.\n",
    "\n",
    "Baseline Model:\n",
    "\n",
    "Now let us build a baseline model on this dataset. Before we start building models, let us look at the variable names which are there in train dataset and not in test dataset.\n"
   ]
  },
  {
   "cell_type": "code",
   "execution_count": 19,
   "id": "fd91b8a2",
   "metadata": {},
   "outputs": [
    {
     "name": "stdout",
     "output_type": "stream",
     "text": [
      "Variables not in test but in train :  {'trafficSource.campaignCode', 'totals.transactionRevenue'}\n"
     ]
    }
   ],
   "source": [
    "print(\"Variables not in test but in train : \", set(train_df.columns).difference(set(test_df.columns)))"
   ]
  },
  {
   "cell_type": "markdown",
   "id": "416573dc",
   "metadata": {},
   "source": [
    "So apart from target variable, there is one more variable \"trafficSource.campaignCode\" not present in test dataset. So we need to remove this variable while building models. Also we can drop the constant variables which we got earlier.\n",
    "Also we can remove the \"sessionId\" as it is a unique identifier of the visit.\n"
   ]
  },
  {
   "cell_type": "code",
   "execution_count": 20,
   "id": "8a80bdd5",
   "metadata": {},
   "outputs": [],
   "source": [
    "cols_to_drop = const_cols + ['sessionId']\n",
    "\n",
    "train_df = train_df.drop(cols_to_drop + [\"trafficSource.campaignCode\"], axis=1)\n",
    "test_df = test_df.drop(cols_to_drop, axis=1)"
   ]
  },
  {
   "cell_type": "code",
   "execution_count": 21,
   "id": "74153f95",
   "metadata": {},
   "outputs": [
    {
     "data": {
      "text/html": [
       "<div>\n",
       "<style scoped>\n",
       "    .dataframe tbody tr th:only-of-type {\n",
       "        vertical-align: middle;\n",
       "    }\n",
       "\n",
       "    .dataframe tbody tr th {\n",
       "        vertical-align: top;\n",
       "    }\n",
       "\n",
       "    .dataframe thead th {\n",
       "        text-align: right;\n",
       "    }\n",
       "</style>\n",
       "<table border=\"1\" class=\"dataframe\">\n",
       "  <thead>\n",
       "    <tr style=\"text-align: right;\">\n",
       "      <th></th>\n",
       "      <th>channelGrouping</th>\n",
       "      <th>date</th>\n",
       "      <th>fullVisitorId</th>\n",
       "      <th>visitId</th>\n",
       "      <th>visitNumber</th>\n",
       "      <th>visitStartTime</th>\n",
       "      <th>device.browser</th>\n",
       "      <th>device.operatingSystem</th>\n",
       "      <th>device.isMobile</th>\n",
       "      <th>device.deviceCategory</th>\n",
       "      <th>...</th>\n",
       "      <th>trafficSource.medium</th>\n",
       "      <th>trafficSource.keyword</th>\n",
       "      <th>trafficSource.isTrueDirect</th>\n",
       "      <th>trafficSource.referralPath</th>\n",
       "      <th>trafficSource.adwordsClickInfo.page</th>\n",
       "      <th>trafficSource.adwordsClickInfo.slot</th>\n",
       "      <th>trafficSource.adwordsClickInfo.gclId</th>\n",
       "      <th>trafficSource.adwordsClickInfo.adNetworkType</th>\n",
       "      <th>trafficSource.adwordsClickInfo.isVideoAd</th>\n",
       "      <th>trafficSource.adContent</th>\n",
       "    </tr>\n",
       "  </thead>\n",
       "  <tbody>\n",
       "    <tr>\n",
       "      <th>0</th>\n",
       "      <td>Organic Search</td>\n",
       "      <td>2016-09-02</td>\n",
       "      <td>1131660440785968503</td>\n",
       "      <td>1472830385</td>\n",
       "      <td>1</td>\n",
       "      <td>1472830385</td>\n",
       "      <td>Chrome</td>\n",
       "      <td>Windows</td>\n",
       "      <td>False</td>\n",
       "      <td>desktop</td>\n",
       "      <td>...</td>\n",
       "      <td>organic</td>\n",
       "      <td>(not provided)</td>\n",
       "      <td>NaN</td>\n",
       "      <td>NaN</td>\n",
       "      <td>NaN</td>\n",
       "      <td>NaN</td>\n",
       "      <td>NaN</td>\n",
       "      <td>NaN</td>\n",
       "      <td>NaN</td>\n",
       "      <td>NaN</td>\n",
       "    </tr>\n",
       "    <tr>\n",
       "      <th>1</th>\n",
       "      <td>Organic Search</td>\n",
       "      <td>2016-09-02</td>\n",
       "      <td>377306020877927890</td>\n",
       "      <td>1472880147</td>\n",
       "      <td>1</td>\n",
       "      <td>1472880147</td>\n",
       "      <td>Firefox</td>\n",
       "      <td>Macintosh</td>\n",
       "      <td>False</td>\n",
       "      <td>desktop</td>\n",
       "      <td>...</td>\n",
       "      <td>organic</td>\n",
       "      <td>(not provided)</td>\n",
       "      <td>NaN</td>\n",
       "      <td>NaN</td>\n",
       "      <td>NaN</td>\n",
       "      <td>NaN</td>\n",
       "      <td>NaN</td>\n",
       "      <td>NaN</td>\n",
       "      <td>NaN</td>\n",
       "      <td>NaN</td>\n",
       "    </tr>\n",
       "    <tr>\n",
       "      <th>2</th>\n",
       "      <td>Organic Search</td>\n",
       "      <td>2016-09-02</td>\n",
       "      <td>3895546263509774583</td>\n",
       "      <td>1472865386</td>\n",
       "      <td>1</td>\n",
       "      <td>1472865386</td>\n",
       "      <td>Chrome</td>\n",
       "      <td>Windows</td>\n",
       "      <td>False</td>\n",
       "      <td>desktop</td>\n",
       "      <td>...</td>\n",
       "      <td>organic</td>\n",
       "      <td>(not provided)</td>\n",
       "      <td>NaN</td>\n",
       "      <td>NaN</td>\n",
       "      <td>NaN</td>\n",
       "      <td>NaN</td>\n",
       "      <td>NaN</td>\n",
       "      <td>NaN</td>\n",
       "      <td>NaN</td>\n",
       "      <td>NaN</td>\n",
       "    </tr>\n",
       "    <tr>\n",
       "      <th>3</th>\n",
       "      <td>Organic Search</td>\n",
       "      <td>2016-09-02</td>\n",
       "      <td>4763447161404445595</td>\n",
       "      <td>1472881213</td>\n",
       "      <td>1</td>\n",
       "      <td>1472881213</td>\n",
       "      <td>UC Browser</td>\n",
       "      <td>Linux</td>\n",
       "      <td>False</td>\n",
       "      <td>desktop</td>\n",
       "      <td>...</td>\n",
       "      <td>organic</td>\n",
       "      <td>google + online</td>\n",
       "      <td>NaN</td>\n",
       "      <td>NaN</td>\n",
       "      <td>NaN</td>\n",
       "      <td>NaN</td>\n",
       "      <td>NaN</td>\n",
       "      <td>NaN</td>\n",
       "      <td>NaN</td>\n",
       "      <td>NaN</td>\n",
       "    </tr>\n",
       "    <tr>\n",
       "      <th>4</th>\n",
       "      <td>Organic Search</td>\n",
       "      <td>2016-09-02</td>\n",
       "      <td>27294437909732085</td>\n",
       "      <td>1472822600</td>\n",
       "      <td>2</td>\n",
       "      <td>1472822600</td>\n",
       "      <td>Chrome</td>\n",
       "      <td>Android</td>\n",
       "      <td>True</td>\n",
       "      <td>mobile</td>\n",
       "      <td>...</td>\n",
       "      <td>organic</td>\n",
       "      <td>(not provided)</td>\n",
       "      <td>True</td>\n",
       "      <td>NaN</td>\n",
       "      <td>NaN</td>\n",
       "      <td>NaN</td>\n",
       "      <td>NaN</td>\n",
       "      <td>NaN</td>\n",
       "      <td>NaN</td>\n",
       "      <td>NaN</td>\n",
       "    </tr>\n",
       "  </tbody>\n",
       "</table>\n",
       "<p>5 rows × 34 columns</p>\n",
       "</div>"
      ],
      "text/plain": [
       "  channelGrouping        date        fullVisitorId     visitId  visitNumber  \\\n",
       "0  Organic Search  2016-09-02  1131660440785968503  1472830385            1   \n",
       "1  Organic Search  2016-09-02   377306020877927890  1472880147            1   \n",
       "2  Organic Search  2016-09-02  3895546263509774583  1472865386            1   \n",
       "3  Organic Search  2016-09-02  4763447161404445595  1472881213            1   \n",
       "4  Organic Search  2016-09-02    27294437909732085  1472822600            2   \n",
       "\n",
       "   visitStartTime device.browser device.operatingSystem  device.isMobile  \\\n",
       "0      1472830385         Chrome                Windows            False   \n",
       "1      1472880147        Firefox              Macintosh            False   \n",
       "2      1472865386         Chrome                Windows            False   \n",
       "3      1472881213     UC Browser                  Linux            False   \n",
       "4      1472822600         Chrome                Android             True   \n",
       "\n",
       "  device.deviceCategory  ... trafficSource.medium trafficSource.keyword  \\\n",
       "0               desktop  ...              organic        (not provided)   \n",
       "1               desktop  ...              organic        (not provided)   \n",
       "2               desktop  ...              organic        (not provided)   \n",
       "3               desktop  ...              organic       google + online   \n",
       "4                mobile  ...              organic        (not provided)   \n",
       "\n",
       "  trafficSource.isTrueDirect trafficSource.referralPath  \\\n",
       "0                        NaN                        NaN   \n",
       "1                        NaN                        NaN   \n",
       "2                        NaN                        NaN   \n",
       "3                        NaN                        NaN   \n",
       "4                       True                        NaN   \n",
       "\n",
       "  trafficSource.adwordsClickInfo.page trafficSource.adwordsClickInfo.slot  \\\n",
       "0                                 NaN                                 NaN   \n",
       "1                                 NaN                                 NaN   \n",
       "2                                 NaN                                 NaN   \n",
       "3                                 NaN                                 NaN   \n",
       "4                                 NaN                                 NaN   \n",
       "\n",
       "  trafficSource.adwordsClickInfo.gclId  \\\n",
       "0                                  NaN   \n",
       "1                                  NaN   \n",
       "2                                  NaN   \n",
       "3                                  NaN   \n",
       "4                                  NaN   \n",
       "\n",
       "  trafficSource.adwordsClickInfo.adNetworkType  \\\n",
       "0                                          NaN   \n",
       "1                                          NaN   \n",
       "2                                          NaN   \n",
       "3                                          NaN   \n",
       "4                                          NaN   \n",
       "\n",
       "  trafficSource.adwordsClickInfo.isVideoAd trafficSource.adContent  \n",
       "0                                      NaN                     NaN  \n",
       "1                                      NaN                     NaN  \n",
       "2                                      NaN                     NaN  \n",
       "3                                      NaN                     NaN  \n",
       "4                                      NaN                     NaN  \n",
       "\n",
       "[5 rows x 34 columns]"
      ]
     },
     "execution_count": 21,
     "metadata": {},
     "output_type": "execute_result"
    }
   ],
   "source": [
    "train_df.head()\n"
   ]
  },
  {
   "cell_type": "code",
   "execution_count": null,
   "id": "cd55b1e7",
   "metadata": {},
   "outputs": [],
   "source": [
    "max_date = train_df['date'].max()\n",
    "max_date"
   ]
  },
  {
   "cell_type": "code",
   "execution_count": 22,
   "id": "9ed1fc70",
   "metadata": {},
   "outputs": [
    {
     "data": {
      "text/html": [
       "<div>\n",
       "<style scoped>\n",
       "    .dataframe tbody tr th:only-of-type {\n",
       "        vertical-align: middle;\n",
       "    }\n",
       "\n",
       "    .dataframe tbody tr th {\n",
       "        vertical-align: top;\n",
       "    }\n",
       "\n",
       "    .dataframe thead th {\n",
       "        text-align: right;\n",
       "    }\n",
       "</style>\n",
       "<table border=\"1\" class=\"dataframe\">\n",
       "  <thead>\n",
       "    <tr style=\"text-align: right;\">\n",
       "      <th></th>\n",
       "      <th>channelGrouping</th>\n",
       "      <th>date</th>\n",
       "      <th>fullVisitorId</th>\n",
       "      <th>visitId</th>\n",
       "      <th>visitNumber</th>\n",
       "      <th>visitStartTime</th>\n",
       "      <th>device.browser</th>\n",
       "      <th>device.operatingSystem</th>\n",
       "      <th>device.isMobile</th>\n",
       "      <th>device.deviceCategory</th>\n",
       "      <th>...</th>\n",
       "      <th>trafficSource.medium</th>\n",
       "      <th>trafficSource.keyword</th>\n",
       "      <th>trafficSource.isTrueDirect</th>\n",
       "      <th>trafficSource.adwordsClickInfo.page</th>\n",
       "      <th>trafficSource.adwordsClickInfo.slot</th>\n",
       "      <th>trafficSource.adwordsClickInfo.gclId</th>\n",
       "      <th>trafficSource.adwordsClickInfo.adNetworkType</th>\n",
       "      <th>trafficSource.adwordsClickInfo.isVideoAd</th>\n",
       "      <th>trafficSource.referralPath</th>\n",
       "      <th>trafficSource.adContent</th>\n",
       "    </tr>\n",
       "  </thead>\n",
       "  <tbody>\n",
       "    <tr>\n",
       "      <th>0</th>\n",
       "      <td>Organic Search</td>\n",
       "      <td>2017-10-16</td>\n",
       "      <td>6167871330617112363</td>\n",
       "      <td>1508151024</td>\n",
       "      <td>2</td>\n",
       "      <td>1508151024</td>\n",
       "      <td>Chrome</td>\n",
       "      <td>Macintosh</td>\n",
       "      <td>False</td>\n",
       "      <td>desktop</td>\n",
       "      <td>...</td>\n",
       "      <td>organic</td>\n",
       "      <td>(not provided)</td>\n",
       "      <td>True</td>\n",
       "      <td>NaN</td>\n",
       "      <td>NaN</td>\n",
       "      <td>NaN</td>\n",
       "      <td>NaN</td>\n",
       "      <td>NaN</td>\n",
       "      <td>NaN</td>\n",
       "      <td>NaN</td>\n",
       "    </tr>\n",
       "    <tr>\n",
       "      <th>1</th>\n",
       "      <td>Organic Search</td>\n",
       "      <td>2017-10-16</td>\n",
       "      <td>0643697640977915618</td>\n",
       "      <td>1508175522</td>\n",
       "      <td>1</td>\n",
       "      <td>1508175522</td>\n",
       "      <td>Chrome</td>\n",
       "      <td>Windows</td>\n",
       "      <td>False</td>\n",
       "      <td>desktop</td>\n",
       "      <td>...</td>\n",
       "      <td>organic</td>\n",
       "      <td>(not provided)</td>\n",
       "      <td>NaN</td>\n",
       "      <td>NaN</td>\n",
       "      <td>NaN</td>\n",
       "      <td>NaN</td>\n",
       "      <td>NaN</td>\n",
       "      <td>NaN</td>\n",
       "      <td>NaN</td>\n",
       "      <td>NaN</td>\n",
       "    </tr>\n",
       "    <tr>\n",
       "      <th>2</th>\n",
       "      <td>Organic Search</td>\n",
       "      <td>2017-10-16</td>\n",
       "      <td>6059383810968229466</td>\n",
       "      <td>1508143220</td>\n",
       "      <td>1</td>\n",
       "      <td>1508143220</td>\n",
       "      <td>Chrome</td>\n",
       "      <td>Macintosh</td>\n",
       "      <td>False</td>\n",
       "      <td>desktop</td>\n",
       "      <td>...</td>\n",
       "      <td>organic</td>\n",
       "      <td>(not provided)</td>\n",
       "      <td>NaN</td>\n",
       "      <td>NaN</td>\n",
       "      <td>NaN</td>\n",
       "      <td>NaN</td>\n",
       "      <td>NaN</td>\n",
       "      <td>NaN</td>\n",
       "      <td>NaN</td>\n",
       "      <td>NaN</td>\n",
       "    </tr>\n",
       "    <tr>\n",
       "      <th>3</th>\n",
       "      <td>Organic Search</td>\n",
       "      <td>2017-10-16</td>\n",
       "      <td>2376720078563423631</td>\n",
       "      <td>1508193530</td>\n",
       "      <td>1</td>\n",
       "      <td>1508193530</td>\n",
       "      <td>Safari</td>\n",
       "      <td>iOS</td>\n",
       "      <td>True</td>\n",
       "      <td>mobile</td>\n",
       "      <td>...</td>\n",
       "      <td>organic</td>\n",
       "      <td>(not provided)</td>\n",
       "      <td>NaN</td>\n",
       "      <td>NaN</td>\n",
       "      <td>NaN</td>\n",
       "      <td>NaN</td>\n",
       "      <td>NaN</td>\n",
       "      <td>NaN</td>\n",
       "      <td>NaN</td>\n",
       "      <td>NaN</td>\n",
       "    </tr>\n",
       "    <tr>\n",
       "      <th>4</th>\n",
       "      <td>Organic Search</td>\n",
       "      <td>2017-10-16</td>\n",
       "      <td>2314544520795440038</td>\n",
       "      <td>1508217442</td>\n",
       "      <td>1</td>\n",
       "      <td>1508217442</td>\n",
       "      <td>Safari</td>\n",
       "      <td>Macintosh</td>\n",
       "      <td>False</td>\n",
       "      <td>desktop</td>\n",
       "      <td>...</td>\n",
       "      <td>organic</td>\n",
       "      <td>(not provided)</td>\n",
       "      <td>NaN</td>\n",
       "      <td>NaN</td>\n",
       "      <td>NaN</td>\n",
       "      <td>NaN</td>\n",
       "      <td>NaN</td>\n",
       "      <td>NaN</td>\n",
       "      <td>NaN</td>\n",
       "      <td>NaN</td>\n",
       "    </tr>\n",
       "  </tbody>\n",
       "</table>\n",
       "<p>5 rows × 33 columns</p>\n",
       "</div>"
      ],
      "text/plain": [
       "  channelGrouping        date        fullVisitorId     visitId  visitNumber  \\\n",
       "0  Organic Search  2017-10-16  6167871330617112363  1508151024            2   \n",
       "1  Organic Search  2017-10-16  0643697640977915618  1508175522            1   \n",
       "2  Organic Search  2017-10-16  6059383810968229466  1508143220            1   \n",
       "3  Organic Search  2017-10-16  2376720078563423631  1508193530            1   \n",
       "4  Organic Search  2017-10-16  2314544520795440038  1508217442            1   \n",
       "\n",
       "   visitStartTime device.browser device.operatingSystem  device.isMobile  \\\n",
       "0      1508151024         Chrome              Macintosh            False   \n",
       "1      1508175522         Chrome                Windows            False   \n",
       "2      1508143220         Chrome              Macintosh            False   \n",
       "3      1508193530         Safari                    iOS             True   \n",
       "4      1508217442         Safari              Macintosh            False   \n",
       "\n",
       "  device.deviceCategory  ... trafficSource.medium trafficSource.keyword  \\\n",
       "0               desktop  ...              organic        (not provided)   \n",
       "1               desktop  ...              organic        (not provided)   \n",
       "2               desktop  ...              organic        (not provided)   \n",
       "3                mobile  ...              organic        (not provided)   \n",
       "4               desktop  ...              organic        (not provided)   \n",
       "\n",
       "  trafficSource.isTrueDirect trafficSource.adwordsClickInfo.page  \\\n",
       "0                       True                                 NaN   \n",
       "1                        NaN                                 NaN   \n",
       "2                        NaN                                 NaN   \n",
       "3                        NaN                                 NaN   \n",
       "4                        NaN                                 NaN   \n",
       "\n",
       "  trafficSource.adwordsClickInfo.slot trafficSource.adwordsClickInfo.gclId  \\\n",
       "0                                 NaN                                  NaN   \n",
       "1                                 NaN                                  NaN   \n",
       "2                                 NaN                                  NaN   \n",
       "3                                 NaN                                  NaN   \n",
       "4                                 NaN                                  NaN   \n",
       "\n",
       "  trafficSource.adwordsClickInfo.adNetworkType  \\\n",
       "0                                          NaN   \n",
       "1                                          NaN   \n",
       "2                                          NaN   \n",
       "3                                          NaN   \n",
       "4                                          NaN   \n",
       "\n",
       "  trafficSource.adwordsClickInfo.isVideoAd trafficSource.referralPath  \\\n",
       "0                                      NaN                        NaN   \n",
       "1                                      NaN                        NaN   \n",
       "2                                      NaN                        NaN   \n",
       "3                                      NaN                        NaN   \n",
       "4                                      NaN                        NaN   \n",
       "\n",
       "  trafficSource.adContent  \n",
       "0                     NaN  \n",
       "1                     NaN  \n",
       "2                     NaN  \n",
       "3                     NaN  \n",
       "4                     NaN  \n",
       "\n",
       "[5 rows x 33 columns]"
      ]
     },
     "execution_count": 22,
     "metadata": {},
     "output_type": "execute_result"
    }
   ],
   "source": [
    "test_df.head()"
   ]
  },
  {
   "cell_type": "code",
   "execution_count": 23,
   "id": "14243acc",
   "metadata": {},
   "outputs": [
    {
     "data": {
      "text/plain": [
       "datetime.date(2017, 8, 2)"
      ]
     },
     "execution_count": 23,
     "metadata": {},
     "output_type": "execute_result"
    }
   ],
   "source": [
    "min_date = test_df['date'].min()\n",
    "min_date"
   ]
  },
  {
   "cell_type": "code",
   "execution_count": 24,
   "id": "6d38e4ce",
   "metadata": {},
   "outputs": [],
   "source": [
    "# Impute 0 for missing target values\n",
    "train_df[\"totals.transactionRevenue\"].fillna(0, inplace=True)\n",
    "train_y = train_df[\"totals.transactionRevenue\"].values\n",
    "train_id = train_df[\"fullVisitorId\"].values\n",
    "test_id = test_df[\"fullVisitorId\"].values"
   ]
  },
  {
   "cell_type": "code",
   "execution_count": null,
   "id": "6efecc62",
   "metadata": {},
   "outputs": [],
   "source": [
    "train_df.shape"
   ]
  },
  {
   "cell_type": "code",
   "execution_count": null,
   "id": "5c1688c3",
   "metadata": {},
   "outputs": [],
   "source": [
    "test_df.shape"
   ]
  },
  {
   "cell_type": "code",
   "execution_count": 26,
   "id": "a538a5cf",
   "metadata": {
    "scrolled": true
   },
   "outputs": [
    {
     "data": {
      "text/html": [
       "<div>\n",
       "<style scoped>\n",
       "    .dataframe tbody tr th:only-of-type {\n",
       "        vertical-align: middle;\n",
       "    }\n",
       "\n",
       "    .dataframe tbody tr th {\n",
       "        vertical-align: top;\n",
       "    }\n",
       "\n",
       "    .dataframe thead th {\n",
       "        text-align: right;\n",
       "    }\n",
       "</style>\n",
       "<table border=\"1\" class=\"dataframe\">\n",
       "  <thead>\n",
       "    <tr style=\"text-align: right;\">\n",
       "      <th></th>\n",
       "      <th>channelGrouping</th>\n",
       "      <th>date</th>\n",
       "      <th>fullVisitorId</th>\n",
       "      <th>visitId</th>\n",
       "      <th>visitNumber</th>\n",
       "      <th>visitStartTime</th>\n",
       "      <th>device.browser</th>\n",
       "      <th>device.operatingSystem</th>\n",
       "      <th>device.isMobile</th>\n",
       "      <th>device.deviceCategory</th>\n",
       "      <th>...</th>\n",
       "      <th>trafficSource.medium</th>\n",
       "      <th>trafficSource.keyword</th>\n",
       "      <th>trafficSource.isTrueDirect</th>\n",
       "      <th>trafficSource.referralPath</th>\n",
       "      <th>trafficSource.adwordsClickInfo.page</th>\n",
       "      <th>trafficSource.adwordsClickInfo.slot</th>\n",
       "      <th>trafficSource.adwordsClickInfo.gclId</th>\n",
       "      <th>trafficSource.adwordsClickInfo.adNetworkType</th>\n",
       "      <th>trafficSource.adwordsClickInfo.isVideoAd</th>\n",
       "      <th>trafficSource.adContent</th>\n",
       "    </tr>\n",
       "  </thead>\n",
       "  <tbody>\n",
       "    <tr>\n",
       "      <th>0</th>\n",
       "      <td>Organic Search</td>\n",
       "      <td>2016-09-02</td>\n",
       "      <td>1131660440785968503</td>\n",
       "      <td>1472830385</td>\n",
       "      <td>1</td>\n",
       "      <td>1472830385</td>\n",
       "      <td>Chrome</td>\n",
       "      <td>Windows</td>\n",
       "      <td>False</td>\n",
       "      <td>desktop</td>\n",
       "      <td>...</td>\n",
       "      <td>organic</td>\n",
       "      <td>(not provided)</td>\n",
       "      <td>NaN</td>\n",
       "      <td>NaN</td>\n",
       "      <td>NaN</td>\n",
       "      <td>NaN</td>\n",
       "      <td>NaN</td>\n",
       "      <td>NaN</td>\n",
       "      <td>NaN</td>\n",
       "      <td>NaN</td>\n",
       "    </tr>\n",
       "    <tr>\n",
       "      <th>1</th>\n",
       "      <td>Organic Search</td>\n",
       "      <td>2016-09-02</td>\n",
       "      <td>377306020877927890</td>\n",
       "      <td>1472880147</td>\n",
       "      <td>1</td>\n",
       "      <td>1472880147</td>\n",
       "      <td>Firefox</td>\n",
       "      <td>Macintosh</td>\n",
       "      <td>False</td>\n",
       "      <td>desktop</td>\n",
       "      <td>...</td>\n",
       "      <td>organic</td>\n",
       "      <td>(not provided)</td>\n",
       "      <td>NaN</td>\n",
       "      <td>NaN</td>\n",
       "      <td>NaN</td>\n",
       "      <td>NaN</td>\n",
       "      <td>NaN</td>\n",
       "      <td>NaN</td>\n",
       "      <td>NaN</td>\n",
       "      <td>NaN</td>\n",
       "    </tr>\n",
       "    <tr>\n",
       "      <th>2</th>\n",
       "      <td>Organic Search</td>\n",
       "      <td>2016-09-02</td>\n",
       "      <td>3895546263509774583</td>\n",
       "      <td>1472865386</td>\n",
       "      <td>1</td>\n",
       "      <td>1472865386</td>\n",
       "      <td>Chrome</td>\n",
       "      <td>Windows</td>\n",
       "      <td>False</td>\n",
       "      <td>desktop</td>\n",
       "      <td>...</td>\n",
       "      <td>organic</td>\n",
       "      <td>(not provided)</td>\n",
       "      <td>NaN</td>\n",
       "      <td>NaN</td>\n",
       "      <td>NaN</td>\n",
       "      <td>NaN</td>\n",
       "      <td>NaN</td>\n",
       "      <td>NaN</td>\n",
       "      <td>NaN</td>\n",
       "      <td>NaN</td>\n",
       "    </tr>\n",
       "    <tr>\n",
       "      <th>3</th>\n",
       "      <td>Organic Search</td>\n",
       "      <td>2016-09-02</td>\n",
       "      <td>4763447161404445595</td>\n",
       "      <td>1472881213</td>\n",
       "      <td>1</td>\n",
       "      <td>1472881213</td>\n",
       "      <td>UC Browser</td>\n",
       "      <td>Linux</td>\n",
       "      <td>False</td>\n",
       "      <td>desktop</td>\n",
       "      <td>...</td>\n",
       "      <td>organic</td>\n",
       "      <td>google + online</td>\n",
       "      <td>NaN</td>\n",
       "      <td>NaN</td>\n",
       "      <td>NaN</td>\n",
       "      <td>NaN</td>\n",
       "      <td>NaN</td>\n",
       "      <td>NaN</td>\n",
       "      <td>NaN</td>\n",
       "      <td>NaN</td>\n",
       "    </tr>\n",
       "    <tr>\n",
       "      <th>4</th>\n",
       "      <td>Organic Search</td>\n",
       "      <td>2016-09-02</td>\n",
       "      <td>27294437909732085</td>\n",
       "      <td>1472822600</td>\n",
       "      <td>2</td>\n",
       "      <td>1472822600</td>\n",
       "      <td>Chrome</td>\n",
       "      <td>Android</td>\n",
       "      <td>True</td>\n",
       "      <td>mobile</td>\n",
       "      <td>...</td>\n",
       "      <td>organic</td>\n",
       "      <td>(not provided)</td>\n",
       "      <td>True</td>\n",
       "      <td>NaN</td>\n",
       "      <td>NaN</td>\n",
       "      <td>NaN</td>\n",
       "      <td>NaN</td>\n",
       "      <td>NaN</td>\n",
       "      <td>NaN</td>\n",
       "      <td>NaN</td>\n",
       "    </tr>\n",
       "  </tbody>\n",
       "</table>\n",
       "<p>5 rows × 34 columns</p>\n",
       "</div>"
      ],
      "text/plain": [
       "  channelGrouping        date        fullVisitorId     visitId  visitNumber  \\\n",
       "0  Organic Search  2016-09-02  1131660440785968503  1472830385            1   \n",
       "1  Organic Search  2016-09-02   377306020877927890  1472880147            1   \n",
       "2  Organic Search  2016-09-02  3895546263509774583  1472865386            1   \n",
       "3  Organic Search  2016-09-02  4763447161404445595  1472881213            1   \n",
       "4  Organic Search  2016-09-02    27294437909732085  1472822600            2   \n",
       "\n",
       "   visitStartTime device.browser device.operatingSystem  device.isMobile  \\\n",
       "0      1472830385         Chrome                Windows            False   \n",
       "1      1472880147        Firefox              Macintosh            False   \n",
       "2      1472865386         Chrome                Windows            False   \n",
       "3      1472881213     UC Browser                  Linux            False   \n",
       "4      1472822600         Chrome                Android             True   \n",
       "\n",
       "  device.deviceCategory  ... trafficSource.medium trafficSource.keyword  \\\n",
       "0               desktop  ...              organic        (not provided)   \n",
       "1               desktop  ...              organic        (not provided)   \n",
       "2               desktop  ...              organic        (not provided)   \n",
       "3               desktop  ...              organic       google + online   \n",
       "4                mobile  ...              organic        (not provided)   \n",
       "\n",
       "  trafficSource.isTrueDirect trafficSource.referralPath  \\\n",
       "0                        NaN                        NaN   \n",
       "1                        NaN                        NaN   \n",
       "2                        NaN                        NaN   \n",
       "3                        NaN                        NaN   \n",
       "4                       True                        NaN   \n",
       "\n",
       "  trafficSource.adwordsClickInfo.page trafficSource.adwordsClickInfo.slot  \\\n",
       "0                                 NaN                                 NaN   \n",
       "1                                 NaN                                 NaN   \n",
       "2                                 NaN                                 NaN   \n",
       "3                                 NaN                                 NaN   \n",
       "4                                 NaN                                 NaN   \n",
       "\n",
       "  trafficSource.adwordsClickInfo.gclId  \\\n",
       "0                                  NaN   \n",
       "1                                  NaN   \n",
       "2                                  NaN   \n",
       "3                                  NaN   \n",
       "4                                  NaN   \n",
       "\n",
       "  trafficSource.adwordsClickInfo.adNetworkType  \\\n",
       "0                                          NaN   \n",
       "1                                          NaN   \n",
       "2                                          NaN   \n",
       "3                                          NaN   \n",
       "4                                          NaN   \n",
       "\n",
       "  trafficSource.adwordsClickInfo.isVideoAd trafficSource.adContent  \n",
       "0                                      NaN                     NaN  \n",
       "1                                      NaN                     NaN  \n",
       "2                                      NaN                     NaN  \n",
       "3                                      NaN                     NaN  \n",
       "4                                      NaN                     NaN  \n",
       "\n",
       "[5 rows x 34 columns]"
      ]
     },
     "execution_count": 26,
     "metadata": {},
     "output_type": "execute_result"
    }
   ],
   "source": [
    "train_df.head()"
   ]
  },
  {
   "cell_type": "code",
   "execution_count": 95,
   "id": "32058c3e",
   "metadata": {},
   "outputs": [
    {
     "name": "stdout",
     "output_type": "stream",
     "text": [
      "Columns with constant values:  ['totals.bounces', 'totals.newVisits']\n",
      "Columns more than 50% null values:  []\n"
     ]
    }
   ],
   "source": [
    "# Unwanted columns\n",
    "unwanted_columns = ['channelGrouping','trafficSource.campaign','trafficSource.source','trafficSource.medium',\n",
    "                    'trafficSource.keyword','trafficSource.isTrueDirect','trafficSource.referralPath','trafficSource.adwordsClickInfo.page',\n",
    "                    'trafficSource.adwordsClickInfo.slot','trafficSource.adwordsClickInfo.gclId','trafficSource.adwordsClickInfo.adNetworkType','trafficSource.adwordsClickInfo.isVideoAd',\n",
    "                    'trafficSource.adContent' ]\n",
    "\n",
    "train = train_df.drop(unwanted_columns, axis=1)\n",
    "test = test_df.drop(unwanted_columns, axis=1)\n",
    "# Constant columns\n",
    "constant_columns = [c for c in train.columns if train[c].nunique()<=1]\n",
    "print('Columns with constant values: ', constant_columns)\n",
    "train = train.drop(constant_columns, axis=1)\n",
    "test = test.drop(constant_columns, axis=1)\n",
    "# Columns with more than 50% null data\n",
    "high_null_columns = [c for c in train.columns if train[c].count()<=len(train) * 0.5]\n",
    "print('Columns more than 50% null values: ', high_null_columns)\n",
    "train = train.drop(high_null_columns, axis=1)\n",
    "test = test.drop(high_null_columns, axis=1)"
   ]
  },
  {
   "cell_type": "code",
   "execution_count": 96,
   "id": "bb923567",
   "metadata": {},
   "outputs": [
    {
     "data": {
      "text/plain": [
       "(903653, 19)"
      ]
     },
     "execution_count": 96,
     "metadata": {},
     "output_type": "execute_result"
    }
   ],
   "source": [
    "train.shape"
   ]
  },
  {
   "cell_type": "code",
   "execution_count": 97,
   "id": "a76625c5",
   "metadata": {},
   "outputs": [
    {
     "data": {
      "text/plain": [
       "geoNetwork.country\n",
       "United States            364744\n",
       "India                     51140\n",
       "United Kingdom            37393\n",
       "Canada                    25869\n",
       "Vietnam                   24598\n",
       "                          ...  \n",
       "St. Pierre & Miquelon         1\n",
       "Anguilla                      1\n",
       "American Samoa                1\n",
       "Åland Islands                 1\n",
       "St. Barthélemy                1\n",
       "Name: count, Length: 222, dtype: int64"
      ]
     },
     "execution_count": 97,
     "metadata": {},
     "output_type": "execute_result"
    }
   ],
   "source": [
    "category_counts=train['geoNetwork.country'].value_counts()\n",
    "# Create a mapping dictionary with frequencies\n",
    "frequency_mapping = category_counts.to_dict()\n",
    "# Apply frequency encoding to the 'Category' column\n",
    "train['geoNetwork.country'] = train['geoNetwork.country'].map(frequency_mapping)\n",
    "category_counts"
   ]
  },
  {
   "cell_type": "code",
   "execution_count": 98,
   "id": "5a014238",
   "metadata": {},
   "outputs": [
    {
     "data": {
      "text/plain": [
       "geoNetwork.region\n",
       "not available in demo dataset    508229\n",
       "California                       107495\n",
       "(not set)                         27827\n",
       "New York                          26433\n",
       "England                           13198\n",
       "                                  ...  \n",
       "Leiria District                       6\n",
       "Assam                                 6\n",
       "Kumamoto Prefecture                   5\n",
       "San Salvador Department               5\n",
       "Montana                               3\n",
       "Name: count, Length: 376, dtype: int64"
      ]
     },
     "execution_count": 98,
     "metadata": {},
     "output_type": "execute_result"
    }
   ],
   "source": [
    "category_counts=train['geoNetwork.region'].value_counts()\n",
    "# Create a mapping dictionary with frequencies\n",
    "frequency_mapping = category_counts.to_dict()\n",
    "# Apply frequency encoding to the 'Category' column\n",
    "train['geoNetwork.region'] = train['geoNetwork.region'].map(frequency_mapping)\n",
    "category_counts"
   ]
  },
  {
   "cell_type": "code",
   "execution_count": 99,
   "id": "af92dc41",
   "metadata": {},
   "outputs": [
    {
     "data": {
      "text/plain": [
       "geoNetwork.city\n",
       "not available in demo dataset    508229\n",
       "Mountain View                     40884\n",
       "(not set)                         34262\n",
       "New York                          26371\n",
       "San Francisco                     20329\n",
       "                                  ...  \n",
       "Douglasville                          5\n",
       "San Salvador                          5\n",
       "Daly City                             4\n",
       "Boise                                 3\n",
       "Bozeman                               3\n",
       "Name: count, Length: 649, dtype: int64"
      ]
     },
     "execution_count": 99,
     "metadata": {},
     "output_type": "execute_result"
    }
   ],
   "source": [
    "category_counts=train['geoNetwork.city'].value_counts()\n",
    "# Create a mapping dictionary with frequencies\n",
    "frequency_mapping = category_counts.to_dict()\n",
    "# Apply frequency encoding to the 'Category' column\n",
    "train['geoNetwork.city'] = train['geoNetwork.city'].map(frequency_mapping)\n",
    "category_counts"
   ]
  },
  {
   "cell_type": "code",
   "execution_count": 100,
   "id": "59f29b7c",
   "metadata": {},
   "outputs": [
    {
     "data": {
      "text/plain": [
       "geoNetwork.networkDomain\n",
       "(not set)            244881\n",
       "unknown.unknown      146034\n",
       "comcast.net           28743\n",
       "rr.com                14827\n",
       "verizon.net           13637\n",
       "                      ...  \n",
       "panasonic.jp              1\n",
       "flair.cz                  1\n",
       "kwanglimyhi.co.id         1\n",
       "nursat.kz                 1\n",
       "xpressgt.co.za            1\n",
       "Name: count, Length: 28064, dtype: int64"
      ]
     },
     "execution_count": 100,
     "metadata": {},
     "output_type": "execute_result"
    }
   ],
   "source": [
    "category_counts=train['geoNetwork.networkDomain'].value_counts()\n",
    "# Create a mapping dictionary with frequencies\n",
    "frequency_mapping = category_counts.to_dict()\n",
    "# Apply frequency encoding to the 'Category' column\n",
    "train['geoNetwork.networkDomain'] = train['geoNetwork.networkDomain'].map(frequency_mapping)\n",
    "category_counts"
   ]
  },
  {
   "cell_type": "code",
   "execution_count": 101,
   "id": "aeb6184d",
   "metadata": {},
   "outputs": [
    {
     "data": {
      "text/html": [
       "<div>\n",
       "<style scoped>\n",
       "    .dataframe tbody tr th:only-of-type {\n",
       "        vertical-align: middle;\n",
       "    }\n",
       "\n",
       "    .dataframe tbody tr th {\n",
       "        vertical-align: top;\n",
       "    }\n",
       "\n",
       "    .dataframe thead th {\n",
       "        text-align: right;\n",
       "    }\n",
       "</style>\n",
       "<table border=\"1\" class=\"dataframe\">\n",
       "  <thead>\n",
       "    <tr style=\"text-align: right;\">\n",
       "      <th></th>\n",
       "      <th>date</th>\n",
       "      <th>fullVisitorId</th>\n",
       "      <th>visitId</th>\n",
       "      <th>visitNumber</th>\n",
       "      <th>visitStartTime</th>\n",
       "      <th>device.browser</th>\n",
       "      <th>device.operatingSystem</th>\n",
       "      <th>device.isMobile</th>\n",
       "      <th>device.deviceCategory</th>\n",
       "      <th>geoNetwork.continent</th>\n",
       "      <th>geoNetwork.subContinent</th>\n",
       "      <th>geoNetwork.country</th>\n",
       "      <th>geoNetwork.region</th>\n",
       "      <th>geoNetwork.metro</th>\n",
       "      <th>geoNetwork.city</th>\n",
       "      <th>geoNetwork.networkDomain</th>\n",
       "      <th>totals.hits</th>\n",
       "      <th>totals.pageviews</th>\n",
       "      <th>totals.transactionRevenue</th>\n",
       "    </tr>\n",
       "  </thead>\n",
       "  <tbody>\n",
       "    <tr>\n",
       "      <th>0</th>\n",
       "      <td>2016-09-02</td>\n",
       "      <td>1131660440785968503</td>\n",
       "      <td>1472830385</td>\n",
       "      <td>1</td>\n",
       "      <td>1472830385</td>\n",
       "      <td>Chrome</td>\n",
       "      <td>Windows</td>\n",
       "      <td>False</td>\n",
       "      <td>desktop</td>\n",
       "      <td>Asia</td>\n",
       "      <td>Western Asia</td>\n",
       "      <td>20522</td>\n",
       "      <td>1321</td>\n",
       "      <td>(not set)</td>\n",
       "      <td>1321</td>\n",
       "      <td>13228</td>\n",
       "      <td>1</td>\n",
       "      <td>1</td>\n",
       "      <td>0.0</td>\n",
       "    </tr>\n",
       "    <tr>\n",
       "      <th>1</th>\n",
       "      <td>2016-09-02</td>\n",
       "      <td>377306020877927890</td>\n",
       "      <td>1472880147</td>\n",
       "      <td>1</td>\n",
       "      <td>1472880147</td>\n",
       "      <td>Firefox</td>\n",
       "      <td>Macintosh</td>\n",
       "      <td>False</td>\n",
       "      <td>desktop</td>\n",
       "      <td>Oceania</td>\n",
       "      <td>Australasia</td>\n",
       "      <td>12698</td>\n",
       "      <td>508229</td>\n",
       "      <td>not available in demo dataset</td>\n",
       "      <td>508229</td>\n",
       "      <td>318</td>\n",
       "      <td>1</td>\n",
       "      <td>1</td>\n",
       "      <td>0.0</td>\n",
       "    </tr>\n",
       "    <tr>\n",
       "      <th>2</th>\n",
       "      <td>2016-09-02</td>\n",
       "      <td>3895546263509774583</td>\n",
       "      <td>1472865386</td>\n",
       "      <td>1</td>\n",
       "      <td>1472865386</td>\n",
       "      <td>Chrome</td>\n",
       "      <td>Windows</td>\n",
       "      <td>False</td>\n",
       "      <td>desktop</td>\n",
       "      <td>Europe</td>\n",
       "      <td>Southern Europe</td>\n",
       "      <td>11658</td>\n",
       "      <td>2937</td>\n",
       "      <td>(not set)</td>\n",
       "      <td>2593</td>\n",
       "      <td>146034</td>\n",
       "      <td>1</td>\n",
       "      <td>1</td>\n",
       "      <td>0.0</td>\n",
       "    </tr>\n",
       "    <tr>\n",
       "      <th>3</th>\n",
       "      <td>2016-09-02</td>\n",
       "      <td>4763447161404445595</td>\n",
       "      <td>1472881213</td>\n",
       "      <td>1</td>\n",
       "      <td>1472881213</td>\n",
       "      <td>UC Browser</td>\n",
       "      <td>Linux</td>\n",
       "      <td>False</td>\n",
       "      <td>desktop</td>\n",
       "      <td>Asia</td>\n",
       "      <td>Southeast Asia</td>\n",
       "      <td>9273</td>\n",
       "      <td>508229</td>\n",
       "      <td>not available in demo dataset</td>\n",
       "      <td>508229</td>\n",
       "      <td>146034</td>\n",
       "      <td>1</td>\n",
       "      <td>1</td>\n",
       "      <td>0.0</td>\n",
       "    </tr>\n",
       "    <tr>\n",
       "      <th>4</th>\n",
       "      <td>2016-09-02</td>\n",
       "      <td>27294437909732085</td>\n",
       "      <td>1472822600</td>\n",
       "      <td>2</td>\n",
       "      <td>1472822600</td>\n",
       "      <td>Chrome</td>\n",
       "      <td>Android</td>\n",
       "      <td>True</td>\n",
       "      <td>mobile</td>\n",
       "      <td>Europe</td>\n",
       "      <td>Northern Europe</td>\n",
       "      <td>37393</td>\n",
       "      <td>508229</td>\n",
       "      <td>not available in demo dataset</td>\n",
       "      <td>508229</td>\n",
       "      <td>146034</td>\n",
       "      <td>1</td>\n",
       "      <td>1</td>\n",
       "      <td>0.0</td>\n",
       "    </tr>\n",
       "  </tbody>\n",
       "</table>\n",
       "</div>"
      ],
      "text/plain": [
       "         date        fullVisitorId     visitId  visitNumber  visitStartTime  \\\n",
       "0  2016-09-02  1131660440785968503  1472830385            1      1472830385   \n",
       "1  2016-09-02   377306020877927890  1472880147            1      1472880147   \n",
       "2  2016-09-02  3895546263509774583  1472865386            1      1472865386   \n",
       "3  2016-09-02  4763447161404445595  1472881213            1      1472881213   \n",
       "4  2016-09-02    27294437909732085  1472822600            2      1472822600   \n",
       "\n",
       "  device.browser device.operatingSystem  device.isMobile  \\\n",
       "0         Chrome                Windows            False   \n",
       "1        Firefox              Macintosh            False   \n",
       "2         Chrome                Windows            False   \n",
       "3     UC Browser                  Linux            False   \n",
       "4         Chrome                Android             True   \n",
       "\n",
       "  device.deviceCategory geoNetwork.continent geoNetwork.subContinent  \\\n",
       "0               desktop                 Asia            Western Asia   \n",
       "1               desktop              Oceania             Australasia   \n",
       "2               desktop               Europe         Southern Europe   \n",
       "3               desktop                 Asia          Southeast Asia   \n",
       "4                mobile               Europe         Northern Europe   \n",
       "\n",
       "   geoNetwork.country  geoNetwork.region               geoNetwork.metro  \\\n",
       "0               20522               1321                      (not set)   \n",
       "1               12698             508229  not available in demo dataset   \n",
       "2               11658               2937                      (not set)   \n",
       "3                9273             508229  not available in demo dataset   \n",
       "4               37393             508229  not available in demo dataset   \n",
       "\n",
       "   geoNetwork.city  geoNetwork.networkDomain totals.hits totals.pageviews  \\\n",
       "0             1321                     13228           1                1   \n",
       "1           508229                       318           1                1   \n",
       "2             2593                    146034           1                1   \n",
       "3           508229                    146034           1                1   \n",
       "4           508229                    146034           1                1   \n",
       "\n",
       "   totals.transactionRevenue  \n",
       "0                        0.0  \n",
       "1                        0.0  \n",
       "2                        0.0  \n",
       "3                        0.0  \n",
       "4                        0.0  "
      ]
     },
     "execution_count": 101,
     "metadata": {},
     "output_type": "execute_result"
    }
   ],
   "source": [
    "train.head()"
   ]
  },
  {
   "cell_type": "code",
   "execution_count": null,
   "id": "596ca5d3",
   "metadata": {},
   "outputs": [],
   "source": []
  },
  {
   "cell_type": "code",
   "execution_count": null,
   "id": "0879fc38",
   "metadata": {},
   "outputs": [],
   "source": []
  },
  {
   "cell_type": "code",
   "execution_count": 102,
   "id": "5c26e6ed",
   "metadata": {},
   "outputs": [],
   "source": [
    "categorical_features = ['device.browser','geoNetwork.continent','device.operatingSystem','device.isMobile','device.deviceCategory'\n",
    "                        ,'geoNetwork.subContinent','geoNetwork.metro',\n",
    "                        ]\n",
    "\n",
    "train = pd.get_dummies(train, columns=categorical_features)"
   ]
  },
  {
   "cell_type": "code",
   "execution_count": null,
   "id": "f5956915",
   "metadata": {},
   "outputs": [],
   "source": [
    "train"
   ]
  },
  {
   "cell_type": "code",
   "execution_count": 103,
   "id": "cd1f6b71",
   "metadata": {},
   "outputs": [],
   "source": [
    "train1=train.drop('geoNetwork.subContinent_(not set)',axis=1)"
   ]
  },
  {
   "cell_type": "code",
   "execution_count": 37,
   "id": "bce688a4",
   "metadata": {},
   "outputs": [
    {
     "ename": "KeyError",
     "evalue": "\"['device.operatingSystem_(not set)'] not found in axis\"",
     "output_type": "error",
     "traceback": [
      "\u001b[1;31m---------------------------------------------------------------------------\u001b[0m",
      "\u001b[1;31mKeyError\u001b[0m                                  Traceback (most recent call last)",
      "\u001b[1;32m~\\AppData\\Local\\Temp\\ipykernel_27572\\2911983162.py\u001b[0m in \u001b[0;36m<module>\u001b[1;34m\u001b[0m\n\u001b[1;32m----> 1\u001b[1;33m \u001b[0mtrain1\u001b[0m\u001b[1;33m=\u001b[0m\u001b[0mtrain1\u001b[0m\u001b[1;33m.\u001b[0m\u001b[0mdrop\u001b[0m\u001b[1;33m(\u001b[0m\u001b[1;34m'device.operatingSystem_(not set)'\u001b[0m\u001b[1;33m,\u001b[0m\u001b[0maxis\u001b[0m\u001b[1;33m=\u001b[0m\u001b[1;36m1\u001b[0m\u001b[1;33m)\u001b[0m\u001b[1;33m\u001b[0m\u001b[1;33m\u001b[0m\u001b[0m\n\u001b[0m",
      "\u001b[1;32m~\\anaconda3\\lib\\site-packages\\pandas\\core\\frame.py\u001b[0m in \u001b[0;36mdrop\u001b[1;34m(self, labels, axis, index, columns, level, inplace, errors)\u001b[0m\n\u001b[0;32m   5342\u001b[0m                 \u001b[0mweight\u001b[0m  \u001b[1;36m1.0\u001b[0m     \u001b[1;36m0.8\u001b[0m\u001b[1;33m\u001b[0m\u001b[1;33m\u001b[0m\u001b[0m\n\u001b[0;32m   5343\u001b[0m         \"\"\"\n\u001b[1;32m-> 5344\u001b[1;33m         return super().drop(\n\u001b[0m\u001b[0;32m   5345\u001b[0m             \u001b[0mlabels\u001b[0m\u001b[1;33m=\u001b[0m\u001b[0mlabels\u001b[0m\u001b[1;33m,\u001b[0m\u001b[1;33m\u001b[0m\u001b[1;33m\u001b[0m\u001b[0m\n\u001b[0;32m   5346\u001b[0m             \u001b[0maxis\u001b[0m\u001b[1;33m=\u001b[0m\u001b[0maxis\u001b[0m\u001b[1;33m,\u001b[0m\u001b[1;33m\u001b[0m\u001b[1;33m\u001b[0m\u001b[0m\n",
      "\u001b[1;32m~\\anaconda3\\lib\\site-packages\\pandas\\core\\generic.py\u001b[0m in \u001b[0;36mdrop\u001b[1;34m(self, labels, axis, index, columns, level, inplace, errors)\u001b[0m\n\u001b[0;32m   4709\u001b[0m         \u001b[1;32mfor\u001b[0m \u001b[0maxis\u001b[0m\u001b[1;33m,\u001b[0m \u001b[0mlabels\u001b[0m \u001b[1;32min\u001b[0m \u001b[0maxes\u001b[0m\u001b[1;33m.\u001b[0m\u001b[0mitems\u001b[0m\u001b[1;33m(\u001b[0m\u001b[1;33m)\u001b[0m\u001b[1;33m:\u001b[0m\u001b[1;33m\u001b[0m\u001b[1;33m\u001b[0m\u001b[0m\n\u001b[0;32m   4710\u001b[0m             \u001b[1;32mif\u001b[0m \u001b[0mlabels\u001b[0m \u001b[1;32mis\u001b[0m \u001b[1;32mnot\u001b[0m \u001b[1;32mNone\u001b[0m\u001b[1;33m:\u001b[0m\u001b[1;33m\u001b[0m\u001b[1;33m\u001b[0m\u001b[0m\n\u001b[1;32m-> 4711\u001b[1;33m                 \u001b[0mobj\u001b[0m \u001b[1;33m=\u001b[0m \u001b[0mobj\u001b[0m\u001b[1;33m.\u001b[0m\u001b[0m_drop_axis\u001b[0m\u001b[1;33m(\u001b[0m\u001b[0mlabels\u001b[0m\u001b[1;33m,\u001b[0m \u001b[0maxis\u001b[0m\u001b[1;33m,\u001b[0m \u001b[0mlevel\u001b[0m\u001b[1;33m=\u001b[0m\u001b[0mlevel\u001b[0m\u001b[1;33m,\u001b[0m \u001b[0merrors\u001b[0m\u001b[1;33m=\u001b[0m\u001b[0merrors\u001b[0m\u001b[1;33m)\u001b[0m\u001b[1;33m\u001b[0m\u001b[1;33m\u001b[0m\u001b[0m\n\u001b[0m\u001b[0;32m   4712\u001b[0m \u001b[1;33m\u001b[0m\u001b[0m\n\u001b[0;32m   4713\u001b[0m         \u001b[1;32mif\u001b[0m \u001b[0minplace\u001b[0m\u001b[1;33m:\u001b[0m\u001b[1;33m\u001b[0m\u001b[1;33m\u001b[0m\u001b[0m\n",
      "\u001b[1;32m~\\anaconda3\\lib\\site-packages\\pandas\\core\\generic.py\u001b[0m in \u001b[0;36m_drop_axis\u001b[1;34m(self, labels, axis, level, errors, only_slice)\u001b[0m\n\u001b[0;32m   4751\u001b[0m                 \u001b[0mnew_axis\u001b[0m \u001b[1;33m=\u001b[0m \u001b[0maxis\u001b[0m\u001b[1;33m.\u001b[0m\u001b[0mdrop\u001b[0m\u001b[1;33m(\u001b[0m\u001b[0mlabels\u001b[0m\u001b[1;33m,\u001b[0m \u001b[0mlevel\u001b[0m\u001b[1;33m=\u001b[0m\u001b[0mlevel\u001b[0m\u001b[1;33m,\u001b[0m \u001b[0merrors\u001b[0m\u001b[1;33m=\u001b[0m\u001b[0merrors\u001b[0m\u001b[1;33m)\u001b[0m\u001b[1;33m\u001b[0m\u001b[1;33m\u001b[0m\u001b[0m\n\u001b[0;32m   4752\u001b[0m             \u001b[1;32melse\u001b[0m\u001b[1;33m:\u001b[0m\u001b[1;33m\u001b[0m\u001b[1;33m\u001b[0m\u001b[0m\n\u001b[1;32m-> 4753\u001b[1;33m                 \u001b[0mnew_axis\u001b[0m \u001b[1;33m=\u001b[0m \u001b[0maxis\u001b[0m\u001b[1;33m.\u001b[0m\u001b[0mdrop\u001b[0m\u001b[1;33m(\u001b[0m\u001b[0mlabels\u001b[0m\u001b[1;33m,\u001b[0m \u001b[0merrors\u001b[0m\u001b[1;33m=\u001b[0m\u001b[0merrors\u001b[0m\u001b[1;33m)\u001b[0m\u001b[1;33m\u001b[0m\u001b[1;33m\u001b[0m\u001b[0m\n\u001b[0m\u001b[0;32m   4754\u001b[0m             \u001b[0mindexer\u001b[0m \u001b[1;33m=\u001b[0m \u001b[0maxis\u001b[0m\u001b[1;33m.\u001b[0m\u001b[0mget_indexer\u001b[0m\u001b[1;33m(\u001b[0m\u001b[0mnew_axis\u001b[0m\u001b[1;33m)\u001b[0m\u001b[1;33m\u001b[0m\u001b[1;33m\u001b[0m\u001b[0m\n\u001b[0;32m   4755\u001b[0m \u001b[1;33m\u001b[0m\u001b[0m\n",
      "\u001b[1;32m~\\anaconda3\\lib\\site-packages\\pandas\\core\\indexes\\base.py\u001b[0m in \u001b[0;36mdrop\u001b[1;34m(self, labels, errors)\u001b[0m\n\u001b[0;32m   6990\u001b[0m         \u001b[1;32mif\u001b[0m \u001b[0mmask\u001b[0m\u001b[1;33m.\u001b[0m\u001b[0many\u001b[0m\u001b[1;33m(\u001b[0m\u001b[1;33m)\u001b[0m\u001b[1;33m:\u001b[0m\u001b[1;33m\u001b[0m\u001b[1;33m\u001b[0m\u001b[0m\n\u001b[0;32m   6991\u001b[0m             \u001b[1;32mif\u001b[0m \u001b[0merrors\u001b[0m \u001b[1;33m!=\u001b[0m \u001b[1;34m\"ignore\"\u001b[0m\u001b[1;33m:\u001b[0m\u001b[1;33m\u001b[0m\u001b[1;33m\u001b[0m\u001b[0m\n\u001b[1;32m-> 6992\u001b[1;33m                 \u001b[1;32mraise\u001b[0m \u001b[0mKeyError\u001b[0m\u001b[1;33m(\u001b[0m\u001b[1;34mf\"{labels[mask].tolist()} not found in axis\"\u001b[0m\u001b[1;33m)\u001b[0m\u001b[1;33m\u001b[0m\u001b[1;33m\u001b[0m\u001b[0m\n\u001b[0m\u001b[0;32m   6993\u001b[0m             \u001b[0mindexer\u001b[0m \u001b[1;33m=\u001b[0m \u001b[0mindexer\u001b[0m\u001b[1;33m[\u001b[0m\u001b[1;33m~\u001b[0m\u001b[0mmask\u001b[0m\u001b[1;33m]\u001b[0m\u001b[1;33m\u001b[0m\u001b[1;33m\u001b[0m\u001b[0m\n\u001b[0;32m   6994\u001b[0m         \u001b[1;32mreturn\u001b[0m \u001b[0mself\u001b[0m\u001b[1;33m.\u001b[0m\u001b[0mdelete\u001b[0m\u001b[1;33m(\u001b[0m\u001b[0mindexer\u001b[0m\u001b[1;33m)\u001b[0m\u001b[1;33m\u001b[0m\u001b[1;33m\u001b[0m\u001b[0m\n",
      "\u001b[1;31mKeyError\u001b[0m: \"['device.operatingSystem_(not set)'] not found in axis\""
     ]
    }
   ],
   "source": [
    "# train1=train1.drop('device.operatingSystem_(not set)',axis=1)"
   ]
  },
  {
   "cell_type": "code",
   "execution_count": 104,
   "id": "aed0d2a8",
   "metadata": {},
   "outputs": [],
   "source": [
    "train1=train1.drop('geoNetwork.metro_(not set)',axis=1)\n",
    "train1=train1.drop('geoNetwork.metro_not available in demo dataset',axis=1)"
   ]
  },
  {
   "cell_type": "code",
   "execution_count": 105,
   "id": "3049df25",
   "metadata": {},
   "outputs": [],
   "source": [
    "train1=train1.drop('device.browser_(not set)',axis=1)\n",
    "train1=train1.drop('geoNetwork.continent_(not set)',axis=1)"
   ]
  },
  {
   "cell_type": "code",
   "execution_count": 106,
   "id": "758f6a16",
   "metadata": {},
   "outputs": [],
   "source": [
    "# Assuming your DataFrame is named df\n",
    "columns_to_remove = ['date', 'fullVisitorId']\n",
    "\n",
    "# Drop the specified columns\n",
    "train1= train1.drop(columns=columns_to_remove)"
   ]
  },
  {
   "cell_type": "code",
   "execution_count": 107,
   "id": "48c69e4a",
   "metadata": {},
   "outputs": [],
   "source": [
    "train1.drop('visitId',axis=1,inplace=True)"
   ]
  },
  {
   "cell_type": "code",
   "execution_count": 108,
   "id": "f45737b0",
   "metadata": {},
   "outputs": [],
   "source": [
    "train1 = train1[train1['totals.transactionRevenue'] > 0]"
   ]
  },
  {
   "cell_type": "code",
   "execution_count": 109,
   "id": "ed09acf6",
   "metadata": {},
   "outputs": [],
   "source": [
    "# Replace NaN values with the median of each column\n",
    "# train1 = train1.fillna(train1.median())\n",
    "train1_y=train1['totals.transactionRevenue'].copy()\n",
    "train1.drop('totals.transactionRevenue',axis=1,inplace=True)"
   ]
  },
  {
   "cell_type": "code",
   "execution_count": 118,
   "id": "e9ab5964",
   "metadata": {},
   "outputs": [
    {
     "data": {
      "text/plain": [
       "(11515, 204)"
      ]
     },
     "execution_count": 118,
     "metadata": {},
     "output_type": "execute_result"
    }
   ],
   "source": []
  },
  {
   "cell_type": "code",
   "execution_count": 110,
   "id": "c5cf36a6",
   "metadata": {},
   "outputs": [],
   "source": [
    "train1.drop('visitStartTime',axis=1,inplace=True)\n"
   ]
  },
  {
   "cell_type": "code",
   "execution_count": 112,
   "id": "961662dd",
   "metadata": {},
   "outputs": [
    {
     "data": {
      "text/plain": [
       "752        37860000.0\n",
       "753       306670000.0\n",
       "799        68030000.0\n",
       "802        26250000.0\n",
       "859       574150000.0\n",
       "             ...     \n",
       "903302    335260000.0\n",
       "903305    599950000.0\n",
       "903314     30750000.0\n",
       "903315     69390000.0\n",
       "903317     74990000.0\n",
       "Name: totals.transactionRevenue, Length: 11515, dtype: float64"
      ]
     },
     "execution_count": 112,
     "metadata": {},
     "output_type": "execute_result"
    }
   ],
   "source": [
    "train1_y"
   ]
  },
  {
   "cell_type": "code",
   "execution_count": 64,
   "id": "139b0376",
   "metadata": {},
   "outputs": [
    {
     "data": {
      "text/html": [
       "<div>\n",
       "<style scoped>\n",
       "    .dataframe tbody tr th:only-of-type {\n",
       "        vertical-align: middle;\n",
       "    }\n",
       "\n",
       "    .dataframe tbody tr th {\n",
       "        vertical-align: top;\n",
       "    }\n",
       "\n",
       "    .dataframe thead th {\n",
       "        text-align: right;\n",
       "    }\n",
       "</style>\n",
       "<table border=\"1\" class=\"dataframe\">\n",
       "  <thead>\n",
       "    <tr style=\"text-align: right;\">\n",
       "      <th></th>\n",
       "      <th>channelGrouping</th>\n",
       "      <th>date</th>\n",
       "      <th>fullVisitorId</th>\n",
       "      <th>visitId</th>\n",
       "      <th>visitNumber</th>\n",
       "      <th>visitStartTime</th>\n",
       "      <th>device.browser</th>\n",
       "      <th>device.operatingSystem</th>\n",
       "      <th>device.isMobile</th>\n",
       "      <th>device.deviceCategory</th>\n",
       "      <th>...</th>\n",
       "      <th>trafficSource.medium</th>\n",
       "      <th>trafficSource.keyword</th>\n",
       "      <th>trafficSource.isTrueDirect</th>\n",
       "      <th>trafficSource.adwordsClickInfo.page</th>\n",
       "      <th>trafficSource.adwordsClickInfo.slot</th>\n",
       "      <th>trafficSource.adwordsClickInfo.gclId</th>\n",
       "      <th>trafficSource.adwordsClickInfo.adNetworkType</th>\n",
       "      <th>trafficSource.adwordsClickInfo.isVideoAd</th>\n",
       "      <th>trafficSource.referralPath</th>\n",
       "      <th>trafficSource.adContent</th>\n",
       "    </tr>\n",
       "  </thead>\n",
       "  <tbody>\n",
       "    <tr>\n",
       "      <th>0</th>\n",
       "      <td>Organic Search</td>\n",
       "      <td>2017-10-16</td>\n",
       "      <td>6167871330617112363</td>\n",
       "      <td>1508151024</td>\n",
       "      <td>2</td>\n",
       "      <td>1508151024</td>\n",
       "      <td>Chrome</td>\n",
       "      <td>Macintosh</td>\n",
       "      <td>False</td>\n",
       "      <td>desktop</td>\n",
       "      <td>...</td>\n",
       "      <td>organic</td>\n",
       "      <td>(not provided)</td>\n",
       "      <td>True</td>\n",
       "      <td>NaN</td>\n",
       "      <td>NaN</td>\n",
       "      <td>NaN</td>\n",
       "      <td>NaN</td>\n",
       "      <td>NaN</td>\n",
       "      <td>NaN</td>\n",
       "      <td>NaN</td>\n",
       "    </tr>\n",
       "    <tr>\n",
       "      <th>1</th>\n",
       "      <td>Organic Search</td>\n",
       "      <td>2017-10-16</td>\n",
       "      <td>0643697640977915618</td>\n",
       "      <td>1508175522</td>\n",
       "      <td>1</td>\n",
       "      <td>1508175522</td>\n",
       "      <td>Chrome</td>\n",
       "      <td>Windows</td>\n",
       "      <td>False</td>\n",
       "      <td>desktop</td>\n",
       "      <td>...</td>\n",
       "      <td>organic</td>\n",
       "      <td>(not provided)</td>\n",
       "      <td>NaN</td>\n",
       "      <td>NaN</td>\n",
       "      <td>NaN</td>\n",
       "      <td>NaN</td>\n",
       "      <td>NaN</td>\n",
       "      <td>NaN</td>\n",
       "      <td>NaN</td>\n",
       "      <td>NaN</td>\n",
       "    </tr>\n",
       "    <tr>\n",
       "      <th>2</th>\n",
       "      <td>Organic Search</td>\n",
       "      <td>2017-10-16</td>\n",
       "      <td>6059383810968229466</td>\n",
       "      <td>1508143220</td>\n",
       "      <td>1</td>\n",
       "      <td>1508143220</td>\n",
       "      <td>Chrome</td>\n",
       "      <td>Macintosh</td>\n",
       "      <td>False</td>\n",
       "      <td>desktop</td>\n",
       "      <td>...</td>\n",
       "      <td>organic</td>\n",
       "      <td>(not provided)</td>\n",
       "      <td>NaN</td>\n",
       "      <td>NaN</td>\n",
       "      <td>NaN</td>\n",
       "      <td>NaN</td>\n",
       "      <td>NaN</td>\n",
       "      <td>NaN</td>\n",
       "      <td>NaN</td>\n",
       "      <td>NaN</td>\n",
       "    </tr>\n",
       "    <tr>\n",
       "      <th>3</th>\n",
       "      <td>Organic Search</td>\n",
       "      <td>2017-10-16</td>\n",
       "      <td>2376720078563423631</td>\n",
       "      <td>1508193530</td>\n",
       "      <td>1</td>\n",
       "      <td>1508193530</td>\n",
       "      <td>Safari</td>\n",
       "      <td>iOS</td>\n",
       "      <td>True</td>\n",
       "      <td>mobile</td>\n",
       "      <td>...</td>\n",
       "      <td>organic</td>\n",
       "      <td>(not provided)</td>\n",
       "      <td>NaN</td>\n",
       "      <td>NaN</td>\n",
       "      <td>NaN</td>\n",
       "      <td>NaN</td>\n",
       "      <td>NaN</td>\n",
       "      <td>NaN</td>\n",
       "      <td>NaN</td>\n",
       "      <td>NaN</td>\n",
       "    </tr>\n",
       "    <tr>\n",
       "      <th>4</th>\n",
       "      <td>Organic Search</td>\n",
       "      <td>2017-10-16</td>\n",
       "      <td>2314544520795440038</td>\n",
       "      <td>1508217442</td>\n",
       "      <td>1</td>\n",
       "      <td>1508217442</td>\n",
       "      <td>Safari</td>\n",
       "      <td>Macintosh</td>\n",
       "      <td>False</td>\n",
       "      <td>desktop</td>\n",
       "      <td>...</td>\n",
       "      <td>organic</td>\n",
       "      <td>(not provided)</td>\n",
       "      <td>NaN</td>\n",
       "      <td>NaN</td>\n",
       "      <td>NaN</td>\n",
       "      <td>NaN</td>\n",
       "      <td>NaN</td>\n",
       "      <td>NaN</td>\n",
       "      <td>NaN</td>\n",
       "      <td>NaN</td>\n",
       "    </tr>\n",
       "    <tr>\n",
       "      <th>...</th>\n",
       "      <td>...</td>\n",
       "      <td>...</td>\n",
       "      <td>...</td>\n",
       "      <td>...</td>\n",
       "      <td>...</td>\n",
       "      <td>...</td>\n",
       "      <td>...</td>\n",
       "      <td>...</td>\n",
       "      <td>...</td>\n",
       "      <td>...</td>\n",
       "      <td>...</td>\n",
       "      <td>...</td>\n",
       "      <td>...</td>\n",
       "      <td>...</td>\n",
       "      <td>...</td>\n",
       "      <td>...</td>\n",
       "      <td>...</td>\n",
       "      <td>...</td>\n",
       "      <td>...</td>\n",
       "      <td>...</td>\n",
       "      <td>...</td>\n",
       "    </tr>\n",
       "    <tr>\n",
       "      <th>804679</th>\n",
       "      <td>Social</td>\n",
       "      <td>2018-04-21</td>\n",
       "      <td>9084225574121020383</td>\n",
       "      <td>1524358436</td>\n",
       "      <td>2</td>\n",
       "      <td>1524358436</td>\n",
       "      <td>Edge</td>\n",
       "      <td>Windows</td>\n",
       "      <td>False</td>\n",
       "      <td>desktop</td>\n",
       "      <td>...</td>\n",
       "      <td>referral</td>\n",
       "      <td>NaN</td>\n",
       "      <td>NaN</td>\n",
       "      <td>NaN</td>\n",
       "      <td>NaN</td>\n",
       "      <td>NaN</td>\n",
       "      <td>NaN</td>\n",
       "      <td>NaN</td>\n",
       "      <td>/intl/en/yt/about/</td>\n",
       "      <td>NaN</td>\n",
       "    </tr>\n",
       "    <tr>\n",
       "      <th>804680</th>\n",
       "      <td>Social</td>\n",
       "      <td>2018-04-21</td>\n",
       "      <td>6146210385566305056</td>\n",
       "      <td>1524317728</td>\n",
       "      <td>1</td>\n",
       "      <td>1524317728</td>\n",
       "      <td>Chrome</td>\n",
       "      <td>Android</td>\n",
       "      <td>True</td>\n",
       "      <td>mobile</td>\n",
       "      <td>...</td>\n",
       "      <td>referral</td>\n",
       "      <td>NaN</td>\n",
       "      <td>NaN</td>\n",
       "      <td>NaN</td>\n",
       "      <td>NaN</td>\n",
       "      <td>NaN</td>\n",
       "      <td>NaN</td>\n",
       "      <td>NaN</td>\n",
       "      <td>/yt/lineups/es/index.html</td>\n",
       "      <td>NaN</td>\n",
       "    </tr>\n",
       "    <tr>\n",
       "      <th>804681</th>\n",
       "      <td>Social</td>\n",
       "      <td>2018-04-21</td>\n",
       "      <td>7484543584006767361</td>\n",
       "      <td>1524364725</td>\n",
       "      <td>1</td>\n",
       "      <td>1524364725</td>\n",
       "      <td>Safari (in-app)</td>\n",
       "      <td>iOS</td>\n",
       "      <td>True</td>\n",
       "      <td>mobile</td>\n",
       "      <td>...</td>\n",
       "      <td>referral</td>\n",
       "      <td>NaN</td>\n",
       "      <td>NaN</td>\n",
       "      <td>NaN</td>\n",
       "      <td>NaN</td>\n",
       "      <td>NaN</td>\n",
       "      <td>NaN</td>\n",
       "      <td>NaN</td>\n",
       "      <td>/</td>\n",
       "      <td>NaN</td>\n",
       "    </tr>\n",
       "    <tr>\n",
       "      <th>804682</th>\n",
       "      <td>Social</td>\n",
       "      <td>2018-04-21</td>\n",
       "      <td>2915966035609674201</td>\n",
       "      <td>1524330416</td>\n",
       "      <td>1</td>\n",
       "      <td>1524330416</td>\n",
       "      <td>Samsung Internet</td>\n",
       "      <td>Android</td>\n",
       "      <td>True</td>\n",
       "      <td>mobile</td>\n",
       "      <td>...</td>\n",
       "      <td>referral</td>\n",
       "      <td>NaN</td>\n",
       "      <td>NaN</td>\n",
       "      <td>NaN</td>\n",
       "      <td>NaN</td>\n",
       "      <td>NaN</td>\n",
       "      <td>NaN</td>\n",
       "      <td>NaN</td>\n",
       "      <td>/yt/about/policies/</td>\n",
       "      <td>NaN</td>\n",
       "    </tr>\n",
       "    <tr>\n",
       "      <th>804683</th>\n",
       "      <td>Social</td>\n",
       "      <td>2018-04-21</td>\n",
       "      <td>5334918847827785763</td>\n",
       "      <td>1524301572</td>\n",
       "      <td>1</td>\n",
       "      <td>1524301572</td>\n",
       "      <td>MRCHROME</td>\n",
       "      <td>Windows</td>\n",
       "      <td>False</td>\n",
       "      <td>desktop</td>\n",
       "      <td>...</td>\n",
       "      <td>referral</td>\n",
       "      <td>NaN</td>\n",
       "      <td>NaN</td>\n",
       "      <td>NaN</td>\n",
       "      <td>NaN</td>\n",
       "      <td>NaN</td>\n",
       "      <td>NaN</td>\n",
       "      <td>NaN</td>\n",
       "      <td>/yt/music/ru/index.html</td>\n",
       "      <td>NaN</td>\n",
       "    </tr>\n",
       "  </tbody>\n",
       "</table>\n",
       "<p>804684 rows × 33 columns</p>\n",
       "</div>"
      ],
      "text/plain": [
       "       channelGrouping        date        fullVisitorId     visitId  \\\n",
       "0       Organic Search  2017-10-16  6167871330617112363  1508151024   \n",
       "1       Organic Search  2017-10-16  0643697640977915618  1508175522   \n",
       "2       Organic Search  2017-10-16  6059383810968229466  1508143220   \n",
       "3       Organic Search  2017-10-16  2376720078563423631  1508193530   \n",
       "4       Organic Search  2017-10-16  2314544520795440038  1508217442   \n",
       "...                ...         ...                  ...         ...   \n",
       "804679          Social  2018-04-21  9084225574121020383  1524358436   \n",
       "804680          Social  2018-04-21  6146210385566305056  1524317728   \n",
       "804681          Social  2018-04-21  7484543584006767361  1524364725   \n",
       "804682          Social  2018-04-21  2915966035609674201  1524330416   \n",
       "804683          Social  2018-04-21  5334918847827785763  1524301572   \n",
       "\n",
       "        visitNumber  visitStartTime    device.browser device.operatingSystem  \\\n",
       "0                 2      1508151024            Chrome              Macintosh   \n",
       "1                 1      1508175522            Chrome                Windows   \n",
       "2                 1      1508143220            Chrome              Macintosh   \n",
       "3                 1      1508193530            Safari                    iOS   \n",
       "4                 1      1508217442            Safari              Macintosh   \n",
       "...             ...             ...               ...                    ...   \n",
       "804679            2      1524358436              Edge                Windows   \n",
       "804680            1      1524317728            Chrome                Android   \n",
       "804681            1      1524364725   Safari (in-app)                    iOS   \n",
       "804682            1      1524330416  Samsung Internet                Android   \n",
       "804683            1      1524301572          MRCHROME                Windows   \n",
       "\n",
       "        device.isMobile device.deviceCategory  ... trafficSource.medium  \\\n",
       "0                 False               desktop  ...              organic   \n",
       "1                 False               desktop  ...              organic   \n",
       "2                 False               desktop  ...              organic   \n",
       "3                  True                mobile  ...              organic   \n",
       "4                 False               desktop  ...              organic   \n",
       "...                 ...                   ...  ...                  ...   \n",
       "804679            False               desktop  ...             referral   \n",
       "804680             True                mobile  ...             referral   \n",
       "804681             True                mobile  ...             referral   \n",
       "804682             True                mobile  ...             referral   \n",
       "804683            False               desktop  ...             referral   \n",
       "\n",
       "       trafficSource.keyword trafficSource.isTrueDirect  \\\n",
       "0             (not provided)                       True   \n",
       "1             (not provided)                        NaN   \n",
       "2             (not provided)                        NaN   \n",
       "3             (not provided)                        NaN   \n",
       "4             (not provided)                        NaN   \n",
       "...                      ...                        ...   \n",
       "804679                   NaN                        NaN   \n",
       "804680                   NaN                        NaN   \n",
       "804681                   NaN                        NaN   \n",
       "804682                   NaN                        NaN   \n",
       "804683                   NaN                        NaN   \n",
       "\n",
       "       trafficSource.adwordsClickInfo.page  \\\n",
       "0                                      NaN   \n",
       "1                                      NaN   \n",
       "2                                      NaN   \n",
       "3                                      NaN   \n",
       "4                                      NaN   \n",
       "...                                    ...   \n",
       "804679                                 NaN   \n",
       "804680                                 NaN   \n",
       "804681                                 NaN   \n",
       "804682                                 NaN   \n",
       "804683                                 NaN   \n",
       "\n",
       "       trafficSource.adwordsClickInfo.slot  \\\n",
       "0                                      NaN   \n",
       "1                                      NaN   \n",
       "2                                      NaN   \n",
       "3                                      NaN   \n",
       "4                                      NaN   \n",
       "...                                    ...   \n",
       "804679                                 NaN   \n",
       "804680                                 NaN   \n",
       "804681                                 NaN   \n",
       "804682                                 NaN   \n",
       "804683                                 NaN   \n",
       "\n",
       "       trafficSource.adwordsClickInfo.gclId  \\\n",
       "0                                       NaN   \n",
       "1                                       NaN   \n",
       "2                                       NaN   \n",
       "3                                       NaN   \n",
       "4                                       NaN   \n",
       "...                                     ...   \n",
       "804679                                  NaN   \n",
       "804680                                  NaN   \n",
       "804681                                  NaN   \n",
       "804682                                  NaN   \n",
       "804683                                  NaN   \n",
       "\n",
       "       trafficSource.adwordsClickInfo.adNetworkType  \\\n",
       "0                                               NaN   \n",
       "1                                               NaN   \n",
       "2                                               NaN   \n",
       "3                                               NaN   \n",
       "4                                               NaN   \n",
       "...                                             ...   \n",
       "804679                                          NaN   \n",
       "804680                                          NaN   \n",
       "804681                                          NaN   \n",
       "804682                                          NaN   \n",
       "804683                                          NaN   \n",
       "\n",
       "       trafficSource.adwordsClickInfo.isVideoAd trafficSource.referralPath  \\\n",
       "0                                           NaN                        NaN   \n",
       "1                                           NaN                        NaN   \n",
       "2                                           NaN                        NaN   \n",
       "3                                           NaN                        NaN   \n",
       "4                                           NaN                        NaN   \n",
       "...                                         ...                        ...   \n",
       "804679                                      NaN         /intl/en/yt/about/   \n",
       "804680                                      NaN  /yt/lineups/es/index.html   \n",
       "804681                                      NaN                          /   \n",
       "804682                                      NaN        /yt/about/policies/   \n",
       "804683                                      NaN    /yt/music/ru/index.html   \n",
       "\n",
       "       trafficSource.adContent  \n",
       "0                          NaN  \n",
       "1                          NaN  \n",
       "2                          NaN  \n",
       "3                          NaN  \n",
       "4                          NaN  \n",
       "...                        ...  \n",
       "804679                     NaN  \n",
       "804680                     NaN  \n",
       "804681                     NaN  \n",
       "804682                     NaN  \n",
       "804683                     NaN  \n",
       "\n",
       "[804684 rows x 33 columns]"
      ]
     },
     "execution_count": 64,
     "metadata": {},
     "output_type": "execute_result"
    }
   ],
   "source": [
    "from sklearn.model_selection import train_test_split\n"
   ]
  },
  {
   "cell_type": "code",
   "execution_count": 43,
   "id": "32d2c9c2",
   "metadata": {},
   "outputs": [],
   "source": [
    "import lightgbm as lgb\n",
    "from sklearn.model_selection import KFold"
   ]
  },
  {
   "cell_type": "code",
   "execution_count": 44,
   "id": "e0be5472",
   "metadata": {},
   "outputs": [],
   "source": [
    "\n",
    "\n",
    "lgb_clf = lgb.LGBMRegressor(learning_rate=0.05, n_estimators=1000, min_child_weight=np.power(10.0, 2), metric='rmse', \n",
    "                             num_leaves=128, reg_alpha=np.power(10.0, -3.2454), reg_lambda = np.power(10.0, -4.8571), silent=True, n_jobs=-1,\n",
    "                             colsample_bytree =  0.6810, min_child_samples = 95,  subsample = 0.2217, min_split_gain=np.power(10.0, -4.9380))\n",
    "\n"
   ]
  },
  {
   "cell_type": "code",
   "execution_count": 67,
   "id": "ff2e005b",
   "metadata": {},
   "outputs": [
    {
     "ename": "TypeError",
     "evalue": "fit() got an unexpected keyword argument 'early_stopping_rounds'",
     "output_type": "error",
     "traceback": [
      "\u001b[1;31m---------------------------------------------------------------------------\u001b[0m",
      "\u001b[1;31mTypeError\u001b[0m                                 Traceback (most recent call last)",
      "\u001b[1;32m~\\AppData\\Local\\Temp\\ipykernel_27572\\3272844236.py\u001b[0m in \u001b[0;36m<module>\u001b[1;34m\u001b[0m\n\u001b[0;32m     10\u001b[0m \u001b[1;33m\u001b[0m\u001b[0m\n\u001b[0;32m     11\u001b[0m \u001b[1;31m# Train the model on the training set\u001b[0m\u001b[1;33m\u001b[0m\u001b[1;33m\u001b[0m\u001b[0m\n\u001b[1;32m---> 12\u001b[1;33m \u001b[0mlgb_clf\u001b[0m\u001b[1;33m.\u001b[0m\u001b[0mfit\u001b[0m\u001b[1;33m(\u001b[0m\u001b[0mX_train\u001b[0m\u001b[1;33m,\u001b[0m \u001b[0my_train\u001b[0m\u001b[1;33m,\u001b[0m \u001b[0meval_set\u001b[0m\u001b[1;33m=\u001b[0m\u001b[1;33m[\u001b[0m\u001b[1;33m(\u001b[0m\u001b[0mX_test\u001b[0m\u001b[1;33m,\u001b[0m \u001b[0my_test\u001b[0m\u001b[1;33m)\u001b[0m\u001b[1;33m]\u001b[0m\u001b[1;33m,\u001b[0m \u001b[0mearly_stopping_rounds\u001b[0m\u001b[1;33m=\u001b[0m\u001b[1;36m400\u001b[0m\u001b[1;33m,\u001b[0m \u001b[0mverbose\u001b[0m\u001b[1;33m=\u001b[0m\u001b[1;36m200\u001b[0m\u001b[1;33m,\u001b[0m \u001b[0meval_metric\u001b[0m\u001b[1;33m=\u001b[0m\u001b[1;34m'rmse'\u001b[0m\u001b[1;33m)\u001b[0m\u001b[1;33m\u001b[0m\u001b[1;33m\u001b[0m\u001b[0m\n\u001b[0m\u001b[0;32m     13\u001b[0m \u001b[1;33m\u001b[0m\u001b[0m\n\u001b[0;32m     14\u001b[0m \u001b[1;31m# # Make predictions on the test set\u001b[0m\u001b[1;33m\u001b[0m\u001b[1;33m\u001b[0m\u001b[0m\n",
      "\u001b[1;31mTypeError\u001b[0m: fit() got an unexpected keyword argument 'early_stopping_rounds'"
     ]
    }
   ],
   "source": [
    "from sklearn.model_selection import train_test_split\n",
    "from sklearn.metrics import mean_squared_error\n",
    "import lightgbm as lgb\n",
    "\n",
    "# Split your data into training and testing sets\n",
    "X_train, X_test, y_train, y_test = train_test_split(train1, train1_y, test_size=0.2, random_state=42)\n",
    "\n",
    "# Initialize your LightGBM classifier\n",
    "lgb_clf = lgb.LGBMRegressor()\n",
    "\n",
    "# Train the model on the training set\n",
    "lgb_clf.fit(X_train, y_train, eval_set=[(X_test, y_test)], early_stopping_rounds=400, verbose=200, eval_metric='rmse')\n",
    "\n",
    "# # Make predictions on the test set\n",
    "# y_test_pred = lgb_clf.predict(X_test)\n",
    "\n",
    "# # Modify the values that are below zero\n",
    "# y_test_pred[y_test_pred < 0] = 0\n",
    "\n",
    "# # Calculate and print the mean squared error on the test set\n",
    "# test_result = mean_squared_error(y_true=y_test, y_pred=y_test_pred)\n",
    "# print(f\"Mean Squared Error on Test Set: {test_result}\")\n",
    "\n",
    "# # Make predictions on the prediction set (X_pred)\n",
    "# y_pred = lgb_clf.predict(X_pred, num_iteration=lgb_clf.best_iteration_)\n",
    "\n",
    "# # Modify the values that are below zero\n",
    "# y_pred[y_pred < 0] = 0\n",
    "\n",
    "# # Store the predictions in the predicts_result list\n",
    "# predicts_result.append(y_pred)\n"
   ]
  },
  {
   "cell_type": "code",
   "execution_count": 71,
   "id": "15e90c89",
   "metadata": {},
   "outputs": [
    {
     "name": "stdout",
     "output_type": "stream",
     "text": [
      "<class 'pandas.core.frame.DataFrame'>\n",
      "RangeIndex: 903653 entries, 0 to 903652\n",
      "Columns: 203 entries, visitNumber to geoNetwork.metro_Yorkshire\n",
      "dtypes: bool(196), int64(5), object(2)\n",
      "memory usage: 217.2+ MB\n"
     ]
    }
   ],
   "source": [
    "train1.info()"
   ]
  },
  {
   "cell_type": "code",
   "execution_count": 113,
   "id": "5a171590",
   "metadata": {},
   "outputs": [
    {
     "name": "stdout",
     "output_type": "stream",
     "text": [
      "visitNumber                                       int64\n",
      "geoNetwork.country                                int64\n",
      "geoNetwork.region                                 int64\n",
      "geoNetwork.city                                   int64\n",
      "geoNetwork.networkDomain                          int64\n",
      "                                                  ...  \n",
      "geoNetwork.metro_Tulsa OK                          bool\n",
      "geoNetwork.metro_Utica NY                          bool\n",
      "geoNetwork.metro_Washington DC (Hagerstown MD)     bool\n",
      "geoNetwork.metro_Wheeling WV-Steubenville OH       bool\n",
      "geoNetwork.metro_Yorkshire                         bool\n",
      "Length: 204, dtype: object\n"
     ]
    }
   ],
   "source": [
    "import pandas as pd\n",
    "df=train1\n",
    "# Assuming df is your DataFrame\n",
    "df['totals.hits'] = pd.to_numeric(df['totals.hits'], errors='coerce')\n",
    "df['totals.pageviews'] = pd.to_numeric(df['totals.pageviews'], errors='coerce')\n",
    "\n",
    "# Now check the data types again\n",
    "print(df.dtypes)\n",
    "train1=df"
   ]
  },
  {
   "cell_type": "code",
   "execution_count": 93,
   "id": "575b35a9",
   "metadata": {},
   "outputs": [
    {
     "name": "stdout",
     "output_type": "stream",
     "text": [
      "<class 'pandas.core.frame.DataFrame'>\n",
      "RangeIndex: 903653 entries, 0 to 903652\n",
      "Columns: 203 entries, visitNumber to geoNetworkmetro_Yorkshire\n",
      "dtypes: bool(196), float64(1), int64(6)\n",
      "memory usage: 217.2 MB\n"
     ]
    }
   ],
   "source": [
    "df.info()"
   ]
  },
  {
   "cell_type": "code",
   "execution_count": null,
   "id": "3aab817a",
   "metadata": {},
   "outputs": [],
   "source": [
    "import pandas as pd\n",
    "\n",
    "# Assuming df is your DataFrame\n",
    "nan_values_count = df.isna().sum()\n",
    "\n",
    "print(\"Number of NaN values in each column:\")\n",
    "print(nan_values_count)"
   ]
  },
  {
   "cell_type": "code",
   "execution_count": 121,
   "id": "8dcdb5ed",
   "metadata": {},
   "outputs": [],
   "source": [
    "# Log-transform the target variable\n",
    "df_y = np.log1p(train1_y)"
   ]
  },
  {
   "cell_type": "code",
   "execution_count": 122,
   "id": "5cfa7fe7",
   "metadata": {},
   "outputs": [
    {
     "data": {
      "text/plain": [
       "count    11515.000000\n",
       "mean        17.823362\n",
       "std          1.202494\n",
       "min          9.210440\n",
       "25%         17.031582\n",
       "50%         17.716473\n",
       "75%         18.494442\n",
       "max         23.864375\n",
       "Name: totals.transactionRevenue, dtype: float64"
      ]
     },
     "execution_count": 122,
     "metadata": {},
     "output_type": "execute_result"
    }
   ],
   "source": [
    "df_y.describe()"
   ]
  },
  {
   "cell_type": "code",
   "execution_count": null,
   "id": "fa35ff9b",
   "metadata": {},
   "outputs": [],
   "source": []
  },
  {
   "cell_type": "code",
   "execution_count": 117,
   "id": "497ac9d1",
   "metadata": {},
   "outputs": [
    {
     "name": "stderr",
     "output_type": "stream",
     "text": [
      "C:\\Users\\Manoj Kumar\\anaconda3\\lib\\site-packages\\lightgbm\\engine.py:172: UserWarning:\n",
      "\n",
      "Found `n_estimators` in params. Will use it instead of argument\n",
      "\n"
     ]
    },
    {
     "name": "stdout",
     "output_type": "stream",
     "text": [
      "[LightGBM] [Warning] Auto-choosing row-wise multi-threading, the overhead of testing was 0.000989 seconds.\n",
      "You can set `force_row_wise=true` to remove the overhead.\n",
      "And if memory is not enough, you can set `force_col_wise=true`.\n",
      "[LightGBM] [Info] Total Bins 757\n",
      "[LightGBM] [Info] Number of data points in the train set: 9212, number of used features: 47\n",
      "[LightGBM] [Info] Start training from score 17.821553\n"
     ]
    },
    {
     "name": "stderr",
     "output_type": "stream",
     "text": [
      "C:\\Users\\Manoj Kumar\\anaconda3\\lib\\site-packages\\sklearn\\utils\\validation.py:605: FutureWarning:\n",
      "\n",
      "is_sparse is deprecated and will be removed in a future version. Check `isinstance(dtype, pd.SparseDtype)` instead.\n",
      "\n",
      "C:\\Users\\Manoj Kumar\\anaconda3\\lib\\site-packages\\sklearn\\utils\\validation.py:614: FutureWarning:\n",
      "\n",
      "is_sparse is deprecated and will be removed in a future version. Check `isinstance(dtype, pd.SparseDtype)` instead.\n",
      "\n",
      "C:\\Users\\Manoj Kumar\\anaconda3\\lib\\site-packages\\sklearn\\utils\\validation.py:605: FutureWarning:\n",
      "\n",
      "is_sparse is deprecated and will be removed in a future version. Check `isinstance(dtype, pd.SparseDtype)` instead.\n",
      "\n",
      "C:\\Users\\Manoj Kumar\\anaconda3\\lib\\site-packages\\sklearn\\utils\\validation.py:614: FutureWarning:\n",
      "\n",
      "is_sparse is deprecated and will be removed in a future version. Check `isinstance(dtype, pd.SparseDtype)` instead.\n",
      "\n",
      "C:\\Users\\Manoj Kumar\\anaconda3\\lib\\site-packages\\lightgbm\\engine.py:172: UserWarning:\n",
      "\n",
      "Found `n_estimators` in params. Will use it instead of argument\n",
      "\n"
     ]
    },
    {
     "name": "stdout",
     "output_type": "stream",
     "text": [
      "Fold 1 RMSE: 0.8852, R2 Score: 0.0702\n",
      "[LightGBM] [Warning] Auto-choosing row-wise multi-threading, the overhead of testing was 0.000558 seconds.\n",
      "You can set `force_row_wise=true` to remove the overhead.\n",
      "And if memory is not enough, you can set `force_col_wise=true`.\n",
      "[LightGBM] [Info] Total Bins 757\n",
      "[LightGBM] [Info] Number of data points in the train set: 9212, number of used features: 48\n",
      "[LightGBM] [Info] Start training from score 17.827127\n"
     ]
    },
    {
     "name": "stderr",
     "output_type": "stream",
     "text": [
      "C:\\Users\\Manoj Kumar\\anaconda3\\lib\\site-packages\\sklearn\\utils\\validation.py:605: FutureWarning:\n",
      "\n",
      "is_sparse is deprecated and will be removed in a future version. Check `isinstance(dtype, pd.SparseDtype)` instead.\n",
      "\n",
      "C:\\Users\\Manoj Kumar\\anaconda3\\lib\\site-packages\\sklearn\\utils\\validation.py:614: FutureWarning:\n",
      "\n",
      "is_sparse is deprecated and will be removed in a future version. Check `isinstance(dtype, pd.SparseDtype)` instead.\n",
      "\n",
      "C:\\Users\\Manoj Kumar\\anaconda3\\lib\\site-packages\\sklearn\\utils\\validation.py:605: FutureWarning:\n",
      "\n",
      "is_sparse is deprecated and will be removed in a future version. Check `isinstance(dtype, pd.SparseDtype)` instead.\n",
      "\n",
      "C:\\Users\\Manoj Kumar\\anaconda3\\lib\\site-packages\\sklearn\\utils\\validation.py:614: FutureWarning:\n",
      "\n",
      "is_sparse is deprecated and will be removed in a future version. Check `isinstance(dtype, pd.SparseDtype)` instead.\n",
      "\n",
      "C:\\Users\\Manoj Kumar\\anaconda3\\lib\\site-packages\\lightgbm\\engine.py:172: UserWarning:\n",
      "\n",
      "Found `n_estimators` in params. Will use it instead of argument\n",
      "\n"
     ]
    },
    {
     "name": "stdout",
     "output_type": "stream",
     "text": [
      "Fold 2 RMSE: 0.8704, R2 Score: 0.1313\n",
      "[LightGBM] [Warning] Auto-choosing row-wise multi-threading, the overhead of testing was 0.000953 seconds.\n",
      "You can set `force_row_wise=true` to remove the overhead.\n",
      "And if memory is not enough, you can set `force_col_wise=true`.\n",
      "[LightGBM] [Info] Total Bins 771\n",
      "[LightGBM] [Info] Number of data points in the train set: 9212, number of used features: 48\n",
      "[LightGBM] [Info] Start training from score 17.829130\n"
     ]
    },
    {
     "name": "stderr",
     "output_type": "stream",
     "text": [
      "C:\\Users\\Manoj Kumar\\anaconda3\\lib\\site-packages\\sklearn\\utils\\validation.py:605: FutureWarning:\n",
      "\n",
      "is_sparse is deprecated and will be removed in a future version. Check `isinstance(dtype, pd.SparseDtype)` instead.\n",
      "\n",
      "C:\\Users\\Manoj Kumar\\anaconda3\\lib\\site-packages\\sklearn\\utils\\validation.py:614: FutureWarning:\n",
      "\n",
      "is_sparse is deprecated and will be removed in a future version. Check `isinstance(dtype, pd.SparseDtype)` instead.\n",
      "\n",
      "C:\\Users\\Manoj Kumar\\anaconda3\\lib\\site-packages\\sklearn\\utils\\validation.py:605: FutureWarning:\n",
      "\n",
      "is_sparse is deprecated and will be removed in a future version. Check `isinstance(dtype, pd.SparseDtype)` instead.\n",
      "\n",
      "C:\\Users\\Manoj Kumar\\anaconda3\\lib\\site-packages\\sklearn\\utils\\validation.py:614: FutureWarning:\n",
      "\n",
      "is_sparse is deprecated and will be removed in a future version. Check `isinstance(dtype, pd.SparseDtype)` instead.\n",
      "\n",
      "C:\\Users\\Manoj Kumar\\anaconda3\\lib\\site-packages\\lightgbm\\engine.py:172: UserWarning:\n",
      "\n",
      "Found `n_estimators` in params. Will use it instead of argument\n",
      "\n"
     ]
    },
    {
     "name": "stdout",
     "output_type": "stream",
     "text": [
      "Fold 3 RMSE: 0.8543, R2 Score: 0.0830\n",
      "[LightGBM] [Warning] Auto-choosing row-wise multi-threading, the overhead of testing was 0.000490 seconds.\n",
      "You can set `force_row_wise=true` to remove the overhead.\n",
      "And if memory is not enough, you can set `force_col_wise=true`.\n",
      "[LightGBM] [Info] Total Bins 766\n",
      "[LightGBM] [Info] Number of data points in the train set: 9212, number of used features: 48\n",
      "[LightGBM] [Info] Start training from score 17.820649\n"
     ]
    },
    {
     "name": "stderr",
     "output_type": "stream",
     "text": [
      "C:\\Users\\Manoj Kumar\\anaconda3\\lib\\site-packages\\sklearn\\utils\\validation.py:605: FutureWarning:\n",
      "\n",
      "is_sparse is deprecated and will be removed in a future version. Check `isinstance(dtype, pd.SparseDtype)` instead.\n",
      "\n",
      "C:\\Users\\Manoj Kumar\\anaconda3\\lib\\site-packages\\sklearn\\utils\\validation.py:614: FutureWarning:\n",
      "\n",
      "is_sparse is deprecated and will be removed in a future version. Check `isinstance(dtype, pd.SparseDtype)` instead.\n",
      "\n",
      "C:\\Users\\Manoj Kumar\\anaconda3\\lib\\site-packages\\sklearn\\utils\\validation.py:605: FutureWarning:\n",
      "\n",
      "is_sparse is deprecated and will be removed in a future version. Check `isinstance(dtype, pd.SparseDtype)` instead.\n",
      "\n",
      "C:\\Users\\Manoj Kumar\\anaconda3\\lib\\site-packages\\sklearn\\utils\\validation.py:614: FutureWarning:\n",
      "\n",
      "is_sparse is deprecated and will be removed in a future version. Check `isinstance(dtype, pd.SparseDtype)` instead.\n",
      "\n",
      "C:\\Users\\Manoj Kumar\\anaconda3\\lib\\site-packages\\lightgbm\\engine.py:172: UserWarning:\n",
      "\n",
      "Found `n_estimators` in params. Will use it instead of argument\n",
      "\n"
     ]
    },
    {
     "name": "stdout",
     "output_type": "stream",
     "text": [
      "Fold 4 RMSE: 0.8823, R2 Score: 0.0707\n",
      "[LightGBM] [Warning] Auto-choosing row-wise multi-threading, the overhead of testing was 0.000447 seconds.\n",
      "You can set `force_row_wise=true` to remove the overhead.\n",
      "And if memory is not enough, you can set `force_col_wise=true`.\n",
      "[LightGBM] [Info] Total Bins 773\n",
      "[LightGBM] [Info] Number of data points in the train set: 9212, number of used features: 49\n",
      "[LightGBM] [Info] Start training from score 17.818353\n",
      "Fold 5 RMSE: 0.8861, R2 Score: 0.1070\n"
     ]
    },
    {
     "name": "stderr",
     "output_type": "stream",
     "text": [
      "C:\\Users\\Manoj Kumar\\anaconda3\\lib\\site-packages\\sklearn\\utils\\validation.py:605: FutureWarning:\n",
      "\n",
      "is_sparse is deprecated and will be removed in a future version. Check `isinstance(dtype, pd.SparseDtype)` instead.\n",
      "\n",
      "C:\\Users\\Manoj Kumar\\anaconda3\\lib\\site-packages\\sklearn\\utils\\validation.py:614: FutureWarning:\n",
      "\n",
      "is_sparse is deprecated and will be removed in a future version. Check `isinstance(dtype, pd.SparseDtype)` instead.\n",
      "\n",
      "C:\\Users\\Manoj Kumar\\anaconda3\\lib\\site-packages\\sklearn\\utils\\validation.py:605: FutureWarning:\n",
      "\n",
      "is_sparse is deprecated and will be removed in a future version. Check `isinstance(dtype, pd.SparseDtype)` instead.\n",
      "\n",
      "C:\\Users\\Manoj Kumar\\anaconda3\\lib\\site-packages\\sklearn\\utils\\validation.py:614: FutureWarning:\n",
      "\n",
      "is_sparse is deprecated and will be removed in a future version. Check `isinstance(dtype, pd.SparseDtype)` instead.\n",
      "\n"
     ]
    }
   ],
   "source": [
    "import lightgbm as lgb\n",
    "from sklearn.model_selection import KFold\n",
    "from sklearn.metrics import mean_absolute_error, r2_score\n",
    "import numpy as np\n",
    "# Clean feature names\n",
    "train1.columns = [re.sub('[^a-zA-Z0-9_]', '', col) for col in train1.columns]\n",
    "# Load the data\n",
    "X =train1  # Your training data features\n",
    "y =train1_y# Your target variable\n",
    "\n",
    "# Take the logarithm of the target variable\n",
    "y_log = np.log1p(y)\n",
    "\n",
    "# Create a LightGBM dataset\n",
    "train_data = lgb.Dataset(X, label=y_log)\n",
    "\n",
    "# Specify the parameters for the LightGBM model\n",
    "params = {\n",
    "    'objective': 'regression',\n",
    "    'metric': 'rmse',\n",
    "    'num_leaves': 31,\n",
    "    'learning_rate': 0.1,\n",
    "    'n_estimators': 1000,\n",
    "}\n",
    "\n",
    "# Perform K-fold cross-validation without early stopping\n",
    "cv = KFold(n_splits=5, shuffle=True, random_state=42)\n",
    "\n",
    "for fold, (train_index, val_index) in enumerate(cv.split(X, y_log)):\n",
    "    X_train, X_val = X.iloc[train_index], X.iloc[val_index]\n",
    "    y_train, y_val = y_log.iloc[train_index], y_log.iloc[val_index]\n",
    "\n",
    "    train_set = lgb.Dataset(X_train, label=y_train)\n",
    "    val_set = lgb.Dataset(X_val, label=y_val)\n",
    "\n",
    "    # Initialize the model without early stopping\n",
    "    model = lgb.train(params, train_set, num_boost_round=1000)\n",
    "\n",
    "    # Evaluate the model on the validation set\n",
    "    preds_log = model.predict(X_val)\n",
    "    rmse = mean_absolute_error(y_val, preds_log)\n",
    "    r2 = r2_score(y_val, preds_log)\n",
    "\n",
    "    # Convert predictions back to the original scale\n",
    "    preds = np.expm1(preds_log)\n",
    "\n",
    "    print('Fold {} RMSE: {:.4f}, R2 Score: {:.4f}'.format(fold + 1, rmse, r2))\n"
   ]
  },
  {
   "cell_type": "code",
   "execution_count": 90,
   "id": "3d3d5d67",
   "metadata": {},
   "outputs": [],
   "source": []
  },
  {
   "cell_type": "code",
   "execution_count": 82,
   "id": "ed209989",
   "metadata": {},
   "outputs": [],
   "source": []
  },
  {
   "cell_type": "code",
   "execution_count": 83,
   "id": "f0646b8f",
   "metadata": {},
   "outputs": [],
   "source": []
  },
  {
   "cell_type": "code",
   "execution_count": 84,
   "id": "ed13e035",
   "metadata": {},
   "outputs": [],
   "source": []
  },
  {
   "cell_type": "code",
   "execution_count": 88,
   "id": "42bee0f0",
   "metadata": {},
   "outputs": [
    {
     "ename": "TypeError",
     "evalue": "train() got an unexpected keyword argument 'early_stopping_rounds'",
     "output_type": "error",
     "traceback": [
      "\u001b[1;31m---------------------------------------------------------------------------\u001b[0m",
      "\u001b[1;31mTypeError\u001b[0m                                 Traceback (most recent call last)",
      "\u001b[1;32m~\\AppData\\Local\\Temp\\ipykernel_27572\\8090261.py\u001b[0m in \u001b[0;36m<module>\u001b[1;34m\u001b[0m\n\u001b[0;32m     30\u001b[0m \u001b[1;33m\u001b[0m\u001b[0m\n\u001b[0;32m     31\u001b[0m     \u001b[1;31m# Initialize the model with early stopping\u001b[0m\u001b[1;33m\u001b[0m\u001b[1;33m\u001b[0m\u001b[0m\n\u001b[1;32m---> 32\u001b[1;33m     \u001b[0mmodel\u001b[0m \u001b[1;33m=\u001b[0m \u001b[0mlgb\u001b[0m\u001b[1;33m.\u001b[0m\u001b[0mtrain\u001b[0m\u001b[1;33m(\u001b[0m\u001b[0mparams\u001b[0m\u001b[1;33m,\u001b[0m \u001b[0mtrain_set\u001b[0m\u001b[1;33m,\u001b[0m \u001b[0mnum_boost_round\u001b[0m\u001b[1;33m=\u001b[0m\u001b[1;36m1000\u001b[0m\u001b[1;33m,\u001b[0m \u001b[0mearly_stopping_rounds\u001b[0m\u001b[1;33m=\u001b[0m\u001b[1;36m10\u001b[0m\u001b[1;33m,\u001b[0m \u001b[0mvalid_sets\u001b[0m\u001b[1;33m=\u001b[0m\u001b[1;33m[\u001b[0m\u001b[0mval_set\u001b[0m\u001b[1;33m]\u001b[0m\u001b[1;33m)\u001b[0m\u001b[1;33m\u001b[0m\u001b[1;33m\u001b[0m\u001b[0m\n\u001b[0m\u001b[0;32m     33\u001b[0m \u001b[1;33m\u001b[0m\u001b[0m\n\u001b[0;32m     34\u001b[0m     \u001b[1;31m# Evaluate the model using the best boosting iteration\u001b[0m\u001b[1;33m\u001b[0m\u001b[1;33m\u001b[0m\u001b[0m\n",
      "\u001b[1;31mTypeError\u001b[0m: train() got an unexpected keyword argument 'early_stopping_rounds'"
     ]
    }
   ],
   "source": []
  },
  {
   "cell_type": "code",
   "execution_count": null,
   "id": "4ec164c0",
   "metadata": {},
   "outputs": [],
   "source": []
  },
  {
   "cell_type": "code",
   "execution_count": null,
   "id": "8c5be7a4",
   "metadata": {},
   "outputs": [],
   "source": [
    "\n",
    "\n"
   ]
  },
  {
   "cell_type": "code",
   "execution_count": null,
   "id": "d7f4e55b",
   "metadata": {},
   "outputs": [],
   "source": []
  },
  {
   "cell_type": "code",
   "execution_count": null,
   "id": "9d7cf9d4",
   "metadata": {},
   "outputs": [],
   "source": []
  },
  {
   "cell_type": "code",
   "execution_count": null,
   "id": "a4551797",
   "metadata": {},
   "outputs": [],
   "source": []
  },
  {
   "cell_type": "code",
   "execution_count": null,
   "id": "b920e9aa",
   "metadata": {},
   "outputs": [],
   "source": []
  },
  {
   "cell_type": "code",
   "execution_count": null,
   "id": "b1af39f0",
   "metadata": {},
   "outputs": [],
   "source": []
  },
  {
   "cell_type": "code",
   "execution_count": null,
   "id": "ccf1e174",
   "metadata": {},
   "outputs": [],
   "source": []
  },
  {
   "cell_type": "code",
   "execution_count": 54,
   "id": "ab6913f6",
   "metadata": {},
   "outputs": [
    {
     "name": "stderr",
     "output_type": "stream",
     "text": [
      "C:\\Users\\Manoj Kumar\\AppData\\Local\\Temp\\ipykernel_15328\\2971167386.py:1: SettingWithCopyWarning:\n",
      "\n",
      "\n",
      "A value is trying to be set on a copy of a slice from a DataFrame.\n",
      "Try using .loc[row_indexer,col_indexer] = value instead\n",
      "\n",
      "See the caveats in the documentation: https://pandas.pydata.org/pandas-docs/stable/user_guide/indexing.html#returning-a-view-versus-a-copy\n",
      "\n",
      "C:\\Users\\Manoj Kumar\\AppData\\Local\\Temp\\ipykernel_15328\\2971167386.py:2: SettingWithCopyWarning:\n",
      "\n",
      "\n",
      "A value is trying to be set on a copy of a slice from a DataFrame.\n",
      "Try using .loc[row_indexer,col_indexer] = value instead\n",
      "\n",
      "See the caveats in the documentation: https://pandas.pydata.org/pandas-docs/stable/user_guide/indexing.html#returning-a-view-versus-a-copy\n",
      "\n"
     ]
    }
   ],
   "source": [
    "\n",
    "X_train['new_col'] = (X_train['totals.transactionRevenue'] != 0).astype(int)\n",
    "X_val['new_col'] = (X_val['totals.transactionRevenue'] != 0).astype(int)\n",
    "y_val=X_val['new_col']\n",
    "y_train=X_train['new_col']\n",
    "X_val = X_val.drop(['totals.transactionRevenue'], axis=1)\n",
    "X_train = X_train.drop(['totals.transactionRevenue'], axis=1)"
   ]
  },
  {
   "cell_type": "code",
   "execution_count": 55,
   "id": "c8783d4e",
   "metadata": {},
   "outputs": [],
   "source": [
    "reduce_features = ['date']\n",
    "X_train = X_train.drop(reduce_features, axis=1)\n",
    "X_val = X_val.drop(reduce_features, axis=1)\n"
   ]
  },
  {
   "cell_type": "code",
   "execution_count": null,
   "id": "900414a3",
   "metadata": {},
   "outputs": [],
   "source": [
    "X_train"
   ]
  },
  {
   "cell_type": "code",
   "execution_count": null,
   "id": "a12c4999",
   "metadata": {},
   "outputs": [],
   "source": [
    "k1=X_train\n",
    "k2=X_val"
   ]
  },
  {
   "cell_type": "code",
   "execution_count": null,
   "id": "426c1386",
   "metadata": {},
   "outputs": [],
   "source": [
    "num_cols = ['fullVisitorId',\"totals.hits\", \"totals.pageviews\"]    \n",
    "for col in num_cols:\n",
    "    k1[col] = k1[col].astype(int)\n",
    "    k2[col] = k2[col].astype(int)"
   ]
  },
  {
   "cell_type": "code",
   "execution_count": null,
   "id": "ed637061",
   "metadata": {},
   "outputs": [],
   "source": [
    "k1.info()"
   ]
  },
  {
   "cell_type": "code",
   "execution_count": null,
   "id": "37bf1a23",
   "metadata": {},
   "outputs": [],
   "source": [
    "X_train=k1\n",
    "X_val=k2"
   ]
  },
  {
   "cell_type": "code",
   "execution_count": null,
   "id": "ab1c574f",
   "metadata": {},
   "outputs": [],
   "source": [
    "X_train.info()"
   ]
  },
  {
   "cell_type": "code",
   "execution_count": null,
   "id": "0b3565c4",
   "metadata": {},
   "outputs": [],
   "source": [
    "# Assuming your DataFrame is named df\n",
    "object_columns = X_train.select_dtypes(include=['object'])\n",
    "\n",
    "# 'object_columns' will now contain all columns of type 'object'\n",
    "print(object_columns)\n",
    "k1['totals.hits'] = pd.to_numeric(k1['totals.hits'], errors='coerce')\n",
    "k1['totals.pageviews'] = pd.to_numeric(k1['totals.hits'], errors='coerce')\n",
    "k1.info()\n",
    "k1=k1.drop('fullVisitorId',axis=1)"
   ]
  },
  {
   "cell_type": "code",
   "execution_count": null,
   "id": "c8d378d9",
   "metadata": {},
   "outputs": [],
   "source": [
    "X_train=k1\n",
    "X_train.info()"
   ]
  },
  {
   "cell_type": "code",
   "execution_count": null,
   "id": "9d1bdcf7",
   "metadata": {},
   "outputs": [],
   "source": [
    "X_train"
   ]
  },
  {
   "cell_type": "code",
   "execution_count": null,
   "id": "82097a77",
   "metadata": {},
   "outputs": [],
   "source": [
    "y_train.value_counts()"
   ]
  },
  {
   "cell_type": "code",
   "execution_count": null,
   "id": "1702231d",
   "metadata": {},
   "outputs": [],
   "source": [
    "X_val=X_val.drop('fullVisitorId',axis=1)"
   ]
  },
  {
   "cell_type": "code",
   "execution_count": null,
   "id": "987b131c",
   "metadata": {},
   "outputs": [],
   "source": [
    "# Import necessary libraries\n",
    "from sklearn.ensemble import RandomForestClassifier\n",
    "from sklearn.model_selection import train_test_split\n",
    "from sklearn.metrics import accuracy_score\n",
    "\n",
    "\n",
    "\n",
    "# Create a Random Forest classifier\n",
    "# You can adjust hyperparameters like 'n_estimators', 'max_depth', and others\n",
    "rf_classifier = RandomForestClassifier(n_estimators=100, max_depth=10, random_state=42)\n",
    "\n",
    "# Train the Random Forest model on the training data\n",
    "rf_classifier.fit(X_train, y_train)\n",
    "\n"
   ]
  },
  {
   "cell_type": "code",
   "execution_count": null,
   "id": "0fb2bf93",
   "metadata": {},
   "outputs": [],
   "source": [
    "# Make predictions on the test data\n",
    "y_pred = rf_classifier.predict(X_val)\n",
    "\n",
    "# Evaluate the model's performance\n",
    "accuracy = accuracy_score(y_val, y_pred)\n",
    "print(f\"Accuracy: {accuracy}\")\n"
   ]
  },
  {
   "cell_type": "code",
   "execution_count": null,
   "id": "d98e9103",
   "metadata": {},
   "outputs": [],
   "source": [
    "from sklearn.metrics import confusion_matrix\n",
    "cm = confusion_matrix(y_val, y_pred)\n",
    "cm"
   ]
  },
  {
   "cell_type": "code",
   "execution_count": null,
   "id": "cd3d3ffe",
   "metadata": {},
   "outputs": [],
   "source": [
    "from sklearn.metrics import f1_score\n",
    "f1=f1_score(y_val,y_pred)\n",
    "f1"
   ]
  },
  {
   "cell_type": "code",
   "execution_count": null,
   "id": "c15eddec",
   "metadata": {},
   "outputs": [],
   "source": [
    "from sklearn.metrics import recall_score\n",
    "recall=recall_score(y_val,y_pred)\n",
    "recall"
   ]
  },
  {
   "cell_type": "code",
   "execution_count": null,
   "id": "ed6204f4",
   "metadata": {},
   "outputs": [],
   "source": [
    "from joblib import dump\n",
    "\n",
    "# Assuming you have a trained model 'rf_classifier'\n",
    "dump(rf_classifier, 'random_forest_model.joblib')"
   ]
  },
  {
   "cell_type": "code",
   "execution_count": null,
   "id": "48c1c6fb",
   "metadata": {},
   "outputs": [],
   "source": [
    "from joblib import load\n",
    "\n",
    "loaded_rf_model = load('random_forest_model.joblib')\n",
    "\n",
    "# # Now you can use 'loaded_rf_model' to make predictions\n",
    "# y_pred = loaded_rf_model.predict(X_val)"
   ]
  },
  {
   "cell_type": "code",
   "execution_count": null,
   "id": "e3ad480c",
   "metadata": {},
   "outputs": [],
   "source": [
    "#till here i wanted to predict that any customer that comes to store will transict or not "
   ]
  },
  {
   "cell_type": "code",
   "execution_count": 132,
   "id": "b2e1f052",
   "metadata": {},
   "outputs": [
    {
     "name": "stdout",
     "output_type": "stream",
     "text": [
      "  date_column  month category\n",
      "0  2023-01-15      1        A\n",
      "1  2023-11-07     11        A\n",
      "2  2023-07-22      7        C\n",
      "3  2023-10-01     10        D\n"
     ]
    }
   ],
   "source": [
    "import pandas as pd\n",
    "\n",
    "data = {'date_column': ['2023-01-15', '2023-11-07', '2023-07-22', '2023-10-01']}\n",
    "df = pd.DataFrame(data)\n",
    "\n",
    "# Converting 'date_column' to datetime format\n",
    "df['date_column'] = pd.to_datetime(df['date_column'])\n",
    "df['month']=pd.to_datetime(df['date_column']).dt.month\n",
    "\n",
    "\n",
    "# Create a function to map months to categories\n",
    "def categorize_month(month):\n",
    "    if month in [11, 12, 1]:\n",
    "        return 'A'\n",
    "    elif month in [2, 3, 4]:\n",
    "        return 'B'\n",
    "    elif month in [5, 6, 7]:\n",
    "        return 'C'\n",
    "    elif month in [8, 9, 10]:\n",
    "        return 'D'\n",
    "\n",
    "# Apply the function to create the 'category' column\n",
    "df['category'] = df['month'].apply(categorize_month)\n",
    "\n",
    "# Display the resulting DataFrame\n",
    "print(df)\n"
   ]
  },
  {
   "cell_type": "code",
   "execution_count": null,
   "id": "3006472d",
   "metadata": {},
   "outputs": [],
   "source": []
  },
  {
   "cell_type": "code",
   "execution_count": null,
   "id": "a6c8203c",
   "metadata": {},
   "outputs": [],
   "source": []
  },
  {
   "cell_type": "code",
   "execution_count": null,
   "id": "87d320d4",
   "metadata": {},
   "outputs": [],
   "source": []
  },
  {
   "cell_type": "code",
   "execution_count": null,
   "id": "c6ac6b89",
   "metadata": {},
   "outputs": [],
   "source": []
  },
  {
   "cell_type": "code",
   "execution_count": null,
   "id": "f077a057",
   "metadata": {},
   "outputs": [],
   "source": []
  },
  {
   "cell_type": "code",
   "execution_count": null,
   "id": "4abc259c",
   "metadata": {},
   "outputs": [],
   "source": []
  },
  {
   "cell_type": "code",
   "execution_count": null,
   "id": "9f6de980",
   "metadata": {},
   "outputs": [],
   "source": [
    "\n",
    "\n"
   ]
  },
  {
   "cell_type": "code",
   "execution_count": null,
   "id": "714f6c02",
   "metadata": {},
   "outputs": [],
   "source": []
  },
  {
   "cell_type": "code",
   "execution_count": null,
   "id": "5a6e33e0",
   "metadata": {},
   "outputs": [],
   "source": []
  },
  {
   "cell_type": "code",
   "execution_count": null,
   "id": "f0ceddb2",
   "metadata": {},
   "outputs": [],
   "source": []
  },
  {
   "cell_type": "code",
   "execution_count": null,
   "id": "1b3b888f",
   "metadata": {},
   "outputs": [],
   "source": []
  },
  {
   "cell_type": "code",
   "execution_count": null,
   "id": "34f9fe03",
   "metadata": {},
   "outputs": [],
   "source": []
  },
  {
   "cell_type": "code",
   "execution_count": null,
   "id": "d45148bf",
   "metadata": {},
   "outputs": [],
   "source": []
  },
  {
   "cell_type": "code",
   "execution_count": null,
   "id": "163b1614",
   "metadata": {},
   "outputs": [],
   "source": []
  },
  {
   "cell_type": "code",
   "execution_count": null,
   "id": "9f7c46bf",
   "metadata": {},
   "outputs": [],
   "source": []
  },
  {
   "cell_type": "code",
   "execution_count": null,
   "id": "5a2e1f9c",
   "metadata": {},
   "outputs": [],
   "source": []
  },
  {
   "cell_type": "code",
   "execution_count": null,
   "id": "e57af252",
   "metadata": {},
   "outputs": [],
   "source": []
  },
  {
   "cell_type": "code",
   "execution_count": null,
   "id": "91db138e",
   "metadata": {},
   "outputs": [],
   "source": []
  },
  {
   "cell_type": "code",
   "execution_count": null,
   "id": "6416693d",
   "metadata": {},
   "outputs": [],
   "source": []
  },
  {
   "cell_type": "code",
   "execution_count": null,
   "id": "e19ddf2f",
   "metadata": {},
   "outputs": [],
   "source": []
  },
  {
   "cell_type": "code",
   "execution_count": null,
   "id": "8ead88e1",
   "metadata": {},
   "outputs": [],
   "source": []
  },
  {
   "cell_type": "code",
   "execution_count": null,
   "id": "ee4de712",
   "metadata": {},
   "outputs": [],
   "source": []
  },
  {
   "cell_type": "code",
   "execution_count": null,
   "id": "33a3e76e",
   "metadata": {},
   "outputs": [],
   "source": []
  },
  {
   "cell_type": "code",
   "execution_count": null,
   "id": "51e458b8",
   "metadata": {},
   "outputs": [],
   "source": []
  },
  {
   "cell_type": "code",
   "execution_count": null,
   "id": "37f4973c",
   "metadata": {},
   "outputs": [],
   "source": []
  },
  {
   "cell_type": "code",
   "execution_count": null,
   "id": "b8bd59bc",
   "metadata": {},
   "outputs": [],
   "source": [
    "\n"
   ]
  },
  {
   "cell_type": "code",
   "execution_count": null,
   "id": "91fc2c2e",
   "metadata": {},
   "outputs": [],
   "source": []
  },
  {
   "cell_type": "code",
   "execution_count": null,
   "id": "03e93744",
   "metadata": {},
   "outputs": [],
   "source": []
  },
  {
   "cell_type": "code",
   "execution_count": 123,
   "id": "5a018460",
   "metadata": {},
   "outputs": [
    {
     "name": "stdout",
     "output_type": "stream",
     "text": [
      "  date_column  week\n",
      "0  2023-11-01    44\n",
      "1  2023-11-07    45\n",
      "2  2023-11-15    46\n",
      "3  2023-11-22    47\n"
     ]
    }
   ],
   "source": [
    "import pandas as pd\n",
    "\n",
    "# Creating a sample DataFrame\n",
    "data = {'date_column': ['2023-11-01', '2023-11-07', '2023-11-15', '2023-11-22']}\n",
    "df = pd.DataFrame(data)\n",
    "\n",
    "# Converting 'date_column' to datetime format\n",
    "df['date_column'] = pd.to_datetime(df['date_column'])\n",
    "\n",
    "# Creating a new column 'week' based on the 'date_column'\n",
    "df['week'] = df['date_column'].dt.isocalendar().week\n",
    "\n",
    "# Displaying the updated DataFrame\n",
    "print(df)\n"
   ]
  },
  {
   "cell_type": "code",
   "execution_count": null,
   "id": "10c64c71",
   "metadata": {},
   "outputs": [],
   "source": []
  },
  {
   "cell_type": "code",
   "execution_count": null,
   "id": "251fa3a4",
   "metadata": {},
   "outputs": [],
   "source": []
  },
  {
   "cell_type": "code",
   "execution_count": null,
   "id": "a2479995",
   "metadata": {},
   "outputs": [],
   "source": []
  },
  {
   "cell_type": "code",
   "execution_count": null,
   "id": "ff0b6b04",
   "metadata": {},
   "outputs": [],
   "source": []
  },
  {
   "cell_type": "code",
   "execution_count": 134,
   "id": "1c0ea136",
   "metadata": {},
   "outputs": [
    {
     "name": "stdout",
     "output_type": "stream",
     "text": [
      "Original DataFrame:\n",
      "   category_column\n",
      "0                A\n",
      "1                B\n",
      "2                C\n",
      "3                D\n",
      "4                E\n",
      "5                F\n",
      "6                G\n",
      "7                H\n",
      "8                A\n",
      "9                B\n",
      "10               C\n",
      "11               A\n",
      "12               B\n",
      "\n",
      "DataFrame with combined categories:\n",
      "   category_column\n",
      "0            Other\n",
      "1            Other\n",
      "2            Other\n",
      "3            Other\n",
      "4            Other\n",
      "5            Other\n",
      "6            Other\n",
      "7            Other\n",
      "8            Other\n",
      "9            Other\n",
      "10           Other\n",
      "11           Other\n",
      "12           Other\n"
     ]
    }
   ],
   "source": [
    "import pandas as pd\n",
    "\n",
    "# Creating a sample DataFrame\n",
    "data = {'category_column': ['A', 'B', 'C', 'D', 'E', 'F', 'G', 'H', 'A', 'B', 'C', 'A', 'B']}\n",
    "df = pd.DataFrame(data)\n",
    "\n",
    "# Displaying the original DataFrame\n",
    "print(\"Original DataFrame:\")\n",
    "print(df)\n",
    "\n",
    "# Calculate counts of each category\n",
    "category_counts = df['category_column'].value_counts()\n",
    "\n",
    "# Identify categories with counts below 100\n",
    "categories_to_combine = category_counts[category_counts < 4].index.tolist()\n",
    "\n",
    "# Combine selected categories into 'Other'\n",
    "df['category_column'] = df['category_column'].apply(lambda x: 'Other' if x in categories_to_combine else x)\n",
    "\n",
    "# Displaying the updated DataFrame\n",
    "print(\"\\nDataFrame with combined categories:\")\n",
    "print(df)\n"
   ]
  },
  {
   "cell_type": "code",
   "execution_count": null,
   "id": "45b191df",
   "metadata": {},
   "outputs": [],
   "source": []
  },
  {
   "cell_type": "code",
   "execution_count": null,
   "id": "d953adbd",
   "metadata": {},
   "outputs": [],
   "source": []
  },
  {
   "cell_type": "code",
   "execution_count": 137,
   "id": "d06f57a4",
   "metadata": {},
   "outputs": [
    {
     "name": "stdout",
     "output_type": "stream",
     "text": [
      "    A   B   C\n",
      "0   1   8  15\n",
      "1   2   9  16\n",
      "2   3  10  17\n",
      "3  10  11  18\n",
      "4   5  12  19\n",
      "5   6  13  20\n",
      "6   7  14  18\n"
     ]
    }
   ],
   "source": [
    "import pandas as pd\n",
    "# Creating a sample DataFrame\n",
    "data = {'A': [1, 2, 3, 10, 5, 6, 7],\n",
    "        'B': [8, 9, 10, 11, 12, 13, 14],\n",
    "        'C': [15, 16, 17, 18, 19, 20, 2111]}\n",
    "df = pd.DataFrame(data)\n",
    "\n",
    "# Columns to process\n",
    "cols_to_process = ['A', 'C']\n",
    "\n",
    "# Calculate Q1, Q3, and IQR for the specified columns\n",
    "Q1 = df[cols_to_process].quantile(0.25)\n",
    "Q3 = df[cols_to_process].quantile(0.75)\n",
    "IQR = Q3 - Q1\n",
    "\n",
    "# Calculate lower and upper bounds for the specified columns\n",
    "lower_bound = Q1 - 1.5 * IQR\n",
    "upper_bound = Q3 + 1.5 * IQR\n",
    "\n",
    "# Replace outliers with column mean for the specified columns\n",
    "for col in cols_to_process:\n",
    "    df[col] = df[col].mask((df[col] < lower_bound[col]) | (df[col] > upper_bound[col]), df[col].median())\n",
    "# df now contains the specified columns with outliers replaced by column mean\n",
    "print(df)"
   ]
  },
  {
   "cell_type": "code",
   "execution_count": 138,
   "id": "e162a36b",
   "metadata": {},
   "outputs": [
    {
     "name": "stdout",
     "output_type": "stream",
     "text": [
      "    A   B   C\n",
      "0   1   8  15\n",
      "1   2   9  16\n",
      "2   3  10  17\n",
      "3  10  11  18\n",
      "4   5  12  19\n",
      "5   6  13  20\n",
      "6   7  14  18\n"
     ]
    }
   ],
   "source": [
    "import pandas as pd\n",
    "\n",
    "# Creating a sample DataFrame\n",
    "data = {'A': [1, 2, 3, 10, 5, 6, 7],\n",
    "        'B': [8, 9, 10, 11, 12, 13, 14],\n",
    "        'C': [15, 16, 17, 18, 19, 20, 2111]}\n",
    "df = pd.DataFrame(data)\n",
    "\n",
    "# Columns to process\n",
    "cols_to_process = ['A', 'C']\n",
    "\n",
    "# Calculate Q1, Q3, and IQR for the specified columns\n",
    "Q1 = df[cols_to_process].quantile(0.25)\n",
    "Q3 = df[cols_to_process].quantile(0.75)\n",
    "IQR = Q3 - Q1\n",
    "\n",
    "# Calculate lower and upper bounds for each column separately\n",
    "lower_bound = Q1 - 1.5 * IQR\n",
    "upper_bound = Q3 + 1.5 * IQR\n",
    "\n",
    "# Replace outliers with column mean for the specified columns\n",
    "for col in cols_to_process:\n",
    "    # Identify outliers using boolean indexing\n",
    "    outliers_lower = df[col] < lower_bound[col]\n",
    "    outliers_upper = df[col] > upper_bound[col]\n",
    "\n",
    "    # Replace outliers with column mean\n",
    "    df.loc[outliers_lower, col] = df[col].median()\n",
    "    df.loc[outliers_upper, col] = df[col].median()\n",
    "\n",
    "# df now contains the specified columns with outliers replaced by column mean\n",
    "print(df)\n"
   ]
  },
  {
   "cell_type": "code",
   "execution_count": null,
   "id": "75a40745",
   "metadata": {},
   "outputs": [],
   "source": []
  }
 ],
 "metadata": {
  "kernelspec": {
   "display_name": "Python 3 (ipykernel)",
   "language": "python",
   "name": "python3"
  },
  "language_info": {
   "codemirror_mode": {
    "name": "ipython",
    "version": 3
   },
   "file_extension": ".py",
   "mimetype": "text/x-python",
   "name": "python",
   "nbconvert_exporter": "python",
   "pygments_lexer": "ipython3",
   "version": "3.9.13"
  }
 },
 "nbformat": 4,
 "nbformat_minor": 5
}
